{
 "cells": [
  {
   "cell_type": "code",
   "execution_count": 24,
   "metadata": {
    "collapsed": true
   },
   "outputs": [],
   "source": [
    "import pickle\n",
    "import pandas as pd"
   ]
  },
  {
   "cell_type": "code",
   "execution_count": 18,
   "outputs": [],
   "source": [
    "all_jobs = {}"
   ],
   "metadata": {
    "collapsed": false,
    "pycharm": {
     "name": "#%%\n"
    }
   }
  },
  {
   "cell_type": "code",
   "execution_count": 19,
   "outputs": [],
   "source": [
    "source_dict = {\"jobs_indeed_usa\": \"indeed.com\", \"jobs_indeed_uk\": \"uk.indeed.com\", \"jobs_linkedin_usa\": \"linkedin.com\"}"
   ],
   "metadata": {
    "collapsed": false,
    "pycharm": {
     "name": "#%%\n"
    }
   }
  },
  {
   "cell_type": "code",
   "execution_count": 20,
   "outputs": [],
   "source": [
    "for filename, source in source_dict.items():\n",
    "\n",
    "   with open(filename + '.pickle', 'rb') as handle:\n",
    "      dict = pickle.load(handle)\n",
    "\n",
    "\n",
    "   for key, value in dict.items():\n",
    "      value['source'] = source\n",
    "      all_jobs[key] = value"
   ],
   "metadata": {
    "collapsed": false,
    "pycharm": {
     "name": "#%%\n"
    }
   }
  },
  {
   "cell_type": "code",
   "execution_count": 22,
   "outputs": [
    {
     "data": {
      "text/plain": "{'id': '2912329346',\n 'description': '\\n\\n\\nCompany DescriptionOur MissionAt Palo Alto Networks® everything starts and ends with our mission:Being the cybersecurity partner of choice, protecting our digital way of life.We have the vision of a world where each day is safer and more secure than the one before. These aren’t easy goals to accomplish – but we’re not here for easy. We’re here for better. We are a company built on the foundation of challenging and disrupting the way things are done, and we’re looking for innovators who are as committed to shaping the future of cybersecurity as we are.Disruption is at the core of our technology and on our way of work to meet the needs of our employees now and in the future through FLEXWORK, our approach to how we work. We’re changing the nature of work from benefits to learning, location to leadership, we’ve rethought and recreated every aspect of the employee experience at Palo Alto Networks. And because it FLEXes around each individual employee based on their individual choices, employees are empowered to push boundaries and help us all evolve, together.Your CareerWe are looking for a brilliant Data Scientist that wants to make a career out of using machine learning to address security problems. Our team finds solutions to hard problems, is innovative in finding data, builds models, and puts them into production. We produce several patents every year.Job DescriptionYour ImpactApply Machine Learning in a production environmentPerform research related to security and malwareWork on distributed clusters and GPUs with large amounts of dataInteract with teams of expert engineers, security researchers, and data scientists Build models that protect our customers from malicious code and actorsQualificationsYour ExperienceMS, or PhD degree in Computer Science, Statistics, or related field Be an excellent programmer; experience with distributed cloud systems like GCS or AWS and containers like Docker a big plusHave a strong working knowledge of machine learning algorithms that may include CNNs, LSTMs, XGBoost/CatBoost, Byte Pair Encoding schemes, etc.Be comfortable working independently, have the ability to come up with novel solutions to difficult problemsExcellent communication (written and verbal) and presentation skills Additional InformationThe TeamTo stay ahead of the curve, it’s critical to know where the curve is, and how to anticipate the changes we may be facing. For the fastest growing cybersecurity company, the curve is the evolution of cyberattacks, and the products and services that proactively address them. As a predictive enterprise environment, we analyze petabytes of data that pass through our walls daily and we hire the most talented minds in data science to build creative predictive analytics and data science solutions for our cybersecurity solutions.Our CommitmentWe’re trailblazers that dream big, take risks, and challenge cybersecurity’s status quo. It’s simple: we can’t accomplish our mission without diverse teams innovating, together.Palo Alto Networks is evolving and changing the nature of work to meet the needs of our employees now and in the future through FLEXWORK, our approach to how we work. From benefits to learning, location to leadership, we’ve rethought and recreated every aspect of the employee experience at Palo Alto Networks. And because it FLEXes around each individual employee based on their individual choices, employees are empowered to push boundaries and help us all evolve, together.We are committed to providing reasonable accommodations for all qualified individuals with a disability. If you require assistance or accommodation due to a disability or special need, please contact us at accommodations@paloaltonetworks.com.Palo Alto Networks is an equal opportunity employer. We celebrate diversity in our workplace, and all qualified applicants will receive consideration for employment without regard to age, ancestry, color, family or medical care leave, gender identity or expression, genetic information, marital status, medical condition, national origin, physical or mental disability, political affiliation, protected veteran status, race, religion, sex (including pregnancy), sexual orientation, or other legally protected characteristics.All your information will be kept confidential according to EEO guidelines.Covid-19 Vaccination Information for Palo Alto Networks JobsVaccine requirements and disclosure obligations vary by country.Unless applicable law requires otherwise, you must be vaccinated for COVID or qualify for a reasonable accommodation if:The job requires accessing a company worksiteThe job requires in-person customer contact and the customer has implemented such requirementsYou choose to access a Palo Alto Networks worksiteIf you have questions about the vaccine requirements of this particular position based on your location or job requirements, please inquire with the recruiter.\\n\\n\\n        Show more\\n\\n        \\n\\n\\n        Show less\\n\\n        \\n\\n\\n',\n 'title': 'Staff Data Scientist, AI Research',\n 'companyInfo': 'Palo Alto Networks|Santa Clara, CA',\n 'source': 'linkedin.com'}"
     },
     "execution_count": 22,
     "metadata": {},
     "output_type": "execute_result"
    }
   ],
   "source": [
    "all_jobs['2912329346']"
   ],
   "metadata": {
    "collapsed": false,
    "pycharm": {
     "name": "#%%\n"
    }
   }
  },
  {
   "cell_type": "code",
   "execution_count": 23,
   "outputs": [
    {
     "data": {
      "text/plain": "4203"
     },
     "execution_count": 23,
     "metadata": {},
     "output_type": "execute_result"
    }
   ],
   "source": [
    "len(all_jobs)"
   ],
   "metadata": {
    "collapsed": false,
    "pycharm": {
     "name": "#%%\n"
    }
   }
  },
  {
   "cell_type": "code",
   "execution_count": 25,
   "outputs": [
    {
     "data": {
      "text/plain": "                                id  \\\n31de49f9721c3adf  31de49f9721c3adf   \nc71b72157f64f825  c71b72157f64f825   \n885e4d6ac2227ad1  885e4d6ac2227ad1   \nd64d5a2b920ce762  d64d5a2b920ce762   \n40af8feeac4a6e5a  40af8feeac4a6e5a   \n\n                                                        description  \\\n31de49f9721c3adf  The Microsoft News & Feeds team is looking for...   \nc71b72157f64f825  ViacomCBS (NASDAQ: VIAC; VIACA) is a leading g...   \n885e4d6ac2227ad1  Data, Research & Insights\\nData Science\\nWe ar...   \nd64d5a2b920ce762  Introduction\\nAs a Junior Data Scientist at IB...   \n40af8feeac4a6e5a  Introduction\\nAs a Junior Data Scientist at IB...   \n\n                   metadata                                          title  \\\n31de49f9721c3adf  Full-time                         Applied Data Scientist   \nc71b72157f64f825  Full-time          Junior Data Scientist (NYC or Remote)   \n885e4d6ac2227ad1        NaN  Data Scientist, Propositions and Partnerships   \nd64d5a2b920ce762  Full-time               Junior Data Scientist Apprentice   \n40af8feeac4a6e5a  Full-time               Junior Data Scientist Apprentice   \n\n                                                        companyInfo  \\\n31de49f9721c3adf  Microsoft|7,339 reviews|One Microsoft Way, Red...   \nc71b72157f64f825  ViacomCBS|1,832 reviews|1515 Broadway, New Yor...   \n885e4d6ac2227ad1             Spotify|67 reviews|New York, NY|Remote   \nd64d5a2b920ce762              IBM|31,142 reviews|San Jose, CA 95101   \n40af8feeac4a6e5a              IBM|31,142 reviews|New York, NY 10001   \n\n                      source  \n31de49f9721c3adf  indeed.com  \nc71b72157f64f825  indeed.com  \n885e4d6ac2227ad1  indeed.com  \nd64d5a2b920ce762  indeed.com  \n40af8feeac4a6e5a  indeed.com  ",
      "text/html": "<div>\n<style scoped>\n    .dataframe tbody tr th:only-of-type {\n        vertical-align: middle;\n    }\n\n    .dataframe tbody tr th {\n        vertical-align: top;\n    }\n\n    .dataframe thead th {\n        text-align: right;\n    }\n</style>\n<table border=\"1\" class=\"dataframe\">\n  <thead>\n    <tr style=\"text-align: right;\">\n      <th></th>\n      <th>id</th>\n      <th>description</th>\n      <th>metadata</th>\n      <th>title</th>\n      <th>companyInfo</th>\n      <th>source</th>\n    </tr>\n  </thead>\n  <tbody>\n    <tr>\n      <th>31de49f9721c3adf</th>\n      <td>31de49f9721c3adf</td>\n      <td>The Microsoft News &amp; Feeds team is looking for...</td>\n      <td>Full-time</td>\n      <td>Applied Data Scientist</td>\n      <td>Microsoft|7,339 reviews|One Microsoft Way, Red...</td>\n      <td>indeed.com</td>\n    </tr>\n    <tr>\n      <th>c71b72157f64f825</th>\n      <td>c71b72157f64f825</td>\n      <td>ViacomCBS (NASDAQ: VIAC; VIACA) is a leading g...</td>\n      <td>Full-time</td>\n      <td>Junior Data Scientist (NYC or Remote)</td>\n      <td>ViacomCBS|1,832 reviews|1515 Broadway, New Yor...</td>\n      <td>indeed.com</td>\n    </tr>\n    <tr>\n      <th>885e4d6ac2227ad1</th>\n      <td>885e4d6ac2227ad1</td>\n      <td>Data, Research &amp; Insights\\nData Science\\nWe ar...</td>\n      <td>NaN</td>\n      <td>Data Scientist, Propositions and Partnerships</td>\n      <td>Spotify|67 reviews|New York, NY|Remote</td>\n      <td>indeed.com</td>\n    </tr>\n    <tr>\n      <th>d64d5a2b920ce762</th>\n      <td>d64d5a2b920ce762</td>\n      <td>Introduction\\nAs a Junior Data Scientist at IB...</td>\n      <td>Full-time</td>\n      <td>Junior Data Scientist Apprentice</td>\n      <td>IBM|31,142 reviews|San Jose, CA 95101</td>\n      <td>indeed.com</td>\n    </tr>\n    <tr>\n      <th>40af8feeac4a6e5a</th>\n      <td>40af8feeac4a6e5a</td>\n      <td>Introduction\\nAs a Junior Data Scientist at IB...</td>\n      <td>Full-time</td>\n      <td>Junior Data Scientist Apprentice</td>\n      <td>IBM|31,142 reviews|New York, NY 10001</td>\n      <td>indeed.com</td>\n    </tr>\n  </tbody>\n</table>\n</div>"
     },
     "execution_count": 25,
     "metadata": {},
     "output_type": "execute_result"
    }
   ],
   "source": [
    "df = pd.DataFrame.from_dict(all_jobs, orient='index')\n",
    "df.head()"
   ],
   "metadata": {
    "collapsed": false,
    "pycharm": {
     "name": "#%%\n"
    }
   }
  },
  {
   "cell_type": "code",
   "execution_count": 26,
   "outputs": [
    {
     "data": {
      "text/plain": "(4203, 6)"
     },
     "execution_count": 26,
     "metadata": {},
     "output_type": "execute_result"
    }
   ],
   "source": [
    "df.shape"
   ],
   "metadata": {
    "collapsed": false,
    "pycharm": {
     "name": "#%%\n"
    }
   }
  },
  {
   "cell_type": "code",
   "execution_count": 28,
   "outputs": [
    {
     "data": {
      "text/plain": "                      id                                        description  \\\ncount               4203                                               4199   \nunique              4203                                               3803   \ntop     31de49f9721c3adf  \\n\\n\\nAbout HouzzHouzz is the world’s leading ...   \nfreq                   1                                                 18   \n\n         metadata           title            companyInfo        source  \ncount        1142            4199                   4199          4203  \nunique        240            1818                   2923             3  \ntop     Full-time  Data Scientist  Walmart|Sunnyvale, CA  linkedin.com  \nfreq          720            1047                     46          2597  ",
      "text/html": "<div>\n<style scoped>\n    .dataframe tbody tr th:only-of-type {\n        vertical-align: middle;\n    }\n\n    .dataframe tbody tr th {\n        vertical-align: top;\n    }\n\n    .dataframe thead th {\n        text-align: right;\n    }\n</style>\n<table border=\"1\" class=\"dataframe\">\n  <thead>\n    <tr style=\"text-align: right;\">\n      <th></th>\n      <th>id</th>\n      <th>description</th>\n      <th>metadata</th>\n      <th>title</th>\n      <th>companyInfo</th>\n      <th>source</th>\n    </tr>\n  </thead>\n  <tbody>\n    <tr>\n      <th>count</th>\n      <td>4203</td>\n      <td>4199</td>\n      <td>1142</td>\n      <td>4199</td>\n      <td>4199</td>\n      <td>4203</td>\n    </tr>\n    <tr>\n      <th>unique</th>\n      <td>4203</td>\n      <td>3803</td>\n      <td>240</td>\n      <td>1818</td>\n      <td>2923</td>\n      <td>3</td>\n    </tr>\n    <tr>\n      <th>top</th>\n      <td>31de49f9721c3adf</td>\n      <td>\\n\\n\\nAbout HouzzHouzz is the world’s leading ...</td>\n      <td>Full-time</td>\n      <td>Data Scientist</td>\n      <td>Walmart|Sunnyvale, CA</td>\n      <td>linkedin.com</td>\n    </tr>\n    <tr>\n      <th>freq</th>\n      <td>1</td>\n      <td>18</td>\n      <td>720</td>\n      <td>1047</td>\n      <td>46</td>\n      <td>2597</td>\n    </tr>\n  </tbody>\n</table>\n</div>"
     },
     "execution_count": 28,
     "metadata": {},
     "output_type": "execute_result"
    }
   ],
   "source": [
    "df.describe()"
   ],
   "metadata": {
    "collapsed": false,
    "pycharm": {
     "name": "#%%\n"
    }
   }
  },
  {
   "cell_type": "code",
   "execution_count": 35,
   "outputs": [
    {
     "data": {
      "text/plain": "                      id                                        description  \\\ncount               3804                                               3803   \nunique              3804                                               3803   \ntop     31de49f9721c3adf  The Microsoft News & Feeds team is looking for...   \nfreq                   1                                                  1   \n\n         metadata           title            companyInfo        source  \ncount        1122            3803                   3803          3804  \nunique        240            1815                   2690             3  \ntop     Full-time  Data Scientist  Walmart|Sunnyvale, CA  linkedin.com  \nfreq          703             949                     45          2252  ",
      "text/html": "<div>\n<style scoped>\n    .dataframe tbody tr th:only-of-type {\n        vertical-align: middle;\n    }\n\n    .dataframe tbody tr th {\n        vertical-align: top;\n    }\n\n    .dataframe thead th {\n        text-align: right;\n    }\n</style>\n<table border=\"1\" class=\"dataframe\">\n  <thead>\n    <tr style=\"text-align: right;\">\n      <th></th>\n      <th>id</th>\n      <th>description</th>\n      <th>metadata</th>\n      <th>title</th>\n      <th>companyInfo</th>\n      <th>source</th>\n    </tr>\n  </thead>\n  <tbody>\n    <tr>\n      <th>count</th>\n      <td>3804</td>\n      <td>3803</td>\n      <td>1122</td>\n      <td>3803</td>\n      <td>3803</td>\n      <td>3804</td>\n    </tr>\n    <tr>\n      <th>unique</th>\n      <td>3804</td>\n      <td>3803</td>\n      <td>240</td>\n      <td>1815</td>\n      <td>2690</td>\n      <td>3</td>\n    </tr>\n    <tr>\n      <th>top</th>\n      <td>31de49f9721c3adf</td>\n      <td>The Microsoft News &amp; Feeds team is looking for...</td>\n      <td>Full-time</td>\n      <td>Data Scientist</td>\n      <td>Walmart|Sunnyvale, CA</td>\n      <td>linkedin.com</td>\n    </tr>\n    <tr>\n      <th>freq</th>\n      <td>1</td>\n      <td>1</td>\n      <td>703</td>\n      <td>949</td>\n      <td>45</td>\n      <td>2252</td>\n    </tr>\n  </tbody>\n</table>\n</div>"
     },
     "execution_count": 35,
     "metadata": {},
     "output_type": "execute_result"
    }
   ],
   "source": [
    "df2 = df.drop_duplicates(subset=['description'])\n",
    "df2.describe()"
   ],
   "metadata": {
    "collapsed": false,
    "pycharm": {
     "name": "#%%\n"
    }
   }
  },
  {
   "cell_type": "code",
   "execution_count": 36,
   "outputs": [
    {
     "data": {
      "text/plain": "                      id                                        description  \\\ncount               3803                                               3803   \nunique              3803                                               3803   \ntop     31de49f9721c3adf  The Microsoft News & Feeds team is looking for...   \nfreq                   1                                                  1   \n\n         metadata           title            companyInfo        source  \ncount        1122            3803                   3803          3803  \nunique        240            1815                   2690             3  \ntop     Full-time  Data Scientist  Walmart|Sunnyvale, CA  linkedin.com  \nfreq          703             949                     45          2252  ",
      "text/html": "<div>\n<style scoped>\n    .dataframe tbody tr th:only-of-type {\n        vertical-align: middle;\n    }\n\n    .dataframe tbody tr th {\n        vertical-align: top;\n    }\n\n    .dataframe thead th {\n        text-align: right;\n    }\n</style>\n<table border=\"1\" class=\"dataframe\">\n  <thead>\n    <tr style=\"text-align: right;\">\n      <th></th>\n      <th>id</th>\n      <th>description</th>\n      <th>metadata</th>\n      <th>title</th>\n      <th>companyInfo</th>\n      <th>source</th>\n    </tr>\n  </thead>\n  <tbody>\n    <tr>\n      <th>count</th>\n      <td>3803</td>\n      <td>3803</td>\n      <td>1122</td>\n      <td>3803</td>\n      <td>3803</td>\n      <td>3803</td>\n    </tr>\n    <tr>\n      <th>unique</th>\n      <td>3803</td>\n      <td>3803</td>\n      <td>240</td>\n      <td>1815</td>\n      <td>2690</td>\n      <td>3</td>\n    </tr>\n    <tr>\n      <th>top</th>\n      <td>31de49f9721c3adf</td>\n      <td>The Microsoft News &amp; Feeds team is looking for...</td>\n      <td>Full-time</td>\n      <td>Data Scientist</td>\n      <td>Walmart|Sunnyvale, CA</td>\n      <td>linkedin.com</td>\n    </tr>\n    <tr>\n      <th>freq</th>\n      <td>1</td>\n      <td>1</td>\n      <td>703</td>\n      <td>949</td>\n      <td>45</td>\n      <td>2252</td>\n    </tr>\n  </tbody>\n</table>\n</div>"
     },
     "execution_count": 36,
     "metadata": {},
     "output_type": "execute_result"
    }
   ],
   "source": [
    "df3 = df2.dropna(subset=['description'])\n",
    "df3.describe()"
   ],
   "metadata": {
    "collapsed": false,
    "pycharm": {
     "name": "#%%\n"
    }
   }
  },
  {
   "cell_type": "code",
   "execution_count": 72,
   "outputs": [],
   "source": [
    "df3.to_pickle('jobs_df.pickle')"
   ],
   "metadata": {
    "collapsed": false,
    "pycharm": {
     "name": "#%%\n"
    }
   }
  },
  {
   "cell_type": "code",
   "execution_count": 29,
   "outputs": [],
   "source": [
    "from sklearn.feature_extraction.text import TfidfVectorizer, CountVectorizer"
   ],
   "metadata": {
    "collapsed": false,
    "pycharm": {
     "name": "#%%\n"
    }
   }
  },
  {
   "cell_type": "code",
   "execution_count": 43,
   "outputs": [
    {
     "data": {
      "text/plain": "(3803, 6)"
     },
     "execution_count": 43,
     "metadata": {},
     "output_type": "execute_result"
    }
   ],
   "source": [
    "df3.shape"
   ],
   "metadata": {
    "collapsed": false,
    "pycharm": {
     "name": "#%%\n"
    }
   }
  },
  {
   "cell_type": "code",
   "execution_count": 37,
   "outputs": [],
   "source": [
    "docs = df3.description"
   ],
   "metadata": {
    "collapsed": false,
    "pycharm": {
     "name": "#%%\n"
    }
   }
  },
  {
   "cell_type": "code",
   "execution_count": 44,
   "outputs": [
    {
     "data": {
      "text/plain": "31de49f9721c3adf    The Microsoft News & Feeds team is looking for...\nc71b72157f64f825    ViacomCBS (NASDAQ: VIAC; VIACA) is a leading g...\n885e4d6ac2227ad1    Data, Research & Insights\\nData Science\\nWe ar...\nd64d5a2b920ce762    Introduction\\nAs a Junior Data Scientist at IB...\n40af8feeac4a6e5a    Introduction\\nAs a Junior Data Scientist at IB...\nName: description, dtype: object"
     },
     "execution_count": 44,
     "metadata": {},
     "output_type": "execute_result"
    }
   ],
   "source": [
    "docs.head()"
   ],
   "metadata": {
    "collapsed": false,
    "pycharm": {
     "name": "#%%\n"
    }
   }
  },
  {
   "cell_type": "code",
   "execution_count": 38,
   "outputs": [
    {
     "data": {
      "text/plain": "pandas.core.series.Series"
     },
     "execution_count": 38,
     "metadata": {},
     "output_type": "execute_result"
    }
   ],
   "source": [
    "type(docs)"
   ],
   "metadata": {
    "collapsed": false,
    "pycharm": {
     "name": "#%%\n"
    }
   }
  },
  {
   "cell_type": "code",
   "execution_count": 80,
   "outputs": [],
   "source": [
    "vec = CountVectorizer(stop_words='english',\n",
    "                      max_df=0.8,\n",
    "                      ngram_range=(1,2))"
   ],
   "metadata": {
    "collapsed": false,
    "pycharm": {
     "name": "#%%\n"
    }
   }
  },
  {
   "cell_type": "code",
   "execution_count": 81,
   "outputs": [],
   "source": [
    "doc_term = vec.fit_transform(docs)"
   ],
   "metadata": {
    "collapsed": false,
    "pycharm": {
     "name": "#%%\n"
    }
   }
  },
  {
   "cell_type": "code",
   "execution_count": 82,
   "outputs": [
    {
     "data": {
      "text/plain": "<3803x490819 sparse matrix of type '<class 'numpy.int64'>'\n\twith 2221288 stored elements in Compressed Sparse Row format>"
     },
     "execution_count": 82,
     "metadata": {},
     "output_type": "execute_result"
    }
   ],
   "source": [
    "doc_term"
   ],
   "metadata": {
    "collapsed": false,
    "pycharm": {
     "name": "#%%\n"
    }
   }
  },
  {
   "cell_type": "code",
   "execution_count": 76,
   "outputs": [
    {
     "ename": "KeyboardInterrupt",
     "evalue": "",
     "output_type": "error",
     "traceback": [
      "\u001B[0;31m---------------------------------------------------------------------------\u001B[0m",
      "\u001B[0;31mKeyboardInterrupt\u001B[0m                         Traceback (most recent call last)",
      "\u001B[0;32m/var/folders/gv/fxn0dfyn3tq8kbwhbp0k2b9jzdvpm1/T/ipykernel_92962/3607817601.py\u001B[0m in \u001B[0;36m<module>\u001B[0;34m\u001B[0m\n\u001B[0;32m----> 1\u001B[0;31m \u001B[0mpd\u001B[0m\u001B[0;34m.\u001B[0m\u001B[0munique\u001B[0m\u001B[0;34m(\u001B[0m\u001B[0mdoc_term\u001B[0m\u001B[0;34m.\u001B[0m\u001B[0mtoarray\u001B[0m\u001B[0;34m(\u001B[0m\u001B[0;34m)\u001B[0m\u001B[0;34m.\u001B[0m\u001B[0mreshape\u001B[0m\u001B[0;34m(\u001B[0m\u001B[0;34m-\u001B[0m\u001B[0;36m1\u001B[0m\u001B[0;34m)\u001B[0m\u001B[0;34m)\u001B[0m\u001B[0;34m\u001B[0m\u001B[0;34m\u001B[0m\u001B[0m\n\u001B[0m",
      "\u001B[0;32m~/opt/anaconda3/envs/metis/lib/python3.8/site-packages/pandas/core/algorithms.py\u001B[0m in \u001B[0;36munique\u001B[0;34m(values)\u001B[0m\n\u001B[1;32m    429\u001B[0m \u001B[0;34m\u001B[0m\u001B[0m\n\u001B[1;32m    430\u001B[0m     \u001B[0mtable\u001B[0m \u001B[0;34m=\u001B[0m \u001B[0mhtable\u001B[0m\u001B[0;34m(\u001B[0m\u001B[0mlen\u001B[0m\u001B[0;34m(\u001B[0m\u001B[0mvalues\u001B[0m\u001B[0;34m)\u001B[0m\u001B[0;34m)\u001B[0m\u001B[0;34m\u001B[0m\u001B[0;34m\u001B[0m\u001B[0m\n\u001B[0;32m--> 431\u001B[0;31m     \u001B[0muniques\u001B[0m \u001B[0;34m=\u001B[0m \u001B[0mtable\u001B[0m\u001B[0;34m.\u001B[0m\u001B[0munique\u001B[0m\u001B[0;34m(\u001B[0m\u001B[0mvalues\u001B[0m\u001B[0;34m)\u001B[0m\u001B[0;34m\u001B[0m\u001B[0;34m\u001B[0m\u001B[0m\n\u001B[0m\u001B[1;32m    432\u001B[0m     \u001B[0muniques\u001B[0m \u001B[0;34m=\u001B[0m \u001B[0m_reconstruct_data\u001B[0m\u001B[0;34m(\u001B[0m\u001B[0muniques\u001B[0m\u001B[0;34m,\u001B[0m \u001B[0moriginal\u001B[0m\u001B[0;34m.\u001B[0m\u001B[0mdtype\u001B[0m\u001B[0;34m,\u001B[0m \u001B[0moriginal\u001B[0m\u001B[0;34m)\u001B[0m\u001B[0;34m\u001B[0m\u001B[0;34m\u001B[0m\u001B[0m\n\u001B[1;32m    433\u001B[0m     \u001B[0;32mreturn\u001B[0m \u001B[0muniques\u001B[0m\u001B[0;34m\u001B[0m\u001B[0;34m\u001B[0m\u001B[0m\n",
      "\u001B[0;31mKeyboardInterrupt\u001B[0m: "
     ]
    }
   ],
   "source": [
    "pd.unique(doc_term.toarray().reshape(-1))"
   ],
   "metadata": {
    "collapsed": false,
    "pycharm": {
     "name": "#%%\n"
    }
   }
  },
  {
   "cell_type": "code",
   "execution_count": 51,
   "outputs": [
    {
     "data": {
      "text/plain": "{'microsoft': 22456,\n 'news': 23815,\n 'feeds': 14367,\n 'looking': 21095,\n 'passionate': 25721,\n 'scientist': 32143,\n 'core': 8536,\n 'recommendation': 29584,\n 'project': 28296,\n 'potential': 27100,\n 'define': 9946,\n 'future': 15450,\n 'content': 8317,\n 'services': 32690,\n 'imagine': 17669,\n 'billion': 5033,\n 'users': 38490,\n 'world': 39976,\n 'discover': 11091,\n 'care': 6185,\n 'start': 34588,\n 'new': 23802,\n 'conversations': 8462,\n 'friends': 15272,\n 'family': 14165,\n 'colleagues': 7446,\n 'today': 37174,\n 'windows': 39727,\n 'close': 7181,\n 'monthly': 23083,\n 'active': 1885,\n 'outlook': 25261,\n 'teams': 36112,\n 'edge': 11948,\n 'bing': 5045,\n 'hundreds': 17360,\n 'millions': 22509,\n 'plus': 26682,\n 'partnership': 25680,\n 'party': 25708,\n 'presents': 27475,\n 'huge': 17318,\n 'opportunity': 24805,\n 'engage': 12475,\n 'worldwide': 39992,\n 'responsibilities': 30669,\n 'participate': 25635,\n 'design': 10439,\n 'implementation': 17790,\n 'execution': 13449,\n 'variety': 38773,\n 'features': 14304,\n 'regarding': 29831,\n 'personalization': 26124,\n 'relevance': 30003,\n 'drive': 11650,\n 'innovations': 18471,\n 'nlp': 23921,\n 'applications': 3288,\n 'ranking': 29355,\n 'algorithms': 2440,\n 'qualifications': 28930,\n 'required': 30273,\n 'bs': 5646,\n 'ms': 23255,\n 'computer': 7933,\n 'statistics': 34679,\n 'applied': 3364,\n 'mathematics': 21829,\n 'physics': 26301,\n 'engineering': 12514,\n 'fields': 14509,\n 'years': 40170,\n 'software': 33689,\n 'development': 10656,\n 'research': 30512,\n 'preferred': 27302,\n 'working': 39901,\n 'product': 27908,\n 'cycles': 9195,\n 'initial': 18403,\n 'final': 14601,\n 'delivery': 10078,\n 'strong': 35028,\n 'knowledge': 19862,\n 'deep': 9900,\n 'learning': 20349,\n 'computational': 7929,\n 'graph': 16123,\n 'frameworks': 15167,\n 'tensorflow': 36555,\n 'pytorch': 28852,\n 'java': 19328,\n 'oop': 24640,\n 'skills': 33279,\n 'good': 16009,\n 'structures': 35042,\n 'developing': 10653,\n 'end': 12424,\n 'ml': 22682,\n 'dl': 11267,\n 'systems': 35656,\n 'equal': 12968,\n 'employer': 12345,\n 'qualified': 29063,\n 'applicants': 3278,\n 'receive': 29534,\n 'consideration': 8183,\n 'employment': 12366,\n 'regard': 29829,\n 'age': 2225,\n 'ancestry': 3009,\n 'color': 7488,\n 'medical': 22027,\n 'leave': 20451,\n 'gender': 15659,\n 'identity': 17555,\n 'expression': 13979,\n 'genetic': 15699,\n 'information': 18275,\n 'marital': 21636,\n 'status': 34724,\n 'condition': 8046,\n 'national': 23469,\n 'origin': 25098,\n 'physical': 26291,\n 'mental': 22145,\n 'disability': 10986,\n 'political': 26926,\n 'affiliation': 2182,\n 'protected': 28493,\n 'veteran': 38932,\n 'race': 29272,\n 'religion': 30023,\n 'sex': 32849,\n 'including': 17992,\n 'pregnancy': 27396,\n 'sexual': 32854,\n 'orientation': 25090,\n 'characteristic': 6720,\n 'applicable': 3269,\n 'laws': 20216,\n 'regulations': 29888,\n 'ordinances': 24987,\n 'consider': 8180,\n 'regardless': 29832,\n 'criminal': 8858,\n 'histories': 16999,\n 'consistent': 8198,\n 'legal': 20520,\n 'requirements': 30379,\n 'need': 23561,\n 'assistance': 3913,\n 'reasonable': 29512,\n 'accommodation': 1705,\n 'application': 3280,\n 'recruiting': 29669,\n 'process': 27784,\n 'send': 32583,\n 'request': 30260,\n 'form': 15011,\n 'benefits': 4824,\n 'perks': 26047,\n 'listed': 20862,\n 'vary': 38776,\n 'depending': 10217,\n 'nature': 23486,\n 'country': 8664,\n 'contentservices': 8327,\n 'webxt': 39506,\n 'contentservicesjobs': 8328,\n 'viacomcbs': 38959,\n 'nasdaq': 23457,\n 'viac': 38955,\n 'viaca': 38956,\n 'leading': 20307,\n 'global': 15896,\n 'media': 22014,\n 'entertainment': 12697,\n 'company': 7692,\n 'creates': 8807,\n 'premium': 27405,\n 'experiences': 13766,\n 'audiences': 4129,\n 'driven': 11652,\n 'iconic': 17494,\n 'consumer': 8271,\n 'brands': 5483,\n 'portfolio': 26981,\n 'includes': 17986,\n 'cbs': 6420,\n 'showtime': 33034,\n 'networks': 23748,\n 'paramount': 25589,\n 'pictures': 26324,\n 'nickelodeon': 23879,\n 'mtv': 23282,\n 'comedy': 7540,\n 'central': 6517,\n 'bet': 4947,\n 'pluto': 26811,\n 'tv': 37881,\n 'simon': 33145,\n 'schuster': 32063,\n 'delivers': 10076,\n 'largest': 20143,\n 'share': 32895,\n 'television': 36503,\n 'audience': 4116,\n 'boasts': 5284,\n 'industry': 18149,\n 'important': 17833,\n 'extensive': 14000,\n 'libraries': 20665,\n 'film': 14587,\n 'titles': 37112,\n 'addition': 1964,\n 'offering': 24401,\n 'innovative': 18478,\n 'streaming': 34981,\n 'digital': 10893,\n 'video': 38980,\n 'products': 28018,\n 'provides': 28555,\n 'powerful': 27137,\n 'capabilities': 6088,\n 'production': 27927,\n 'distribution': 11210,\n 'advertising': 2120,\n 'solutions': 33758,\n 'partners': 25664,\n 'continents': 8352,\n 'using': 38526,\n 'help': 16833,\n 'insights': 18531,\n 'jr': 19552,\n 'excited': 13426,\n 'hottest': 17193,\n 'topics': 37346,\n 'technology': 36403,\n 'big': 5011,\n 'visualization': 39115,\n 'modeling': 22769,\n 'machine': 21259,\n 'importantly': 17834,\n 'translation': 37592,\n 'tools': 37252,\n 'come': 7539,\n 'join': 19498,\n 'decision': 9801,\n 'sciences': 32116,\n 'group': 16221,\n 'scientists': 32218,\n 'engineers': 12573,\n 'stack': 34403,\n 'developers': 10645,\n 'latest': 20167,\n 'understand': 38119,\n 'ideal': 17516,\n 'candidate': 6051,\n 'motivated': 23184,\n 'support': 35430,\n 'strategy': 34932,\n 'helping': 16843,\n 'build': 5698,\n 'researchers': 30530,\n 'vh1': 38952,\n 'wide': 39645,\n 'range': 29346,\n 'sets': 32759,\n 'metered': 22242,\n 'measurement': 21976,\n 'syndicated': 35601,\n 'survey': 35489,\n 'platform': 26553,\n 'analyze': 2999,\n 'forecast': 14960,\n 'segment': 32508,\n 'predict': 27264,\n 'ultimately': 38027,\n 'gain': 15500,\n 'understanding': 38123,\n 'business': 5770,\n 'needs': 23624,\n 'existing': 13518,\n 'assets': 3877,\n 'order': 24980,\n 'connect': 8143,\n 'dots': 11559,\n 'interactive': 18826,\n 'example': 13376,\n 'projects': 28310,\n 'include': 17965,\n 'limited': 20790,\n 'allow': 2568,\n 'easier': 11835,\n 'access': 1682,\n 'flexible': 14777,\n 'real': 29480,\n 'time': 36987,\n 'reporting': 30186,\n 'aggregating': 2243,\n 'viewing': 39001,\n 'create': 8802,\n 'predictive': 27279,\n 'models': 22842,\n 'growth': 16262,\n 'programming': 28217,\n 'optimal': 24852,\n 'marketing': 21654,\n 'plans': 26512,\n 'creating': 8809,\n 'maps': 21610,\n 'taxonomies': 35959,\n 'disparate': 11144,\n 'standardized': 34554,\n 'kpis': 19928,\n 'metrics': 22347,\n 'crafting': 8779,\n 'processes': 27797,\n 'techniques': 36262,\n 'effectively': 12031,\n 'fuse': 15443,\n 'custom': 9091,\n 'fusing': 15446,\n 'different': 10864,\n 'construction': 8236,\n 'pipelines': 26380,\n 'architecture': 3540,\n 'available': 4294,\n 'accurate': 1782,\n 'stakeholders': 34451,\n 'following': 14898,\n 'based': 4595,\n 'bi': 4986,\n 'automation': 4256,\n 'ph': 26201,\n 'social': 33653,\n 'biology': 5079,\n 'sociology': 33673,\n 'cognitive': 7379,\n 'quantitative': 29111,\n 'field': 14431,\n 'expertise': 13858,\n 'python': 28781,\n 'sql': 34288,\n 'statistical': 34673,\n 'building': 5704,\n 'architecting': 3534,\n 'dashboards': 9302,\n 'platforms': 26579,\n 'cloud': 7194,\n 'environments': 12851,\n 'eoe': 12930,\n 'vet': 38931,\n 'spirit': 34201,\n 'inclusion': 18002,\n 'screen': 32341,\n 'movies': 23223,\n 'employee': 12324,\n 'programs': 28244,\n 'impact': 17713,\n 'outreach': 25284,\n 'initiatives': 18414,\n 'believe': 4763,\n 'resources': 30619,\n 'rewards': 31088,\n 'benefit': 4814,\n 'proud': 28533,\n 'workplace': 39927,\n 'affirmative': 2188,\n 'action': 1853,\n 'committed': 7610,\n 'ethnicity': 13225,\n 'creed': 8839,\n 'citizenship': 6973,\n 'individual': 18117,\n 'disabled': 10998,\n 'unable': 38046,\n 'ability': 1575,\n 'use': 38474,\n 'https': 17305,\n 'www': 40075,\n 'com': 7511,\n 'careers': 6199,\n 'result': 30894,\n 'accommodations': 1710,\n 'calling': 5991,\n '212': 578,\n '846': 1312,\n '5500': 1040,\n 'sending': 32587,\n 'email': 12233,\n 'viacomaccommodations': 38958,\n 'viacom': 38957,\n 'messages': 22205,\n 'left': 20517,\n 'purpose': 28703,\n 'returned': 31019,\n 'guide': 16364,\n 'spotify': 34243,\n 'analyzing': 3004,\n 'craft': 8776,\n 'practical': 27166,\n 'recommendations': 29588,\n 'partner': 25657,\n 'closely': 7183,\n 'managers': 21494,\n 'decisions': 9805,\n 'shaping': 32891,\n 'freemium': 15226,\n 'analytics': 2922,\n 'organisation': 24999,\n 'll': 20921,\n 'play': 26613,\n 'crucial': 8919,\n 'role': 31354,\n 'direction': 10961,\n 'grow': 16250,\n '400m': 871,\n 'globe': 15905,\n 'fingertips': 14659,\n 'offer': 24387,\n 'creative': 8814,\n 'derive': 10275,\n 'strategies': 34906,\n 'way': 39418,\n 'music': 23361,\n 'location': 20978,\n 'york': 40220,\n 'remote': 30064,\n 'americas': 2694,\n 'job': 19445,\n 'type': 37918,\n 'permanent': 26074,\n 'tailor': 35828,\n 'offerings': 24404,\n 'troves': 37765,\n 'identify': 17552,\n 'actionable': 1855,\n 'collaborate': 7413,\n 'leaders': 20255,\n 'multiple': 23321,\n 'change': 6677,\n 'driving': 11667,\n 'opportunities': 24751,\n 'analyses': 2747,\n 'answer': 3139,\n 'strategic': 34903,\n 'questions': 29162,\n 'little': 20892,\n 'standard': 34546,\n 'box': 5442,\n 'analysis': 2779,\n 'scalable': 31901,\n 'track': 37431,\n 'professional': 28106,\n 'consulting': 8261,\n 'related': 29950,\n 'comfortable': 7549,\n 'large': 20138,\n 'datasets': 9542,\n 'rigor': 31181,\n 'sas': 31831,\n 'stata': 34624,\n 'languages': 20094,\n 'intellectually': 18772,\n 'curious': 9070,\n 'diligent': 10925,\n 'enjoy': 12640,\n 'thinking': 36861,\n 'ambitious': 2676,\n 'person': 26111,\n 'enjoys': 12648,\n 'tackling': 35809,\n 'loosely': 21108,\n 'defined': 9947,\n 'problems': 27656,\n 'bias': 4989,\n 'delivering': 10073,\n 'quickly': 29198,\n 'constructing': 8235,\n 'technically': 36251,\n 'complex': 7855,\n 'model': 22764,\n 'great': 16149,\n 'communication': 7628,\n 'value': 38699,\n 'positive': 27034,\n 'relationships': 29963,\n 'explain': 13919,\n 'simple': 33147,\n 'terms': 36609,\n 'interested': 18845,\n 'management': 21439,\n 'distributed': 11207,\n 'workforce': 39888,\n 'enabling': 12398,\n 'band': 4538,\n 'members': 22087,\n 'mode': 22763,\n 'best': 4937,\n 'region': 29844,\n 'hours': 17198,\n 'operate': 24690,\n 'eastern': 11844,\n 'ny': 24203,\n 'zones': 40364,\n 'collaboration': 7418,\n 'ask': 3823,\n 'located': 20976,\n 'zone': 40362,\n 'prefer': 27291,\n 'office': 24429,\n 'home': 17100,\n 'instead': 18624,\n 'problem': 27645,\n 'plenty': 26659,\n 'options': 24910,\n 'preferences': 27298,\n 'dedicated': 9887,\n 'greenhouse': 16167,\n 'incentives': 17946,\n 'letting': 20580,\n 'choose': 6864,\n 'success': 35204,\n 'parental': 25594,\n 'months': 23084,\n 'fully': 15335,\n 'paid': 25494,\n 'parents': 25597,\n 'feels': 14375,\n 'program': 28168,\n 'self': 32548,\n 'hub': 17306,\n 'public': 28636,\n 'holidays': 17062,\n 'swap': 35537,\n 'days': 9667,\n 'according': 1726,\n 'values': 38720,\n 'beliefs': 4762,\n 'tour': 37392,\n 'trips': 37745,\n 'festivals': 14400,\n 'events': 13296,\n 'learn': 20327,\n 'life': 20705,\n 'welcome': 39549,\n 'matter': 21867,\n 'look': 21086,\n 'like': 20768,\n 'playing': 26638,\n 'headphones': 16738,\n 'voices': 39204,\n 'represented': 30232,\n 'amplified': 2723,\n 'thrive': 36922,\n 'contribute': 8399,\n 'forward': 15091,\n 'bring': 5560,\n 'personal': 26114,\n 'perspectives': 26150,\n 'background': 4444,\n 'differences': 10861,\n 'power': 27127,\n 'revolutionizing': 31080,\n 'listens': 20871,\n 'transformed': 37569,\n 'listening': 20869,\n 'forever': 15000,\n 'launched': 20183,\n '2008': 493,\n 'mission': 22634,\n 'unlock': 38260,\n 'human': 17329,\n 'creativity': 8817,\n 'giving': 15875,\n 'million': 22508,\n 'artists': 3785,\n 'live': 20896,\n 'art': 3759,\n 'billions': 5034,\n 'fans': 14194,\n 'chance': 6671,\n 'creators': 8820,\n 'love': 21132,\n 'podcasting': 26843,\n 'popular': 26963,\n 'audio': 4176,\n 'subscription': 35141,\n 'service': 32675,\n 'community': 7655,\n '320': 760,\n 'culture': 9008,\n 'introduction': 18981,\n 'junior': 19604,\n 'ibm': 17460,\n 'solve': 33879,\n 'apply': 3368,\n 'scientific': 32140,\n 'method': 22245,\n 'scenarios': 31971,\n 'clean': 7056,\n 'prepare': 27415,\n 'analytical': 2918,\n 'better': 4953,\n 'translate': 37588,\n 'communicate': 7624,\n 'results': 30902,\n 'difference': 10857,\n 'master': 21744,\n 'technologies': 36345,\n 'deployment': 10229,\n 'apprenticeship': 3403,\n 'experienced': 13631,\n 'mentors': 22158,\n 'collaborative': 7432,\n 'environment': 12741,\n 'fundamentals': 15402,\n 'probability': 27632,\n 'linear': 20802,\n 'algebra': 2425,\n 'preparation': 27411,\n 'introduced': 18978,\n 'additional': 1965,\n 'concepts': 7971,\n 'hadoop': 16444,\n 'spark': 34055,\n 'presentation': 27446,\n 'successfully': 35230,\n 'obtain': 24296,\n 'lead': 20247,\n 'certification': 6558,\n 'credentials': 8826,\n 'career': 6190,\n 'milestone': 22498,\n 'earned': 11825,\n 'demonstrated': 10145,\n 'usage': 38433,\n 'methodology': 22280,\n 'case': 6285,\n 'studies': 35065,\n 'references': 29773,\n 'technical': 36248,\n 'official': 24452,\n 'registered': 29853,\n 'recognized': 29578,\n 'department': 10186,\n 'labor': 20015,\n 'dol': 11452,\n 'graduate': 16086,\n 'receives': 29536,\n 'nationally': 23472,\n 'credential': 8824,\n 'duration': 11750,\n 'complete': 7844,\n 'specific': 34136,\n 'training': 37483,\n 'outlined': 25258,\n 'ensure': 12678,\n 'competencies': 7801,\n 'essential': 13113,\n 'able': 1584,\n 'pace': 25443,\n 'expect': 13543,\n 'apprentices': 3401,\n '24': 627,\n 'certificate': 6556,\n 'apprentice': 3400,\n 'eligible': 12205,\n 'roles': 31437,\n 'seeking': 32497,\n 'candidates': 6056,\n 'know': 19855,\n 'just': 19623,\n 'getting': 15795,\n 'started': 34591,\n 'highly': 16930,\n 'passion': 25720,\n 'exactly': 13364,\n 'inquisitive': 18500,\n 'exploring': 13956,\n 'asking': 3828,\n 'doing': 11419,\n 'questioning': 29159,\n 'assumptions': 3943,\n 'analytically': 2920,\n 'minded': 22524,\n 'statistically': 34674,\n 'mathematically': 21826,\n 'successful': 35223,\n 'eagerness': 11812,\n 'solving': 33892,\n 'critical': 8876,\n 'organization': 25011,\n 'independently': 18069,\n 'initiative': 18410,\n 'collaboratively': 7433,\n 'sport': 34233,\n 'think': 36856,\n 'curiosity': 9063,\n 'math': 21821,\n 'local': 20964,\n 'cohort': 7398,\n 'attaining': 4046,\n 'progress': 28275,\n 'roadmap': 31262,\n 'demonstrating': 10148,\n 'hands': 16510,\n 'milestones': 22499,\n 'earning': 11826,\n 'validate': 38673,\n 'going': 15991,\n 'focused': 14865,\n 'contributing': 8404,\n 'member': 22085,\n 'putting': 28740,\n 'ideas': 17526,\n 'taking': 35848,\n 'making': 21371,\n 'choices': 6863,\n 'ibmer': 17462,\n 'position': 27001,\n 'visa': 39050,\n 'sponsorship': 34227,\n 'willing': 39695,\n 'relocate': 30028,\n 'expense': 13570,\n 'relocation': 30031,\n 'ncappx': 23512,\n 'willingness': 39698,\n 'javascript': 19343,\n 'php': 26285,\n 'objective': 24236,\n 'ruby': 31604,\n 'functional': 15340,\n 'haskell': 16595,\n 'scala': 31895,\n 'clojure': 7177,\n 'advanced': 2073,\n 'coursework': 8688,\n 'unit': 38206,\n 'bringing': 5574,\n 'watson': 39408,\n 'ai': 2288,\n 'clients': 7118,\n 'ecosystem': 11913,\n 'comprehensive': 7908,\n 'approach': 3406,\n 'security': 32475,\n 'operations': 24708,\n 'hybrid': 17385,\n 'experts': 13904,\n 'organizations': 25050,\n 'develop': 10634,\n 'deploy': 10222,\n 'integrate': 18737,\n 'breadth': 5496,\n 'estate': 13142,\n 'automate': 4248,\n 'visibility': 39058,\n 'methods': 22289,\n 'governance': 16040,\n 'approaches': 3417,\n 'requires': 30494,\n 'covid': 8733,\n '19': 340,\n 'vaccinated': 38649,\n 'prior': 27572,\n 'date': 9630,\n 'legally': 20521,\n 'permissible': 26086,\n 'proof': 28430,\n 'vaccination': 38651,\n 'religious': 30025,\n 'reasons': 29520,\n 'accordance': 1725,\n 'law': 20208,\n 'craving': 8794,\n 'prepared': 27416,\n 'unique': 38203,\n 'challenges': 6637,\n 'ready': 29474,\n 'shape': 32884,\n 'people': 25933,\n 'express': 13975,\n 'individuality': 18118,\n 'unleash': 38254,\n 'possibilities': 27049,\n 'ones': 24579,\n 'voice': 39202,\n 'carves': 6281,\n 'path': 25743,\n 'uses': 38504,\n 'add': 1961,\n 'story': 34873,\n 'make': 21354,\n 'meaningful': 21962,\n 'alter': 2610,\n 'fabric': 14069,\n 'society': 33668,\n 'truly': 37785,\n 'greatest': 16152,\n 'invention': 19016,\n 'intelligence': 18775,\n 'reason': 29511,\n 'improve': 17855,\n 'open': 24647,\n 'restlessly': 30871,\n 'reinventing': 29935,\n '1911': 350,\n 'corporate': 8562,\n 'biggest': 5016,\n 'employers': 12359,\n 'fortune': 15085,\n '50': 973,\n 'companies': 7681,\n 'relying': 30037,\n 'run': 31615,\n 'pride': 27527,\n 'early': 11822,\n 'adopter': 2040,\n 'artificial': 3780,\n 'quantum': 29121,\n 'computing': 7939,\n 'blockchain': 5220,\n 'journey': 19536,\n 'responsible': 30849,\n 'innovator': 18480,\n 'force': 14951,\n 'statement': 34627,\n 'offers': 24419,\n 'competitive': 7819,\n 'dental': 10173,\n 'vision': 39061,\n 'sick': 33053,\n 'vacation': 38632,\n 'eap': 11817,\n 'insurance': 18662,\n '401': 872,\n 'stock': 34835,\n 'purchase': 28694,\n 'plan': 26463,\n 'providing': 28556,\n 'considered': 8185,\n 'current': 9076,\n 'diverse': 11227,\n 'genetics': 15702,\n 'characteristics': 6721,\n 'compliance': 7862,\n 'fair': 14132,\n 'practices': 27175,\n 'immigration': 17700,\n 'market': 21644,\n 'transformation': 37558,\n 'industries': 18138,\n 'valuable': 38696,\n 'accelerating': 1664,\n 'businesses': 5790,\n 'responsibly': 30851,\n 'used': 38478,\n 'planet': 26480,\n 'associate': 3928,\n 'protect': 28492,\n 'integrity': 18757,\n 'undesired': 38150,\n 'behaviors': 4738,\n 'account': 1729,\n 'abuse': 1631,\n 'manipulation': 21539,\n 'trends': 37678,\n 'patterns': 25768,\n 'user': 38489,\n 'behavior': 4725,\n 'consumption': 8280,\n 'staff': 34427,\n 'overall': 25306,\n 'anti': 3155,\n 'combat': 7518,\n 'negatively': 23670,\n 'impacts': 17762,\n 'provide': 28542,\n 'stockholm': 34837,\n 'mining': 22570,\n 'optimize': 24892,\n 'key': 19744,\n 'cross': 8898,\n 'backend': 4437,\n 'analysts': 2908,\n 'designers': 10457,\n 'reports': 30200,\n 'empower': 12373,\n 'operational': 24696,\n 'exploratory': 13947,\n 'fraud': 15208,\n 'affects': 2177,\n 'consumers': 8273,\n 'feature': 14302,\n 'landscape': 20069,\n 'minimize': 22565,\n 'influence': 18244,\n 'possible': 27051,\n 'bachelor': 4425,\n 'degree': 9971,\n 'cs': 8944,\n 'numbers': 24151,\n 'mature': 21873,\n 'sense': 32599,\n 'coding': 7357,\n 'pandas': 25530,\n 'tableau': 35768,\n 'studio': 35074,\n 'deriving': 10278,\n 'presenting': 27473,\n 'autonomy': 4279,\n 'day': 9648,\n 'communicative': 7646,\n 'multifaceted': 23302,\n 'fascinating': 14222,\n 'relationship': 29962,\n 've': 38798,\n 'offices': 24447,\n 'currently': 9077,\n 'closed': 7182,\n 'flexibility': 14772,\n 'post': 27057,\n 'pop': 26962,\n 'week': 39517,\n 'timezone': 37073,\n 'lifecycle': 20716,\n 'defining': 9951,\n 'evaluation': 13270,\n 'north': 24015,\n 'america': 2689,\n 'enhance': 12626,\n 'continuously': 8365,\n 'methodologies': 22251,\n 'challenge': 6626,\n 'quo': 29219,\n 'raising': 29325,\n 'standards': 34556,\n 'faster': 14241,\n 'improving': 17912,\n 'automating': 4255,\n 'pipeline': 26370,\n 'facilitate': 14090,\n 'activities': 1890,\n 'cases': 6288,\n 'network': 23738,\n 'storytelling': 34886,\n 'nurture': 24178,\n 'outside': 25289,\n 'adidas': 1993,\n 'disseminated': 11180,\n 'promoting': 28417,\n 'levels': 20601,\n 'stakeholder': 34449,\n 'manage': 21434,\n 'ensuring': 12680,\n 'views': 39006,\n 'captured': 6159,\n 'act': 1846,\n 'ambassador': 2656,\n 'showcasing': 33028,\n 'functionalities': 15341,\n 'adoption': 2043,\n 'assuring': 3954,\n 'excellence': 13393,\n 'peers': 25890,\n 'respective': 30643,\n 'function': 15339,\n 'gops': 16025,\n 'finance': 14611,\n 'hr': 17262,\n 'brand': 5480,\n 'wholesale': 39632,\n 'retail': 30955,\n 'senior': 32589,\n 'controlling': 8436,\n 'requisite': 30498,\n 'education': 11981,\n 'minimum': 22567,\n 'discipline': 11022,\n 'preferably': 27294,\n 'accept': 1674,\n 'suitable': 35271,\n 'combination': 7522,\n 'equivalent': 13023,\n 'relevant': 30007,\n 'proven': 28539,\n 'record': 29644,\n 'proficiency': 28124,\n 'supervised': 35399,\n 'unsupervised': 38319,\n 'recommender': 29626,\n 'octave': 24339,\n 'solid': 33735,\n 'relational': 29959,\n 'databases': 9360,\n ...}"
     },
     "execution_count": 51,
     "metadata": {},
     "output_type": "execute_result"
    }
   ],
   "source": [
    "vec.vocabulary_"
   ],
   "metadata": {
    "collapsed": false,
    "pycharm": {
     "name": "#%%\n"
    }
   }
  },
  {
   "cell_type": "code",
   "execution_count": 94,
   "outputs": [
    {
     "data": {
      "text/plain": "analytics             7\ndata science          5\nmachine               4\nmachine learning      4\nskills                4\nlearning              4\nlanguage              3\nillumination          3\npython                3\ntechnology            3\nworks                 3\ncomputer              3\ndiverse               3\nillumination works    3\nscientific            3\nengineering           3\nsolutions             2\nsimulation            2\ncomputer science      2\nworking               2\nName: \\n\\n\\nJoin our Data Science Team! Our collaborative and diverse data science team has experience that spans many industries including energy, retail, healthcare, and DoD. Our projects have ranged from natural language processing (NLP) and text analytics to machine learning, predictive analytics, and simulation modeling. We are looking for a data scientist who is career-oriented and eager to grow their skills. The ideal candidate will bring innovative use of scientific research concepts, principles, and practices and will contribute to the application of advanced data science methods and techniques.We have an exciting opportunity with the United States Air Force to work on a fast-paced team working with logistics data analytics and answering questions of the day by using machine learning to rapidly gain insights. The key responsibilities of the Associate Data Scientist include:Integrate and extract relevant information from large amounts of both structured and unstructured data to enable analytics solutionsConduct advanced analytics leveraging predictive modeling, machine learning, simulation, optimization, and other techniques to deliver insights or develop analytics solutions to achieve business objectivesDo you have what it takes? Are you driven to implement creative solutions that unravel complex and ever-changing challenges? We value passion, curiosity, and perseverance with an ability to communicate ideas and results to diverse audiences. We look for people who thrive in collaborative and independent assignments, have the aptitude to learn new data quickly, and who are willing to mentor junior team members. Required skills for this job include:Experience with data sourcing, data cleansing, and data preparationProficiency with at least one computer programming language (e.g., Python, R)Outstanding problem-solving and critical thinking skillsInnovative, creative, out-of-box thinkingExperience design and algorithm developmentExcellent verbal and written communication skills and the ability to interact professionally with executives, managers, and subject matter expertsB.S. in Computer Science, Information Technology, Statistics, Analytics, Mathematics, Engineering, or related scientific fieldMinimum of two (2) years of experience performing data science in corporate settingMust have or be willing to obtain Secret Clearance (this requires US citizenship)Desired skills for this position:Experience with NLP approaches such as entity recognition, document classification, and topic detectionProficiency with the Python programming language and significant experience using Python’s data analysis and machine learning libraries such as Pandas, Numpy, Scipy, Scikit-learn, Gensim, and SpaCyPast experience working in Linux computing environmentM.S. and/or Ph.D. in Engineering, Computer Science, or related scientific discipline preferredLocation and Travel Details: Dayton, OH. Remote possible.A little more about us. At Illumination Works, we know data, and we should, we’ve been doing it since we started in 2006! We specialize in everything data from big data to data science, software ​engineering, data management, ​AR/IoT, and cloud development. Illumination Works is a trusted technology partner in user-centered digital transformation—delivering impactful business results to clients. We partner with ​customers to solve their unique technology and data challenges​, and stay on top of modern technologies ​and advancements leveraging our ​Innovation Lab. ​Why choose us? We invest in our employees in all aspects of their life and we value family. We offer market competitive salary, a generous PTO package, and comprehensive medical, dental, vision and life insurance plans. We also offer 401K, short/long-term disability insurance, a fun and engaging culture, and training opportunities to keep you up to speed on the latest technologies.Illumination Works is committed to hiring and retaining a diverse workforce. We are an Equal Opportunity Employer, making decisions without regard to race, color, religion, sexual orientation, gender identity or national origin, age, veteran status, disability, or any other protected class. Acceptable candidates must successfully pass a drug test and background screen.\\n\\n\\n        Show more\\n\\n        \\n\\n\\n        Show less\\n\\n        \\n\\n\\n, dtype: int64"
     },
     "execution_count": 94,
     "metadata": {},
     "output_type": "execute_result"
    }
   ],
   "source": [
    "i = 2002\n",
    "\n",
    "doc = pd.Series(name=docs[i],\n",
    "                data=doc_term.toarray()[i],\n",
    "                index=vec.get_feature_names()) \\\n",
    "   .sort_values(ascending=False)\n",
    "\n",
    "doc[:20]"
   ],
   "metadata": {
    "collapsed": false,
    "pycharm": {
     "name": "#%%\n"
    }
   }
  },
  {
   "cell_type": "code",
   "execution_count": 95,
   "outputs": [
    {
     "data": {
      "text/plain": "id                                                    2885728875\ndescription    \\n\\n\\nJoin our Data Science Team! Our collabor...\nmetadata                                                     NaN\ntitle                                   Associate Data Scientist\ncompanyInfo                        Illumination Works|Dayton, OH\nsource                                              linkedin.com\nName: 2885728875, dtype: object"
     },
     "execution_count": 95,
     "metadata": {},
     "output_type": "execute_result"
    }
   ],
   "source": [
    "df3.iloc[2002]"
   ],
   "metadata": {
    "collapsed": false,
    "pycharm": {
     "name": "#%%\n"
    }
   }
  },
  {
   "cell_type": "code",
   "execution_count": 71,
   "outputs": [
    {
     "data": {
      "text/plain": "'d8c3f186fb37025d'"
     },
     "execution_count": 71,
     "metadata": {},
     "output_type": "execute_result"
    }
   ],
   "source": [
    "docs.index[403]"
   ],
   "metadata": {
    "collapsed": false,
    "pycharm": {
     "name": "#%%\n"
    }
   }
  },
  {
   "cell_type": "code",
   "execution_count": 77,
   "outputs": [],
   "source": [
    "def get_top_n_words(bag_of_words, n=20):\n",
    "    sum_words = bag_of_words.sum(axis=0)\n",
    "    words_freq = [(word, sum_words[0, idx]) for word, idx in     vec.vocabulary_.items()]\n",
    "    words_freq =sorted(words_freq, key = lambda x: x[1], reverse=True)\n",
    "    return words_freq[:n]"
   ],
   "metadata": {
    "collapsed": false,
    "pycharm": {
     "name": "#%%\n"
    }
   }
  },
  {
   "cell_type": "code",
   "execution_count": 83,
   "outputs": [
    {
     "data": {
      "text/plain": "[('learning', 11001),\n ('business', 10257),\n ('machine', 8364),\n ('machine learning', 8062),\n ('data science', 6063),\n ('skills', 5790),\n ('models', 5528),\n ('working', 5502),\n ('analytics', 5312),\n ('analysis', 5179),\n ('new', 5159),\n ('product', 4878),\n ('solutions', 4514),\n ('development', 4427),\n ('years', 4378),\n ('engineering', 4377),\n ('research', 4358),\n ('world', 4186),\n ('python', 4152),\n ('technical', 4111),\n ('including', 4107),\n ('using', 4018),\n ('opportunity', 3978),\n ('company', 3917),\n ('ability', 3892),\n ('computer', 3812),\n ('role', 3808),\n ('scientist', 3783),\n ('statistical', 3773),\n ('help', 3770),\n ('people', 3761),\n ('build', 3733),\n ('knowledge', 3665),\n ('tools', 3648),\n ('teams', 3569),\n ('develop', 3516),\n ('data scientist', 3464),\n ('degree', 3392),\n ('related', 3386),\n ('software', 3373),\n ('time', 3333),\n ('information', 3272),\n ('insights', 3254),\n ('status', 3229),\n ('problems', 3218),\n ('technology', 3180),\n ('support', 3139),\n ('design', 3129),\n ('strong', 3043),\n ('statistics', 3024),\n ('job', 3011),\n ('techniques', 2918),\n ('based', 2846),\n ('ll', 2834),\n ('building', 2825),\n ('products', 2806),\n ('ai', 2736),\n ('best', 2693),\n ('environment', 2675),\n ('projects', 2670),\n ('make', 2661),\n ('customer', 2626),\n ('customers', 2583),\n ('computer science', 2557),\n ('ml', 2538),\n ('employment', 2526),\n ('complex', 2525),\n ('use', 2521),\n ('systems', 2497),\n ('modeling', 2495),\n ('large', 2471),\n ('field', 2459),\n ('understanding', 2430),\n ('looking', 2423),\n ('algorithms', 2403),\n ('opportunities', 2390),\n ('gender', 2364),\n ('deep', 2329),\n ('equal', 2325),\n ('sql', 2314),\n ('disability', 2301),\n ('provide', 2284),\n ('services', 2253),\n ('employees', 2239),\n ('industry', 2234),\n ('analytical', 2215),\n ('drive', 2192),\n ('impact', 2180),\n ('required', 2177),\n ('advanced', 2154),\n ('high', 2132),\n ('management', 2117),\n ('apply', 2109),\n ('requirements', 2081),\n ('programming', 2066),\n ('join', 2058),\n ('position', 2058),\n ('model', 2047),\n ('create', 2042),\n ('scientists', 2008)]"
     },
     "execution_count": 83,
     "metadata": {},
     "output_type": "execute_result"
    }
   ],
   "source": [
    "get_top_n_words(doc_term, 100)"
   ],
   "metadata": {
    "collapsed": false,
    "pycharm": {
     "name": "#%%\n"
    }
   }
  },
  {
   "cell_type": "code",
   "execution_count": 84,
   "outputs": [],
   "source": [
    "from nltk.tokenize import RegexpTokenizer"
   ],
   "metadata": {
    "collapsed": false,
    "pycharm": {
     "name": "#%%\n"
    }
   }
  },
  {
   "cell_type": "code",
   "execution_count": 100,
   "outputs": [],
   "source": [
    "tokens = RegexpTokenizer(\"\\w\\.\\w\", gaps=True).tokenize(docs[2002])"
   ],
   "metadata": {
    "collapsed": false,
    "pycharm": {
     "name": "#%%\n"
    }
   }
  },
  {
   "cell_type": "code",
   "execution_count": 101,
   "outputs": [
    {
     "data": {
      "text/plain": "['\\n\\n\\nJoin our Data Science Team! Our collaborative and diverse data science team has experience that spans many industries including energy, retail, healthcare, and DoD. Our projects have ranged from natural language processing (NLP) and text analytics to machine learning, predictive analytics, and simulation modeling. We are looking for a data scientist who is career-oriented and eager to grow their skills. The ideal candidate will bring innovative use of scientific research concepts, principles, and practices and will contribute to the application of advanced data science methods and technique',\n 'e have an exciting opportunity with the United States Air Force to work on a fast-paced team working with logistics data analytics and answering questions of the day by using machine learning to rapidly gain insights. The key responsibilities of the Associate Data Scientist include:Integrate and extract relevant information from large amounts of both structured and unstructured data to enable analytics solutionsConduct advanced analytics leveraging predictive modeling, machine learning, simulation, optimization, and other techniques to deliver insights or develop analytics solutions to achieve business objectivesDo you have what it takes? Are you driven to implement creative solutions that unravel complex and ever-changing challenges? We value passion, curiosity, and perseverance with an ability to communicate ideas and results to diverse audiences. We look for people who thrive in collaborative and independent assignments, have the aptitude to learn new data quickly, and who are willing to mentor junior team members. Required skills for this job include:Experience with data sourcing, data cleansing, and data preparationProficiency with at least one computer programming language (',\n '., Python, R)Outstanding problem-solving and critical thinking skillsInnovative, creative, out-of-box thinkingExperience design and algorithm developmentExcellent verbal and written communication skills and the ability to interact professionally with executives, managers, and subject matter experts',\n '. in Computer Science, Information Technology, Statistics, Analytics, Mathematics, Engineering, or related scientific fieldMinimum of two (2) years of experience performing data science in corporate settingMust have or be willing to obtain Secret Clearance (this requires US citizenship)Desired skills for this position:Experience with NLP approaches such as entity recognition, document classification, and topic detectionProficiency with the Python programming language and significant experience using Python’s data analysis and machine learning libraries such as Pandas, Numpy, Scipy, Scikit-learn, Gensim, and SpaCyPast experience working in Linux computing environment',\n '. and/or P',\n '. in Engineering, Computer Science, or related scientific discipline preferredLocation and Travel Details: Dayton, OH. Remote possibl',\n ' little more about us. At Illumination Works, we know data, and we should, we’ve been doing it since we started in 2006! We specialize in everything data from big data to data science, software \\u200bengineering, data management, \\u200bAR/IoT, and cloud development. Illumination Works is a trusted technology partner in user-centered digital transformation—delivering impactful business results to clients. We partner with \\u200bcustomers to solve their unique technology and data challenges\\u200b, and stay on top of modern technologies \\u200band advancements leveraging our \\u200bInnovation Lab. \\u200bWhy choose us? We invest in our employees in all aspects of their life and we value family. We offer market competitive salary, a generous PTO package, and comprehensive medical, dental, vision and life insurance plans. We also offer 401K, short/long-term disability insurance, a fun and engaging culture, and training opportunities to keep you up to speed on the latest technologie',\n 'llumination Works is committed to hiring and retaining a diverse workforce. We are an Equal Opportunity Employer, making decisions without regard to race, color, religion, sexual orientation, gender identity or national origin, age, veteran status, disability, or any other protected class. Acceptable candidates must successfully pass a drug test and background screen.\\n\\n\\n        Show more\\n\\n        \\n\\n\\n        Show less\\n\\n        \\n\\n\\n']"
     },
     "execution_count": 101,
     "metadata": {},
     "output_type": "execute_result"
    }
   ],
   "source": [
    "tokens"
   ],
   "metadata": {
    "collapsed": false,
    "pycharm": {
     "name": "#%%\n"
    }
   }
  },
  {
   "cell_type": "code",
   "execution_count": 104,
   "outputs": [
    {
     "data": {
      "text/plain": "<bound method NDFrame.describe of 31de49f9721c3adf    The Microsoft News & Feeds team is looking for...\nc71b72157f64f825    ViacomCBS (NASDAQ: VIAC; VIACA) is a leading g...\n885e4d6ac2227ad1    Data, Research & Insights\\nData Science\\nWe ar...\nd64d5a2b920ce762    Introduction\\nAs a Junior Data Scientist at IB...\n40af8feeac4a6e5a    Introduction\\nAs a Junior Data Scientist at IB...\n                                          ...                        \n2879297879          \\n\\n\\nAbout ElementaryOur team of 40 is growin...\n2803963048          \\n\\n\\nPosition SummaryAs a Senior Data Scienti...\n2884879061          \\n\\n\\nRequisition Number: 75334 - 8Description...\n2890619558          \\n\\n\\nTitle: Software QA Engineer - Senior (CP...\n2818824587          \\n\\n\\n        The Real Estate Data Scientist w...\nName: description, Length: 3803, dtype: object>"
     },
     "execution_count": 104,
     "metadata": {},
     "output_type": "execute_result"
    }
   ],
   "source": [
    "docs.describe"
   ],
   "metadata": {
    "collapsed": false,
    "pycharm": {
     "name": "#%%\n"
    }
   }
  },
  {
   "cell_type": "code",
   "execution_count": 108,
   "outputs": [
    {
     "data": {
      "text/plain": "572.2006310807258"
     },
     "execution_count": 108,
     "metadata": {},
     "output_type": "execute_result"
    }
   ],
   "source": [
    "sum([len(d.split(' ')) for d in docs])"
   ],
   "metadata": {
    "collapsed": false,
    "pycharm": {
     "name": "#%%\n"
    }
   }
  },
  {
   "cell_type": "code",
   "execution_count": null,
   "outputs": [],
   "source": [],
   "metadata": {
    "collapsed": false,
    "pycharm": {
     "name": "#%%\n"
    }
   }
  }
 ],
 "metadata": {
  "kernelspec": {
   "display_name": "Python 3",
   "language": "python",
   "name": "python3"
  },
  "language_info": {
   "codemirror_mode": {
    "name": "ipython",
    "version": 2
   },
   "file_extension": ".py",
   "mimetype": "text/x-python",
   "name": "python",
   "nbconvert_exporter": "python",
   "pygments_lexer": "ipython2",
   "version": "2.7.6"
  }
 },
 "nbformat": 4,
 "nbformat_minor": 0
}