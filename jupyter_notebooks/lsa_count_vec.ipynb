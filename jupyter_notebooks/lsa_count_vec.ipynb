{
 "cells": [
  {
   "cell_type": "code",
   "execution_count": 1,
   "outputs": [],
   "source": [
    "from sklearn.feature_extraction.text import CountVectorizer\n",
    "import pandas as pd"
   ],
   "metadata": {
    "collapsed": false,
    "pycharm": {
     "name": "#%%\n"
    }
   }
  },
  {
   "cell_type": "code",
   "execution_count": 2,
   "outputs": [
    {
     "data": {
      "text/plain": "                                             responsibilities           title\n2908496770  :|•\\tDesign and implement ML methods on propri...  Data Scientist\n2911267267  :|• Provide consultative support as and when r...  Data Scientist\n2912844894  :|Support Data and Analytics team through deve...  Data Scientist\n2911205495  |Build agent-based simulations of smart contra...  Data Scientist\n2912480226  |Productionize, launch, and monitor predictive...  Data Scientist",
      "text/html": "<div>\n<style scoped>\n    .dataframe tbody tr th:only-of-type {\n        vertical-align: middle;\n    }\n\n    .dataframe tbody tr th {\n        vertical-align: top;\n    }\n\n    .dataframe thead th {\n        text-align: right;\n    }\n</style>\n<table border=\"1\" class=\"dataframe\">\n  <thead>\n    <tr style=\"text-align: right;\">\n      <th></th>\n      <th>responsibilities</th>\n      <th>title</th>\n    </tr>\n  </thead>\n  <tbody>\n    <tr>\n      <th>2908496770</th>\n      <td>:|•\\tDesign and implement ML methods on propri...</td>\n      <td>Data Scientist</td>\n    </tr>\n    <tr>\n      <th>2911267267</th>\n      <td>:|• Provide consultative support as and when r...</td>\n      <td>Data Scientist</td>\n    </tr>\n    <tr>\n      <th>2912844894</th>\n      <td>:|Support Data and Analytics team through deve...</td>\n      <td>Data Scientist</td>\n    </tr>\n    <tr>\n      <th>2911205495</th>\n      <td>|Build agent-based simulations of smart contra...</td>\n      <td>Data Scientist</td>\n    </tr>\n    <tr>\n      <th>2912480226</th>\n      <td>|Productionize, launch, and monitor predictive...</td>\n      <td>Data Scientist</td>\n    </tr>\n  </tbody>\n</table>\n</div>"
     },
     "execution_count": 2,
     "metadata": {},
     "output_type": "execute_result"
    }
   ],
   "source": [
    "df = pd.read_pickle(\"./responsibilities_df_2.pickle\")\n",
    "df.head()"
   ],
   "metadata": {
    "collapsed": false,
    "pycharm": {
     "name": "#%%\n"
    }
   }
  },
  {
   "cell_type": "code",
   "execution_count": 3,
   "outputs": [],
   "source": [
    "docs = df.responsibilities"
   ],
   "metadata": {
    "collapsed": false,
    "pycharm": {
     "name": "#%%\n"
    }
   }
  },
  {
   "cell_type": "code",
   "execution_count": 4,
   "outputs": [],
   "source": [
    "vec = CountVectorizer(stop_words='english',\n",
    "                      max_df=0.8,\n",
    "                      ngram_range=(1,2))"
   ],
   "metadata": {
    "collapsed": false,
    "pycharm": {
     "name": "#%%\n"
    }
   }
  },
  {
   "cell_type": "code",
   "execution_count": 5,
   "outputs": [
    {
     "data": {
      "text/plain": "<4295x207797 sparse matrix of type '<class 'numpy.int64'>'\n\twith 932757 stored elements in Compressed Sparse Row format>"
     },
     "execution_count": 5,
     "metadata": {},
     "output_type": "execute_result"
    }
   ],
   "source": [
    "doc_term = vec.fit_transform(docs)\n",
    "doc_term"
   ],
   "metadata": {
    "collapsed": false,
    "pycharm": {
     "name": "#%%\n"
    }
   }
  },
  {
   "cell_type": "code",
   "execution_count": 6,
   "outputs": [
    {
     "data": {
      "text/plain": "['00',\n '00 actual',\n '000',\n '000 145',\n '000 155',\n '000 156',\n '000 160',\n '000 500',\n '000 57',\n '000 68',\n '000 90',\n '000 actual',\n '000 additional',\n '000 amazon',\n '000 annually',\n '000 asia',\n '000 begin',\n '000 bonus',\n '000 companies',\n '000 compensation',\n '000 computer',\n '000 data',\n '000 dependent',\n '000 depending',\n '000 employees',\n '000 end',\n '000 families',\n '000 homesite',\n '000 independent',\n '000 individuals',\n '000 nmg',\n '000 passionate',\n '000 patients',\n '000 people',\n '000 pre',\n '000 products',\n '000 professionals',\n '000 retail',\n '000 small',\n '000 software',\n '000 stores',\n '000 strong',\n '000 team',\n '000 technicians',\n '000 usd',\n '000 year',\n '00am',\n '00am 30pm',\n '01',\n '01 2022',\n '01 24',\n '0161',\n '0161 694',\n '02',\n '02 18',\n '04',\n '04 01',\n '04 15',\n '05',\n '05 06',\n '05 2021',\n '06',\n '06 17',\n '06 2022',\n '07',\n '07 01',\n '07 15',\n '07704',\n '07704 152',\n '09',\n '09 01',\n '10',\n '10 000',\n '10 10',\n '10 13',\n '10 15',\n '10 20',\n '10 2021',\n '10 30am',\n '10 accurate',\n '10 affinity',\n '10 analysts',\n '10 banks',\n '10 billion',\n '10 bonus',\n '10 business',\n '10 career',\n '10 communicating',\n '10 countries',\n '10 data',\n '10 day',\n '10 days',\n '10 duties',\n '10 evaluation',\n '10 genetics',\n '10 implement',\n '10 learning',\n '10 main',\n '10 majority',\n '10 members',\n '10 million',\n '10 need',\n '10 offices',\n '10 optimisation',\n '10 participate',\n '10 pounds',\n '10 produce',\n '10 proficient',\n '10 required',\n '10 situations',\n '10 technical',\n '10 time',\n '10 travel',\n '10 universities',\n '10 week',\n '10 weeks',\n '10 years',\n '100',\n '100 000',\n '100 12',\n '100 124',\n '100 200',\n '100 best',\n '100 centralized',\n '100 countries',\n '100 coverage',\n '100 data',\n '100 degrees',\n '100 device',\n '100 employer',\n '100 essential',\n '100 fit',\n '100 huntsville',\n '100 influential',\n '100 languages',\n '100 medical',\n '100 million',\n '100 monthly',\n '100 new',\n '100 outpatient',\n '100 people',\n '100 percent',\n '100 position',\n '100 remote',\n '100 scale',\n '100 staff',\n '100 stores',\n '100 subsidized',\n '100 summary',\n '100 team',\n '100 time',\n '100 world',\n '100 yearly',\n '100 years',\n '1000',\n '1000 alexa',\n '1000 companies',\n '1000 employees',\n '1000 mid',\n '1000 projects',\n '1000 size',\n '1000s',\n '1000s patients',\n '1001',\n '1001 affiliated',\n '1001 welcoming',\n '100m',\n '100m series',\n '100m users',\n '100mm',\n '100mm consumers',\n '100mm records',\n '100s',\n '100s 1000s',\n '100s millions',\n '101',\n '101 000',\n '101 125',\n '102',\n '102 723',\n '103',\n '103 500',\n '109',\n '109 000',\n '109 countries',\n '109 languages',\n '10e8',\n '10e8 datasets',\n '10k',\n '10k 10q',\n '10k tuition',\n '10pm',\n '10pm unavailable',\n '10q',\n '10q ccar',\n '10x',\n '10x productivity',\n '10x years',\n '11',\n '11 05',\n '11 695',\n '11 countries',\n '11 deep',\n '11 hospital',\n '11 months',\n '11 provide',\n '11 role',\n '110k',\n '110k year',\n '115',\n '115 600',\n '117',\n '117 275',\n '117 billion',\n '12',\n '12 000',\n '12 15',\n '12 16',\n '12 23',\n '12 affinity',\n '12 countries',\n '12 experienced',\n '12 fortune',\n '12 highly',\n '12 internal',\n '12 lead',\n '12 month',\n '12 months',\n '12 provide',\n '12 states',\n '12 week',\n '12 weeks',\n '12 years',\n '120',\n '120 15',\n '120 million',\n '124',\n '124 700',\n '125',\n '125 129',\n '125 aws',\n '126',\n '126 800',\n '127',\n '127 fortune',\n '1272',\n '1272 2008',\n '129',\n '129 447',\n '12th',\n '12th 2022',\n '13',\n '13 000',\n '13 week',\n '13 years',\n '130',\n '130 000',\n '130 countries',\n '130 employees',\n '130 rated',\n '130 years',\n '130b',\n '130b annual',\n '1324b',\n '1324b eligible',\n '13485',\n '13485 mdsap',\n '13485 quality',\n '13485 standards',\n '13th',\n '13th september',\n '14',\n '14 000',\n '14 currencies',\n '14 leadership',\n '14 million',\n '14 weeks',\n '140',\n '140 000',\n '140 services',\n '140k',\n '140k range',\n '140m',\n '140m continue',\n '141940',\n '141940 subject',\n '145',\n '145 000',\n '15',\n '15 000',\n '15 2021',\n '15 2022',\n '15 80',\n '15 data',\n '15 domestic',\n '15 interact',\n '15 leverage',\n '15 management',\n '15 million',\n '15 pending',\n '15 pricing',\n '15 required',\n '15 sales',\n '15 technical',\n '15 time',\n '15 years',\n '150',\n '150 consultants',\n '150 countries',\n '150 employees',\n '150 places',\n '150 year',\n '150m',\n '150m calls',\n '151',\n '151 300',\n '151 320',\n '152',\n '152 637',\n '155',\n '155 000',\n '155 900',\n '156',\n '156 1000',\n '15b',\n '15b school',\n '16',\n '16 000',\n '16 2021',\n '16 data',\n '16 leadership',\n '160',\n '160 000',\n '160 billion',\n '164',\n '164 700',\n '1640',\n '1640 x2053',\n '165',\n '165 700',\n '16th',\n '16th august',\n '17',\n '17 2022',\n '17 800',\n '17 languages',\n '170',\n '170 countries',\n '170 years',\n '175',\n '175 countries',\n '18',\n '18 000',\n '18 2022',\n '18 months',\n '18 years',\n '180',\n '180 400',\n '180 countries',\n '180 days',\n '180 markets',\n '180 time',\n '1818',\n '1818 brooks',\n '183',\n '183 500',\n '1848',\n '1848 team',\n '186',\n '186 000',\n '189',\n '189 304',\n '19',\n '19 billion',\n '19 consideration',\n '19 environment',\n '19 eventually',\n '19 help',\n '19 ll',\n '19 morning',\n '19 nba',\n '19 non',\n '19 page',\n '19 pandemic',\n '19 person',\n '19 proof',\n '19 response',\n '19 restrictions',\n '19 situation',\n '19 specific',\n '19 successful',\n '19 unless',\n '19 unvaccinated',\n '19 vaccination',\n '19 vaccine',\n '19 vaccines',\n '19 work',\n '190',\n '190 chapters',\n '190 countries',\n '190 global',\n '1927',\n '1927 envisioning',\n '1938',\n '1938 topps',\n '194',\n '194 000',\n '1961',\n '1961 help',\n '1972',\n '1972 long',\n '1972 team',\n '1980',\n '1980 defined',\n '1983',\n '1983 meet',\n '1987',\n '1987 huawei',\n '1988',\n '1988 fast',\n '1988 sep',\n '1991',\n '1991 created',\n '1995',\n '1995 taking',\n '1998',\n '1998 headquartered',\n '1999',\n '1999 117',\n '1999 sgs',\n '1b',\n '1b enterprises',\n '1b visa',\n '1billion',\n '1billion people',\n '1m',\n '1m employees',\n '1s',\n '1s directly',\n '1st',\n '1st line',\n '1st party',\n '1st priority',\n '1st shift',\n '1x',\n '1x monthly',\n '20',\n '20 ad',\n '20 areas',\n '20 billion',\n '20 build',\n '20 business',\n '20 collaborate',\n '20 colours',\n '20 communicating',\n '20 consult',\n '20 continuously',\n '20 days',\n '20 develop',\n '20 discount',\n '20 hours',\n '20 perform',\n '20 popular',\n '20 prediction',\n '20 project',\n '20 role',\n '20 select',\n '20 self',\n '20 site',\n '20 supports',\n '20 testing',\n '20 time',\n '20 travel',\n '20 travelling',\n '20 use',\n '20 year',\n '20 years',\n '200',\n '200 analytics',\n '200 base',\n '200 career',\n '200 cities',\n '200 company',\n '200 countries',\n '200 employees',\n '200 engineers',\n '200 locations',\n '200 people',\n '200 salaried',\n '200 years',\n '2000',\n '2000 analytic',\n '2000 global',\n '2002',\n '2002 headquartered',\n '2008',\n '2008 occupational',\n '2010',\n '2010 tapad',\n '2012',\n '2012 passion',\n '2012 quickly',\n '2013',\n '2013 company',\n '2013 goal',\n '2014',\n '2014 database',\n '2015',\n '2015 2021',\n '2015 card',\n '2015 vision',\n '2016',\n '2016 firm',\n '2016 start',\n '2016 welcomed',\n '2017',\n '2017 walmart',\n '2018',\n '2018 familiarity',\n '2018 knowledge',\n '2018 letter',\n '2018 team',\n '2019',\n '2019 2021',\n '2019 bringing',\n '2019 business',\n '2019 evaluate',\n '2019 invested',\n '2019 named',\n '2019 oliver',\n '2020',\n '2020 adding',\n '2020 defines',\n '2020 ecnlp',\n '2020 ghodrat',\n '2020 https',\n '2020 icml',\n '2020 included',\n '2020 launch',\n '2020 marks',\n '2020 medium',\n '2020 mid',\n '2020 moved',\n '2020 named',\n '2020 ranks',\n '2020 report',\n '2020 sales',\n '2020 sellers',\n '2020 teladoc',\n '2020 working',\n '2021',\n '2021 15',\n '2021 2022',\n '2021 apply',\n '2021 august',\n '2021 best',\n '2021 boston',\n '2021 company',\n '2021 draft',\n '2021 glassdoor',\n '2021 great',\n '2021 growing',\n '2021 join',\n '2021 list',\n '2021 note',\n '2021 papers',\n '2021 penn',\n '2021 position',\n '2021 provide',\n '2021 recruiter',\n '2021 review',\n '2021 sequoia',\n '2021 small',\n '2021 spring',\n '2021 time',\n '2021 won',\n '2022',\n '2022 10',\n '2022 11',\n '2022 12',\n '2022 anticipate',\n '2022 applied',\n '2022 basic',\n '2022 ces',\n '2022 come',\n '2022 consider',\n '2022 formulate',\n '2022 implement',\n '2022 incorporate',\n '2022 june',\n '2022 looking',\n '2022 minimum',\n '2022 nice',\n '2022 palo',\n '2022 perform',\n '2022 recruiter',\n '2022 requested',\n '2022 require',\n '2022 responsibilities',\n '2022 robert',\n '2022 run',\n '2022 seeking',\n '2022 software',\n '2022 submit',\n '2024',\n '2024 nice',\n '2025',\n '2025 extract',\n '2025 validate',\n '2030',\n '2030 ambition',\n '2030 digital',\n '2050',\n '2050 available',\n '21',\n '21 000',\n '21 63',\n '21 years',\n '216',\n '216 000',\n '22',\n '22 000',\n '22 120',\n '220',\n '220 countries',\n '222',\n '222 100',\n '23',\n '23 000',\n '23 2021',\n '230',\n '230 200',\n '231',\n '231 100',\n '235',\n '235 000',\n '24',\n '24 2022',\n '24 glassdoor',\n '24 high',\n '24 hours',\n '24 mobile',\n '24 months',\n '24 operations',\n '24 production',\n '24 technical',\n '25',\n '25 000',\n '25 50',\n '25 ability',\n '25 countries',\n '25 data',\n '25 days',\n '25 gather',\n '25 generate',\n '25 information',\n '25 million',\n '25 pounds',\n '25 project',\n '25 solution',\n '25 technical',\n '25 time',\n '25 work',\n '250',\n '250 000',\n '250 communities',\n '250k',\n '250k directors',\n '25lbs',\n '25lbs building',\n '26',\n '26 44',\n '260',\n '260 million',\n '265',\n '265 million',\n '265222',\n '265222 applying',\n '275',\n '275 johnson',\n '275 million',\n '275 salary',\n '277274',\n '277274 applying',\n '28',\n '28 countries',\n '28 online',\n '28f62d40fd17',\n '28f62d40fd17 making',\n '28th',\n '28th consecutive',\n '29',\n '29 days',\n '2d',\n '2d 3d',\n '2d drawings',\n '2d phased',\n '2m',\n '2m including',\n '2nd',\n '2nd priority',\n '2nd watch',\n '2x',\n '2x year',\n '30',\n '30 90',\n '30 areas',\n '30 assess',\n '30 countries',\n '30 cultivating',\n '30 data',\n '30 day',\n '30 days',\n '30 languages',\n '30 million',\n '30 min',\n '30 plan',\n '30 project',\n '30 provide',\n '30 researchers',\n '30 solution',\n '30 train',\n '30 unique',\n '30 use',\n '300',\n '300 00',\n '300 000',\n '300 155',\n '300 employee',\n '300 million',\n '303',\n '303 4654',\n '304',\n '304 50',\n '30am',\n '30am expect',\n '30k',\n '30k foot',\n '30pm',\n '30pm flexibility',\n '31',\n '31 2021',\n '31 million',\n '312c',\n '312c reporting',\n '317',\n '317 843',\n '32',\n '32 000',\n '320',\n '320 starting',\n '340b',\n '340b develops',\n '340b pr',\n '340b rpa',\n '340b team',\n '35',\n '35 40k',\n '35 43',\n '35 million',\n '35 solution',\n '35 technical',\n '350',\n '350 sensor',\n '36',\n '36 million',\n '360',\n '360 machine',\n '360 platform',\n '360 view',\n '360learning',\n '360learning platform',\n '365',\n '365 days',\n '365 drive',\n '365 help',\n '365 salesforce',\n '37',\n '37 hrs',\n '37 position',\n '39',\n '39 divisions',\n '398',\n '398 jpl',\n '398 responsibility',\n '398g',\n '398g provide',\n '3d',\n '3d anylogic',\n '3d computer',\n '3d deep',\n '3d geometries',\n '3d geometry',\n '3d matrices',\n '3d models',\n '3d point',\n '3d scene',\n '3d scenes',\n '3d technologies',\n '3d vision',\n '3d visual',\n '3p',\n '3p create',\n '3rd',\n '3rd parties',\n '3rd party',\n '3rd priority',\n '40',\n '40 000',\n '40 ancestry',\n '40 data',\n '40 hours',\n '40 location',\n '40 nationalities',\n '40 neiman',\n '40 perform',\n '40 work',\n '40 zalando',\n '400',\n '400 annual',\n '400 senior',\n '4000',\n '4000 stores',\n '400m',\n '400m monthly',\n '400m revolving',\n '401',\n '401 company',\n '401 employer',\n '401 immediately',\n '401 long',\n '401 match',\n '401 matching',\n '401 program',\n '401 retirement',\n '401 savings',\n '401 traditional',\n '401 tuition',\n '401 wellness',\n '401k',\n '401k availability',\n '401k company',\n '401k equity',\n '401k flexible',\n '401k match',\n '401k matching',\n '401k plan',\n '401k retirement',\n '401k savings',\n '40k',\n '40k depending',\n '42',\n '42 million',\n '42 states',\n '43',\n '43 years',\n '44',\n '44 hour',\n '4449',\n '4449 ipro',\n '447',\n '447 mid',\n '45',\n '45 000',\n '45 additional',\n '45 countries',\n '45 implement',\n '45 years',\n '450',\n '450 000',\n '4654',\n '4654 mobile',\n '47',\n '47 000',\n '47 customer',\n '48',\n '48 000',\n '4g',\n '4g 5g',\n '4g bi',\n '50',\n '50 000',\n '50 189',\n '50 2021',\n '50 70',\n '50 analysts',\n '50 apply',\n '50 areas',\n '50 billion',\n '50 bioinformatics',\n '50 biologists',\n '50 company',\n '50 data',\n '50 devices',\n '50 engaged',\n '50 fastest',\n '50 improve',\n '50 individual',\n '50 languages',\n '50 loans',\n '50 locations',\n '50 manufacturing',\n '50 percent',\n '50 plus',\n '50 role',\n '50 startups',\n '50 workload',\n '50 years',\n '500',\n '500 000',\n '500 advisors',\n '500 capital',\n '500 clients',\n '500 companies',\n '500 company',\n '500 compensation',\n '500 fastest',\n '500 million',\n '500 plus',\n '500 year',\n '500m',\n '500m records',\n '50billion',\n '50billion globally',\n '50m',\n '50m members',\n '51',\n '51 analytical',\n '51 forecasting',\n '51 platforms',\n '51 realize',\n '512gb',\n '512gb memory',\n '515',\n '515 303',\n '515 771',\n '52',\n '52 provide',\n '53',\n '53 year',\n '53a1764fcdee',\n '53a1764fcdee papers',\n '55',\n '55 solution',\n '550',\n '550 billion',\n '57',\n '57 000',\n '58',\n '58 000',\n '59',\n '59 banners',\n '5a94f42d6bbf01',\n '5a94f42d6bbf01 junior',\n '5g',\n '5g 5g',\n '5g bi',\n '5g connection',\n '5g fixed',\n '5g network',\n '5g networks',\n '5g services',\n '5g systems',\n '5th',\n '5th september',\n '5years',\n '5years large',\n '60',\n '60 000',\n '60 100',\n '60 billion',\n '60 criteria',\n '60 data',\n '60 days',\n '60 loyalty',\n '60 machine',\n '60 years',\n '600',\n '600 230',\n '600 231',\n '600 clubs',\n '600 million',\n '62304',\n '62304 pmda',\n '63',\n '63 000',\n '63 26',\n '63 800',\n '637',\n '637 email',\n '637 make',\n '64',\n '64 languages',\n '65',\n '65 billion',\n '65 cal',\n '65 european',\n '65 years',\n '650',\n '650 employees',\n ...]"
     },
     "execution_count": 6,
     "metadata": {},
     "output_type": "execute_result"
    }
   ],
   "source": [
    "feature_names = vec.get_feature_names()\n",
    "feature_names"
   ],
   "metadata": {
    "collapsed": false,
    "pycharm": {
     "name": "#%%\n"
    }
   }
  },
  {
   "cell_type": "code",
   "execution_count": 7,
   "outputs": [],
   "source": [
    "from sklearn.decomposition import TruncatedSVD\n",
    "\n",
    "lsa = TruncatedSVD(5)\n",
    "doc_topic = lsa.fit_transform(doc_term)"
   ],
   "metadata": {
    "collapsed": false,
    "pycharm": {
     "name": "#%%\n"
    }
   }
  },
  {
   "cell_type": "code",
   "execution_count": 8,
   "outputs": [
    {
     "data": {
      "text/plain": "(5, 207797)"
     },
     "execution_count": 8,
     "metadata": {},
     "output_type": "execute_result"
    }
   ],
   "source": [
    "lsa.components_.shape"
   ],
   "metadata": {
    "collapsed": false,
    "pycharm": {
     "name": "#%%\n"
    }
   }
  },
  {
   "cell_type": "code",
   "execution_count": 9,
   "outputs": [],
   "source": [
    "# Function to display the top n terms in each topic\n",
    "def display_topics(model, feature_names, no_top_words, topic_names = None):\n",
    "    for ix, topic in enumerate(model.components_):\n",
    "        if not topic_names or not topic_names[ix]:\n",
    "            print(\"\\nTopic \", ix + 1)\n",
    "        else:\n",
    "            print(\"\\nTopic: \", topic_names[ix])\n",
    "        print(\", \".join([feature_names[i]\n",
    "                         for i in topic.argsort()[:-no_top_words - 1:-1]]))\n",
    "    print(\"\\n\")\n",
    "    return model, feature_names, no_top_words"
   ],
   "metadata": {
    "collapsed": false,
    "pycharm": {
     "name": "#%%\n"
    }
   }
  },
  {
   "cell_type": "code",
   "execution_count": 10,
   "outputs": [
    {
     "name": "stdout",
     "output_type": "stream",
     "text": [
      "\n",
      "Topic  1\n",
      "business, learning, team, models, work\n",
      "\n",
      "Topic  2\n",
      "business, model, supports, analytical, techniques\n",
      "\n",
      "Topic  3\n",
      "learning, machine, machine learning, model, models\n",
      "\n",
      "Topic  4\n",
      "science, data science, experience, business, years\n",
      "\n",
      "Topic  5\n",
      "analysis, experience, statistical, support, develop\n",
      "\n",
      "\n"
     ]
    },
    {
     "data": {
      "text/plain": "(TruncatedSVD(n_components=5),\n ['00',\n  '00 actual',\n  '000',\n  '000 145',\n  '000 155',\n  '000 156',\n  '000 160',\n  '000 500',\n  '000 57',\n  '000 68',\n  '000 90',\n  '000 actual',\n  '000 additional',\n  '000 amazon',\n  '000 annually',\n  '000 asia',\n  '000 begin',\n  '000 bonus',\n  '000 companies',\n  '000 compensation',\n  '000 computer',\n  '000 data',\n  '000 dependent',\n  '000 depending',\n  '000 employees',\n  '000 end',\n  '000 families',\n  '000 homesite',\n  '000 independent',\n  '000 individuals',\n  '000 nmg',\n  '000 passionate',\n  '000 patients',\n  '000 people',\n  '000 pre',\n  '000 products',\n  '000 professionals',\n  '000 retail',\n  '000 small',\n  '000 software',\n  '000 stores',\n  '000 strong',\n  '000 team',\n  '000 technicians',\n  '000 usd',\n  '000 year',\n  '00am',\n  '00am 30pm',\n  '01',\n  '01 2022',\n  '01 24',\n  '0161',\n  '0161 694',\n  '02',\n  '02 18',\n  '04',\n  '04 01',\n  '04 15',\n  '05',\n  '05 06',\n  '05 2021',\n  '06',\n  '06 17',\n  '06 2022',\n  '07',\n  '07 01',\n  '07 15',\n  '07704',\n  '07704 152',\n  '09',\n  '09 01',\n  '10',\n  '10 000',\n  '10 10',\n  '10 13',\n  '10 15',\n  '10 20',\n  '10 2021',\n  '10 30am',\n  '10 accurate',\n  '10 affinity',\n  '10 analysts',\n  '10 banks',\n  '10 billion',\n  '10 bonus',\n  '10 business',\n  '10 career',\n  '10 communicating',\n  '10 countries',\n  '10 data',\n  '10 day',\n  '10 days',\n  '10 duties',\n  '10 evaluation',\n  '10 genetics',\n  '10 implement',\n  '10 learning',\n  '10 main',\n  '10 majority',\n  '10 members',\n  '10 million',\n  '10 need',\n  '10 offices',\n  '10 optimisation',\n  '10 participate',\n  '10 pounds',\n  '10 produce',\n  '10 proficient',\n  '10 required',\n  '10 situations',\n  '10 technical',\n  '10 time',\n  '10 travel',\n  '10 universities',\n  '10 week',\n  '10 weeks',\n  '10 years',\n  '100',\n  '100 000',\n  '100 12',\n  '100 124',\n  '100 200',\n  '100 best',\n  '100 centralized',\n  '100 countries',\n  '100 coverage',\n  '100 data',\n  '100 degrees',\n  '100 device',\n  '100 employer',\n  '100 essential',\n  '100 fit',\n  '100 huntsville',\n  '100 influential',\n  '100 languages',\n  '100 medical',\n  '100 million',\n  '100 monthly',\n  '100 new',\n  '100 outpatient',\n  '100 people',\n  '100 percent',\n  '100 position',\n  '100 remote',\n  '100 scale',\n  '100 staff',\n  '100 stores',\n  '100 subsidized',\n  '100 summary',\n  '100 team',\n  '100 time',\n  '100 world',\n  '100 yearly',\n  '100 years',\n  '1000',\n  '1000 alexa',\n  '1000 companies',\n  '1000 employees',\n  '1000 mid',\n  '1000 projects',\n  '1000 size',\n  '1000s',\n  '1000s patients',\n  '1001',\n  '1001 affiliated',\n  '1001 welcoming',\n  '100m',\n  '100m series',\n  '100m users',\n  '100mm',\n  '100mm consumers',\n  '100mm records',\n  '100s',\n  '100s 1000s',\n  '100s millions',\n  '101',\n  '101 000',\n  '101 125',\n  '102',\n  '102 723',\n  '103',\n  '103 500',\n  '109',\n  '109 000',\n  '109 countries',\n  '109 languages',\n  '10e8',\n  '10e8 datasets',\n  '10k',\n  '10k 10q',\n  '10k tuition',\n  '10pm',\n  '10pm unavailable',\n  '10q',\n  '10q ccar',\n  '10x',\n  '10x productivity',\n  '10x years',\n  '11',\n  '11 05',\n  '11 695',\n  '11 countries',\n  '11 deep',\n  '11 hospital',\n  '11 months',\n  '11 provide',\n  '11 role',\n  '110k',\n  '110k year',\n  '115',\n  '115 600',\n  '117',\n  '117 275',\n  '117 billion',\n  '12',\n  '12 000',\n  '12 15',\n  '12 16',\n  '12 23',\n  '12 affinity',\n  '12 countries',\n  '12 experienced',\n  '12 fortune',\n  '12 highly',\n  '12 internal',\n  '12 lead',\n  '12 month',\n  '12 months',\n  '12 provide',\n  '12 states',\n  '12 week',\n  '12 weeks',\n  '12 years',\n  '120',\n  '120 15',\n  '120 million',\n  '124',\n  '124 700',\n  '125',\n  '125 129',\n  '125 aws',\n  '126',\n  '126 800',\n  '127',\n  '127 fortune',\n  '1272',\n  '1272 2008',\n  '129',\n  '129 447',\n  '12th',\n  '12th 2022',\n  '13',\n  '13 000',\n  '13 week',\n  '13 years',\n  '130',\n  '130 000',\n  '130 countries',\n  '130 employees',\n  '130 rated',\n  '130 years',\n  '130b',\n  '130b annual',\n  '1324b',\n  '1324b eligible',\n  '13485',\n  '13485 mdsap',\n  '13485 quality',\n  '13485 standards',\n  '13th',\n  '13th september',\n  '14',\n  '14 000',\n  '14 currencies',\n  '14 leadership',\n  '14 million',\n  '14 weeks',\n  '140',\n  '140 000',\n  '140 services',\n  '140k',\n  '140k range',\n  '140m',\n  '140m continue',\n  '141940',\n  '141940 subject',\n  '145',\n  '145 000',\n  '15',\n  '15 000',\n  '15 2021',\n  '15 2022',\n  '15 80',\n  '15 data',\n  '15 domestic',\n  '15 interact',\n  '15 leverage',\n  '15 management',\n  '15 million',\n  '15 pending',\n  '15 pricing',\n  '15 required',\n  '15 sales',\n  '15 technical',\n  '15 time',\n  '15 years',\n  '150',\n  '150 consultants',\n  '150 countries',\n  '150 employees',\n  '150 places',\n  '150 year',\n  '150m',\n  '150m calls',\n  '151',\n  '151 300',\n  '151 320',\n  '152',\n  '152 637',\n  '155',\n  '155 000',\n  '155 900',\n  '156',\n  '156 1000',\n  '15b',\n  '15b school',\n  '16',\n  '16 000',\n  '16 2021',\n  '16 data',\n  '16 leadership',\n  '160',\n  '160 000',\n  '160 billion',\n  '164',\n  '164 700',\n  '1640',\n  '1640 x2053',\n  '165',\n  '165 700',\n  '16th',\n  '16th august',\n  '17',\n  '17 2022',\n  '17 800',\n  '17 languages',\n  '170',\n  '170 countries',\n  '170 years',\n  '175',\n  '175 countries',\n  '18',\n  '18 000',\n  '18 2022',\n  '18 months',\n  '18 years',\n  '180',\n  '180 400',\n  '180 countries',\n  '180 days',\n  '180 markets',\n  '180 time',\n  '1818',\n  '1818 brooks',\n  '183',\n  '183 500',\n  '1848',\n  '1848 team',\n  '186',\n  '186 000',\n  '189',\n  '189 304',\n  '19',\n  '19 billion',\n  '19 consideration',\n  '19 environment',\n  '19 eventually',\n  '19 help',\n  '19 ll',\n  '19 morning',\n  '19 nba',\n  '19 non',\n  '19 page',\n  '19 pandemic',\n  '19 person',\n  '19 proof',\n  '19 response',\n  '19 restrictions',\n  '19 situation',\n  '19 specific',\n  '19 successful',\n  '19 unless',\n  '19 unvaccinated',\n  '19 vaccination',\n  '19 vaccine',\n  '19 vaccines',\n  '19 work',\n  '190',\n  '190 chapters',\n  '190 countries',\n  '190 global',\n  '1927',\n  '1927 envisioning',\n  '1938',\n  '1938 topps',\n  '194',\n  '194 000',\n  '1961',\n  '1961 help',\n  '1972',\n  '1972 long',\n  '1972 team',\n  '1980',\n  '1980 defined',\n  '1983',\n  '1983 meet',\n  '1987',\n  '1987 huawei',\n  '1988',\n  '1988 fast',\n  '1988 sep',\n  '1991',\n  '1991 created',\n  '1995',\n  '1995 taking',\n  '1998',\n  '1998 headquartered',\n  '1999',\n  '1999 117',\n  '1999 sgs',\n  '1b',\n  '1b enterprises',\n  '1b visa',\n  '1billion',\n  '1billion people',\n  '1m',\n  '1m employees',\n  '1s',\n  '1s directly',\n  '1st',\n  '1st line',\n  '1st party',\n  '1st priority',\n  '1st shift',\n  '1x',\n  '1x monthly',\n  '20',\n  '20 ad',\n  '20 areas',\n  '20 billion',\n  '20 build',\n  '20 business',\n  '20 collaborate',\n  '20 colours',\n  '20 communicating',\n  '20 consult',\n  '20 continuously',\n  '20 days',\n  '20 develop',\n  '20 discount',\n  '20 hours',\n  '20 perform',\n  '20 popular',\n  '20 prediction',\n  '20 project',\n  '20 role',\n  '20 select',\n  '20 self',\n  '20 site',\n  '20 supports',\n  '20 testing',\n  '20 time',\n  '20 travel',\n  '20 travelling',\n  '20 use',\n  '20 year',\n  '20 years',\n  '200',\n  '200 analytics',\n  '200 base',\n  '200 career',\n  '200 cities',\n  '200 company',\n  '200 countries',\n  '200 employees',\n  '200 engineers',\n  '200 locations',\n  '200 people',\n  '200 salaried',\n  '200 years',\n  '2000',\n  '2000 analytic',\n  '2000 global',\n  '2002',\n  '2002 headquartered',\n  '2008',\n  '2008 occupational',\n  '2010',\n  '2010 tapad',\n  '2012',\n  '2012 passion',\n  '2012 quickly',\n  '2013',\n  '2013 company',\n  '2013 goal',\n  '2014',\n  '2014 database',\n  '2015',\n  '2015 2021',\n  '2015 card',\n  '2015 vision',\n  '2016',\n  '2016 firm',\n  '2016 start',\n  '2016 welcomed',\n  '2017',\n  '2017 walmart',\n  '2018',\n  '2018 familiarity',\n  '2018 knowledge',\n  '2018 letter',\n  '2018 team',\n  '2019',\n  '2019 2021',\n  '2019 bringing',\n  '2019 business',\n  '2019 evaluate',\n  '2019 invested',\n  '2019 named',\n  '2019 oliver',\n  '2020',\n  '2020 adding',\n  '2020 defines',\n  '2020 ecnlp',\n  '2020 ghodrat',\n  '2020 https',\n  '2020 icml',\n  '2020 included',\n  '2020 launch',\n  '2020 marks',\n  '2020 medium',\n  '2020 mid',\n  '2020 moved',\n  '2020 named',\n  '2020 ranks',\n  '2020 report',\n  '2020 sales',\n  '2020 sellers',\n  '2020 teladoc',\n  '2020 working',\n  '2021',\n  '2021 15',\n  '2021 2022',\n  '2021 apply',\n  '2021 august',\n  '2021 best',\n  '2021 boston',\n  '2021 company',\n  '2021 draft',\n  '2021 glassdoor',\n  '2021 great',\n  '2021 growing',\n  '2021 join',\n  '2021 list',\n  '2021 note',\n  '2021 papers',\n  '2021 penn',\n  '2021 position',\n  '2021 provide',\n  '2021 recruiter',\n  '2021 review',\n  '2021 sequoia',\n  '2021 small',\n  '2021 spring',\n  '2021 time',\n  '2021 won',\n  '2022',\n  '2022 10',\n  '2022 11',\n  '2022 12',\n  '2022 anticipate',\n  '2022 applied',\n  '2022 basic',\n  '2022 ces',\n  '2022 come',\n  '2022 consider',\n  '2022 formulate',\n  '2022 implement',\n  '2022 incorporate',\n  '2022 june',\n  '2022 looking',\n  '2022 minimum',\n  '2022 nice',\n  '2022 palo',\n  '2022 perform',\n  '2022 recruiter',\n  '2022 requested',\n  '2022 require',\n  '2022 responsibilities',\n  '2022 robert',\n  '2022 run',\n  '2022 seeking',\n  '2022 software',\n  '2022 submit',\n  '2024',\n  '2024 nice',\n  '2025',\n  '2025 extract',\n  '2025 validate',\n  '2030',\n  '2030 ambition',\n  '2030 digital',\n  '2050',\n  '2050 available',\n  '21',\n  '21 000',\n  '21 63',\n  '21 years',\n  '216',\n  '216 000',\n  '22',\n  '22 000',\n  '22 120',\n  '220',\n  '220 countries',\n  '222',\n  '222 100',\n  '23',\n  '23 000',\n  '23 2021',\n  '230',\n  '230 200',\n  '231',\n  '231 100',\n  '235',\n  '235 000',\n  '24',\n  '24 2022',\n  '24 glassdoor',\n  '24 high',\n  '24 hours',\n  '24 mobile',\n  '24 months',\n  '24 operations',\n  '24 production',\n  '24 technical',\n  '25',\n  '25 000',\n  '25 50',\n  '25 ability',\n  '25 countries',\n  '25 data',\n  '25 days',\n  '25 gather',\n  '25 generate',\n  '25 information',\n  '25 million',\n  '25 pounds',\n  '25 project',\n  '25 solution',\n  '25 technical',\n  '25 time',\n  '25 work',\n  '250',\n  '250 000',\n  '250 communities',\n  '250k',\n  '250k directors',\n  '25lbs',\n  '25lbs building',\n  '26',\n  '26 44',\n  '260',\n  '260 million',\n  '265',\n  '265 million',\n  '265222',\n  '265222 applying',\n  '275',\n  '275 johnson',\n  '275 million',\n  '275 salary',\n  '277274',\n  '277274 applying',\n  '28',\n  '28 countries',\n  '28 online',\n  '28f62d40fd17',\n  '28f62d40fd17 making',\n  '28th',\n  '28th consecutive',\n  '29',\n  '29 days',\n  '2d',\n  '2d 3d',\n  '2d drawings',\n  '2d phased',\n  '2m',\n  '2m including',\n  '2nd',\n  '2nd priority',\n  '2nd watch',\n  '2x',\n  '2x year',\n  '30',\n  '30 90',\n  '30 areas',\n  '30 assess',\n  '30 countries',\n  '30 cultivating',\n  '30 data',\n  '30 day',\n  '30 days',\n  '30 languages',\n  '30 million',\n  '30 min',\n  '30 plan',\n  '30 project',\n  '30 provide',\n  '30 researchers',\n  '30 solution',\n  '30 train',\n  '30 unique',\n  '30 use',\n  '300',\n  '300 00',\n  '300 000',\n  '300 155',\n  '300 employee',\n  '300 million',\n  '303',\n  '303 4654',\n  '304',\n  '304 50',\n  '30am',\n  '30am expect',\n  '30k',\n  '30k foot',\n  '30pm',\n  '30pm flexibility',\n  '31',\n  '31 2021',\n  '31 million',\n  '312c',\n  '312c reporting',\n  '317',\n  '317 843',\n  '32',\n  '32 000',\n  '320',\n  '320 starting',\n  '340b',\n  '340b develops',\n  '340b pr',\n  '340b rpa',\n  '340b team',\n  '35',\n  '35 40k',\n  '35 43',\n  '35 million',\n  '35 solution',\n  '35 technical',\n  '350',\n  '350 sensor',\n  '36',\n  '36 million',\n  '360',\n  '360 machine',\n  '360 platform',\n  '360 view',\n  '360learning',\n  '360learning platform',\n  '365',\n  '365 days',\n  '365 drive',\n  '365 help',\n  '365 salesforce',\n  '37',\n  '37 hrs',\n  '37 position',\n  '39',\n  '39 divisions',\n  '398',\n  '398 jpl',\n  '398 responsibility',\n  '398g',\n  '398g provide',\n  '3d',\n  '3d anylogic',\n  '3d computer',\n  '3d deep',\n  '3d geometries',\n  '3d geometry',\n  '3d matrices',\n  '3d models',\n  '3d point',\n  '3d scene',\n  '3d scenes',\n  '3d technologies',\n  '3d vision',\n  '3d visual',\n  '3p',\n  '3p create',\n  '3rd',\n  '3rd parties',\n  '3rd party',\n  '3rd priority',\n  '40',\n  '40 000',\n  '40 ancestry',\n  '40 data',\n  '40 hours',\n  '40 location',\n  '40 nationalities',\n  '40 neiman',\n  '40 perform',\n  '40 work',\n  '40 zalando',\n  '400',\n  '400 annual',\n  '400 senior',\n  '4000',\n  '4000 stores',\n  '400m',\n  '400m monthly',\n  '400m revolving',\n  '401',\n  '401 company',\n  '401 employer',\n  '401 immediately',\n  '401 long',\n  '401 match',\n  '401 matching',\n  '401 program',\n  '401 retirement',\n  '401 savings',\n  '401 traditional',\n  '401 tuition',\n  '401 wellness',\n  '401k',\n  '401k availability',\n  '401k company',\n  '401k equity',\n  '401k flexible',\n  '401k match',\n  '401k matching',\n  '401k plan',\n  '401k retirement',\n  '401k savings',\n  '40k',\n  '40k depending',\n  '42',\n  '42 million',\n  '42 states',\n  '43',\n  '43 years',\n  '44',\n  '44 hour',\n  '4449',\n  '4449 ipro',\n  '447',\n  '447 mid',\n  '45',\n  '45 000',\n  '45 additional',\n  '45 countries',\n  '45 implement',\n  '45 years',\n  '450',\n  '450 000',\n  '4654',\n  '4654 mobile',\n  '47',\n  '47 000',\n  '47 customer',\n  '48',\n  '48 000',\n  '4g',\n  '4g 5g',\n  '4g bi',\n  '50',\n  '50 000',\n  '50 189',\n  '50 2021',\n  '50 70',\n  '50 analysts',\n  '50 apply',\n  '50 areas',\n  '50 billion',\n  '50 bioinformatics',\n  '50 biologists',\n  '50 company',\n  '50 data',\n  '50 devices',\n  '50 engaged',\n  '50 fastest',\n  '50 improve',\n  '50 individual',\n  '50 languages',\n  '50 loans',\n  '50 locations',\n  '50 manufacturing',\n  '50 percent',\n  '50 plus',\n  '50 role',\n  '50 startups',\n  '50 workload',\n  '50 years',\n  '500',\n  '500 000',\n  '500 advisors',\n  '500 capital',\n  '500 clients',\n  '500 companies',\n  '500 company',\n  '500 compensation',\n  '500 fastest',\n  '500 million',\n  '500 plus',\n  '500 year',\n  '500m',\n  '500m records',\n  '50billion',\n  '50billion globally',\n  '50m',\n  '50m members',\n  '51',\n  '51 analytical',\n  '51 forecasting',\n  '51 platforms',\n  '51 realize',\n  '512gb',\n  '512gb memory',\n  '515',\n  '515 303',\n  '515 771',\n  '52',\n  '52 provide',\n  '53',\n  '53 year',\n  '53a1764fcdee',\n  '53a1764fcdee papers',\n  '55',\n  '55 solution',\n  '550',\n  '550 billion',\n  '57',\n  '57 000',\n  '58',\n  '58 000',\n  '59',\n  '59 banners',\n  '5a94f42d6bbf01',\n  '5a94f42d6bbf01 junior',\n  '5g',\n  '5g 5g',\n  '5g bi',\n  '5g connection',\n  '5g fixed',\n  '5g network',\n  '5g networks',\n  '5g services',\n  '5g systems',\n  '5th',\n  '5th september',\n  '5years',\n  '5years large',\n  '60',\n  '60 000',\n  '60 100',\n  '60 billion',\n  '60 criteria',\n  '60 data',\n  '60 days',\n  '60 loyalty',\n  '60 machine',\n  '60 years',\n  '600',\n  '600 230',\n  '600 231',\n  '600 clubs',\n  '600 million',\n  '62304',\n  '62304 pmda',\n  '63',\n  '63 000',\n  '63 26',\n  '63 800',\n  '637',\n  '637 email',\n  '637 make',\n  '64',\n  '64 languages',\n  '65',\n  '65 billion',\n  '65 cal',\n  '65 european',\n  '65 years',\n  '650',\n  '650 employees',\n  ...],\n 5)"
     },
     "execution_count": 10,
     "metadata": {},
     "output_type": "execute_result"
    }
   ],
   "source": [
    "display_topics(lsa, feature_names, 5)"
   ],
   "metadata": {
    "collapsed": false,
    "pycharm": {
     "name": "#%%\n"
    }
   }
  },
  {
   "cell_type": "code",
   "execution_count": 10,
   "outputs": [],
   "source": [],
   "metadata": {
    "collapsed": false,
    "pycharm": {
     "name": "#%%\n"
    }
   }
  }
 ],
 "metadata": {
  "kernelspec": {
   "display_name": "Python 3",
   "language": "python",
   "name": "python3"
  },
  "language_info": {
   "codemirror_mode": {
    "name": "ipython",
    "version": 2
   },
   "file_extension": ".py",
   "mimetype": "text/x-python",
   "name": "python",
   "nbconvert_exporter": "python",
   "pygments_lexer": "ipython2",
   "version": "2.7.6"
  }
 },
 "nbformat": 4,
 "nbformat_minor": 0
}