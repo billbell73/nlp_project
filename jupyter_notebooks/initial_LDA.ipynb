{
 "cells": [
  {
   "cell_type": "code",
   "execution_count": 1,
   "outputs": [],
   "source": [
    "from sklearn.feature_extraction.text import TfidfVectorizer, CountVectorizer\n",
    "import pandas as pd"
   ],
   "metadata": {
    "collapsed": false,
    "pycharm": {
     "name": "#%%\n"
    }
   }
  },
  {
   "cell_type": "code",
   "execution_count": 2,
   "outputs": [
    {
     "data": {
      "text/plain": "                                             responsibilities           title\n2908496770  :|•\\tDesign and implement ML methods on propri...  Data Scientist\n2911267267  :|• Provide consultative support as and when r...  Data Scientist\n2912844894  :|Support Data and Analytics team through deve...  Data Scientist\n2911205495  |Build agent-based simulations of smart contra...  Data Scientist\n2912480226  |Productionize, launch, and monitor predictive...  Data Scientist",
      "text/html": "<div>\n<style scoped>\n    .dataframe tbody tr th:only-of-type {\n        vertical-align: middle;\n    }\n\n    .dataframe tbody tr th {\n        vertical-align: top;\n    }\n\n    .dataframe thead th {\n        text-align: right;\n    }\n</style>\n<table border=\"1\" class=\"dataframe\">\n  <thead>\n    <tr style=\"text-align: right;\">\n      <th></th>\n      <th>responsibilities</th>\n      <th>title</th>\n    </tr>\n  </thead>\n  <tbody>\n    <tr>\n      <th>2908496770</th>\n      <td>:|•\\tDesign and implement ML methods on propri...</td>\n      <td>Data Scientist</td>\n    </tr>\n    <tr>\n      <th>2911267267</th>\n      <td>:|• Provide consultative support as and when r...</td>\n      <td>Data Scientist</td>\n    </tr>\n    <tr>\n      <th>2912844894</th>\n      <td>:|Support Data and Analytics team through deve...</td>\n      <td>Data Scientist</td>\n    </tr>\n    <tr>\n      <th>2911205495</th>\n      <td>|Build agent-based simulations of smart contra...</td>\n      <td>Data Scientist</td>\n    </tr>\n    <tr>\n      <th>2912480226</th>\n      <td>|Productionize, launch, and monitor predictive...</td>\n      <td>Data Scientist</td>\n    </tr>\n  </tbody>\n</table>\n</div>"
     },
     "execution_count": 2,
     "metadata": {},
     "output_type": "execute_result"
    }
   ],
   "source": [
    "df = pd.read_pickle(\"./responsibilities_df_2.pickle\")\n",
    "df.head()"
   ],
   "metadata": {
    "collapsed": false,
    "pycharm": {
     "name": "#%%\n"
    }
   }
  },
  {
   "cell_type": "code",
   "execution_count": 3,
   "outputs": [],
   "source": [
    "docs = df.responsibilities"
   ],
   "metadata": {
    "collapsed": false,
    "pycharm": {
     "name": "#%%\n"
    }
   }
  },
  {
   "cell_type": "code",
   "execution_count": 4,
   "outputs": [
    {
     "data": {
      "text/plain": "<bound method NDFrame.describe of 2908496770    :|•\\tDesign and implement ML methods on propri...\n2911267267    :|• Provide consultative support as and when r...\n2912844894    :|Support Data and Analytics team through deve...\n2911205495    |Build agent-based simulations of smart contra...\n2912480226    |Productionize, launch, and monitor predictive...\n                                    ...                        \n2897327767    Each day we process millions of points of tele...\n2914673173    |Research, development, and implementation of ...\n2882400504    To lead a team and set direction in order to d...\n2892506686    To lead a team and set direction in order to d...\n2882175429    Each day we process millions of points of tele...\nName: responsibilities, Length: 4295, dtype: object>"
     },
     "execution_count": 4,
     "metadata": {},
     "output_type": "execute_result"
    }
   ],
   "source": [
    "docs.describe"
   ],
   "metadata": {
    "collapsed": false,
    "pycharm": {
     "name": "#%%\n"
    }
   }
  },
  {
   "cell_type": "code",
   "execution_count": 5,
   "outputs": [
    {
     "data": {
      "text/plain": "779393"
     },
     "execution_count": 5,
     "metadata": {},
     "output_type": "execute_result"
    }
   ],
   "source": [
    "sum([len(d.split(' ')) for d in docs])"
   ],
   "metadata": {
    "collapsed": false,
    "pycharm": {
     "name": "#%%\n"
    }
   }
  },
  {
   "cell_type": "code",
   "execution_count": 6,
   "outputs": [],
   "source": [
    "vec = CountVectorizer(stop_words='english',\n",
    "                      max_df=0.8,\n",
    "                      ngram_range=(1,2))"
   ],
   "metadata": {
    "collapsed": false,
    "pycharm": {
     "name": "#%%\n"
    }
   }
  },
  {
   "cell_type": "code",
   "execution_count": 7,
   "outputs": [],
   "source": [
    "doc_term = vec.fit_transform(docs)"
   ],
   "metadata": {
    "collapsed": false,
    "pycharm": {
     "name": "#%%\n"
    }
   }
  },
  {
   "cell_type": "code",
   "execution_count": 8,
   "outputs": [
    {
     "data": {
      "text/plain": "<4295x207797 sparse matrix of type '<class 'numpy.int64'>'\n\twith 932757 stored elements in Compressed Sparse Row format>"
     },
     "execution_count": 8,
     "metadata": {},
     "output_type": "execute_result"
    }
   ],
   "source": [
    "doc_term"
   ],
   "metadata": {
    "collapsed": false,
    "pycharm": {
     "name": "#%%\n"
    }
   }
  },
  {
   "cell_type": "code",
   "execution_count": 9,
   "outputs": [
    {
     "data": {
      "text/plain": "{'design': 51002,\n 'implement': 88998,\n 'ml': 117833,\n 'methods': 116064,\n 'proprietary': 148551,\n 'open': 126442,\n 'access': 1951,\n 'datasets': 46445,\n 'utilize': 199648,\n 'large': 102909,\n 'scale': 164925,\n 'generate': 80179,\n 'statistically': 178920,\n 'motivated': 121056,\n 'research': 158409,\n 'hypotheses': 86886,\n 'apply': 12396,\n 'statistical': 178755,\n 'rigorously': 162199,\n 'test': 189968,\n 'evaluate': 67136,\n 'develop': 52307,\n 'foster': 77533,\n 'external': 72252,\n 'collaborations': 31743,\n 'provide': 149091,\n 'expert': 71042,\n 'technical': 187797,\n 'guidance': 83310,\n 'support': 182711,\n 'customers': 43352,\n 'analysis': 8524,\n 'experiments': 70826,\n 'work': 204860,\n 'independently': 92413,\n 'collaborative': 31774,\n 'team': 185927,\n 'machine': 109302,\n 'learning': 104881,\n 'solutions': 173841,\n 'design implement': 51194,\n 'implement ml': 89143,\n 'ml methods': 117986,\n 'methods proprietary': 116348,\n 'proprietary open': 148581,\n 'open access': 126443,\n 'access datasets': 1983,\n 'datasets utilize': 46720,\n 'utilize large': 199691,\n 'large scale': 103015,\n 'scale datasets': 165008,\n 'datasets generate': 46570,\n 'generate statistically': 80267,\n 'statistically motivated': 178929,\n 'motivated research': 121108,\n 'research hypotheses': 158634,\n 'hypotheses apply': 86893,\n 'apply statistical': 12569,\n 'statistical methods': 178849,\n 'methods rigorously': 116373,\n 'rigorously test': 162210,\n 'test evaluate': 190037,\n 'evaluate research': 67272,\n 'hypotheses develop': 86913,\n 'develop foster': 52499,\n 'foster external': 77547,\n 'external collaborations': 72279,\n 'collaborations provide': 31765,\n 'provide expert': 149202,\n 'expert technical': 71175,\n 'technical guidance': 187959,\n 'guidance support': 83423,\n 'support customers': 182869,\n 'customers design': 43459,\n 'design analysis': 51017,\n 'analysis experiments': 8810,\n 'experiments work': 71036,\n 'work independently': 205311,\n 'independently collaborative': 92431,\n 'collaborative team': 31852,\n 'team develop': 186208,\n 'develop data': 52425,\n 'data analysis': 44520,\n 'analysis machine': 8961,\n 'machine learning': 109318,\n 'learning solutions': 105423,\n 'consultative': 37879,\n 'required': 157609,\n 'able': 1474,\n 'handle': 83844,\n 'complex': 35025,\n 'projects': 147463,\n 'perform': 133808,\n 'exploratory': 71839,\n 'deep': 47835,\n 'dives': 56821,\n 'insights': 95720,\n 'substantial': 181756,\n 'portion': 138366,\n 'require': 157523,\n 'advanced': 4916,\n 'modelling': 119173,\n 'wrangling': 206985,\n 'responsible': 160079,\n 'implementing': 89612,\n 'multiple': 121444,\n 'model': 118308,\n 'types': 195699,\n 'methodologies': 115725,\n 'architect': 13566,\n 'variety': 200920,\n 'models': 119294,\n 'based': 18568,\n 'business': 23204,\n 'requirements': 157882,\n 'build': 22170,\n 'relationships': 155539,\n 'clients': 29416,\n 'better': 20172,\n 'understand': 196206,\n 'enable': 62289,\n 'use': 198077,\n 'analytics': 9922,\n 'drive': 58133,\n 'code': 30680,\n 'dashboards': 44266,\n 'presentations': 141102,\n 'client': 29173,\n 'present': 140904,\n 'results': 160471,\n 'stake': 177565,\n 'holders': 86092,\n 'recommendations': 153582,\n 'tangible': 185407,\n 'impacts': 88912,\n 'onsite': 126375,\n 'offshore': 125981,\n 'structure': 181107,\n 'tools': 192404,\n 'techniques': 188218,\n 'compliance': 35326,\n 'structured': 181176,\n 'problem': 142455,\n 'solving': 174888,\n 'approach': 12754,\n 'documentation': 57139,\n 'assist': 15413,\n 'process': 143336,\n 'improvement': 90334,\n 'automation': 17149,\n 'increase': 92135,\n 'efficiency': 60613,\n 'maintain': 109480,\n 'strong': 180903,\n 'internal': 98257,\n 'stakeholders': 177611,\n 'knowledge': 101825,\n 'qualification': 150841,\n 'tech': 187715,\n 'master': 112996,\n 'computer': 35885,\n 'science': 165611,\n 'statistics': 178969,\n 'experience': 69622,\n 'years': 207539,\n 'relevant': 155814,\n 'consulting': 37894,\n 'professional': 146014,\n 'services': 169658,\n 'hands': 83913,\n 'creating': 41312,\n 'visualizations': 202813,\n 'working': 206081,\n 'diverse': 56655,\n 'ability': 1228,\n 'principles': 141817,\n 'approaches': 12900,\n 'opposed': 127835,\n 'relying': 156173,\n 'excessively': 68331,\n 'past': 132710,\n 'domain': 57658,\n 'expertise': 71194,\n 'ecommerce': 59518,\n 'retail': 160932,\n 'strongly': 181089,\n 'preferred': 140442,\n 'provide consultative': 149156,\n 'consultative support': 37890,\n 'support required': 183274,\n 'required able': 157612,\n 'able handle': 1545,\n 'handle complex': 83852,\n 'complex projects': 35201,\n 'projects independently': 147729,\n 'independently perform': 92492,\n 'perform exploratory': 133873,\n 'exploratory data': 71849,\n 'analysis data': 8709,\n 'data deep': 44817,\n 'deep dives': 47854,\n 'dives generate': 56825,\n 'generate data': 80207,\n 'data insights': 45210,\n 'insights substantial': 96253,\n 'substantial portion': 181765,\n 'portion work': 138368,\n 'work require': 205570,\n 'require advanced': 157527,\n 'advanced data': 4953,\n 'data modelling': 45398,\n 'modelling data': 119200,\n 'data wrangling': 46066,\n 'wrangling responsible': 207016,\n 'responsible implementing': 160182,\n 'implementing multiple': 89673,\n 'multiple model': 121561,\n 'model types': 118693,\n 'types methodologies': 195731,\n 'methodologies design': 115791,\n 'design test': 51419,\n 'test architect': 189980,\n 'architect variety': 13610,\n 'variety models': 201002,\n 'models based': 119395,\n 'based business': 18611,\n 'business requirements': 23744,\n 'requirements build': 157932,\n 'build relationships': 22540,\n 'relationships clients': 155558,\n 'clients better': 29451,\n 'better understand': 20299,\n 'understand business': 196247,\n 'business enable': 23412,\n 'enable better': 62321,\n 'understand use': 196521,\n 'use analytics': 198099,\n 'analytics drive': 10122,\n 'drive business': 58178,\n 'business develop': 23384,\n 'develop code': 52384,\n 'code statistical': 30949,\n 'statistical models': 178857,\n 'models dashboards': 119532,\n 'dashboards presentations': 44392,\n 'presentations client': 141120,\n 'client requirements': 29352,\n 'requirements present': 158175,\n 'present results': 141007,\n 'results work': 160910,\n 'work client': 204999,\n 'client stake': 29377,\n 'stake holders': 177566,\n 'holders insights': 86097,\n 'insights recommendations': 96191,\n 'recommendations tangible': 153856,\n 'tangible business': 185410,\n 'business impacts': 23503,\n 'impacts work': 88958,\n 'work onsite': 205442,\n 'onsite offshore': 126390,\n 'offshore team': 125986,\n 'team structure': 186856,\n 'structure solutions': 181165,\n 'solutions based': 173927,\n 'based analytics': 18581,\n 'analytics tools': 10550,\n 'tools techniques': 192903,\n 'techniques compliance': 188307,\n 'compliance structured': 35411,\n 'structured problem': 181207,\n 'problem solving': 142572,\n 'solving approach': 174898,\n 'approach documentation': 12801,\n 'documentation assist': 57152,\n 'assist team': 15562,\n 'team process': 186664,\n 'process improvement': 143501,\n 'improvement automation': 90356,\n 'automation increase': 17234,\n 'increase efficiency': 92159,\n 'efficiency build': 60629,\n 'build maintain': 22426,\n 'maintain strong': 109720,\n 'strong relationships': 181037,\n 'relationships external': 155597,\n 'external internal': 72330,\n 'internal stakeholders': 98415,\n 'stakeholders knowledge': 177839,\n 'knowledge qualification': 102113,\n 'qualification tech': 150853,\n 'tech master': 187756,\n 'master computer': 113002,\n 'computer science': 35913,\n 'science business': 165674,\n 'business analytics': 23242,\n 'analytics statistics': 10513,\n 'statistics experience': 179033,\n 'experience years': 70350,\n 'years relevant': 207619,\n 'relevant experience': 155872,\n 'experience analytics': 69650,\n 'analytics consulting': 10054,\n 'consulting professional': 37936,\n 'professional services': 146085,\n 'services years': 170031,\n 'years hands': 207582,\n 'hands experience': 83939,\n 'experience creating': 69769,\n 'creating visualizations': 41478,\n 'visualizations dashboards': 202841,\n 'dashboards insights': 44357,\n 'insights hands': 95985,\n 'experience working': 70345,\n 'working large': 206290,\n 'large complex': 102933,\n 'complex diverse': 35085,\n 'diverse datasets': 56682,\n 'datasets consultative': 46498,\n 'consultative approach': 37882,\n 'approach ability': 12755,\n 'ability apply': 1239,\n 'apply principles': 12529,\n 'principles structured': 141887,\n 'structured approaches': 181180,\n 'approaches problem': 13074,\n 'solving opposed': 174971,\n 'opposed relying': 127836,\n 'relying excessively': 156174,\n 'excessively past': 68332,\n 'past domain': 132719,\n 'domain expertise': 57696,\n 'expertise ecommerce': 71278,\n 'ecommerce retail': 59544,\n 'retail experience': 160952,\n 'experience strongly': 70255,\n 'strongly preferred': 181097,\n 'development': 53362,\n 'plume': 137644,\n 'dispersion': 56312,\n 'modeling': 118737,\n 'resolve': 159218,\n 'fluid': 76012,\n 'problems': 142592,\n 'field': 74454,\n 'execute': 68493,\n 'certification': 26695,\n 'review': 161447,\n 'company': 34110,\n 'personnel': 135066,\n 'interviews': 98893,\n 'evaluation': 67423,\n 'pad': 130995,\n 'white': 204414,\n 'papers': 131171,\n 'quantification': 151350,\n 'additional': 4159,\n 'writing': 207135,\n 'engagement': 63189,\n 'various': 201074,\n 'disciplines': 55714,\n 'project': 147165,\n 'canary': 24444,\n 'including': 91279,\n 'software': 173250,\n 'regulatory': 155007,\n 'members': 114846,\n 'scientific': 166244,\n 'enhance': 64428,\n 'understanding': 196561,\n 'methane': 115665,\n 'emission': 61709,\n 'patterns': 132973,\n 'opportunities': 127239,\n 'enhanced': 64581,\n 'mitigation': 117742,\n 'production': 145026,\n 'distribution': 56566,\n 'oil': 126015,\n 'gas': 79785,\n 'globally': 81168,\n 'play': 137457,\n 'role': 163028,\n 'designing': 51549,\n 'planning': 136541,\n 'execution': 68707,\n 'pc': 133273,\n 'expanding': 69352,\n 'quantifying': 151403,\n 'emissions': 61712,\n 'using': 199124,\n 'principal': 141778,\n 'engineering': 63656,\n 'mathematical': 113270,\n 'coordinate': 39750,\n 'ensure': 64897,\n 'rigor': 162110,\n 'initiatives': 94615,\n 'collaboratively': 31864,\n 'undertaken': 196994,\n 'group': 82441,\n 'industry': 92964,\n 'academics': 1805,\n 'multilateral': 121421,\n 'organizations': 129333,\n 'public': 149893,\n 'sector': 167928,\n 'remain': 156178,\n 'forefront': 76988,\n 'climate': 29747,\n 'staying': 179272,\n 'date': 46748,\n 'literature': 107820,\n 'support data': 182874,\n 'data analytics': 44525,\n 'analytics team': 10536,\n 'team development': 186211,\n 'development plume': 53818,\n 'plume dispersion': 137645,\n 'dispersion modeling': 56313,\n 'modeling resolve': 119077,\n 'resolve complex': 159232,\n 'complex fluid': 35107,\n 'fluid problems': 76016,\n 'problems open': 142998,\n 'open field': 126469,\n 'field execute': 74498,\n 'execute certification': 68516,\n 'certification review': 26711,\n 'review company': 161476,\n 'company documentation': 34226,\n 'documentation personnel': 57255,\n 'personnel interviews': 135083,\n 'interviews evaluation': 98900,\n 'evaluation pad': 67510,\n 'pad design': 130996,\n 'design assist': 51035,\n 'assist development': 15464,\n 'development white': 54016,\n 'white papers': 204418,\n 'papers quantification': 131215,\n 'quantification analysis': 151351,\n 'analysis additional': 8541,\n 'additional technical': 4221,\n 'technical professional': 188070,\n 'professional writing': 146102,\n 'writing engagement': 207161,\n 'engagement various': 63315,\n 'various disciplines': 201142,\n 'disciplines project': 55755,\n 'project canary': 147191,\n 'canary team': 24446,\n 'team including': 186433,\n 'including science': 91790,\n 'science software': 166084,\n 'software regulatory': 173464,\n 'regulatory members': 155044,\n 'members develop': 114925,\n 'develop support': 52820,\n 'support scientific': 183301,\n 'scientific projects': 166344,\n 'projects enhance': 147640,\n 'enhance understanding': 64573,\n 'understanding methane': 196761,\n 'methane emission': 115666,\n 'emission patterns': 61710,\n 'patterns opportunities': 133068,\n 'opportunities enhanced': 127378,\n 'enhanced methane': 64591,\n 'methane mitigation': 115668,\n 'mitigation production': 117765,\n 'production distribution': 145086,\n 'distribution oil': 56585,\n 'oil gas': 126016,\n 'gas globally': 79789,\n 'globally play': 81194,\n 'play role': 137487,\n 'role designing': 163138,\n 'designing planning': 51605,\n 'planning execution': 136606,\n 'execution pc': 68792,\n 'pc expanding': 133274,\n 'expanding work': 69381,\n 'work quantifying': 205549,\n 'quantifying methane': 151407,\n 'methane emissions': 115667,\n 'emissions using': 61715,\n 'using principal': 199398,\n 'principal engineering': 141790,\n 'engineering methods': 63873,\n 'methods mathematical': 116278,\n 'mathematical models': 113308,\n 'models statistical': 120144,\n 'statistical analysis': 178765,\n 'analysis coordinate': 8689,\n 'coordinate ensure': 39773,\n 'ensure rigor': 65116,\n 'rigor scientific': 162146,\n 'scientific initiatives': 166304,\n 'initiatives collaboratively': 94657,\n 'collaboratively undertaken': 31926,\n 'undertaken diverse': 196996,\n 'diverse group': 56702,\n 'group stakeholders': 82596,\n 'stakeholders including': 177814,\n 'including industry': 91563,\n 'industry academics': 92969,\n 'academics multilateral': 1810,\n 'multilateral organizations': 121422,\n 'organizations public': 129389,\n 'public sector': 149927,\n 'sector remain': 167948,\n 'remain forefront': 156185,\n 'forefront climate': 76993,\n 'climate science': 29760,\n 'science including': 165860,\n 'including staying': 91832,\n 'staying date': 179276,\n 'date scientific': 46794,\n 'scientific literature': 166313,\n 'agent': 5789,\n 'simulations': 171873,\n 'smart': 172920,\n 'contracts': 38884,\n 'blockchain': 20968,\n 'networks': 123385,\n 'python': 150446,\n 'sdk': 167628,\n 'optimize': 128269,\n 'incentive': 90801,\n 'protocols': 148782,\n 'help': 84881,\n 'discover': 55806,\n 'potential': 138979,\n 'attack': 16107,\n 'vectors': 201431,\n 'contribute': 38900,\n 'making': 110439,\n 'simulation': 171798,\n 'platform': 136932,\n 'world': 206704,\n 'class': 28473,\n 'intuitive': 98981,\n 'build agent': 22185,\n 'agent based': 5792,\n 'based simulations': 18878,\n 'simulations smart': 171910,\n 'smart contracts': 172926,\n 'contracts blockchain': 38886,\n 'blockchain networks': 20978,\n 'networks using': 123498,\n 'using python': 199405,\n 'python sdk': 150650,\n 'sdk design': 167629,\n 'design optimize': 51267,\n 'optimize incentive': 128354,\n 'incentive models': 90806,\n 'models blockchain': 119411,\n 'blockchain protocols': 20980,\n 'protocols help': 148797,\n 'help discover': 84987,\n 'discover potential': 55847,\n 'potential attack': 138996,\n 'attack vectors': 16113,\n 'vectors contribute': 201433,\n 'contribute making': 39029,\n 'making simulation': 110681,\n 'simulation model': 171831,\n 'model platform': 118578,\n 'platform world': 137251,\n 'world class': 206733,\n 'class build': 28486,\n 'build data': 22279,\n 'data models': 45399,\n 'models visualizations': 120248,\n 'visualizations public': 202921,\n 'public blockchain': 149896,\n 'blockchain data': 20972,\n 'data simulation': 45779,\n 'simulation results': 171844,\n 'results provide': 160794,\n 'provide intuitive': 149257,\n 'intuitive analytics': 98984,\n 'analytics customers': 10078,\n 'productionize': 145368,\n 'launch': 103263,\n 'monitor': 120605,\n 'predictive': 140281,\n 'high': 85523,\n 'dimensional': 55092,\n 'fast': 73564,\n 'moving': 121212,\n 'real': 152989,\n 'time': 191577,\n 'analyze': 10598,\n 'manage': 110742,\n 'simulated': 171793,\n 'live': 107876,\n 'multivariate': 121665,\n 'tests': 190568,\n 'kpi': 102246,\n 'improvements': 90485,\n 'lead': 103473,\n 'end': 62749,\n 'cross': 42176,\n 'functional': 78660,\n 'scope': 167209,\n 'collect': 32100,\n 'summarize': 182371,\n 'key': 101361,\n 'critical': 41970,\n 'decision': 47293,\n 'amounts': 8130,\n 'gather': 79807,\n 'identify': 87629,\n 'trends': 194780,\n 'detect': 51931,\n 'anomalies': 11165,\n 'kpis': 102271,\n 'feed': 74149,\n 'powerful': 139303,\n 'new': 123544,\n 'improve': 89936,\n 'existing': 69054,\n 'incorporating': 92106,\n 'sources': 175309,\n 'developing': 53099,\n 'testing': 190248,\n 'running': 163858,\n 'fine': 75381,\n 'tuning': 195441,\n 'parameters': 131284,\n 'productionize launch': 145375,\n 'launch monitor': 103289,\n 'monitor predictive': 120693,\n 'predictive models': 140334,\n 'models high': 119730,\n 'high dimensional': 85548,\n 'dimensional fast': 55100,\n 'fast moving': 73594,\n 'moving real': 121223,\n 'real time': 153025,\n 'time datasets': 191636,\n 'datasets design': 46517,\n 'design analyze': 51022,\n 'analyze manage': 10712,\n 'manage simulated': 110935,\n 'simulated live': 171796,\n 'live experiments': 107889,\n 'experiments multivariate': 70960,\n 'multivariate tests': 121680,\n 'tests drive': 190617,\n 'drive kpi': 58298,\n 'kpi improvements': 102256,\n 'improvements lead': 90562,\n 'lead end': 103569,\n 'end end': 62801,\n 'end cross': 62782,\n 'cross functional': 42199,\n 'functional analytics': 78668,\n 'analytics projects': 10410,\n 'projects scope': 147910,\n 'scope requirements': 167275,\n 'requirements stakeholders': 158242,\n 'stakeholders collect': 177675,\n 'collect analyze': 32103,\n 'analyze data': 10635,\n 'data summarize': 45868,\n 'summarize present': 182384,\n 'present key': 140961,\n 'key insights': 101473,\n 'insights support': 96258,\n 'support critical': 182861,\n 'critical decision': 42000,\n 'decision making': 47321,\n 'making analysis': 110451,\n 'analysis large': 8945,\n 'large amounts': 102915,\n 'amounts data': 8137,\n 'data gather': 45074,\n 'gather insights': 79832,\n 'insights identify': 95998,\n 'identify trends': 87942,\n 'trends detect': 194849,\n 'detect anomalies': 51934,\n 'anomalies develop': 11176,\n 'develop key': 52557,\n 'key kpis': 101481,\n 'kpis feed': 102298,\n 'feed powerful': 74158,\n 'powerful dashboards': 139310,\n 'dashboards visualizations': 44443,\n 'visualizations build': 202825,\n 'build new': 22462,\n 'new improve': 123733,\n 'improve existing': 90059,\n 'existing ml': 69165,\n 'ml models': 117994,\n 'models incorporating': 119763,\n 'incorporating new': 92121,\n 'new sources': 123911,\n 'sources developing': 175409,\n 'developing testing': 53336,\n 'testing model': 190438,\n 'model improvements': 118493,\n 'improvements running': 90610,\n 'running experiments': 163874,\n 'experiments fine': 70912,\n 'fine tuning': 75385,\n 'tuning parameters': 195474,\n 'reasonable': 153139,\n 'accommodations': 2173,\n 'individuals': 92771,\n 'disabilities': 55562,\n 'essential': 66634,\n 'functions': 78925,\n 'sets': 170284,\n 'necessary': 122164,\n 'pipelines': 135953,\n 'deploy': 50228,\n 'streaming': 180623,\n 'microservices': 116840,\n 'enrich': 64826,\n 'raw': 152689,\n 'standard': 178074,\n 'frameworks': 77866,\n 'member': 114742,\n 'optimization': 127981,\n 'financial': 74986,\n 'clinical': 29774,\n 'outcome': 129713,\n 'variables': 200818,\n 'success': 181836,\n 'specific': 176246,\n 'experiment': 70580,\n 'directions': 55370,\n 'level': 105794,\n 'prescriptive': 140856,\n 'entrepreneurial': 65595,\n 'spirit': 176731,\n 'inspire': 96346,\n 'motivate': 121045,\n 'strategic': 179858,\n 'tactical': 185023,\n 'reasonable accommodations': 153141,\n 'accommodations enable': 2179,\n 'enable individuals': 62391,\n 'individuals disabilities': 92792,\n 'disabilities perform': 55566,\n 'perform essential': 133869,\n 'essential functions': 66655,\n 'functions work': 79072,\n 'work large': 205356,\n 'complex data': 35071,\n 'data sets': 45766,\n 'sets build': 170323,\n 'build develop': 22300,\n 'develop necessary': 52613,\n 'necessary data': 122196,\n 'data pipelines': 45517,\n 'pipelines develop': 136034,\n 'develop deploy': 52443,\n 'deploy streaming': 50352,\n 'streaming microservices': 180637,\n 'microservices enrich': 116851,\n 'enrich raw': 64839,\n 'raw data': 152691,\n 'data knowledge': 45266,\n 'knowledge models': 102066,\n 'models develop': 119566,\n 'deploy standard': 50348,\n 'standard evaluation': 178101,\n 'evaluation frameworks': 67472,\n 'frameworks develop': 77909,\n 'deploy member': 50304,\n 'member optimization': 114812,\n 'optimization simulations': 128205,\n 'simulations financial': 171894,\n 'financial clinical': 75004,\n 'clinical experience': 29806,\n 'experience outcome': 70089,\n 'outcome variables': 129749,\n 'variables contribute': 200826,\n 'contribute success': 39097,\n 'success team': 181988,\n 'team specific': 186822,\n 'specific experiment': 176299,\n 'experiment research': 70626,\n 'research directions': 158545,\n 'directions guidance': 55376,\n 'guidance platform': 83395,\n 'platform level': 137111,\n 'level develop': 105879,\n 'develop predictive': 52671,\n 'predictive prescriptive': 140344,\n 'prescriptive models': 140876,\n 'models entrepreneurial': 119631,\n 'entrepreneurial spirit': 65615,\n 'spirit able': 176732,\n 'able inspire': 1553,\n 'inspire work': 96367,\n 'work motivate': 205416,\n 'motivate ability': 121046,\n 'ability strategic': 1440,\n 'strategic tactical': 179976,\n 'leaders': 103896,\n 'utilizing': 199776,\n 'mass': 112956,\n 'artificial': 14625,\n 'intelligence': 97349,\n 'philanthropy': 135530,\n 'offices': 125894,\n 'raise': 152202,\n 'money': 120573,\n 'healthcare': 84619,\n 'patients': 132892,\n 'serve': 169254,\n 'continue': 38617,\n 'rapidly': 152522,\n 'expand': 69282,\n 'efforts': 60966,\n 'need': 122295,\n 'passion': 132511,\n 'proficiency': 146209,\n 'algorithmic': 6709,\n 'specifically': 176395,\n 'following': 76496,\n 'areas': 14051,\n 'human': 86681,\n 'teaming': 186992,\n 'cognitive': 31177,\n 'multi': 121326,\n 'systems': 184250,\n 'reasoning': 153160,\n 'automated': 16966,\n 'semantics': 168851,\n 'ontologies': 126397,\n 'wide': 204458,\n 'range': 152263,\n 'leading': 104330,\n 'teams': 187039,\n 'possessing': 138774,\n 'broad': 21872,\n 'skills': 172343,\n 'allow': 7442,\n 'influence': 93363,\n 'want': 203449,\n 'donate': 57881,\n 'extraordinary': 72638,\n 'patient': 132838,\n 'experiences': 70429,\n 'challenges': 26967,\n 'fielding': 74611,\n 'inform': 93550,\n 'mission': 117514,\n 'decisions': 47369,\n 'assess': 14868,\n 'adequacy': 4413,\n 'maturation': 113511,\n 'programs': 146861,\n 'shape': 170773,\n 'programmatic': 146679,\n 'direction': 55258,\n 'giving': 80956,\n 'needed': 122483,\n 'strengthen': 180763,\n 'growing': 82877,\n 'capabilities': 24767,\n 'responsibilities': 159664,\n 'scientist': 166398,\n 'building': 22686,\n 'maintaining': 109799,\n 'powers': 139346,\n 'gobel': 81544,\n 'products': 145501,\n 'looking': 108769,\n 'solver': 174831,\n 'innate': 94888,\n 'customer': 43024,\n 'needs': 122669,\n 'warehouses': 203587,\n 'willingly': 204634,\n 'collaborates': 31494,\n 'related': 155151,\n 'issues': 99768,\n 'innovated': 94953,\n 'enhancements': 64653,\n 'right': 161994,\n 'candidate': 24473,\n 'mining': 117297,\n 'algorithms': 6748,\n 'proven': 149048,\n 'comfortable': 32747,\n 'discovering': 55901,\n 'hidden': 85488,\n 'outcomes': 129751,\n 'partner': 131742,\n 'closely': 29978,\n 'requests': 157410,\n 'relate': 155136,\n 'al': 6534,\n 'solve': 174657,\n 'result': 160395,\n 'transformational': 194182,\n 'impact': 88458,\n 'modern': 120293,\n 'prototypes': 148889,\n 'propose': 148416,\n 'novel': 124684,\n 'cutting': 43863,\n 'edge': 59830,\n 'context': 38454,\n 'having': 84256,\n 'highest': 85640,\n 'roi': 162986,\n 'produce': 144427,\n 'actionable': 3220,\n 'infrastructure': 94117,\n 'greater': 82281,\n 'scalability': 164754,\n 'optimizing': 128494,\n 'delivery': 49265,\n 'automating': 17106,\n 'manual': 112118,\n 'processes': 143714,\n 'daily': 44116,\n 'screenings': 167488,\n 'product': 144583,\n 'offerings': 125683,\n 'delivered': 49026,\n 'query': 151619,\n 'relational': 155472,\n 'databases': 46194,\n 'sql': 176967,\n 'flat': 75726,\n 'files': 74741,\n 'csvs': 42341,\n 'apis': 11494,\n 'filter': 74806,\n 'transform': 194010,\n 'dedupe': 47817,\n 'records': 154051,\n 'clean': 28749,\n 'individual': 92648,\n 'fields': 74614,\n 'prepare': 140644,\n 'ingestion': 94433,\n 'consumption': 38134,\n 'proactively': 142340,\n 'anticipate': 11347,\n 'concerning': 36318,\n 'management': 110986,\n 'quality': 150940,\n 'executive': 68860,\n 'assisting': 15640,\n 'workflows': 205903,\n 'routines': 163651,\n 'workflow': 205850,\n 'scheduling': 165489,\n 'continuous': 38711,\n 'integration': 97049,\n 'driven': 58446,\n 'deployment': 50486,\n 'phone': 135546,\n 'email': 61464,\n 'face': 72728,\n 'checks': 27948,\n 'user': 198701,\n 'acceptance': 1930,\n 'seek': 168176,\n 'innovate': 94896,\n 'ways': 203864,\n 'offered': 125642,\n 'partnership': 132300,\n 'standardization': 178156,\n 'documents': 57388,\n 'materials': 113173,\n 'duties': 59079,\n 'assigned': 15244,\n 'leaders utilizing': 104053,\n 'utilizing mass': 199817,\n 'mass data': 112958,\n 'sets artificial': 170310,\n 'artificial intelligence': 14626,\n 'intelligence help': 97453,\n 'help philanthropy': 85119,\n 'philanthropy offices': 135532,\n 'offices raise': 125917,\n 'raise money': 152208,\n 'money support': 120583,\n 'support healthcare': 183031,\n 'healthcare organizations': 84696,\n 'organizations patients': 129386,\n 'patients serve': 132939,\n 'serve continue': 169274,\n 'continue rapidly': 38653,\n 'rapidly expand': 152545,\n 'expand efforts': 69299,\n 'efforts need': 61089,\n 'need individuals': 122386,\n ...}"
     },
     "execution_count": 9,
     "metadata": {},
     "output_type": "execute_result"
    }
   ],
   "source": [
    "vec.vocabulary_"
   ],
   "metadata": {
    "collapsed": false,
    "pycharm": {
     "name": "#%%\n"
    }
   }
  },
  {
   "cell_type": "markdown",
   "source": [
    "The below way of displaying vectorisation results as they relate to a specific document was taken from course materials"
   ],
   "metadata": {
    "collapsed": false,
    "pycharm": {
     "name": "#%% md\n"
    }
   }
  },
  {
   "cell_type": "code",
   "execution_count": 10,
   "outputs": [
    {
     "data": {
      "text/plain": "optimization             3\njob                      2\nmachine learning         2\nlearning                 2\nbig data                 2\ndistributed              2\ndevelops                 2\nanalyses                 2\nmodeling                 2\nlearning optimization    2\nmachine                  2\nbig                      2\ncomputing                2\ndistributed computing    2\nsoftware                 2\nduties                   2\nfpl                      1\njob related              1\nsummaries                1\ninterpretations          1\nName: |This position is responsible for developing algorithms, modeling techniques, and optimization methods that support many aspects of NextEra and FPL business. Employees in this role use knowledge of machine learning, optimization, statistics, and applied mathematics along with abilities in software engineering with a focus on distributed computing and data storage infrastructure (i.e., “Big Data”).|Job Duties & Responsibilities|Develops machine learning, optimization and other modeling solutions|Prepares comprehensive documented observations, analyses and interpretations of results including technical reports, summaries, protocols and quantitative analyses|Works with big data and distributed computing platforms|Develops software and contributes to product development|Performs other job-related duties as assigned|Required , dtype: int64"
     },
     "execution_count": 10,
     "metadata": {},
     "output_type": "execute_result"
    }
   ],
   "source": [
    "i = 200\n",
    "\n",
    "doc = pd.Series(name=docs[i],\n",
    "                data=doc_term.toarray()[i],\n",
    "                index=vec.get_feature_names()) \\\n",
    "   .sort_values(ascending=False)\n",
    "\n",
    "doc[:20]"
   ],
   "metadata": {
    "collapsed": false,
    "pycharm": {
     "name": "#%%\n"
    }
   }
  },
  {
   "cell_type": "markdown",
   "source": [
    "Function below adapted from function found in Stack Overflow answer"
   ],
   "metadata": {
    "collapsed": false,
    "pycharm": {
     "name": "#%% md\n"
    }
   }
  },
  {
   "cell_type": "code",
   "execution_count": 11,
   "outputs": [],
   "source": [
    "def get_top_n_words(bag_of_words, n=20):\n",
    "    sum_words = bag_of_words.sum(axis=0)\n",
    "    words_freq = [(word, sum_words[0, idx]) for word, idx in     vec.vocabulary_.items()]\n",
    "    words_freq =sorted(words_freq, key = lambda x: x[1], reverse=True)\n",
    "    return words_freq[:n]"
   ],
   "metadata": {
    "collapsed": false,
    "pycharm": {
     "name": "#%%\n"
    }
   }
  },
  {
   "cell_type": "code",
   "execution_count": 12,
   "outputs": [
    {
     "data": {
      "text/plain": "[('business', 7277),\n ('learning', 5017),\n ('team', 4838),\n ('models', 4682),\n ('work', 4486),\n ('machine', 4113),\n ('machine learning', 4035),\n ('science', 3764),\n ('develop', 3671),\n ('analysis', 3511),\n ('solutions', 3108),\n ('data science', 3098),\n ('analytics', 2991),\n ('new', 2881),\n ('experience', 2826),\n ('product', 2767),\n ('development', 2732),\n ('design', 2626),\n ('support', 2423),\n ('teams', 2371),\n ('build', 2359),\n ('insights', 2324),\n ('technical', 2300),\n ('model', 2232),\n ('statistical', 2182),\n ('research', 2051),\n ('techniques', 2043),\n ('problems', 2039),\n ('using', 1998),\n ('tools', 1976),\n ('engineering', 1792),\n ('projects', 1791),\n ('including', 1709),\n ('identify', 1702),\n ('customer', 1700),\n ('algorithms', 1687),\n ('complex', 1666),\n ('modeling', 1643),\n ('provide', 1544),\n ('analytical', 1540),\n ('use', 1529),\n ('help', 1523),\n ('ml', 1502),\n ('software', 1474),\n ('results', 1467),\n ('stakeholders', 1441),\n ('performance', 1432),\n ('systems', 1426),\n ('products', 1426),\n ('processes', 1411),\n ('scientist', 1409),\n ('drive', 1388),\n ('working', 1380),\n ('large', 1373),\n ('key', 1361),\n ('data scientist', 1352),\n ('quality', 1329),\n ('best', 1319),\n ('responsibilities', 1311),\n ('advanced', 1309),\n ('create', 1304),\n ('management', 1298),\n ('skills', 1297),\n ('knowledge', 1293),\n ('improve', 1280),\n ('scientists', 1252),\n ('customers', 1248),\n ('role', 1234),\n ('requirements', 1221),\n ('collaborate', 1215),\n ('methods', 1201),\n ('predictive', 1190),\n ('engineers', 1190),\n ('building', 1185),\n ('implement', 1181),\n ('opportunities', 1159),\n ('ai', 1158),\n ('based', 1134),\n ('understand', 1130),\n ('high', 1104),\n ('internal', 1096),\n ('end', 1093),\n ('sources', 1077),\n ('project', 1066),\n ('lead', 1059),\n ('analyze', 1056),\n ('marketing', 1054),\n ('company', 1037),\n ('impact', 1036),\n ('deliver', 1018),\n ('production', 1017),\n ('needs', 1001),\n ('understanding', 993),\n ('technology', 991),\n ('information', 990),\n ('developing', 961),\n ('code', 952),\n ('apply', 947),\n ('technologies', 940),\n ('solve', 932)]"
     },
     "execution_count": 12,
     "metadata": {},
     "output_type": "execute_result"
    }
   ],
   "source": [
    "get_top_n_words(doc_term, 100)"
   ],
   "metadata": {
    "collapsed": false,
    "pycharm": {
     "name": "#%%\n"
    }
   }
  },
  {
   "cell_type": "code",
   "execution_count": 13,
   "outputs": [
    {
     "data": {
      "text/plain": "(4295, 207797)"
     },
     "execution_count": 13,
     "metadata": {},
     "output_type": "execute_result"
    }
   ],
   "source": [
    "doc_term.shape"
   ],
   "metadata": {
    "collapsed": false,
    "pycharm": {
     "name": "#%%\n"
    }
   }
  },
  {
   "cell_type": "code",
   "execution_count": 14,
   "outputs": [
    {
     "data": {
      "text/plain": "['00',\n '00 actual',\n '000',\n '000 145',\n '000 155',\n '000 156',\n '000 160',\n '000 500',\n '000 57',\n '000 68',\n '000 90',\n '000 actual',\n '000 additional',\n '000 amazon',\n '000 annually',\n '000 asia',\n '000 begin',\n '000 bonus',\n '000 companies',\n '000 compensation',\n '000 computer',\n '000 data',\n '000 dependent',\n '000 depending',\n '000 employees',\n '000 end',\n '000 families',\n '000 homesite',\n '000 independent',\n '000 individuals',\n '000 nmg',\n '000 passionate',\n '000 patients',\n '000 people',\n '000 pre',\n '000 products',\n '000 professionals',\n '000 retail',\n '000 small',\n '000 software',\n '000 stores',\n '000 strong',\n '000 team',\n '000 technicians',\n '000 usd',\n '000 year',\n '00am',\n '00am 30pm',\n '01',\n '01 2022',\n '01 24',\n '0161',\n '0161 694',\n '02',\n '02 18',\n '04',\n '04 01',\n '04 15',\n '05',\n '05 06',\n '05 2021',\n '06',\n '06 17',\n '06 2022',\n '07',\n '07 01',\n '07 15',\n '07704',\n '07704 152',\n '09',\n '09 01',\n '10',\n '10 000',\n '10 10',\n '10 13',\n '10 15',\n '10 20',\n '10 2021',\n '10 30am',\n '10 accurate',\n '10 affinity',\n '10 analysts',\n '10 banks',\n '10 billion',\n '10 bonus',\n '10 business',\n '10 career',\n '10 communicating',\n '10 countries',\n '10 data',\n '10 day',\n '10 days',\n '10 duties',\n '10 evaluation',\n '10 genetics',\n '10 implement',\n '10 learning',\n '10 main',\n '10 majority',\n '10 members',\n '10 million',\n '10 need',\n '10 offices',\n '10 optimisation',\n '10 participate',\n '10 pounds',\n '10 produce',\n '10 proficient',\n '10 required',\n '10 situations',\n '10 technical',\n '10 time',\n '10 travel',\n '10 universities',\n '10 week',\n '10 weeks',\n '10 years',\n '100',\n '100 000',\n '100 12',\n '100 124',\n '100 200',\n '100 best',\n '100 centralized',\n '100 countries',\n '100 coverage',\n '100 data',\n '100 degrees',\n '100 device',\n '100 employer',\n '100 essential',\n '100 fit',\n '100 huntsville',\n '100 influential',\n '100 languages',\n '100 medical',\n '100 million',\n '100 monthly',\n '100 new',\n '100 outpatient',\n '100 people',\n '100 percent',\n '100 position',\n '100 remote',\n '100 scale',\n '100 staff',\n '100 stores',\n '100 subsidized',\n '100 summary',\n '100 team',\n '100 time',\n '100 world',\n '100 yearly',\n '100 years',\n '1000',\n '1000 alexa',\n '1000 companies',\n '1000 employees',\n '1000 mid',\n '1000 projects',\n '1000 size',\n '1000s',\n '1000s patients',\n '1001',\n '1001 affiliated',\n '1001 welcoming',\n '100m',\n '100m series',\n '100m users',\n '100mm',\n '100mm consumers',\n '100mm records',\n '100s',\n '100s 1000s',\n '100s millions',\n '101',\n '101 000',\n '101 125',\n '102',\n '102 723',\n '103',\n '103 500',\n '109',\n '109 000',\n '109 countries',\n '109 languages',\n '10e8',\n '10e8 datasets',\n '10k',\n '10k 10q',\n '10k tuition',\n '10pm',\n '10pm unavailable',\n '10q',\n '10q ccar',\n '10x',\n '10x productivity',\n '10x years',\n '11',\n '11 05',\n '11 695',\n '11 countries',\n '11 deep',\n '11 hospital',\n '11 months',\n '11 provide',\n '11 role',\n '110k',\n '110k year',\n '115',\n '115 600',\n '117',\n '117 275',\n '117 billion',\n '12',\n '12 000',\n '12 15',\n '12 16',\n '12 23',\n '12 affinity',\n '12 countries',\n '12 experienced',\n '12 fortune',\n '12 highly',\n '12 internal',\n '12 lead',\n '12 month',\n '12 months',\n '12 provide',\n '12 states',\n '12 week',\n '12 weeks',\n '12 years',\n '120',\n '120 15',\n '120 million',\n '124',\n '124 700',\n '125',\n '125 129',\n '125 aws',\n '126',\n '126 800',\n '127',\n '127 fortune',\n '1272',\n '1272 2008',\n '129',\n '129 447',\n '12th',\n '12th 2022',\n '13',\n '13 000',\n '13 week',\n '13 years',\n '130',\n '130 000',\n '130 countries',\n '130 employees',\n '130 rated',\n '130 years',\n '130b',\n '130b annual',\n '1324b',\n '1324b eligible',\n '13485',\n '13485 mdsap',\n '13485 quality',\n '13485 standards',\n '13th',\n '13th september',\n '14',\n '14 000',\n '14 currencies',\n '14 leadership',\n '14 million',\n '14 weeks',\n '140',\n '140 000',\n '140 services',\n '140k',\n '140k range',\n '140m',\n '140m continue',\n '141940',\n '141940 subject',\n '145',\n '145 000',\n '15',\n '15 000',\n '15 2021',\n '15 2022',\n '15 80',\n '15 data',\n '15 domestic',\n '15 interact',\n '15 leverage',\n '15 management',\n '15 million',\n '15 pending',\n '15 pricing',\n '15 required',\n '15 sales',\n '15 technical',\n '15 time',\n '15 years',\n '150',\n '150 consultants',\n '150 countries',\n '150 employees',\n '150 places',\n '150 year',\n '150m',\n '150m calls',\n '151',\n '151 300',\n '151 320',\n '152',\n '152 637',\n '155',\n '155 000',\n '155 900',\n '156',\n '156 1000',\n '15b',\n '15b school',\n '16',\n '16 000',\n '16 2021',\n '16 data',\n '16 leadership',\n '160',\n '160 000',\n '160 billion',\n '164',\n '164 700',\n '1640',\n '1640 x2053',\n '165',\n '165 700',\n '16th',\n '16th august',\n '17',\n '17 2022',\n '17 800',\n '17 languages',\n '170',\n '170 countries',\n '170 years',\n '175',\n '175 countries',\n '18',\n '18 000',\n '18 2022',\n '18 months',\n '18 years',\n '180',\n '180 400',\n '180 countries',\n '180 days',\n '180 markets',\n '180 time',\n '1818',\n '1818 brooks',\n '183',\n '183 500',\n '1848',\n '1848 team',\n '186',\n '186 000',\n '189',\n '189 304',\n '19',\n '19 billion',\n '19 consideration',\n '19 environment',\n '19 eventually',\n '19 help',\n '19 ll',\n '19 morning',\n '19 nba',\n '19 non',\n '19 page',\n '19 pandemic',\n '19 person',\n '19 proof',\n '19 response',\n '19 restrictions',\n '19 situation',\n '19 specific',\n '19 successful',\n '19 unless',\n '19 unvaccinated',\n '19 vaccination',\n '19 vaccine',\n '19 vaccines',\n '19 work',\n '190',\n '190 chapters',\n '190 countries',\n '190 global',\n '1927',\n '1927 envisioning',\n '1938',\n '1938 topps',\n '194',\n '194 000',\n '1961',\n '1961 help',\n '1972',\n '1972 long',\n '1972 team',\n '1980',\n '1980 defined',\n '1983',\n '1983 meet',\n '1987',\n '1987 huawei',\n '1988',\n '1988 fast',\n '1988 sep',\n '1991',\n '1991 created',\n '1995',\n '1995 taking',\n '1998',\n '1998 headquartered',\n '1999',\n '1999 117',\n '1999 sgs',\n '1b',\n '1b enterprises',\n '1b visa',\n '1billion',\n '1billion people',\n '1m',\n '1m employees',\n '1s',\n '1s directly',\n '1st',\n '1st line',\n '1st party',\n '1st priority',\n '1st shift',\n '1x',\n '1x monthly',\n '20',\n '20 ad',\n '20 areas',\n '20 billion',\n '20 build',\n '20 business',\n '20 collaborate',\n '20 colours',\n '20 communicating',\n '20 consult',\n '20 continuously',\n '20 days',\n '20 develop',\n '20 discount',\n '20 hours',\n '20 perform',\n '20 popular',\n '20 prediction',\n '20 project',\n '20 role',\n '20 select',\n '20 self',\n '20 site',\n '20 supports',\n '20 testing',\n '20 time',\n '20 travel',\n '20 travelling',\n '20 use',\n '20 year',\n '20 years',\n '200',\n '200 analytics',\n '200 base',\n '200 career',\n '200 cities',\n '200 company',\n '200 countries',\n '200 employees',\n '200 engineers',\n '200 locations',\n '200 people',\n '200 salaried',\n '200 years',\n '2000',\n '2000 analytic',\n '2000 global',\n '2002',\n '2002 headquartered',\n '2008',\n '2008 occupational',\n '2010',\n '2010 tapad',\n '2012',\n '2012 passion',\n '2012 quickly',\n '2013',\n '2013 company',\n '2013 goal',\n '2014',\n '2014 database',\n '2015',\n '2015 2021',\n '2015 card',\n '2015 vision',\n '2016',\n '2016 firm',\n '2016 start',\n '2016 welcomed',\n '2017',\n '2017 walmart',\n '2018',\n '2018 familiarity',\n '2018 knowledge',\n '2018 letter',\n '2018 team',\n '2019',\n '2019 2021',\n '2019 bringing',\n '2019 business',\n '2019 evaluate',\n '2019 invested',\n '2019 named',\n '2019 oliver',\n '2020',\n '2020 adding',\n '2020 defines',\n '2020 ecnlp',\n '2020 ghodrat',\n '2020 https',\n '2020 icml',\n '2020 included',\n '2020 launch',\n '2020 marks',\n '2020 medium',\n '2020 mid',\n '2020 moved',\n '2020 named',\n '2020 ranks',\n '2020 report',\n '2020 sales',\n '2020 sellers',\n '2020 teladoc',\n '2020 working',\n '2021',\n '2021 15',\n '2021 2022',\n '2021 apply',\n '2021 august',\n '2021 best',\n '2021 boston',\n '2021 company',\n '2021 draft',\n '2021 glassdoor',\n '2021 great',\n '2021 growing',\n '2021 join',\n '2021 list',\n '2021 note',\n '2021 papers',\n '2021 penn',\n '2021 position',\n '2021 provide',\n '2021 recruiter',\n '2021 review',\n '2021 sequoia',\n '2021 small',\n '2021 spring',\n '2021 time',\n '2021 won',\n '2022',\n '2022 10',\n '2022 11',\n '2022 12',\n '2022 anticipate',\n '2022 applied',\n '2022 basic',\n '2022 ces',\n '2022 come',\n '2022 consider',\n '2022 formulate',\n '2022 implement',\n '2022 incorporate',\n '2022 june',\n '2022 looking',\n '2022 minimum',\n '2022 nice',\n '2022 palo',\n '2022 perform',\n '2022 recruiter',\n '2022 requested',\n '2022 require',\n '2022 responsibilities',\n '2022 robert',\n '2022 run',\n '2022 seeking',\n '2022 software',\n '2022 submit',\n '2024',\n '2024 nice',\n '2025',\n '2025 extract',\n '2025 validate',\n '2030',\n '2030 ambition',\n '2030 digital',\n '2050',\n '2050 available',\n '21',\n '21 000',\n '21 63',\n '21 years',\n '216',\n '216 000',\n '22',\n '22 000',\n '22 120',\n '220',\n '220 countries',\n '222',\n '222 100',\n '23',\n '23 000',\n '23 2021',\n '230',\n '230 200',\n '231',\n '231 100',\n '235',\n '235 000',\n '24',\n '24 2022',\n '24 glassdoor',\n '24 high',\n '24 hours',\n '24 mobile',\n '24 months',\n '24 operations',\n '24 production',\n '24 technical',\n '25',\n '25 000',\n '25 50',\n '25 ability',\n '25 countries',\n '25 data',\n '25 days',\n '25 gather',\n '25 generate',\n '25 information',\n '25 million',\n '25 pounds',\n '25 project',\n '25 solution',\n '25 technical',\n '25 time',\n '25 work',\n '250',\n '250 000',\n '250 communities',\n '250k',\n '250k directors',\n '25lbs',\n '25lbs building',\n '26',\n '26 44',\n '260',\n '260 million',\n '265',\n '265 million',\n '265222',\n '265222 applying',\n '275',\n '275 johnson',\n '275 million',\n '275 salary',\n '277274',\n '277274 applying',\n '28',\n '28 countries',\n '28 online',\n '28f62d40fd17',\n '28f62d40fd17 making',\n '28th',\n '28th consecutive',\n '29',\n '29 days',\n '2d',\n '2d 3d',\n '2d drawings',\n '2d phased',\n '2m',\n '2m including',\n '2nd',\n '2nd priority',\n '2nd watch',\n '2x',\n '2x year',\n '30',\n '30 90',\n '30 areas',\n '30 assess',\n '30 countries',\n '30 cultivating',\n '30 data',\n '30 day',\n '30 days',\n '30 languages',\n '30 million',\n '30 min',\n '30 plan',\n '30 project',\n '30 provide',\n '30 researchers',\n '30 solution',\n '30 train',\n '30 unique',\n '30 use',\n '300',\n '300 00',\n '300 000',\n '300 155',\n '300 employee',\n '300 million',\n '303',\n '303 4654',\n '304',\n '304 50',\n '30am',\n '30am expect',\n '30k',\n '30k foot',\n '30pm',\n '30pm flexibility',\n '31',\n '31 2021',\n '31 million',\n '312c',\n '312c reporting',\n '317',\n '317 843',\n '32',\n '32 000',\n '320',\n '320 starting',\n '340b',\n '340b develops',\n '340b pr',\n '340b rpa',\n '340b team',\n '35',\n '35 40k',\n '35 43',\n '35 million',\n '35 solution',\n '35 technical',\n '350',\n '350 sensor',\n '36',\n '36 million',\n '360',\n '360 machine',\n '360 platform',\n '360 view',\n '360learning',\n '360learning platform',\n '365',\n '365 days',\n '365 drive',\n '365 help',\n '365 salesforce',\n '37',\n '37 hrs',\n '37 position',\n '39',\n '39 divisions',\n '398',\n '398 jpl',\n '398 responsibility',\n '398g',\n '398g provide',\n '3d',\n '3d anylogic',\n '3d computer',\n '3d deep',\n '3d geometries',\n '3d geometry',\n '3d matrices',\n '3d models',\n '3d point',\n '3d scene',\n '3d scenes',\n '3d technologies',\n '3d vision',\n '3d visual',\n '3p',\n '3p create',\n '3rd',\n '3rd parties',\n '3rd party',\n '3rd priority',\n '40',\n '40 000',\n '40 ancestry',\n '40 data',\n '40 hours',\n '40 location',\n '40 nationalities',\n '40 neiman',\n '40 perform',\n '40 work',\n '40 zalando',\n '400',\n '400 annual',\n '400 senior',\n '4000',\n '4000 stores',\n '400m',\n '400m monthly',\n '400m revolving',\n '401',\n '401 company',\n '401 employer',\n '401 immediately',\n '401 long',\n '401 match',\n '401 matching',\n '401 program',\n '401 retirement',\n '401 savings',\n '401 traditional',\n '401 tuition',\n '401 wellness',\n '401k',\n '401k availability',\n '401k company',\n '401k equity',\n '401k flexible',\n '401k match',\n '401k matching',\n '401k plan',\n '401k retirement',\n '401k savings',\n '40k',\n '40k depending',\n '42',\n '42 million',\n '42 states',\n '43',\n '43 years',\n '44',\n '44 hour',\n '4449',\n '4449 ipro',\n '447',\n '447 mid',\n '45',\n '45 000',\n '45 additional',\n '45 countries',\n '45 implement',\n '45 years',\n '450',\n '450 000',\n '4654',\n '4654 mobile',\n '47',\n '47 000',\n '47 customer',\n '48',\n '48 000',\n '4g',\n '4g 5g',\n '4g bi',\n '50',\n '50 000',\n '50 189',\n '50 2021',\n '50 70',\n '50 analysts',\n '50 apply',\n '50 areas',\n '50 billion',\n '50 bioinformatics',\n '50 biologists',\n '50 company',\n '50 data',\n '50 devices',\n '50 engaged',\n '50 fastest',\n '50 improve',\n '50 individual',\n '50 languages',\n '50 loans',\n '50 locations',\n '50 manufacturing',\n '50 percent',\n '50 plus',\n '50 role',\n '50 startups',\n '50 workload',\n '50 years',\n '500',\n '500 000',\n '500 advisors',\n '500 capital',\n '500 clients',\n '500 companies',\n '500 company',\n '500 compensation',\n '500 fastest',\n '500 million',\n '500 plus',\n '500 year',\n '500m',\n '500m records',\n '50billion',\n '50billion globally',\n '50m',\n '50m members',\n '51',\n '51 analytical',\n '51 forecasting',\n '51 platforms',\n '51 realize',\n '512gb',\n '512gb memory',\n '515',\n '515 303',\n '515 771',\n '52',\n '52 provide',\n '53',\n '53 year',\n '53a1764fcdee',\n '53a1764fcdee papers',\n '55',\n '55 solution',\n '550',\n '550 billion',\n '57',\n '57 000',\n '58',\n '58 000',\n '59',\n '59 banners',\n '5a94f42d6bbf01',\n '5a94f42d6bbf01 junior',\n '5g',\n '5g 5g',\n '5g bi',\n '5g connection',\n '5g fixed',\n '5g network',\n '5g networks',\n '5g services',\n '5g systems',\n '5th',\n '5th september',\n '5years',\n '5years large',\n '60',\n '60 000',\n '60 100',\n '60 billion',\n '60 criteria',\n '60 data',\n '60 days',\n '60 loyalty',\n '60 machine',\n '60 years',\n '600',\n '600 230',\n '600 231',\n '600 clubs',\n '600 million',\n '62304',\n '62304 pmda',\n '63',\n '63 000',\n '63 26',\n '63 800',\n '637',\n '637 email',\n '637 make',\n '64',\n '64 languages',\n '65',\n '65 billion',\n '65 cal',\n '65 european',\n '65 years',\n '650',\n '650 employees',\n ...]"
     },
     "execution_count": 14,
     "metadata": {},
     "output_type": "execute_result"
    }
   ],
   "source": [
    "feature_names = vec.get_feature_names()\n",
    "feature_names"
   ],
   "metadata": {
    "collapsed": false,
    "pycharm": {
     "name": "#%%\n"
    }
   }
  },
  {
   "cell_type": "code",
   "execution_count": 15,
   "outputs": [],
   "source": [
    "from gensim import models, matutils"
   ],
   "metadata": {
    "collapsed": false,
    "pycharm": {
     "name": "#%%\n"
    }
   }
  },
  {
   "cell_type": "code",
   "execution_count": 19,
   "outputs": [],
   "source": [
    "term_doc = doc_term.transpose()\n",
    "corpus = matutils.Sparse2Corpus(term_doc)\n",
    "id2word = dict((v, k) for k, v in vec.vocabulary_.items())"
   ],
   "metadata": {
    "collapsed": false,
    "pycharm": {
     "name": "#%%\n"
    }
   }
  },
  {
   "cell_type": "code",
   "execution_count": 21,
   "outputs": [],
   "source": [
    "lda = models.LdaModel(corpus=corpus, num_topics=4, id2word=id2word, passes=25)"
   ],
   "metadata": {
    "collapsed": false,
    "pycharm": {
     "name": "#%%\n"
    }
   }
  },
  {
   "cell_type": "code",
   "execution_count": 22,
   "outputs": [
    {
     "data": {
      "text/plain": "[(0,\n  '0.007*\"learning\" + 0.006*\"machine\" + 0.006*\"machine learning\" + 0.005*\"experience\" + 0.004*\"business\" + 0.003*\"models\" + 0.003*\"team\" + 0.003*\"development\" + 0.003*\"work\" + 0.003*\"science\"'),\n (1,\n  '0.009*\"business\" + 0.005*\"models\" + 0.004*\"analysis\" + 0.004*\"science\" + 0.004*\"analytics\" + 0.004*\"team\" + 0.004*\"data science\" + 0.004*\"work\" + 0.004*\"develop\" + 0.003*\"learning\"'),\n (2,\n  '0.005*\"work\" + 0.004*\"team\" + 0.002*\"learning\" + 0.002*\"business\" + 0.002*\"science\" + 0.002*\"research\" + 0.002*\"help\" + 0.002*\"machine\" + 0.002*\"data science\" + 0.002*\"machine learning\"'),\n (3,\n  '0.005*\"business\" + 0.004*\"models\" + 0.004*\"product\" + 0.004*\"team\" + 0.004*\"science\" + 0.004*\"work\" + 0.004*\"data science\" + 0.003*\"develop\" + 0.003*\"design\" + 0.003*\"teams\"')]"
     },
     "execution_count": 22,
     "metadata": {},
     "output_type": "execute_result"
    }
   ],
   "source": [
    "lda.print_topics()"
   ],
   "metadata": {
    "collapsed": false,
    "pycharm": {
     "name": "#%%\n"
    }
   }
  },
  {
   "cell_type": "code",
   "execution_count": 25,
   "outputs": [
    {
     "data": {
      "text/plain": "[[(1, 0.21473691), (3, 0.7796199)],\n [(0, 0.12633263), (1, 0.8493598), (2, 0.023404198)],\n [(0, 0.7917751), (1, 0.2056288)],\n [(1, 0.15717547), (2, 0.8361357)],\n [(1, 0.24044351), (3, 0.7561417)]]"
     },
     "execution_count": 25,
     "metadata": {},
     "output_type": "execute_result"
    }
   ],
   "source": [
    "doc_topic = [doc for doc in lda[corpus]]\n",
    "doc_topic[0:5]"
   ],
   "metadata": {
    "collapsed": false,
    "pycharm": {
     "name": "#%%\n"
    }
   }
  },
  {
   "cell_type": "code",
   "execution_count": 26,
   "outputs": [
    {
     "data": {
      "text/plain": "'|Build agent-based simulations of smart contracts and blockchain networks using our Python SDK|Design and optimize incentive models for blockchain protocols and help discover potential attack vectors|Contribute to making our simulation model and platform world-class|Build data models and visualizations of public blockchain data and simulation results that provide intuitive analytics to customers|'"
     },
     "execution_count": 26,
     "metadata": {},
     "output_type": "execute_result"
    }
   ],
   "source": [
    "docs[3]"
   ],
   "metadata": {
    "collapsed": false,
    "pycharm": {
     "name": "#%%\n"
    }
   }
  },
  {
   "cell_type": "code",
   "execution_count": 27,
   "outputs": [
    {
     "data": {
      "text/plain": "'|Productionize, launch, and monitor predictive models with high-dimensional, fast-moving real-time datasets.|Design, analyze, and manage both simulated and live experiments (A/B and multivariate tests) to drive KPI improvements.|Lead end-to-end cross functional analytics projects: scope requirements with stakeholders, collect and analyze data, as well as summarize and present key insights in support of critical decision making.|Analysis of large amounts of data to gather insights, identify trends, detect anomalies, develop key KPIs, and feed powerful dashboards and visualizations.|Build new and improve existing ML models by incorporating new sources, developing and testing model improvements, running experiments, and fine tuning parameters.|'"
     },
     "execution_count": 27,
     "metadata": {},
     "output_type": "execute_result"
    }
   ],
   "source": [
    "docs[4]"
   ],
   "metadata": {
    "collapsed": false,
    "pycharm": {
     "name": "#%%\n"
    }
   }
  },
  {
   "cell_type": "code",
   "execution_count": 23,
   "outputs": [],
   "source": [
    "lda_10 = models.LdaModel(corpus=corpus, num_topics=10, id2word=id2word, passes=25)"
   ],
   "metadata": {
    "collapsed": false,
    "pycharm": {
     "name": "#%%\n"
    }
   }
  },
  {
   "cell_type": "code",
   "execution_count": 24,
   "outputs": [
    {
     "data": {
      "text/plain": "[(0,\n  '0.004*\"research\" + 0.003*\"analysis\" + 0.003*\"clinical\" + 0.002*\"position\" + 0.002*\"projects\" + 0.002*\"team\" + 0.002*\"government\" + 0.002*\"support\" + 0.002*\"lowe\" + 0.002*\"health\"'),\n (1,\n  '0.009*\"business\" + 0.004*\"model\" + 0.002*\"supports\" + 0.002*\"techniques\" + 0.002*\"models\" + 0.002*\"analytical\" + 0.002*\"testing\" + 0.002*\"analysis\" + 0.002*\"appropriate\" + 0.002*\"requirements\"'),\n (2,\n  '0.004*\"marketing\" + 0.003*\"model\" + 0.002*\"monitor\" + 0.002*\"accuracy\" + 0.002*\"monitor analyze\" + 0.002*\"company\" + 0.002*\"outcomes\" + 0.002*\"processes tools\" + 0.002*\"tools monitor\" + 0.002*\"data accuracy\"'),\n (3,\n  '0.013*\"business\" + 0.007*\"science\" + 0.006*\"models\" + 0.006*\"team\" + 0.006*\"work\" + 0.006*\"data science\" + 0.005*\"develop\" + 0.005*\"analytics\" + 0.005*\"analysis\" + 0.004*\"solutions\"'),\n (4,\n  '0.002*\"datarobot\" + 0.002*\"customers\" + 0.001*\"critical issues\" + 0.001*\"meet key\" + 0.001*\"issues meet\" + 0.001*\"cost risk\" + 0.001*\"technical criteria\" + 0.001*\"criteria reliability\" + 0.001*\"criteria cost\" + 0.001*\"business criteria\"'),\n (5,\n  '0.001*\"cognitive\" + 0.001*\"sam\" + 0.001*\"club\" + 0.001*\"sam club\" + 0.001*\"design accurate\" + 0.001*\"processing design\" + 0.001*\"structuring downstream\" + 0.001*\"downstream processing\" + 0.001*\"assessing quality\" + 0.001*\"analytics cognitive\"'),\n (6,\n  '0.001*\"kidney\" + 0.001*\"classifiers\" + 0.001*\"create actionable\" + 0.001*\"kidney care\" + 0.001*\"classifiers using\" + 0.001*\"disparity\" + 0.001*\"procedures include\" + 0.001*\"route\" + 0.001*\"include information\" + 0.001*\"bring fresh\"'),\n (7,\n  '0.006*\"model\" + 0.003*\"processes\" + 0.003*\"statistical\" + 0.003*\"analyze\" + 0.002*\"building\" + 0.002*\"work\" + 0.002*\"models\" + 0.002*\"model building\" + 0.002*\"techniques\" + 0.002*\"learning\"'),\n (8,\n  '0.003*\"work\" + 0.003*\"life\" + 0.003*\"amazon\" + 0.002*\"balance\" + 0.002*\"culture\" + 0.002*\"opportunity\" + 0.002*\"trustpilot\" + 0.002*\"employees\" + 0.002*\"equal\" + 0.002*\"career growth\"'),\n (9,\n  '0.014*\"learning\" + 0.011*\"machine\" + 0.011*\"machine learning\" + 0.006*\"team\" + 0.006*\"models\" + 0.006*\"ml\" + 0.005*\"work\" + 0.005*\"software\" + 0.005*\"experience\" + 0.004*\"design\"')]"
     },
     "execution_count": 24,
     "metadata": {},
     "output_type": "execute_result"
    }
   ],
   "source": [
    "lda_10.print_topics()"
   ],
   "metadata": {
    "collapsed": false,
    "pycharm": {
     "name": "#%%\n"
    }
   }
  }
 ],
 "metadata": {
  "kernelspec": {
   "display_name": "Python 3",
   "language": "python",
   "name": "python3"
  },
  "language_info": {
   "codemirror_mode": {
    "name": "ipython",
    "version": 2
   },
   "file_extension": ".py",
   "mimetype": "text/x-python",
   "name": "python",
   "nbconvert_exporter": "python",
   "pygments_lexer": "ipython2",
   "version": "2.7.6"
  }
 },
 "nbformat": 4,
 "nbformat_minor": 0
}