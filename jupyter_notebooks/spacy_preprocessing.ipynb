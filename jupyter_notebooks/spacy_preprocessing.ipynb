{
 "cells": [
  {
   "cell_type": "code",
   "execution_count": 22,
   "metadata": {
    "collapsed": true
   },
   "outputs": [],
   "source": [
    "import pandas as pd\n",
    "import spacy\n",
    "import pickle"
   ]
  },
  {
   "cell_type": "code",
   "execution_count": 7,
   "outputs": [
    {
     "name": "stdout",
     "output_type": "stream",
     "text": [
      "Requirement already satisfied: spacy-transformers in /Users/william.bell/opt/anaconda3/envs/metis/lib/python3.8/site-packages (1.0.6)\r\n",
      "Requirement already satisfied: spacy-alignments<1.0.0,>=0.7.2 in /Users/william.bell/opt/anaconda3/envs/metis/lib/python3.8/site-packages (from spacy-transformers) (0.8.4)\r\n",
      "Requirement already satisfied: spacy<4.0.0,>=3.1.0 in /Users/william.bell/opt/anaconda3/envs/metis/lib/python3.8/site-packages (from spacy-transformers) (3.1.1)\r\n",
      "Requirement already satisfied: torch>=1.5.0 in /Users/william.bell/opt/anaconda3/envs/metis/lib/python3.8/site-packages (from spacy-transformers) (1.10.2)\r\n",
      "Requirement already satisfied: srsly<3.0.0,>=2.4.0 in /Users/william.bell/opt/anaconda3/envs/metis/lib/python3.8/site-packages (from spacy-transformers) (2.4.1)\r\n",
      "Requirement already satisfied: transformers<4.10.0,>=3.4.0 in /Users/william.bell/opt/anaconda3/envs/metis/lib/python3.8/site-packages (from spacy-transformers) (4.9.2)\r\n",
      "Requirement already satisfied: typer<0.4.0,>=0.3.0 in /Users/william.bell/opt/anaconda3/envs/metis/lib/python3.8/site-packages (from spacy<4.0.0,>=3.1.0->spacy-transformers) (0.3.2)\r\n",
      "Requirement already satisfied: catalogue<2.1.0,>=2.0.4 in /Users/william.bell/opt/anaconda3/envs/metis/lib/python3.8/site-packages (from spacy<4.0.0,>=3.1.0->spacy-transformers) (2.0.5)\r\n",
      "Requirement already satisfied: setuptools in /Users/william.bell/opt/anaconda3/envs/metis/lib/python3.8/site-packages (from spacy<4.0.0,>=3.1.0->spacy-transformers) (59.8.0)\r\n",
      "Requirement already satisfied: murmurhash<1.1.0,>=0.28.0 in /Users/william.bell/opt/anaconda3/envs/metis/lib/python3.8/site-packages (from spacy<4.0.0,>=3.1.0->spacy-transformers) (1.0.5)\r\n",
      "Requirement already satisfied: packaging>=20.0 in /Users/william.bell/opt/anaconda3/envs/metis/lib/python3.8/site-packages (from spacy<4.0.0,>=3.1.0->spacy-transformers) (21.0)\r\n",
      "Requirement already satisfied: spacy-legacy<3.1.0,>=3.0.7 in /Users/william.bell/opt/anaconda3/envs/metis/lib/python3.8/site-packages (from spacy<4.0.0,>=3.1.0->spacy-transformers) (3.0.8)\r\n",
      "Requirement already satisfied: blis<0.8.0,>=0.4.0 in /Users/william.bell/opt/anaconda3/envs/metis/lib/python3.8/site-packages (from spacy<4.0.0,>=3.1.0->spacy-transformers) (0.7.4)\r\n",
      "Requirement already satisfied: requests<3.0.0,>=2.13.0 in /Users/william.bell/opt/anaconda3/envs/metis/lib/python3.8/site-packages (from spacy<4.0.0,>=3.1.0->spacy-transformers) (2.26.0)\r\n",
      "Requirement already satisfied: pydantic!=1.8,!=1.8.1,<1.9.0,>=1.7.4 in /Users/william.bell/opt/anaconda3/envs/metis/lib/python3.8/site-packages (from spacy<4.0.0,>=3.1.0->spacy-transformers) (1.8.2)\r\n",
      "Requirement already satisfied: jinja2 in /Users/william.bell/opt/anaconda3/envs/metis/lib/python3.8/site-packages (from spacy<4.0.0,>=3.1.0->spacy-transformers) (3.0.1)\r\n",
      "Requirement already satisfied: thinc<8.1.0,>=8.0.8 in /Users/william.bell/opt/anaconda3/envs/metis/lib/python3.8/site-packages (from spacy<4.0.0,>=3.1.0->spacy-transformers) (8.0.8)\r\n",
      "Requirement already satisfied: numpy>=1.15.0 in /Users/william.bell/opt/anaconda3/envs/metis/lib/python3.8/site-packages (from spacy<4.0.0,>=3.1.0->spacy-transformers) (1.22.2)\r\n",
      "Requirement already satisfied: cymem<2.1.0,>=2.0.2 in /Users/william.bell/opt/anaconda3/envs/metis/lib/python3.8/site-packages (from spacy<4.0.0,>=3.1.0->spacy-transformers) (2.0.5)\r\n",
      "Requirement already satisfied: preshed<3.1.0,>=3.0.2 in /Users/william.bell/opt/anaconda3/envs/metis/lib/python3.8/site-packages (from spacy<4.0.0,>=3.1.0->spacy-transformers) (3.0.5)\r\n",
      "Requirement already satisfied: wasabi<1.1.0,>=0.8.1 in /Users/william.bell/opt/anaconda3/envs/metis/lib/python3.8/site-packages (from spacy<4.0.0,>=3.1.0->spacy-transformers) (0.8.2)\r\n",
      "Requirement already satisfied: tqdm<5.0.0,>=4.38.0 in /Users/william.bell/opt/anaconda3/envs/metis/lib/python3.8/site-packages (from spacy<4.0.0,>=3.1.0->spacy-transformers) (4.62.3)\r\n",
      "Requirement already satisfied: pathy>=0.3.5 in /Users/william.bell/opt/anaconda3/envs/metis/lib/python3.8/site-packages (from spacy<4.0.0,>=3.1.0->spacy-transformers) (0.6.0)\r\n",
      "Requirement already satisfied: typing-extensions in /Users/william.bell/opt/anaconda3/envs/metis/lib/python3.8/site-packages (from torch>=1.5.0->spacy-transformers) (3.10.0.0)\r\n",
      "Requirement already satisfied: pyyaml>=5.1 in /Users/william.bell/opt/anaconda3/envs/metis/lib/python3.8/site-packages (from transformers<4.10.0,>=3.4.0->spacy-transformers) (5.4.1)\r\n",
      "Requirement already satisfied: sacremoses in /Users/william.bell/opt/anaconda3/envs/metis/lib/python3.8/site-packages (from transformers<4.10.0,>=3.4.0->spacy-transformers) (0.0.47)\r\n",
      "Requirement already satisfied: tokenizers<0.11,>=0.10.1 in /Users/william.bell/opt/anaconda3/envs/metis/lib/python3.8/site-packages (from transformers<4.10.0,>=3.4.0->spacy-transformers) (0.10.3)\r\n",
      "Requirement already satisfied: huggingface-hub==0.0.12 in /Users/william.bell/opt/anaconda3/envs/metis/lib/python3.8/site-packages (from transformers<4.10.0,>=3.4.0->spacy-transformers) (0.0.12)\r\n",
      "Requirement already satisfied: filelock in /Users/william.bell/opt/anaconda3/envs/metis/lib/python3.8/site-packages (from transformers<4.10.0,>=3.4.0->spacy-transformers) (3.6.0)\r\n",
      "Requirement already satisfied: regex!=2019.12.17 in /Users/william.bell/opt/anaconda3/envs/metis/lib/python3.8/site-packages (from transformers<4.10.0,>=3.4.0->spacy-transformers) (2021.8.21)\r\n",
      "Requirement already satisfied: pyparsing>=2.0.2 in /Users/william.bell/opt/anaconda3/envs/metis/lib/python3.8/site-packages (from packaging>=20.0->spacy<4.0.0,>=3.1.0->spacy-transformers) (2.4.7)\r\n",
      "Requirement already satisfied: smart-open<6.0.0,>=5.0.0 in /Users/william.bell/opt/anaconda3/envs/metis/lib/python3.8/site-packages (from pathy>=0.3.5->spacy<4.0.0,>=3.1.0->spacy-transformers) (5.2.0)\r\n",
      "Requirement already satisfied: urllib3<1.27,>=1.21.1 in /Users/william.bell/opt/anaconda3/envs/metis/lib/python3.8/site-packages (from requests<3.0.0,>=2.13.0->spacy<4.0.0,>=3.1.0->spacy-transformers) (1.26.6)\r\n",
      "Requirement already satisfied: idna<4,>=2.5 in /Users/william.bell/opt/anaconda3/envs/metis/lib/python3.8/site-packages (from requests<3.0.0,>=2.13.0->spacy<4.0.0,>=3.1.0->spacy-transformers) (3.1)\r\n",
      "Requirement already satisfied: charset-normalizer~=2.0.0 in /Users/william.bell/opt/anaconda3/envs/metis/lib/python3.8/site-packages (from requests<3.0.0,>=2.13.0->spacy<4.0.0,>=3.1.0->spacy-transformers) (2.0.0)\r\n",
      "Requirement already satisfied: certifi>=2017.4.17 in /Users/william.bell/opt/anaconda3/envs/metis/lib/python3.8/site-packages (from requests<3.0.0,>=2.13.0->spacy<4.0.0,>=3.1.0->spacy-transformers) (2021.10.8)\r\n",
      "Requirement already satisfied: click<7.2.0,>=7.1.1 in /Users/william.bell/opt/anaconda3/envs/metis/lib/python3.8/site-packages (from typer<0.4.0,>=0.3.0->spacy<4.0.0,>=3.1.0->spacy-transformers) (7.1.2)\r\n",
      "Requirement already satisfied: MarkupSafe>=2.0 in /Users/william.bell/opt/anaconda3/envs/metis/lib/python3.8/site-packages (from jinja2->spacy<4.0.0,>=3.1.0->spacy-transformers) (2.0.1)\r\n",
      "Requirement already satisfied: six in /Users/william.bell/opt/anaconda3/envs/metis/lib/python3.8/site-packages (from sacremoses->transformers<4.10.0,>=3.4.0->spacy-transformers) (1.16.0)\r\n",
      "Requirement already satisfied: joblib in /Users/william.bell/opt/anaconda3/envs/metis/lib/python3.8/site-packages (from sacremoses->transformers<4.10.0,>=3.4.0->spacy-transformers) (1.1.0)\r\n"
     ]
    }
   ],
   "source": [
    "!pip install spacy-transformers"
   ],
   "metadata": {
    "collapsed": false,
    "pycharm": {
     "name": "#%%\n"
    }
   }
  },
  {
   "cell_type": "code",
   "execution_count": 25,
   "outputs": [
    {
     "ename": "OSError",
     "evalue": "[E050] Can't find model 'en_core_web_sm'. It doesn't seem to be a Python package or a valid path to a data directory.",
     "output_type": "error",
     "traceback": [
      "\u001B[0;31m---------------------------------------------------------------------------\u001B[0m",
      "\u001B[0;31mOSError\u001B[0m                                   Traceback (most recent call last)",
      "\u001B[0;32m/var/folders/gv/fxn0dfyn3tq8kbwhbp0k2b9jzdvpm1/T/ipykernel_3049/598773747.py\u001B[0m in \u001B[0;36m<module>\u001B[0;34m\u001B[0m\n\u001B[1;32m      1\u001B[0m \u001B[0mnlp\u001B[0m \u001B[0;34m=\u001B[0m \u001B[0mspacy\u001B[0m\u001B[0;34m.\u001B[0m\u001B[0mload\u001B[0m\u001B[0;34m(\u001B[0m\u001B[0;34m\"en_core_web_trf\"\u001B[0m\u001B[0;34m)\u001B[0m\u001B[0;34m\u001B[0m\u001B[0;34m\u001B[0m\u001B[0m\n\u001B[0;32m----> 2\u001B[0;31m \u001B[0mnlp\u001B[0m \u001B[0;34m=\u001B[0m \u001B[0mspacy\u001B[0m\u001B[0;34m.\u001B[0m\u001B[0mload\u001B[0m\u001B[0;34m(\u001B[0m\u001B[0;34m'en_core_web_sm'\u001B[0m\u001B[0;34m)\u001B[0m\u001B[0;34m\u001B[0m\u001B[0;34m\u001B[0m\u001B[0m\n\u001B[0m",
      "\u001B[0;32m~/opt/anaconda3/envs/metis/lib/python3.8/site-packages/spacy/__init__.py\u001B[0m in \u001B[0;36mload\u001B[0;34m(name, vocab, disable, exclude, config)\u001B[0m\n\u001B[1;32m     49\u001B[0m     \u001B[0mRETURNS\u001B[0m \u001B[0;34m(\u001B[0m\u001B[0mLanguage\u001B[0m\u001B[0;34m)\u001B[0m\u001B[0;34m:\u001B[0m \u001B[0mThe\u001B[0m \u001B[0mloaded\u001B[0m \u001B[0mnlp\u001B[0m \u001B[0mobject\u001B[0m\u001B[0;34m.\u001B[0m\u001B[0;34m\u001B[0m\u001B[0;34m\u001B[0m\u001B[0m\n\u001B[1;32m     50\u001B[0m     \"\"\"\n\u001B[0;32m---> 51\u001B[0;31m     return util.load_model(\n\u001B[0m\u001B[1;32m     52\u001B[0m         \u001B[0mname\u001B[0m\u001B[0;34m,\u001B[0m \u001B[0mvocab\u001B[0m\u001B[0;34m=\u001B[0m\u001B[0mvocab\u001B[0m\u001B[0;34m,\u001B[0m \u001B[0mdisable\u001B[0m\u001B[0;34m=\u001B[0m\u001B[0mdisable\u001B[0m\u001B[0;34m,\u001B[0m \u001B[0mexclude\u001B[0m\u001B[0;34m=\u001B[0m\u001B[0mexclude\u001B[0m\u001B[0;34m,\u001B[0m \u001B[0mconfig\u001B[0m\u001B[0;34m=\u001B[0m\u001B[0mconfig\u001B[0m\u001B[0;34m\u001B[0m\u001B[0;34m\u001B[0m\u001B[0m\n\u001B[1;32m     53\u001B[0m     )\n",
      "\u001B[0;32m~/opt/anaconda3/envs/metis/lib/python3.8/site-packages/spacy/util.py\u001B[0m in \u001B[0;36mload_model\u001B[0;34m(name, vocab, disable, exclude, config)\u001B[0m\n\u001B[1;32m    329\u001B[0m     \u001B[0;32mif\u001B[0m \u001B[0mname\u001B[0m \u001B[0;32min\u001B[0m \u001B[0mOLD_MODEL_SHORTCUTS\u001B[0m\u001B[0;34m:\u001B[0m\u001B[0;34m\u001B[0m\u001B[0;34m\u001B[0m\u001B[0m\n\u001B[1;32m    330\u001B[0m         \u001B[0;32mraise\u001B[0m \u001B[0mIOError\u001B[0m\u001B[0;34m(\u001B[0m\u001B[0mErrors\u001B[0m\u001B[0;34m.\u001B[0m\u001B[0mE941\u001B[0m\u001B[0;34m.\u001B[0m\u001B[0mformat\u001B[0m\u001B[0;34m(\u001B[0m\u001B[0mname\u001B[0m\u001B[0;34m=\u001B[0m\u001B[0mname\u001B[0m\u001B[0;34m,\u001B[0m \u001B[0mfull\u001B[0m\u001B[0;34m=\u001B[0m\u001B[0mOLD_MODEL_SHORTCUTS\u001B[0m\u001B[0;34m[\u001B[0m\u001B[0mname\u001B[0m\u001B[0;34m]\u001B[0m\u001B[0;34m)\u001B[0m\u001B[0;34m)\u001B[0m\u001B[0;34m\u001B[0m\u001B[0;34m\u001B[0m\u001B[0m\n\u001B[0;32m--> 331\u001B[0;31m     \u001B[0;32mraise\u001B[0m \u001B[0mIOError\u001B[0m\u001B[0;34m(\u001B[0m\u001B[0mErrors\u001B[0m\u001B[0;34m.\u001B[0m\u001B[0mE050\u001B[0m\u001B[0;34m.\u001B[0m\u001B[0mformat\u001B[0m\u001B[0;34m(\u001B[0m\u001B[0mname\u001B[0m\u001B[0;34m=\u001B[0m\u001B[0mname\u001B[0m\u001B[0;34m)\u001B[0m\u001B[0;34m)\u001B[0m\u001B[0;34m\u001B[0m\u001B[0;34m\u001B[0m\u001B[0m\n\u001B[0m\u001B[1;32m    332\u001B[0m \u001B[0;34m\u001B[0m\u001B[0m\n\u001B[1;32m    333\u001B[0m \u001B[0;34m\u001B[0m\u001B[0m\n",
      "\u001B[0;31mOSError\u001B[0m: [E050] Can't find model 'en_core_web_sm'. It doesn't seem to be a Python package or a valid path to a data directory."
     ]
    }
   ],
   "source": [
    "# nlp = spacy.load(\"en_core_web_trf\")\n",
    "nlp = spacy.load('en_core_web_sm')"
   ],
   "metadata": {
    "collapsed": false,
    "pycharm": {
     "name": "#%%\n"
    }
   }
  },
  {
   "cell_type": "code",
   "execution_count": 7,
   "outputs": [
    {
     "data": {
      "text/plain": "                                             responsibilities           title  \\\n2908496770  : • Design and implement ML methods on proprie...  Data Scientist   \n2911267267  : • Provide consultative support as and when r...  Data Scientist   \n2912844894  : Support Data and Analytics team through deve...  Data Scientist   \n2911205495   Build agent-based simulations of smart contra...  Data Scientist   \n2912480226   Productionize, launch, and monitor predictive...  Data Scientist   \n\n                                                  description  \\\n2908496770  <html><body><div class=\"description__text desc...   \n2911267267  <html><body><div class=\"description__text desc...   \n2912844894  <html><body><div class=\"description__text desc...   \n2911205495  <html><body><div class=\"description__text desc...   \n2912480226  <html><body><div class=\"description__text desc...   \n\n                companyName                location   level  \n2908496770  Data Revolution  San Francisco Bay Area  senior  \n2911267267       TrueSkilla           United States  senior  \n2912844894   Project Canary              Denver, CO     mid  \n2911205495         Gauntlet           United States     mid  \n2912480226            Miles        Redwood City, CA     mid  ",
      "text/html": "<div>\n<style scoped>\n    .dataframe tbody tr th:only-of-type {\n        vertical-align: middle;\n    }\n\n    .dataframe tbody tr th {\n        vertical-align: top;\n    }\n\n    .dataframe thead th {\n        text-align: right;\n    }\n</style>\n<table border=\"1\" class=\"dataframe\">\n  <thead>\n    <tr style=\"text-align: right;\">\n      <th></th>\n      <th>responsibilities</th>\n      <th>title</th>\n      <th>description</th>\n      <th>companyName</th>\n      <th>location</th>\n      <th>level</th>\n    </tr>\n  </thead>\n  <tbody>\n    <tr>\n      <th>2908496770</th>\n      <td>: • Design and implement ML methods on proprie...</td>\n      <td>Data Scientist</td>\n      <td>&lt;html&gt;&lt;body&gt;&lt;div class=\"description__text desc...</td>\n      <td>Data Revolution</td>\n      <td>San Francisco Bay Area</td>\n      <td>senior</td>\n    </tr>\n    <tr>\n      <th>2911267267</th>\n      <td>: • Provide consultative support as and when r...</td>\n      <td>Data Scientist</td>\n      <td>&lt;html&gt;&lt;body&gt;&lt;div class=\"description__text desc...</td>\n      <td>TrueSkilla</td>\n      <td>United States</td>\n      <td>senior</td>\n    </tr>\n    <tr>\n      <th>2912844894</th>\n      <td>: Support Data and Analytics team through deve...</td>\n      <td>Data Scientist</td>\n      <td>&lt;html&gt;&lt;body&gt;&lt;div class=\"description__text desc...</td>\n      <td>Project Canary</td>\n      <td>Denver, CO</td>\n      <td>mid</td>\n    </tr>\n    <tr>\n      <th>2911205495</th>\n      <td>Build agent-based simulations of smart contra...</td>\n      <td>Data Scientist</td>\n      <td>&lt;html&gt;&lt;body&gt;&lt;div class=\"description__text desc...</td>\n      <td>Gauntlet</td>\n      <td>United States</td>\n      <td>mid</td>\n    </tr>\n    <tr>\n      <th>2912480226</th>\n      <td>Productionize, launch, and monitor predictive...</td>\n      <td>Data Scientist</td>\n      <td>&lt;html&gt;&lt;body&gt;&lt;div class=\"description__text desc...</td>\n      <td>Miles</td>\n      <td>Redwood City, CA</td>\n      <td>mid</td>\n    </tr>\n  </tbody>\n</table>\n</div>"
     },
     "execution_count": 7,
     "metadata": {},
     "output_type": "execute_result"
    }
   ],
   "source": [
    "df = pd.read_pickle(\"./big_job_df.pickle\")\n",
    "df.head()"
   ],
   "metadata": {
    "collapsed": false,
    "pycharm": {
     "name": "#%%\n"
    }
   }
  },
  {
   "cell_type": "code",
   "execution_count": 26,
   "outputs": [
    {
     "data": {
      "text/plain": "['transformer', 'tagger', 'parser', 'attribute_ruler', 'lemmatizer', 'ner']"
     },
     "execution_count": 26,
     "metadata": {},
     "output_type": "execute_result"
    }
   ],
   "source": [
    "nlp.pipe_names"
   ],
   "metadata": {
    "collapsed": false,
    "pycharm": {
     "name": "#%%\n"
    }
   }
  },
  {
   "cell_type": "code",
   "execution_count": 27,
   "outputs": [],
   "source": [
    "docs = list(nlp.pipe(df.responsibilities, disable=[\"parser\"]))"
   ],
   "metadata": {
    "collapsed": false,
    "pycharm": {
     "name": "#%%\n"
    }
   }
  },
  {
   "cell_type": "code",
   "execution_count": 28,
   "outputs": [],
   "source": [
    "df['spacy_doc_sm'] = docs"
   ],
   "metadata": {
    "collapsed": false,
    "pycharm": {
     "name": "#%%\n"
    }
   }
  },
  {
   "cell_type": "code",
   "execution_count": 29,
   "outputs": [
    {
     "data": {
      "text/plain": "                                             responsibilities           title  \\\n2908496770  : • Design and implement ML methods on proprie...  Data Scientist   \n2911267267  : • Provide consultative support as and when r...  Data Scientist   \n2912844894  : Support Data and Analytics team through deve...  Data Scientist   \n2911205495   Build agent-based simulations of smart contra...  Data Scientist   \n2912480226   Productionize, launch, and monitor predictive...  Data Scientist   \n\n                                                  description  \\\n2908496770  <html><body><div class=\"description__text desc...   \n2911267267  <html><body><div class=\"description__text desc...   \n2912844894  <html><body><div class=\"description__text desc...   \n2911205495  <html><body><div class=\"description__text desc...   \n2912480226  <html><body><div class=\"description__text desc...   \n\n                companyName                location   level  \\\n2908496770  Data Revolution  San Francisco Bay Area  senior   \n2911267267       TrueSkilla           United States  senior   \n2912844894   Project Canary              Denver, CO     mid   \n2911205495         Gauntlet           United States     mid   \n2912480226            Miles        Redwood City, CA     mid   \n\n                                                    spacy_doc  \\\n2908496770  (:, •, Design, and, implement, ML, methods, on...   \n2911267267  (:, •, Provide, consultative, support, as, and...   \n2912844894  (:, Support, Data, and, Analytics, team, throu...   \n2911205495  ( , Build, agent, -, based, simulations, of, s...   \n2912480226  ( , Productionize, ,, launch, ,, and, monitor,...   \n\n                                                 spacy_doc_sm  \n2908496770  (:, •, Design, and, implement, ML, methods, on...  \n2911267267  (:, •, Provide, consultative, support, as, and...  \n2912844894  (:, Support, Data, and, Analytics, team, throu...  \n2911205495  ( , Build, agent, -, based, simulations, of, s...  \n2912480226  ( , Productionize, ,, launch, ,, and, monitor,...  ",
      "text/html": "<div>\n<style scoped>\n    .dataframe tbody tr th:only-of-type {\n        vertical-align: middle;\n    }\n\n    .dataframe tbody tr th {\n        vertical-align: top;\n    }\n\n    .dataframe thead th {\n        text-align: right;\n    }\n</style>\n<table border=\"1\" class=\"dataframe\">\n  <thead>\n    <tr style=\"text-align: right;\">\n      <th></th>\n      <th>responsibilities</th>\n      <th>title</th>\n      <th>description</th>\n      <th>companyName</th>\n      <th>location</th>\n      <th>level</th>\n      <th>spacy_doc</th>\n      <th>spacy_doc_sm</th>\n    </tr>\n  </thead>\n  <tbody>\n    <tr>\n      <th>2908496770</th>\n      <td>: • Design and implement ML methods on proprie...</td>\n      <td>Data Scientist</td>\n      <td>&lt;html&gt;&lt;body&gt;&lt;div class=\"description__text desc...</td>\n      <td>Data Revolution</td>\n      <td>San Francisco Bay Area</td>\n      <td>senior</td>\n      <td>(:, •, Design, and, implement, ML, methods, on...</td>\n      <td>(:, •, Design, and, implement, ML, methods, on...</td>\n    </tr>\n    <tr>\n      <th>2911267267</th>\n      <td>: • Provide consultative support as and when r...</td>\n      <td>Data Scientist</td>\n      <td>&lt;html&gt;&lt;body&gt;&lt;div class=\"description__text desc...</td>\n      <td>TrueSkilla</td>\n      <td>United States</td>\n      <td>senior</td>\n      <td>(:, •, Provide, consultative, support, as, and...</td>\n      <td>(:, •, Provide, consultative, support, as, and...</td>\n    </tr>\n    <tr>\n      <th>2912844894</th>\n      <td>: Support Data and Analytics team through deve...</td>\n      <td>Data Scientist</td>\n      <td>&lt;html&gt;&lt;body&gt;&lt;div class=\"description__text desc...</td>\n      <td>Project Canary</td>\n      <td>Denver, CO</td>\n      <td>mid</td>\n      <td>(:, Support, Data, and, Analytics, team, throu...</td>\n      <td>(:, Support, Data, and, Analytics, team, throu...</td>\n    </tr>\n    <tr>\n      <th>2911205495</th>\n      <td>Build agent-based simulations of smart contra...</td>\n      <td>Data Scientist</td>\n      <td>&lt;html&gt;&lt;body&gt;&lt;div class=\"description__text desc...</td>\n      <td>Gauntlet</td>\n      <td>United States</td>\n      <td>mid</td>\n      <td>( , Build, agent, -, based, simulations, of, s...</td>\n      <td>( , Build, agent, -, based, simulations, of, s...</td>\n    </tr>\n    <tr>\n      <th>2912480226</th>\n      <td>Productionize, launch, and monitor predictive...</td>\n      <td>Data Scientist</td>\n      <td>&lt;html&gt;&lt;body&gt;&lt;div class=\"description__text desc...</td>\n      <td>Miles</td>\n      <td>Redwood City, CA</td>\n      <td>mid</td>\n      <td>( , Productionize, ,, launch, ,, and, monitor,...</td>\n      <td>( , Productionize, ,, launch, ,, and, monitor,...</td>\n    </tr>\n  </tbody>\n</table>\n</div>"
     },
     "execution_count": 29,
     "metadata": {},
     "output_type": "execute_result"
    }
   ],
   "source": [
    "df.head()"
   ],
   "metadata": {
    "collapsed": false,
    "pycharm": {
     "name": "#%%\n"
    }
   }
  },
  {
   "cell_type": "code",
   "execution_count": 48,
   "outputs": [
    {
     "data": {
      "text/plain": "'2891285262'"
     },
     "execution_count": 48,
     "metadata": {},
     "output_type": "execute_result"
    }
   ],
   "source": [
    "df.companyName[df.companyName == \"Amazon\"].index[0]"
   ],
   "metadata": {
    "collapsed": false,
    "pycharm": {
     "name": "#%%\n"
    }
   }
  },
  {
   "cell_type": "code",
   "execution_count": 49,
   "outputs": [],
   "source": [
    "df.to_pickle('jobs_with_spacy.pickle')"
   ],
   "metadata": {
    "collapsed": false,
    "pycharm": {
     "name": "#%%\n"
    }
   }
  },
  {
   "cell_type": "code",
   "execution_count": 31,
   "outputs": [
    {
     "data": {
      "text/plain": "[[],\n [\"BE / B. Tech/Master's\", '3-5 years', 'At least 1-3 years', 'first'],\n [],\n [],\n [],\n [],\n ['one', 'Gobel', 'daily'],\n ['Quest Diagnostics'],\n ['third'],\n ['Coursera',\n  'Data Science',\n  'Coursera',\n  'tens of millions',\n  'thousands',\n  'Coursera'],\n ['Research & Development'],\n [],\n [],\n [],\n [],\n ['WhirlWind',\n  '2021',\n  'WhirlWind Technologies',\n  'Suitland',\n  'MD',\n  '3',\n  'Year 1',\n  'weekly',\n  'weekly'],\n [],\n ['Ericsson', 'Ericsson', 'Ericsson', 'Ericsson', 'Ericsson'],\n [],\n ['1st', 'United States of America', 'Truist', 'Truist'],\n [],\n ['daily', 'Jira'],\n ['AECOM', 'one', '47,000'],\n ['Signature'],\n ['Clarkston', 'Clarkston', 'Clarkston', 'day', 'Clarkston', 'Clarkston'],\n ['third'],\n [],\n ['AWS'],\n [],\n ['0-10 pounds'],\n ['AIR',\n  'Data Science and Advanced Analytics',\n  'DSAA',\n  'Arlington',\n  'VA',\n  'AIR',\n  'AIR',\n  'U.S.',\n  'AIR',\n  'AIR'],\n ['Twitch',\n  'millions',\n  'Twitch',\n  'first',\n  '1',\n  '2',\n  'San Francisco',\n  'Seattle',\n  'WA',\n  'Irvine',\n  'CA',\n  'Salt Lake City',\n  'UT'],\n ['Workplace Investing AI Delivery Engineering Chapter', 'AWS', 'Workplace'],\n ['Data Science and Advisory', 'BERA', 'BERA', 'BERA', 'BERA'],\n ['Twitch', 'Twitch', 'Community Experiences', 'Twitch'],\n ['Technology', 'the Fidelity Enterprise'],\n ['50',\n  'State Farm',\n  'annual',\n  'Careers',\n  'State Farm',\n  'State Farm',\n  'First'],\n ['Walmart', 'Mid', '-', 'Mile', 'Last-Mile', 'Walmart'],\n ['McKesson', 'one', 'one', 'one', 'McKesson'],\n [],\n ['Amgen', 'Amgen'],\n [],\n [],\n [],\n ['Limeade', 'Limeade', 'Azure'],\n [],\n ['up to 4 days',\n  'Master’s degree',\n  'one year',\n  'Bachelor’s degree',\n  'five progressive years'],\n ['Corning'],\n ['Every day',\n  'millions',\n  'LinkedIn',\n  'LinkedIn',\n  'LinkedIn',\n  'over 500 million',\n  'LinkedIn',\n  'Sunnyvale',\n  'LinkedIn',\n  'LinkedIn'],\n [],\n ['NBA',\n  'NBA',\n  'NBA',\n  'New York',\n  'New Jersey',\n  'NBA',\n  'NBA',\n  'hundreds of millions',\n  'NBA',\n  'Basketball Operations',\n  'NBA',\n  'NBA',\n  'Game Analytics & Strategy',\n  'Game Analytics & Strategy',\n  'the Game Analytics & Strategy group',\n  'Shiny',\n  'Tableau',\n  '3 - 5 years',\n  \"Bachelor's Degree\",\n  \"Master's Degree\"],\n [],\n [],\n [],\n [],\n ['Analytic Partners Product Team', 'Analytic Partners', 'AP', 'AP'],\n [],\n [],\n [],\n ['one',\n  'Edinburgh',\n  'UK',\n  'London',\n  'UK',\n  'Houston',\n  'USA',\n  'the Innovation and Analytics Lab',\n  'Wood Mackenzie',\n  'five',\n  'work hours'],\n [],\n ['Data Analytics'],\n ['SVB',\n  'nearly forty years',\n  'SVBers',\n  'SVB',\n  'SVB',\n  'SVB',\n  'Silicon Valley Bank',\n  'SVB',\n  'the last 35&#43 years',\n  'Enterprise Business Analytics',\n  'SVB'],\n ['Organization',\n  'at least one',\n  'Organization',\n  'Bachelor’s degree',\n  'Master’s Degree',\n  '1 - 5 years',\n  '1 - 3 years',\n  '1 - 3 years',\n  '1 - 3 years',\n  '1 - 3 years'],\n ['the Business Intelligence Team'],\n [],\n [],\n ['Jupyterhub',\n  'Sanborn',\n  'SciPy',\n  'Scikit-Learn',\n  'Pandas',\n  'NumPy',\n  'Gurobi',\n  'TensorFlow',\n  'Anylogic',\n  'Agile Scrum/Kanban',\n  'Jira',\n  'Confluence',\n  'Teams',\n  'Gitlab',\n  'SageMaker',\n  'Luma',\n  'Pirney Bowes',\n  'PowerBI',\n  'Tableau',\n  'Dash'],\n ['Cigna Commercial'],\n [],\n [],\n ['billions', 'hundreds of millions', 'Meta', 'Meta', 'Meta'],\n ['Sam’s Club',\n  'Walmart, Inc.',\n  'Sam’s Club',\n  'day one',\n  'Sam’s Global Technologies Team',\n  'Sam’s Club',\n  'Sam’s Club'],\n [],\n ['Aloft',\n  'Aloft',\n  'Operations',\n  'Seattle',\n  'WA',\n  'day',\n  '3+ years',\n  'R',\n  'Python',\n  'Google Analytics',\n  'Heap Analytics',\n  'Sisense',\n  'Tableau',\n  'Looker',\n  '30 min',\n  '2-3 hrs',\n  '4%',\n  '90 days',\n  '10',\n  'Peach',\n  'ORCA',\n  'Aloft'],\n [],\n [],\n ['Variant'],\n [],\n ['Neuroscience', 'tens of millions'],\n [],\n ['Deloitte', 'over 15,000', 'GPS Analytics and Cognitive'],\n ['GARD', 'GARD', 'NCATS', 'NIH'],\n ['Humana', 'Regression', 'Random Forest', 'XG'],\n ['the Federal Reserve System', 'the Federal Reserve'],\n ['Lenovo', 'US$60 billion', '180', 'millions', 'every day', 'one'],\n ['Model Ops'],\n ['Metro Transit'],\n ['Spot'],\n [],\n ['8-10', 'Data Clinic'],\n ['Analytics',\n  'Novartis',\n  'Health Authority',\n  'The Novartis Group of Companies'],\n ['Express Decision Science & Analytics',\n  '3',\n  '40%',\n  '20%',\n  '20%',\n  '20%',\n  '100%'],\n [],\n ['Apple News',\n  'the App Store',\n  'the Product and Customer Analytics Team',\n  'Austin',\n  'TX',\n  'App Store'],\n ['daily', 'one'],\n ['AbbVie'],\n ['Amazon Podcasts',\n  'Amazon Music’s',\n  'Amazon',\n  'Amazon Music',\n  'millions',\n  'thousands',\n  'Amazon Music',\n  'Mac',\n  'Echo',\n  'Alexa',\n  'Fire TV',\n  'Amazon Music',\n  'Prime',\n  '2 million',\n  'Amazon Music Unlimited',\n  'more than 75 million',\n  'Amazon Music Unlimited',\n  'more than 75 million',\n  'more than 7 million',\n  'Amazon Music',\n  'Amazon Music',\n  'Twitch',\n  'Amazon Music'],\n [],\n ['NetApp', 'NetApp'],\n [],\n [],\n ['Engineering', 'BS', 'Masters', 'PhD', 'At least a year', 'Python'],\n [],\n ['Medicare', 'Jupyter', 'Spark', 'AWS'],\n ['3-5 years',\n  '1-2 years',\n  '2+ years',\n  'Spark',\n  'Spotfire',\n  'Tableau',\n  'Azure',\n  'Google Cloud',\n  'Talend',\n  'today'],\n ['multi-million marketing investments',\n  'Google',\n  'Facebook',\n  '1%',\n  'Realtor.com',\n  'terabytes',\n  'daily'],\n ['ImageNet',\n  'Transformer',\n  'Seq2Seq',\n  'Oracle Cloud',\n  'Azure',\n  'Heroku',\n  'Pytorch',\n  'Spark',\n  'TensorFlow'],\n [],\n [],\n ['Data at Slice', 'Slice'],\n [],\n ['CCA'],\n [],\n ['Solutions Lab', 'DHG', 'DHG Solutions Lab'],\n [\"Lowe's\", \"Lowe's\", \"Lowe's\", \"Lowe's\", \"Lowe's\", \"Lowe's\", \"Lowe's\"],\n ['a Business Analyst'],\n [],\n ['FIS', 'Masters or PhD'],\n ['Mark Cuban',\n  'Bold Metrics',\n  'over 50',\n  'first',\n  'everyday',\n  'Bold Metrics',\n  'US',\n  'day',\n  '10:30AM.',\n  '2-3',\n  '9-5 everyday',\n  'the evenings'],\n ['Harvard Medical School', 'Northeastern University'],\n ['Solutions',\n  'Solutions',\n  'ClimateAi',\n  'Solutions',\n  'ClimateAi',\n  'ClimateAi',\n  'ClimateAi'],\n [],\n ['Data Science', 'Data Science'],\n ['Amazon', 'first', 'Amazon'],\n ['the Analysis Center',\n  'Wawa',\n  'Insights',\n  'Hadoop',\n  'Hive',\n  'Impala',\n  'Databricks',\n  'Wawa',\n  'Wawa',\n  'Wawa',\n  'Wawa'],\n ['at least 3 years',\n  'Python',\n  'Hive',\n  'JPMorgan Chase & Co.',\n  'one',\n  'millions',\n  'J.P. Morgan',\n  'Chase',\n  'over 200 years',\n  'today',\n  'JPMorgan Chase',\n  '6,200',\n  'post-COVID-19',\n  'COVID',\n  'JPMorgan Chase'],\n [],\n ['the Line of Business'],\n ['Fractal Analytics', 'Fractal', 'Fractalite'],\n ['3 or more years'],\n ['the Data Team'],\n ['BA CoE',\n  'Verizon',\n  'BACOE',\n  'Verizon',\n  'Marketing',\n  'Bill2Cash',\n  'Commercial Finance',\n  'Operations',\n  'Network'],\n ['Los Angeles', 'London'],\n ['EA'],\n ['daily'],\n [],\n ['General Motorshasan',\n  'Analytics Career Evolution',\n  'ACE',\n  'ACE',\n  'general motors',\n  'GM',\n  'today'],\n ['IBM', 'EE&U', 'Spark'],\n ['2+ years', 'Bachelor'],\n [\"State Farm's\",\n  'Property & Casualty Actuarial & Underwriting Modeling Department',\n  'PCM',\n  'State Farm’s',\n  'the PCM Department',\n  'Bloomington',\n  'Atlanta',\n  'Dallas',\n  'Phoenix',\n  'U.S.',\n  'U.S.',\n  'H-1B',\n  'P&C Actuarial & Underwriting Modeling'],\n [],\n ['third', 'Bachelor’s degree', '5+ years', '3 years', 'GGplot2'],\n [],\n ['Life Sciences Leadership Team'],\n [\"Fast Tags—Deliverr's flagship method of dynamically offering low-cost, fast shipping promises to end consumers Improve the value proposition for Deliverr's\",\n  '1-day',\n  'Deliverr'],\n ['month'],\n [],\n [],\n ['AWS'],\n [],\n ['3+ years',\n  'Teladoc Health',\n  'Teladoc Health',\n  'Teladoc Health',\n  'more than 175',\n  'KLAS',\n  '2020',\n  'Teladoc Health',\n  'more than a decade',\n  'Teladoc Health',\n  'Teladoc Health'],\n ['Amazon Devices',\n  'Echo Speakers',\n  'Kindle',\n  'Fire Tablets',\n  'Fire TV',\n  'Blink',\n  'Devices Data Services',\n  'Amazon',\n  'Devices',\n  'Amazon'],\n ['the Association of Public Health Laboratories',\n  'the Council of State and Territorial Epidemiologists',\n  'CDC',\n  'Public Health',\n  'CDPHE',\n  'CDC'],\n ['PwC', 'PwC'],\n ['Roku.com',\n  'Bachelor’s degree',\n  '5+ years',\n  '5+ years',\n  '2+ years',\n  'Optimizely',\n  'Monetate',\n  'Google',\n  'Adobe Analytics',\n  'Tealium'],\n ['Hadoop', 'Spark', 'H2O', 'CDSW', 'daily', 'the Fair Labor Standards Act'],\n [],\n ['PayJoy', 'PayJoy'],\n [],\n ['Recurly', 'Tableau/Looker', 'Recurly'],\n [],\n ['second', 'occasional late hours', 'United States'],\n [],\n ['Walmart', 'Mid', '-', 'Mile', 'Last-Mile', 'Walmart', 'Walmart', 'PhD'],\n ['millions', 'AWS'],\n ['Microsoft Office Suite', '10 years', 'one year', 'U.S.'],\n ['Meta',\n  'Product',\n  'billions',\n  'hundreds of millions',\n  'Meta',\n  'Meta',\n  'Meta'],\n ['Peraton', 'Peraton', 'Every day', 'Section 3.2'],\n ['AWS'],\n ['Riot'],\n ['We’re Excited About You'],\n [],\n [],\n ['2',\n  '30%',\n  '30%',\n  '20%',\n  '20%',\n  'Gitlab',\n  'Bachelor’s degree',\n  'Master’s degree',\n  'Hive',\n  'Impala',\n  'Spark',\n  'Power BI',\n  'MicroStrategy',\n  'Tableau',\n  '3+ years'],\n ['Engineering'],\n ['Teladoc',\n  'Clinical Research and',\n  'Coaching',\n  '2+ years',\n  'MS',\n  'MPH',\n  'PhD',\n  'one',\n  'MLflow',\n  'SageMaker',\n  'Spark',\n  'Teladoc Health',\n  'Teladoc Health',\n  'Teladoc Health',\n  'more than 175',\n  'KLAS',\n  '2020',\n  'Teladoc Health',\n  'more than a decade',\n  'Teladoc Health',\n  'Teladoc Health'],\n ['Micron Technology’s',\n  'Technology and Products Group',\n  'TPG',\n  'Micron',\n  'two',\n  '1',\n  '2',\n  'TPG DS'],\n ['NRG'],\n [],\n ['SHI'],\n ['The Data Strategy and Insights Organization',\n  'Pyspark',\n  'Tensorflow',\n  'PyTorch',\n  'the Open Door Policy',\n  'the Data Strategy and Insights Organization:',\n  'Walmart',\n  'Walmart',\n  'over 265 million',\n  'every week',\n  'Fortune #1',\n  'Walmart',\n  'day one'],\n ['Twitter', 'Twitter', 'Twitter'],\n ['DataRobot', 'DataRobot', 'DataRobot'],\n ['the Analytics Research COE Act'],\n [],\n ['monthly', 'quarterly', '3 year', 'weekly'],\n ['NextEra', 'FPL'],\n ['C&AI',\n  'Microsoft',\n  'Microsoft',\n  'Python',\n  'Hadoop',\n  'Hive',\n  'Pig',\n  'Xbox',\n  'Windows',\n  'Skype for',\n  'Teams',\n  'Microsoft',\n  'Office 365',\n  'Microsoft'],\n ['PNC', 'PNC', 'Credit Risk Management', 'PNC', 'PNC', 'PNC', 'PNC'],\n ['North Star'],\n ['Skai', 'Skai Research', 'Skai', 'Skai'],\n ['Chicago',\n  'Walmart Connect',\n  'Walmart',\n  'Walmart',\n  'Walmart',\n  '95%',\n  'American'],\n ['Bank of America'],\n ['Clipboard Health', 'Clipboard', 'Clipboard Health'],\n ['two'],\n ['Snapchat'],\n [],\n [],\n [],\n ['Vanguard'],\n [],\n ['Theorem', 'the United States', 'the Bay Area', 'New York', 'Los Angeles'],\n [],\n [],\n ['8 years in a row', 'CitiusTech', '2x', 'year'],\n ['Python Spark'],\n ['millions of dollars', 'Glassdoor'],\n ['NextEra', 'FPL'],\n [],\n [],\n [],\n ['Capital',\n  'Accelerator Investments',\n  'Engineering',\n  'Services',\n  'Finance',\n  'Legal',\n  'Executive',\n  'Capital'],\n ['hundreds of millions', 'Helm'],\n ['Amazon', 'Amazon', 'Amazon', 'Retail', 'billions', 'millions', 'daily'],\n ['Coinbase', 'Coinbase'],\n ['Oscar', 'Oscar', 'Oscar', '30', 'Oscar', 'Oscar'],\n [],\n ['Actuarial', 'Underwriting'],\n ['third'],\n [],\n ['Master’s degree',\n  'PhD',\n  'Bachelor',\n  '3+ years',\n  'Shiny',\n  'Tableau',\n  'three weeks',\n  'Redfin',\n  'third',\n  'Redfin',\n  'Equal Employment Opportunity Commission',\n  'Fair Chance Act',\n  'Redfin',\n  'Colorado',\n  '$83,100 - 124,700'],\n ['first', 'B.S.'],\n ['Health Plan'],\n [],\n ['Hershey'],\n [],\n ['IT'],\n [],\n ['American Family Insurance',\n  'American Family Insurance',\n  'American Family Insurance Auto Center of Excellence',\n  'Auto',\n  'the Auto COE',\n  'Data Engineering'],\n ['3rd'],\n ['day'],\n [],\n [],\n ['PNC',\n  'each day',\n  'PNC',\n  'AML/Retail Lending Modeling',\n  'Pittsburgh',\n  'PA',\n  'Cleveland',\n  'OH',\n  'Columbus',\n  'OH',\n  'Chicago',\n  'IL',\n  'Birmingham',\n  'AL',\n  'Houston',\n  'Dallas',\n  'TX',\n  'Atlanta',\n  'GA',\n  'Tempe',\n  'AZ',\n  'Hadoop',\n  'The Successful Candidate',\n  '3 years',\n  'SAS',\n  'SQL',\n  'Teradata',\n  'Tableau'],\n [],\n ['Olive'],\n [],\n ['Peakon'],\n [],\n ['Workday', 'Workday', 'thousands', 'millions'],\n [],\n ['Press Ganey', 'Excel', 'Tableau', 'PG', 'PG'],\n [],\n [],\n ['Kaiser Permanente', 'Kaiser Permanente', 'hourly', 'one year'],\n ['realtor.com', 'North America’s'],\n ['third'],\n ['Arity'],\n [],\n ['as little as an hour',\n  '100 degrees',\n  'Phoenix',\n  'Super Bowl',\n  'Walmart',\n  'Last Mile',\n  'millions',\n  'every year',\n  'hundreds',\n  'Last-Mile',\n  'Walmart',\n  'Walmart',\n  'Equal Opportunity Employer Walmart, Inc.',\n  'Walmart',\n  'over 275\\u202fmillion',\n  'every week',\n  'Walmart',\n  'day one'],\n ['Walmart',\n  'Walmart',\n  'Walmart',\n  'the Data Science Center of Excellence',\n  'DS&I',\n  'One',\n  'the DS COE',\n  'The DS COE'],\n ['Pfizer',\n  'Pfizer',\n  'Clinical Development',\n  'Medical Affairs',\n  'Pfizer',\n  'Pfizer',\n  'Pfizer'],\n ['NTG', 'Sales', 'Operations', 'NTG', 'Data Science & Innovation', 'NTG'],\n ['Amazon', 'Amazon'],\n ['day', 'Analytics'],\n ['Cellino', '2+ days/week', 'Cambridge', 'petabytes', 'Cellino'],\n [],\n [],\n ['Master', 'Walmart', 'Python', '2-5', '6+ months'],\n [],\n [],\n ['Data Engineering'],\n [],\n ['ClearChoice', 'ClearChoice'],\n ['Visa', 'MS Dynamics', 'Visa'],\n ['realtor.com', 'everyday', 'millions', 'realtor.com', 'AWS'],\n ['CJPOST'],\n [],\n [],\n ['three',\n  'J.Crew',\n  'J.Crew Factory',\n  'Madewell',\n  '1',\n  '2',\n  '3',\n  '50%',\n  '30%',\n  '20%'],\n [],\n [],\n ['day'],\n ['Engineering, Product and Design'],\n ['Cox Communications'],\n ['iHeartMedia', 'iHeartMedia'],\n [],\n [],\n ['Archer', 'PhD', '2', 'Python', 'C/', 'Go'],\n ['realtor.com'],\n ['2', 'Buffalo Grove', 'IL', 'Jersey City', 'NJ', 'annual'],\n [],\n [],\n [],\n [],\n ['Instagram', 'Instagram', 'Facebook'],\n ['Wood Mackenzie', 'Verisk', 'everyday', 'Verisk', 'US', 'Canada'],\n [],\n ['Arity', '1-3 years', 'Data Science Research'],\n ['The Kearney Analytics Data Science CoE',\n  'The Kearney Analytics Practice',\n  'the Data Science Center of Excellence',\n  'PowerPoint/Excel',\n  'Kearney',\n  'Kearney',\n  'Kearney',\n  'every day',\n  'Kearney',\n  'first',\n  '5-10 years',\n  'CPLEX',\n  'GAMS',\n  'at least one',\n  'Tableau',\n  'Qlikview',\n  'Atlanta',\n  'Boston',\n  'Chicago',\n  'Dallas',\n  'Detroit',\n  'New York',\n  'San Francisco',\n  'Washington D.C.',\n  'Toronto',\n  'English',\n  'Kearney',\n  'Equal Employment Opportunity And Non-Discrimination Kearney',\n  'every day',\n  'Kearney',\n  'Kearney',\n  'Kearney'],\n [],\n [],\n [],\n ['secondary'],\n ['Earth',\n  'Amazon Devices and Services',\n  'Amazon',\n  'Device Economics',\n  'over 100',\n  'Echo Frames',\n  'Kindle',\n  'Paperwhite',\n  'Blink Video Camera',\n  'the Amazon Smart Plug',\n  'Amazon',\n  'Device Economics',\n  'Amazon Devices and Services',\n  'Dave Limp',\n  'Jeff Bezos'],\n [],\n [],\n [],\n [],\n ['Nordstrom',\n  'Nordstrom',\n  'Nordstrom Rack',\n  'Hautelook',\n  'Trunk Club',\n  '1+ year',\n  'a plus 1+ year',\n  'Teradata',\n  'Presto',\n  'Redshift',\n  '1+ year',\n  '1+ year',\n  'MS',\n  'PhD',\n  'Nordstrom',\n  'US',\n  'AR',\n  'MS',\n  'MT',\n  'NE',\n  'NH',\n  'ND',\n  'SD',\n  'VT',\n  'WV',\n  'WY',\n  'Nordstrom'],\n [],\n [],\n ['QuestBridge',\n  'QuestBridge',\n  'QuestBridge',\n  'Timely',\n  'QuestBridge',\n  'the College Prep Scholars Program',\n  'National College Match'],\n ['Stride Funding',\n  'Stride',\n  'Stride',\n  'every day',\n  'Stride',\n  'Stride',\n  'Stride',\n  'Stride',\n  'daily',\n  'Stride',\n  'Stride',\n  'Stride'],\n [],\n [],\n ['Master’s degree or higher',\n  '3+ years',\n  '2+ yrs',\n  'Python',\n  'Matlab',\n  '1+ yrs',\n  'Bigquery',\n  'Hive',\n  'Impala',\n  'Python',\n  'Jupyter',\n  'TensorFlow',\n  'today'],\n ['Git', 'Sagemaker', 'Airflow', 'Marketing Operation', 'Asana'],\n [],\n ['Dragon', 'between $80,000-$155,000, dependent'],\n [],\n [],\n [],\n ['first',\n  'LogRocket',\n  'LogRocket',\n  'millions',\n  'millions',\n  'daily',\n  'LogRocket',\n  'years',\n  'LogRocket',\n  'LogRocket',\n  'thousands',\n  'LogRocket'],\n ['Integrated Marketing Performance & Analytics', 'Verizon', 'day', 'days'],\n ['Earth',\n  'Amazon Devices and Services',\n  'Amazon',\n  'Device Economics',\n  'over 100',\n  'Echo Frames',\n  'Kindle',\n  'Paperwhite',\n  'Blink Video Camera',\n  'the Amazon Smart Plug',\n  'Amazon',\n  'Device Economics'],\n ['Enterprise Analytics', 'AIA', 'AIA'],\n ['Amazon'],\n [],\n ['ViacomCBS', 'ViacomCBS', 'AWS'],\n ['Verizon', 'Global Network and Technology', 'GN&T'],\n ['one'],\n ['day'],\n [],\n [],\n ['HSS',\n  'U.S. News & World Report',\n  'the Magnet Award for Nursing Excellence',\n  'HSS',\n  'first',\n  'New York City',\n  'HSS',\n  'Data Scientist Hospital for Special Surgery',\n  'HSS',\n  'the Center for Analytics, Modeling, & Performance',\n  'CAMP',\n  'CAMP',\n  'HSS',\n  'CAMP',\n  'decades',\n  'CAMP'],\n ['Walmart Connect', 'Walmart', 'Walmart', 'Walmart', '95%', 'American'],\n [],\n ['daily', 'Bayer'],\n ['ASIC',\n  'Campus',\n  'JPL',\n  'ASIC',\n  'Campus',\n  'JPL',\n  'Campus',\n  'JPL',\n  'ASIC',\n  'ASIC',\n  'ASIC',\n  'ASIC',\n  'ASIC'],\n ['Alexa', 'Alexa', 'Alexa'],\n ['Organization',\n  'Organization',\n  \"Master's Degree\",\n  'Bachelor’s Degree',\n  '3 years',\n  '1 - 3 years',\n  '1 - 3 years',\n  '1 - 3 years',\n  '1 - 3 years',\n  '1 - 3 years',\n  '1 - 3 years',\n  '1 - 3 years',\n  '1 - 3 years',\n  '1 - 3 years'],\n ['BXB Digital', 'CHEP', 'Brambles'],\n ['Sales'],\n ['Walmart',\n  'Merchant Tech Data Science',\n  '4000',\n  'US',\n  'Merch Tech Data Science'],\n ['Tenstorrent', 'Tenstorrent'],\n ['every day'],\n ['Inkiru',\n  '@WalmartLabs',\n  'Walmart Inc.',\n  'Python',\n  'Map/Reduce',\n  'Masters',\n  'PhD',\n  'three years'],\n ['Hadoop/Cloud'],\n ['Juniper'],\n ['Walmart', 'Walmart', 'Walmart', 'Walmart', 'Walmart'],\n [],\n ['1', '2', '3', 'Sisu'],\n ['TikTok', 'XFN', 'ByteDance/TikTok'],\n [],\n [],\n ['LinkedIn'],\n ['each day', 'Nvidia', 'BA / BS', '2+ year', 'Keras', 'PyTorch'],\n [],\n ['RefleXion'],\n ['Cortex',\n  'Walmart',\n  'Siri',\n  'Google',\n  'Me@Walmart',\n  'NLU',\n  'every day',\n  'Vivek Kaul',\n  'Shankara B Subramanya',\n  'Mohammed Samiul Saeef'],\n ['Rain',\n  'PyTorch',\n  'Rain',\n  'Pacific Time Zone',\n  'hours',\n  'the end of Q2 2022',\n  'two days',\n  'three days',\n  'the Bay Area',\n  'Rain'],\n ['Risk Operations'],\n ['Oportun',\n  'billions of dollars',\n  'more than $10 billion',\n  'Oportun',\n  'almost half',\n  'Approximately 50-percent',\n  'Oportun',\n  'FICO®',\n  'Oportun',\n  '905,000',\n  'Oportun',\n  'dozens',\n  'Oportun',\n  'nearly half',\n  'Oportun',\n  'FICO',\n  'third'],\n ['ArgoCD', 'Kustomize', 'Helm', 'Terraform'],\n ['3+ years', '3+ years', 'Tensorflow', 'Pytorch', 'Caffee', 'OpenCV', 'PCL'],\n ['Theorem',\n  'the United States',\n  'the Bay Area',\n  'New York',\n  'Los Angeles',\n  'Theorem',\n  'Theorem',\n  'Theorem',\n  'Theorem'],\n [],\n ['Snowflake'],\n ['Cowbell', 'Cowbell', '5+ years'],\n [],\n ['Data Analytics', 'Cerebras', 'Airflow', 'AWS'],\n ['Walmart',\n  'Merchant Tech Data Science',\n  '4000',\n  'US',\n  'Catalog Data Science',\n  'Walmart',\n  'Walmart'],\n ['Walmart IDC',\n  'Walmart',\n  'a regular day',\n  'Walmart',\n  '260 million',\n  '11,695',\n  '59',\n  '28',\n  '11',\n  'Walmart IDC',\n  'last fiscal year',\n  '~$550 billion',\n  'Walmart',\n  'approximately 2.3 million',\n  'Team Marketing Intelligence',\n  'Walmart Labs',\n  'Bengaluru',\n  'Every Day',\n  'Walmart Labs',\n  'Walmart Labs',\n  'Walmart',\n  'Walmart Labs',\n  'Our Ideal Candidate'],\n [],\n ['AI Research', 'Backend', 'Data Engineering'],\n ['Analytics'],\n ['Mage', 'Mage'],\n ['Spark'],\n ['Walmart',\n  \"Master's Degree\",\n  'Computer Science',\n  '2 year',\n  'at least one',\n  'Python',\n  'C++',\n  'Java',\n  'at least one',\n  'Tensorflow',\n  'Pytorch',\n  'Hadoop',\n  'Hive',\n  'Spark',\n  'Hbase'],\n [],\n [],\n [],\n [],\n ['billions',\n  'tens of millions',\n  'millions',\n  'Fortune',\n  'one',\n  '5+ years',\n  'TensorFlow',\n  'PyTorch',\n  'Spark',\n  'Hadoop',\n  'Ph.D. in'],\n [],\n ['Walmart', 'The Team', 'Walmart', 'Python', 'Walmart'],\n [],\n ['Walmart',\n  'Walmart',\n  '-',\n  'Walmart E',\n  '-',\n  'Wal-Mart',\n  'Yoursquoll',\n  'millions',\n  'Walmart eCommerce',\n  'Yoursquoll',\n  'ifhellip',\n  'Yoursquore'],\n [],\n ['The Store Associate Technology Data Science and Data Engineering',\n  'Each day',\n  'the Store Associate Technology Data Science and Data Engineering Team',\n  'Spark',\n  'PyTorch',\n  'Tensorflow',\n  'Keras'],\n [],\n ['Walmart',\n  'Mid',\n  '-',\n  'Mile',\n  'Last-Mile',\n  'Walmart',\n  'Walmart',\n  'PhD',\n  'Equal Opportunity Employer Walmart, Inc.',\n  'Global Tech',\n  'one',\n  'hundreds of millions',\n  'Walmart Global Tech',\n  '15,000',\n  'Walmart',\n  '2.2 million',\n  'Walmart'],\n ['At least 4 years',\n  '2 years',\n  'PhD',\n  'Hippo',\n  'Hippos',\n  '100%',\n  'BuiltIn',\n  'Inc. Magazine',\n  'Little Hippos Program',\n  '12 weeks',\n  'Hippo Habitat',\n  'Palo Alto',\n  '5-minutes',\n  'Caltrain',\n  'Fridays',\n  'Austin',\n  '5-minute',\n  'weekly',\n  'Irving',\n  'TX',\n  'the “River Walk”.',\n  'Bedminster',\n  'NJ',\n  'Hippo',\n  'Hippo'],\n ['billions',\n  'tens of millions',\n  'millions',\n  'Fortune',\n  'one',\n  '5+ years',\n  'TensorFlow',\n  'PyTorch',\n  'Spark',\n  'Hadoop',\n  'Ph.D. in'],\n ['Turntide', 'Turntide', 'Turntide'],\n [],\n ['the Field Reliability Data Science Team'],\n ['first',\n  'Amazon',\n  'first',\n  'Amazon',\n  'Amazon',\n  'Search',\n  'Amazon.com',\n  'AMZN',\n  'Earth',\n  'Palo Alto',\n  'California',\n  'Basic'],\n [],\n ['the Open Door Policy'],\n [],\n ['At least 4 years',\n  'SQL',\n  'Hippo',\n  'Hippos',\n  '100%',\n  'BuiltIn',\n  'Inc.',\n  'Little Hippos Program',\n  '12 weeks',\n  'Hippo Habitat',\n  'Downtown Palo Alto',\n  '5-minutes',\n  'Caltrain',\n  'BBQ Fridays',\n  'Hippo',\n  'Hippo'],\n [],\n [],\n ['the Open Door Policy'],\n [],\n ['Forbes',\n  'Fintech',\n  '50',\n  '2021',\n  'Glassdoor',\n  '2021',\n  'Inc.',\n  '2021',\n  'TIME',\n  '100',\n  '2021'],\n ['Zoom', 'Zoom', 'Research', 'Research'],\n ['FFN'],\n [],\n ['Uber',\n  'Michelangelo',\n  'Uber',\n  'Michelangelo',\n  'Uber',\n  'Uber',\n  'Michelangelo Michelangelo',\n  'Uber',\n  'Uber',\n  'Uber'],\n ['Walmart',\n  'Walmart',\n  'millions',\n  'thousands',\n  'Walmart',\n  'terabytes of customer data',\n  'Walmart'],\n ['Life at Now',\n  'ServiceNow',\n  'The Advanced Technology Group',\n  'ServiceNow',\n  '7000',\n  'day'],\n ['billions',\n  'tens of millions',\n  'millions',\n  'Fortune',\n  'one',\n  '3 + years',\n  'TensorFlow',\n  'PyTorch',\n  'Spark',\n  'Hadoop',\n  'Ph.D. in'],\n [],\n ['VMware', 'today', 'VMware', 'VMware', 'VMware'],\n [],\n ['WeRide.ai'],\n [],\n ['millions'],\n [],\n ['PayPal'],\n ['GGplot',\n  'Matplotlib',\n  'Ploty',\n  'Tableau',\n  'PowerBI',\n  'two or more',\n  'SQL',\n  'C++',\n  'the Open Door Policy',\n  'Live our Values Culture Champion',\n  'Walmart',\n  'Walmart',\n  'first',\n  'Collaboration & Influence'],\n ['Algen'],\n ['Python'],\n ['Milpitas', 'California', 'Singapore'],\n ['Turntide', 'Turntide', 'Turntide'],\n [],\n ['C++',\n  'Python',\n  'GGplot',\n  'Matplotlib',\n  'Ploty',\n  'Tableau',\n  'PowerBI',\n  'two or more',\n  'the Open Door Policy',\n  'Live our Values Culture Champion',\n  'Walmart',\n  'Walmart',\n  'first'],\n ['China'],\n ['Dojo',\n  'Tesla',\n  'Pytorch',\n  'Tesla',\n  'Dojo',\n  'Tesla',\n  'Autopilot SW',\n  'Pytorch',\n  'Dojo',\n  'Dojo'],\n [],\n ['the C3 AI Suite', 'C3 AI', 'the C3 AI Suite', 'the C3 AI Suite', 'C3 AI'],\n [],\n ['daily', 'Bachelor’s degree', 'MS', '5-7+ years', '3-5+ years'],\n ['OPORTUN',\n  'Oportun',\n  'Oportun',\n  'Oportun',\n  'Oportun',\n  'dozens',\n  'Oportun',\n  'nearly half',\n  'Oportun',\n  'FICO',\n  'third'],\n ['Walmart',\n  'Omni-Channel Supply Chain',\n  'Walmart',\n  'Wal-Mart',\n  'Logistics',\n  'DCs',\n  'five-year'],\n ['12-week', 'between May - September 2022', 'Palo Alto', 'California'],\n ['Oculus', 'Portal'],\n ['years', 'Amazon', 'Norwegian'],\n ['first',\n  'Amazon Search',\n  'first',\n  'Amazon',\n  'a ton',\n  'AMZN',\n  'Earth',\n  'Palo Alto',\n  'California',\n  'Amazon',\n  'Search'],\n ['PwC'],\n ['Applied Materials'],\n [],\n ['Uber'],\n [],\n [],\n ['60'],\n [],\n ['cross-disciplinary', 'Amazonians', 'today'],\n [],\n ['first', 'the Snorkel Flow Platform', 'Snorkel Flow'],\n ['TensorFlow', 'Caffe', 'PyTorch Basic'],\n ['as little as an hour',\n  '100 degrees',\n  'Phoenix',\n  'Super Bowl',\n  'Last-Mile',\n  'hundreds',\n  'Last-Mile',\n  'Walmart',\n  'Walmart',\n  'Tableau',\n  'Splunk',\n  'Kibana',\n  'Equal Opportunity Employer Walmart, Inc.',\n  'Walmart',\n  'over 275\\u202f',\n  'every week',\n  'Fortune #1',\n  'Walmart',\n  'day one'],\n [],\n ['Autopilot',\n  'Tesla',\n  'Tesla',\n  'Autopilot Simulation',\n  'Autopilot',\n  'Autopilot',\n  'Autopilot'],\n [],\n [],\n ['the C3 AI Suite', 'C3 AI', 'the C3 AI Suite', 'the C3 AI Suite', 'C3 AI'],\n [],\n ['Axiado'],\n [],\n ['millions', 'LinkedIn', 'between May - September 2022'],\n ['Daimler', 'MBRDNA', 'Daimler', 'Mercedes-Benz'],\n [],\n ['billions'],\n [],\n [],\n [],\n [],\n ['Marketing Decision Science',\n  'Walmart E-',\n  'Walmart E',\n  'Wal-Mart',\n  'millions',\n  'Walmart eCommerce',\n  'at least one',\n  '2+ years',\n  'Ph.D.',\n  'Global Tech',\n  'one',\n  'hundreds of millions',\n  'Walmart Global Tech',\n  '15,000',\n  'Walmart',\n  '2.2 million',\n  'Walmart',\n  'this year'],\n ['SetSail'],\n [],\n ['Visa', 'third', 'Visa', 'Visa', 'monthly'],\n ['Seer', 'Seer', 'Seer'],\n ['billions',\n  'tens of millions',\n  'millions',\n  'Fortune',\n  'one',\n  '5+ years',\n  'TensorFlow',\n  'PyTorch',\n  'Spark',\n  'Hadoop',\n  'Global Tech',\n  'one',\n  'hundreds of millions',\n  'Walmart Global Tech',\n  '15,000',\n  'Walmart',\n  '2.2 million',\n  'Walmart'],\n [],\n ['the Team', 'Workday', 'Sales and Marketing', 'Finance', 'annual', 'AWS'],\n [],\n [],\n ['Itron Product Management', 'Matlab'],\n ['Snap', 'Snapchat'],\n ['ByteDance'],\n ['hundreds of thousands'],\n ['Pinterest'],\n ['one', 'TikTok'],\n ['the Open Door Policy'],\n ['Humu', 'Humu', 'Nudge Engine®', 'thousands'],\n [],\n ['Life at Now', 'ServiceNow'],\n ['HIPAA/PHI', 'the first 30 days', 'Natera'],\n ['C++'],\n ['tens of millions'],\n ['Verizon',\n  'Verizon',\n  'Verizon',\n  'multi-',\n  'year',\n  '130B+',\n  'annual',\n  'Telco',\n  'billions',\n  'trillions',\n  'Verizon'],\n [],\n ['Fanatics',\n  'hundreds',\n  'more than 80 million',\n  'Fanatics',\n  'Fanatics',\n  'Fanatics Commerce',\n  'today',\n  'Candy Digital',\n  'MLB',\n  'MLBPA',\n  'Fanatics Collectibles',\n  'Fanatics Betting & Gaming',\n  'Fanatics',\n  'Fanatics',\n  'NFL',\n  'MLB',\n  'NBA',\n  'NHL',\n  'NASCAR',\n  'MLS',\n  'PGA',\n  'hundreds',\n  'more than 8,000',\n  'hundreds',\n  'Fanatics',\n  'Fanatics',\n  'Fanatics',\n  'Fanatics',\n  'The Team Fanatics',\n  'first',\n  'Elasticsearch',\n  'over 190',\n  '17',\n  '14',\n  'Fanatics Tech',\n  'Fanatics',\n  'Fanatics Inc.',\n  'one',\n  'four to six'],\n ['petabytes of data'],\n ['PayPal'],\n ['the Open Door Policy',\n  'Live our Values Culture Champion',\n  'Walmart',\n  'Walmart',\n  'first',\n  'Collaboration & Influence'],\n [],\n ['Deloitte & Touche LLP',\n  'Deloitte',\n  'Deloitte',\n  'the AI CoE',\n  'the AI CoE',\n  'Deloitte',\n  'Deloitte'],\n [],\n ['Cisco Customer & Partner Experience Engineering',\n  'Cisco',\n  'CPXE',\n  'CPXE',\n  'CPXE Innovation Lab',\n  'CPXE',\n  'CPXE Innovation Lab',\n  'ONEx'],\n [],\n ['TikTok',\n  'TikTok',\n  'Los Angeles',\n  'New York',\n  'London',\n  'Paris',\n  'Berlin',\n  'Dubai',\n  'Mumbai',\n  'Singapore',\n  'Jakarta',\n  'Seoul',\n  'Tokyo',\n  'TikTok Ads',\n  'TikTok',\n  'TikTok',\n  'TikTok Ads Vertical Solutions',\n  'TikTok',\n  'TikTok',\n  'today'],\n ['ByteDance'],\n [],\n [],\n [],\n ['Snapchat'],\n ['Asana'],\n ['Verizon',\n  'Verizon',\n  'multi-',\n  'year',\n  'hundred and thirty billion dollars',\n  'annual',\n  'Telco',\n  'billions',\n  'trillions',\n  'Verizon',\n  'Verizon',\n  'Verizon',\n  'Verizon'],\n [],\n ['approximately 5 minutes'],\n ['Beacons',\n  'four year',\n  'one year',\n  '4 weeks',\n  '99%',\n  '100',\n  'monthly',\n  '3,000',\n  '100%'],\n [],\n [],\n ['55%', 'third', '20%', '15%', '10%'],\n [\"Minimum 1-3 years'\", \"one years'\"],\n [],\n ['US', 'the United States', 'Figma'],\n ['one', 'LLNL', 'LLNL', 'LLNL'],\n [],\n [],\n [],\n ['Oportun', 'dozens', 'Oportun', 'nearly half', 'Oportun', 'FICO', 'third'],\n [],\n ['Teladoc Health’s',\n  '0-2 years',\n  'Teladoc Health',\n  'Teladoc Health',\n  'Teladoc Health',\n  'more than 175',\n  'KLAS',\n  '2020',\n  'Teladoc Health',\n  'more than a decade',\n  'Teladoc Health',\n  'Teladoc Health'],\n ['3+ years', 'one or more', 'Willingness'],\n ['Nordstrom',\n  'Bachelor’s degree',\n  '1+ years',\n  '1+ years',\n  'Nordstrom',\n  'US',\n  'AR',\n  'MS',\n  'MT',\n  'NE',\n  'NH',\n  'ND',\n  'SD',\n  'VT',\n  'WV',\n  'WY',\n  'Nordstrom',\n  'Dental'],\n ['Frontdoor',\n  'four',\n  'American Home Shield',\n  'HSA',\n  'Landmark',\n  'OneGuard',\n  'Frontdoor',\n  'more than two million',\n  'U.S.',\n  '16,000',\n  'over 45,000',\n  'more than 45 years',\n  'over four million',\n  'annually',\n  'one',\n  'every eight seconds'],\n ['Global July 2020'],\n [],\n [],\n ['Facebook', '30k foot'],\n [],\n [],\n ['Twitch',\n  'Twitch',\n  'Creator Analytics',\n  'San Francisco',\n  'CA',\n  'Los Angeles',\n  'CA',\n  'Irvine',\n  'CA',\n  'Seattle',\n  'WA',\n  'Twitch'],\n ['Data Engineering/IT', 'approximately 5 minutes'],\n ['Data Engineering', 'Fulfillment', 'Marina del Rey', 'California'],\n [],\n ['FCS Analytics', 'one or more'],\n ['America', 'Fortune', '50'],\n ['Verikai', 'US', 'PySpark', 'Excel'],\n ['At least 8 years', '3-5 years'],\n [],\n ['the Quant Strategies Team'],\n ['day'],\n [],\n ['DEA', 'DEA'],\n [],\n ['US', 'Japan'],\n [],\n ['the Advanced Analytics Center of Excellence'],\n [],\n ['0%',\n  '12/16/2021',\n  'J.L. Andal Company',\n  'SAP',\n  '1972',\n  'five',\n  'Today',\n  'SAP',\n  'Palo Alto',\n  'CA',\n  'Purpose And',\n  'Objective SAP Labs, LLC',\n  'Palo Alto',\n  'CA'],\n [],\n [],\n [],\n [],\n [],\n [],\n ['the Enterprise Analytics Team', 'Sysco', 'LABS', 'Business Technology'],\n ['SAIC',\n  'San Diego',\n  'CA',\n  'San Diego',\n  'CA',\n  'TACNET Data Intelligence',\n  'first',\n  'Navy'],\n [\"the Sam's Club Technology\", 'an Experience Team'],\n [],\n [],\n ['WWT'],\n [\"Bachelor's Degree\",\n  '2-5 years',\n  '2-5 years',\n  '2-5 years',\n  'Master’s Degree',\n  'today'],\n [],\n ['month'],\n ['any given day', 'Veeva', 'Veeva', 'billions'],\n ['3+ years',\n  'Pydata',\n  'Numpy',\n  'Pytorch',\n  'SkLearn',\n  \"Bachelor's Degree\",\n  'Plusses',\n  'AWS',\n  'Tensorflow',\n  'Keras'],\n ['TikTok', 'TikTok'],\n ['Seattle', 'Washington'],\n ['Verily', 'Verily', 'Verily'],\n [],\n ['Amazon',\n  'thousands',\n  'millions',\n  'Billions',\n  'yearly',\n  'Amazon',\n  'day',\n  'tomorrow'],\n [],\n ['FCC', 'FCC', 'daily'],\n [],\n ['Analytics & Cognitive',\n  'Analytics & Cognitive',\n  'Strategy',\n  'Strategy & Analytics',\n  'Analytics & Cognitive'],\n ['Ed Tech', 'PhD', 'MS', 'AWS', 'Azure'],\n [],\n ['Beam'],\n [],\n ['Siri',\n  'Siri',\n  'Siri',\n  'hundreds of millions',\n  'billions',\n  'iPhone',\n  'iPad',\n  'HomePod',\n  'Watch',\n  'Mac',\n  'more than 30'],\n ['TikTok',\n  'TTikTok',\n  'Los Angeles',\n  'New York',\n  'London',\n  'Paris',\n  'Berlin',\n  'Dubai',\n  'Mumbai',\n  'Singapore',\n  'Jakarta',\n  'Seoul',\n  'Tokyo',\n  'The Threat Research Lab',\n  'US'],\n [],\n ['1+ years',\n  'Bachelor’s degree',\n  '1+ years',\n  '1+ years',\n  'Pandas',\n  '1+ years',\n  'Tableau',\n  'Qlik',\n  'PowerBI',\n  'Looker',\n  'Excel',\n  'Airflow',\n  'Luigi',\n  'AWS',\n  'Snowflake'],\n [],\n [],\n ['more than 100MM+', 'US', 'Audacy', 'Denver', 'Vancouver', 'WA', 'Audacy'],\n ['SnowFlake'],\n ['CCRi', 'one', 'Spark'],\n ['Nordstrom',\n  'Nordstrom',\n  'Nordstrom Rack',\n  'Hautelook',\n  'Trunk Club',\n  '2+ year',\n  'a plus 2+ year',\n  'Teradata',\n  'Presto',\n  'Redshift',\n  '2+ year',\n  '2+ year',\n  'MS',\n  'PhD',\n  'Nordstrom',\n  'US',\n  'AR',\n  'MS',\n  'MT',\n  'NE',\n  'NH',\n  'ND',\n  'SD',\n  'VT',\n  'WV',\n  'WY',\n  'Nordstrom'],\n [],\n [],\n ['Product Insights Enablement',\n  'Duo',\n  'Product',\n  'Duo',\n  'one',\n  'Duo',\n  'Duo',\n  'Duo'],\n [],\n [],\n ['one', 'Matlab'],\n ['U.S.'],\n ['HIPAA', 'Gentherm R&D'],\n ['PayPal', 'BCDC', 'BCDC'],\n ['Piwik',\n  'Tableau',\n  'Master’s Degree',\n  'Teladoc Health',\n  'Teladoc Health',\n  'Teladoc Health',\n  'more than 175',\n  'KLAS',\n  '2020',\n  'Teladoc Health',\n  'more than a decade',\n  'Teladoc Health',\n  'Teladoc Health'],\n [],\n [],\n [],\n ['70%', '20%', 'Communicating Results', '10%', '0'],\n [],\n [],\n [],\n ['quarterly'],\n ['FactoryOS',\n  '>3+ years',\n  '2+ years',\n  'C/',\n  'PhD',\n  '2+ years',\n  'Prophet',\n  'darts',\n  'Gurobi',\n  'Xpress',\n  'CPLEX',\n  'Google',\n  'Advanced Manufacturing',\n  'US',\n  'Platinum Healthcare',\n  'Vision',\n  'Dental',\n  'LA',\n  '1',\n  'Hadrian',\n  'Itar'],\n [],\n [],\n [],\n ['millions'],\n ['Department of Energy', 'DOE', 'Federal', 'U.S.', 'U.S.', 'non-U.S.', 'DOE'],\n [],\n ['Salesforce'],\n ['1st',\n  '50%',\n  '2nd',\n  '30%',\n  '3rd',\n  '20%',\n  'Bachelor’s degree',\n  'Hadoop',\n  'Hadoop',\n  'Hive',\n  'Impala',\n  'Spark',\n  'Power BI',\n  'MicroStrategy',\n  'Tableau',\n  '3+ years',\n  'Master’s degree'],\n [\"the Sam's Club Technology\", 'an Experience Team'],\n ['Bachelor’s degree', 'medicare'],\n ['Simply', 'Marketing, Operations,', 'Blackstone'],\n [],\n [],\n ['AmeriSave Mortgage’s'],\n ['one',\n  'Walmart',\n  'Each day',\n  '5+ years',\n  'Bachelor of Science',\n  \"5 years'\",\n  'Master of Science',\n  \"3 years'\",\n  'Ph',\n  '.',\n  'D',\n  'Google Big Query',\n  'Spark',\n  'Hive',\n  'TensorFlow'],\n ['EV', 'monthly', 'quarterly', 'yearly'],\n [],\n ['Azure', 'Avanade', 'Analytics', 'PhD', '4+ years'],\n ['Digit'],\n ['DiDi'],\n ['Walmart', 'The Team', 'Walmart', 'Walmart', 'Python'],\n [],\n [],\n [],\n ['Inkiru Data Science', '@WalmartLabs', 'Walmart Inc.'],\n ['C++',\n  'two',\n  'GGplot',\n  'Matplotlib',\n  'Ploty',\n  'Tableau',\n  'PowerBI',\n  'the Open Door Policy',\n  'Live our Values Culture Champion',\n  'Walmart',\n  'Walmart',\n  'first'],\n [],\n [],\n ['Inc. Magazine',\n  'the second consecutive year',\n  'Tatari',\n  'Calm',\n  'Fiverr',\n  'OneWheel',\n  'Made In',\n  'Google',\n  'Microsoft',\n  'Stripe',\n  'Shazam',\n  'Facebook',\n  'Tatari',\n  'Tatari',\n  'zero'],\n ['H2O.ai',\n  'H2O.ai',\n  'More than 18,000',\n  'Finance',\n  'Insurance',\n  'Healthcare',\n  'Retail',\n  'Telco',\n  'Sales',\n  'H2O Driverless AI',\n  'H2O.ai',\n  'NVIDIA',\n  'IBM',\n  'AWS',\n  'Intel',\n  'Microsoft',\n  'Google Cloud Platform',\n  'Capital One',\n  'Progressive Insurance',\n  'Comcast',\n  'Walgreens',\n  'MarketAxes',\n  'H2O.ai',\n  'Sales'],\n ['Microsoft', 'Excel', 'Power Point'],\n ['Ushur', 'Ushur', 'Ushur Solutions Architecture', 'Ushur'],\n ['Hewlett Packard Enterprise', 'HPE', 'HPE'],\n [],\n ['John Deere’s Operations Center', 'John Deere’s'],\n ['Tesla',\n  'Tesla',\n  'the coming months',\n  'Tesla',\n  'Tesla',\n  'NAMR',\n  'EMEA',\n  'APAC',\n  'Tesla',\n  'Tesla',\n  'Operations Research'],\n [],\n ['H2O.ai',\n  'H2O.ai',\n  'More than 18,000',\n  'Finance',\n  'Insurance',\n  'Healthcare',\n  'Retail',\n  'Telco',\n  'Sales',\n  'H2O Driverless AI',\n  'NVIDIA',\n  'IBM',\n  'AWS',\n  'Intel',\n  'Microsoft',\n  'Google Cloud Platform',\n  'Capital One',\n  'Progressive Insurance',\n  'Comcast',\n  'Walgreens',\n  'MarketAxes',\n  'H2O.ai',\n  'Sales'],\n [],\n ['Roche Diagnostics’',\n  'MDR/IVDR',\n  'US',\n  'FDA',\n  'MDSAP',\n  'China',\n  'Networks',\n  'Q&R',\n  'Affiliates',\n  'Networks',\n  'PMQ',\n  'GQ&R',\n  'Roche Diagnostics Vision',\n  '2030 Ambition',\n  'Roche',\n  'New Ways of Working Act',\n  'Roche',\n  'Ten Year'],\n ['Cisco Customer & Partner Experience Engineering',\n  'Cisco',\n  'CPXE',\n  'CPXE',\n  'CPXE Innovation Lab',\n  'CPXE',\n  'CPXE Innovation Lab',\n  'ONEx'],\n [],\n ['Qventus',\n  'Qventus',\n  'day',\n  'Qventus',\n  'Qventus',\n  'Healthcare',\n  'Qventus',\n  'first',\n  'Mountain View',\n  'CA'],\n ['AnChain'],\n ['Software Engineering',\n  'Azure',\n  '3rd',\n  'Bachelor’s degree',\n  '3 years',\n  'R Studio',\n  'BlueSky Statistics'],\n ['iii'],\n [],\n ['M.S. or Ph.D. in Electrical Engineering', 'PySpark'],\n ['D2C'],\n [],\n [],\n ['0 - 10%',\n  '12/23/2021',\n  'SAP',\n  '1972',\n  'five',\n  'Today',\n  'SAP',\n  'Palo Alto',\n  'CA',\n  'Purpose And Objective SAP Labs, LLC',\n  'Palo Alto',\n  'CA',\n  '10%'],\n ['millions'],\n ['Mountain View'],\n ['Meta', 'Meta'],\n ['Meta', 'Meta'],\n [],\n [],\n ['Step', 'Step', 'Step'],\n ['one', '3+ years'],\n ['0 - 10%',\n  '01/24/2022',\n  'J.L. Andal Company',\n  'SAP',\n  '1972',\n  'five',\n  'Today',\n  'SAP',\n  'Palo Alto',\n  'CA',\n  'Objective SAP Labs, LLC',\n  'Palo Alto',\n  'CA',\n  '10%'],\n ['Giuseppe', 'Experimental Chefs & Food Scientists', '2020', 'ICML'],\n ['$65k-$110k Per Year',\n  'Austin',\n  'TX',\n  'SynergisticIT',\n  'SynergisticIT spares',\n  'Google',\n  'Apple',\n  'PayPal',\n  'Dell',\n  'Cisco',\n  'Client'],\n ['Juypter',\n  'AWS',\n  'over 750 million',\n  'two',\n  'two',\n  'one',\n  'AWS',\n  'ten',\n  '40,000',\n  'over 190',\n  'annual',\n  'Conversations on Race and Ethnicity',\n  'CORE',\n  'AmazeCon',\n  'Amazon',\n  '14'],\n ['Apple'],\n ['Devices', 'Amazon'],\n ['millions'],\n [],\n ['Farmers First',\n  'Silicon Valley',\n  'Farmers Business Network, Inc.',\n  'FBN',\n  'FBN',\n  'Family Farmers',\n  'Google Ventures',\n  'Kleiner Perkins',\n  'DBL Partners',\n  'T Rowe Price',\n  'Temasek',\n  'nine billion',\n  '2050',\n  'FBN',\n  'FBN',\n  'billions',\n  'FBN',\n  'FBN'],\n [],\n ['Lion Studio'],\n ['Beam'],\n ['Deserve', 'PhD'],\n [],\n ['MLOps BKM', 'USA'],\n ['C3 AI', 'C3 AI'],\n ['Chemix'],\n ['Proterra',\n  'Proterra',\n  'Proterra',\n  'each and every day',\n  'every day',\n  'Burlingame',\n  'Proterra'],\n ['Product', 'billions', 'hundreds of millions', 'Meta'],\n ['Blue River', 'Blue River’s', 'day'],\n ['Tableau', '3rd'],\n ['US', 'Latin America'],\n ['Data Team', 'third'],\n [],\n ['PhD',\n  'one or more',\n  'Python',\n  'Java',\n  'one or more',\n  'R',\n  'Matlab',\n  'scikit'],\n [],\n ['Advertising, Marketing & Commerce'],\n ['third'],\n [],\n ['Snapchat'],\n ['ByteDance'],\n ['Pytorch'],\n [],\n [],\n ['TikTok',\n  'TikTok',\n  'Los Angeles',\n  'New York',\n  'London',\n  'Paris',\n  'Berlin',\n  'Dubai',\n  'Singapore',\n  'Jakarta',\n  'Seoul',\n  'Tokyo',\n  'US'],\n [],\n ['TruEra', 'TruEra', 'TruEra', 'TruEra', 'TruEra'],\n ['Product', 'billions', 'hundreds of millions', 'Meta'],\n ['Autonomous', 'Airflow', 'BigQuery'],\n [],\n ['Landmark Health',\n  'Landmark',\n  'SQL',\n  'Landmark',\n  'Tableau',\n  'Landmark Health'],\n [],\n ['Machine Learning Platform'],\n ['Hadoop'],\n ['millions'],\n ['C++',\n  'Python',\n  'GGplot',\n  'Matplotlib',\n  'Ploty',\n  'Tableau',\n  'PowerBI',\n  'two or more',\n  'the Open Door Policy',\n  'Live our Values Culture Champion',\n  'Walmart',\n  'Walmart',\n  'first'],\n ['Snap', 'Snapchat'],\n ['Dexterity',\n  'Dexterity',\n  'Dexterity',\n  'Dexterity',\n  'L4',\n  'Dexterity',\n  'Dexterity',\n  'Dexterity',\n  'the Coordination and Planning Team',\n  'Dexterity',\n  'Dexterity',\n  'Dexterity'],\n ['billions', 'hundreds of millions', 'Meta'],\n ['Markov',\n  'Quality Management System',\n  'up to 10 pounds',\n  'approximately 5%',\n  'approximately 80%',\n  'working day',\n  'Madison',\n  '5%',\n  'overnight',\n  'weekend'],\n ['GridMatrix'],\n ['third'],\n ['RSi', 'San Jose', 'CA', 'RSi Data Science Research & Development', 'RSi'],\n ['Uber', 'Netflix', 'Facebook'],\n ['GCP',\n  'Development Business Operations',\n  'Development Business Operations',\n  'Development Business Operations',\n  'Gilead',\n  'Gilead',\n  'Apttus',\n  'the first business day',\n  'Gilead',\n  'Gilead',\n  'daily',\n  '30 day',\n  'GDAR',\n  'Apttus',\n  'TMF'],\n [],\n ['millions', 'thousands', 'dozens', 'KDD', 'INFORMS'],\n ['one', 'Walmart', 'Each day', 'Spark', 'Hive', 'TensorFlow'],\n ['NA', 'NA', 'NA', 'GBM'],\n ['LAUNCH Program', 'LAUNCH', 'year-long', 'Business Resource Groups'],\n ['Amazon', 'Amazon'],\n [],\n ['Inc. Magazine',\n  'the second consecutive year',\n  'Tatari',\n  'Calm',\n  'Fiverr',\n  'OneWheel',\n  'Made In',\n  'Google',\n  'Microsoft',\n  'Stripe',\n  'Shazam',\n  'Facebook',\n  'Tatari',\n  'Tatari',\n  'Technology and Engineering',\n  'zero'],\n ['tooverall',\n  'the Open Door Policy',\n  'Live our Values Culture Champion',\n  'Walmart',\n  'Walmart',\n  'first'],\n ['the Data Science Team'],\n [],\n ['Walmart Labs',\n  'one',\n  'the Open Door Policy',\n  'Pyspark',\n  'Tensorflow',\n  'PyTorch'],\n [],\n [],\n ['LinkedIn', 'LinkedIn', 'LinkedIn'],\n [],\n ['LinkedIn', 'LinkedIn', 'LinkedIn'],\n ['Walmart', 'Walmart', 'Walmart', 'millions', 'thousands', 'Walmart'],\n ['Inkiru', '@WalmartLabs', 'Walmart Inc.'],\n ['LinkedIn',\n  'Pro-ML',\n  'first',\n  'LinkedIn',\n  'TensorFlow',\n  'TensorFlow',\n  'LinkedIn',\n  'TensorFlow',\n  'LinkedIn',\n  'one',\n  'LinkedIn',\n  'LinkedIn',\n  'LinkedIn'],\n [],\n ['Facebook'],\n ['DISH', 'DISH', 'Rmd', 'Jupyter'],\n ['Walmart',\n  'Walmart E',\n  '-',\n  'Walmart E',\n  '-',\n  'Wal-Mart',\n  'millions',\n  'Walmart eCommerce'],\n ['Walmart', 'Walmart', 'Walmart', 'millions', 'thousands', 'Walmart'],\n [],\n [],\n [],\n [],\n ['day',\n  'Fridays',\n  'Summer Fridays',\n  'Memorial Day to Labor Day',\n  'weekend',\n  'Holiday Early Departure',\n  'the business day',\n  'day',\n  '360',\n  '3rd',\n  '8+ years',\n  'Tableau',\n  'up to 25 pounds',\n  '40 hours',\n  'Corporate & Shared Services',\n  'the U.S. Food and Drug Administration',\n  'FDA',\n  'the World Health Organization',\n  'WHO',\n  'at least 10 days',\n  'Executive Order'],\n ['Walmart',\n  'Walmart',\n  'Walmart',\n  'millions',\n  'thousands',\n  'Walmart',\n  'the Open Door Policy',\n  'Pyspark',\n  'Scalding',\n  'Tensorflow',\n  'PyTorch',\n  'Master’s degree',\n  'one',\n  'Spark',\n  'Global Tech',\n  'one',\n  'hundreds of millions',\n  'Walmart Global Tech',\n  '15,000',\n  'Walmart',\n  '2.2 million',\n  'Walmart'],\n ['0', '1'],\n [],\n ['Census',\n  \"Bachelor's\",\n  'three years',\n  'Master’s or',\n  'PhD',\n  'GeoMatch',\n  'IPL'],\n ['Senior Management'],\n [],\n [\"Snorkel Flow's\", 'Snorkel Flow Preferred'],\n [],\n ['Walmart', 'The Team', 'Walmart', 'Walmart', 'Python', '2-5', '6+ months'],\n ['Ushur', 'Ushur', 'Ushur'],\n ['The Artificial Intelligence Group'],\n [],\n [],\n ['first'],\n ['Foursquare', 'Foursquare'],\n ['APMT Global Technical Function'],\n ['Retina', 'Jupyter'],\n [],\n [],\n ['EDO'],\n ['CAA'],\n ['SPE', 'Cross-LOB Collaboration Act', '1st'],\n ['TensorFlow'],\n ['SPE', 'Cross-LOB Collaboration Act', '1st'],\n ['Harbor Freight’s',\n  'Harbor Freight’s',\n  'Monthly',\n  'Real Estate Committee',\n  'the Real Estate Committee',\n  'Real Estate',\n  'Real Estate Strategy',\n  'Harbor Freight Tools'],\n ['CO Institutional Research and Analyses Department',\n  'CSU',\n  'Graduation Initiative 2025',\n  'annual',\n  'SAS',\n  'Tableau',\n  'Graduation Initiative 2025',\n  'Dashboard',\n  'Dashboard',\n  'CSU',\n  'daily'],\n ['Mythical', 'BigQuery'],\n [],\n ['Virtualitics'],\n ['Data Engineering'],\n [],\n ['Beyond Limits', 'NASA', 'Jet Propulsion Lab', 'Caltech', 'Beyond Limits'],\n ['the Intelligence Lab'],\n ['SQL Interface'],\n [],\n ['US'],\n ['The Project Systems Engineering & Formulation Section',\n  'JPL',\n  'post-Launch',\n  'Systems Analysis, Modeling & Architecture Group',\n  'Excel',\n  'NASA'],\n ['1.', '2+ years', '2'],\n ['one',\n  'LinkedIn',\n  '50',\n  'one',\n  'America',\n  'Forbes',\n  '1',\n  'Fast Company',\n  '$100M',\n  'those commute hours',\n  'a Work From Anywhere in',\n  'U.S',\n  'the year',\n  'Heads Down Hump Days',\n  'annual',\n  'Cameo',\n  'day',\n  'every day',\n  '5+ years',\n  'Amplitude',\n  'Tableau',\n  'Looker',\n  'Git'],\n [],\n [],\n ['II',\n  'Optum Care’s',\n  'the Office for Provider Advancement',\n  'OPA',\n  'Human Capital',\n  'UHG',\n  'OPA',\n  'the Office for Provider Advancement',\n  'Optum Care’s',\n  'Clinical Performance',\n  'OPA',\n  'Optum Care',\n  'OPA',\n  'OPA',\n  'U.S.',\n  'the Office for Provider Advancement',\n  'OPA',\n  'OPA',\n  'Human Capital',\n  'UnitedHealth Group'],\n [],\n ['Headquarters',\n  'St. Louis',\n  'Tempe',\n  'Mississauga',\n  'U.S.',\n  'Canada',\n  'Firm Analytics',\n  'Edward Jones'],\n ['day'],\n ['Los Angeles', 'London'],\n ['GoGuardian', 'PhD', 'Azure'],\n ['Accenture', 'weekly'],\n [],\n ['The Team', 'The VCR Team', 'Amazon', 'Amazon', 'IMDb'],\n ['Pytorch'],\n ['60% - 100%', 'US', '22 C.F.R. 120.15', 'US'],\n [],\n [],\n ['millions', 'Dropbox'],\n ['EDO', 'EDO'],\n ['Pytorch', 'Keras', 'Tensorflow', 'at least One'],\n ['Limeade',\n  'Personalization',\n  'Limeade',\n  'Personalization',\n  'Limeade',\n  'Azure'],\n ['1938',\n  'The Topps Company, Inc.',\n  'Topps',\n  'Sports & Entertainment',\n  'Major League Baseball',\n  'Major League Soccer',\n  'UEFA Champions League',\n  'Bundesliga',\n  'National Hockey League',\n  'Formula 1',\n  'Star Wars',\n  'WWE',\n  'Wacky Packages ®',\n  'Garbage Pail Kids ®',\n  'Mars Attacks ®',\n  'Topps Digital Sports & Entertainment',\n  'Topps ® BUNT ®',\n  'TOPPS',\n  'Star Wars™: Card Trader by Topps ®',\n  'Topps',\n  'Topps',\n  'Marvel Collect! by',\n  'Topps',\n  'Disney Collect! by',\n  'Topps',\n  'Topps Digital Services',\n  'Airbnb',\n  'Deliveroo',\n  'DoorDash',\n  'Hulu',\n  'Instacart',\n  'Netflix',\n  'Nike',\n  'Twitch',\n  'Uber',\n  'Topps Confections',\n  'Bazooka Candy Brands',\n  'Ring Pop ®',\n  'Push Pop ®',\n  'Baby Bottle Pop ®',\n  'Juicy Drop ®',\n  'Finders Keepers ®',\n  'The Data Scientist',\n  'daily',\n  '3rd'],\n [],\n ['Prime Video', 'Prime Video', 'Amazon', 'Prime', 'Amazon', 'IMDb'],\n [],\n ['85B', 'US'],\n [],\n ['one', 'Zwift', 'the Data & Insights Team'],\n ['Machina Labs'],\n ['Crunchbase'],\n ['Perficient',\n  'North America',\n  'India',\n  'China',\n  'year',\n  'year',\n  'Perficient',\n  'daily',\n  'Microsoft',\n  'Azure'],\n ['Advertising, Marketing & Commerce'],\n ['Quilter', 'Quilter'],\n ['Recommender Engines'],\n [],\n [],\n ['Activision Blizzard'],\n [],\n [],\n ['Linear Networks',\n  'Studios',\n  'Client Media & Entertainment Distribution',\n  'Client General Entertainment',\n  'Linear Networks'],\n [],\n ['JPL', '3', 'JPL', 'NASA', 'JPL'],\n ['between $115,600. - $231,100', 'yearly', 'DTV', '8-10 years', 'one'],\n [],\n ['10+ weeks', 'Los Angeles', 'day'],\n ['TikTok', 'TikTok'],\n ['Headquarters', 'St. Louis', 'Tempe', 'Mississauga', 'U.S.', 'Canada'],\n [],\n ['WarnerMedia',\n  'HBO Max',\n  'HBO',\n  'HBO',\n  'Warner Bros.',\n  'DC',\n  'Turner Classic Movies',\n  'Cartoon Network',\n  'HBO Max',\n  'US',\n  'May 2020',\n  'Latin America',\n  'Europe',\n  '2021',\n  'HBO Max',\n  'HBO Max',\n  'HBO Max',\n  'The Daily',\n  'day',\n  '8+ years',\n  'Jupyter',\n  'TensorFlow/PyTorch',\n  'Scikit-Learn',\n  'Apache Airflow',\n  'Git',\n  'Tableau',\n  'Looker'],\n ['day', 'day'],\n [],\n ['Notion', 'Figma', 'Amplitude'],\n ['Metropolis',\n  'Metropolis',\n  'Metropolis',\n  'third',\n  'Machine Learning',\n  'Machine Learning'],\n ['DSAID',\n  'National Security Space',\n  'AF',\n  'NRO',\n  'NASA',\n  'NOAA',\n  'DSAID',\n  'Aerospace'],\n ['Google', 'Amazon'],\n ['third'],\n ['KPMG', 'AnyLogic', 'NetLogo', 'Simulink', 'ARENA', 'KPMG'],\n ['WarnerMedia',\n  'first',\n  'HBO',\n  'WarnerMedia',\n  'Daily',\n  'WarnerMedia',\n  '10 years',\n  '7+ years',\n  '5+ years',\n  '5+ years',\n  'Google Cloud',\n  'Microsoft',\n  '3+ years',\n  '3+ years',\n  '3+ years',\n  'Caffe',\n  'Keras',\n  'MXNet',\n  'PyTorch',\n  'TensorFlow',\n  'Theano',\n  'Torch',\n  'Masters Degree',\n  'Ph',\n  '.',\n  'D',\n  'Java'],\n ['thousands',\n  'hundreds',\n  '3+ years',\n  'Tensorflow',\n  'Scikit-learn',\n  'Numpy/Scipy',\n  'SpaCy',\n  'Pandas',\n  'Transformer',\n  'T5',\n  '100%'],\n [],\n ['Retina', 'Retina', 'Jupyter'],\n ['7', 'C/', 'Python'],\n ['St. Louis',\n  'Tempe',\n  'Mississauga',\n  'U.S.',\n  'Canada',\n  'Edward Jones',\n  'daily'],\n [],\n [],\n [],\n ['Riot', 'Riot', 'multi-year'],\n [],\n ['Flippy', 'Tensorflow/', 'daily', 'the day'],\n ['the day'],\n ['Hadoop'],\n ['Areal.ai'],\n ['Gemini'],\n [],\n ['US', '22 C.F.R. 120.15', 'US'],\n ['DSAID',\n  'National Security Space',\n  'AF',\n  'NRO',\n  'NASA',\n  'NOAA',\n  'DSAID',\n  'Aerospace',\n  'El Segundo',\n  'CA',\n  'Chantilly',\n  'VA',\n  'Colorado Springs',\n  'CO'],\n [],\n ['Spark'],\n [],\n ['Fuse Analytics', 'Fuse'],\n ['Metropolis'],\n ['Deloitte & Touche LLP',\n  'Deloitte',\n  'Deloitte',\n  'the AI CoE',\n  'the AI CoE',\n  'Deloitte',\n  'Deloitte'],\n [],\n [],\n ['Dropbox', '12-week long', 'Dropbox', 'millions', 'hundreds of millions'],\n [],\n ['Who You Are 4+ year',\n  'one',\n  'Gremlin',\n  'Amazon',\n  'Neptune',\n  'Microsoft',\n  'Azure',\n  'Databricks'],\n ['millions', 'Snapchatters', 'millions', 'Snapchatters', 'Snap'],\n [],\n [],\n [],\n ['C++'],\n ['KPMG Intelligent Forecasting'],\n ['PwC'],\n ['DSAID',\n  'National Security Space',\n  'AF',\n  'NRO',\n  'NASA',\n  'NOAA',\n  'DSAID',\n  'Aerospace'],\n ['One', 'today'],\n ['Analytics', 'Humana', 'Enterprise Clinical Management'],\n [],\n [],\n [],\n [],\n [],\n ['Cameos', 'Snap', 'Snap', 'millions'],\n ['FASHIONPHILE', 'AWS'],\n ['6+ years', 'Excel', 'Bachelor'],\n [],\n ['the Data & Insights Team'],\n [],\n [],\n ['Harbor Freight’s',\n  '+/-15%',\n  '80%',\n  'Harbor Freight’s',\n  'monthly',\n  'quarterly',\n  'third',\n  'Real Estate Committee',\n  'the Real Estate Committee',\n  'Directors of Real Estate',\n  'Real Estate Strategy',\n  'Harbor Freight Tools'],\n [],\n ['Calhoun International',\n  'Government',\n  'Joint Collection Management Board',\n  'JCMB',\n  'Joint Collection Working Groups',\n  'Defense Collection Management Boards',\n  'National Collection Management Boards(NCMB'],\n ['Bachelor’s degree'],\n [],\n [],\n ['USARPAC', 'MITRE', 'MITRE', 'MITRE'],\n ['Calhoun International',\n  'Government',\n  'Joint Collection Management Board',\n  'JCMB',\n  'Joint Collection Working',\n  'JCWG',\n  'Defense Collection Management Boards',\n  'National Collection Management Boards'],\n [],\n ['USARPAC', 'MITRE', 'MITRE', 'MITRE'],\n [],\n ['Analytics & Cognitive',\n  'Analytics & Cognitive',\n  'Strategy',\n  'Strategy & Analytics'],\n ['any given day', 'Hadoop'],\n ['NIH'],\n ['Bachelor’s degree', 'TensorFlow/Keras'],\n ['Bachelor of Science',\n  'Computer Science',\n  \"1-3 years'\",\n  'Pandas',\n  'NumPy',\n  'Scikit-learn',\n  'PyTorch',\n  'Spacy'],\n ['Skylight'],\n [],\n ['Analytics & Cognitive',\n  'Analytics & Cognitive',\n  'Strategy & Analytics',\n  'Analytics & Cognitive'],\n [],\n ['Government', \"Elite Systems'\"],\n ['Koalafi'],\n [],\n ['Citizen Data’s',\n  'Excel',\n  'Tableau',\n  'Qlik',\n  'Citizen Data',\n  'first',\n  'Citizen',\n  'Citizen',\n  'Citizen',\n  'Citizen'],\n ['NSA',\n  'the National Security Agency',\n  'NSA',\n  'one',\n  'NSA',\n  'NSA',\n  'U.S.',\n  'American',\n  'generations',\n  'the National Security Agency',\n  'NSA',\n  'NSA',\n  'NSA',\n  'three-year',\n  'NSA',\n  'NSA',\n  'nine-month',\n  'NSA',\n  'NSA',\n  'weekly',\n  'NSA',\n  'NSA',\n  'DSDP',\n  'first',\n  'NSA',\n  'NSA',\n  'NSA'],\n ['10%',\n  '10%',\n  'Analytics & Cognitive',\n  'Analytics & Cognitive',\n  'Strategy',\n  'Analytics & Cognitive'],\n [],\n ['the next two decades',\n  'two',\n  'CalypsoAI',\n  'Calypso AI',\n  'Calypso',\n  'Calypso'],\n ['Peraton',\n  'Peraton',\n  'Every day',\n  'Peratons Global Health and',\n  'Peraton',\n  'Peraton',\n  'Peraton',\n  'Peraton',\n  'the past 20 years',\n  'Federal',\n  'Peraton',\n  'Peratons Global Health and'],\n ['AWS',\n  'AWS',\n  'AWS',\n  'Amazon',\n  'AWS Management',\n  'two',\n  'two',\n  'one',\n  'Amazon',\n  '10+',\n  'the Black Employee Network',\n  'Latinos',\n  'Amazon',\n  'Indigenous',\n  'Amazon',\n  'Families at Amazon',\n  'Amazon',\n  'Amazon',\n  'Military',\n  'Amazon',\n  'Amazon',\n  'Amazon',\n  'Amazon'],\n [],\n [],\n ['billions'],\n [],\n ['GEICO', 'Three to five years'],\n ['Each day',\n  'The Store Associate Technology Data Science and Data Engineering Team',\n  'Python',\n  'Spark',\n  'PyTorch',\n  'Tensorflow',\n  'Keras'],\n ['one', 'two', 'Noblis'],\n [],\n ['GEICO'],\n ['AIR',\n  'Data Science and Advanced Analytics',\n  'DSAA',\n  'Arlington',\n  'VA',\n  'AIR',\n  'AIR',\n  'U.S.',\n  'AIR',\n  'AIR'],\n ['Peraton', 'Peraton', 'Every day', 'Chief Technology Office'],\n ['Stori',\n  'Stori',\n  'any given day',\n  'three',\n  'Stori',\n  'Stori Data Science',\n  'Stori'],\n ['NSA',\n  'the National Security Agency',\n  'NSA',\n  'one',\n  'NSA',\n  'NSA',\n  'U.S.',\n  'American',\n  'generations',\n  'the National Security Agency',\n  'NSA',\n  'NSA',\n  'NSA',\n  'NSA',\n  'NSA',\n  'NSA',\n  'NSA',\n  'NSA'],\n [],\n ['APL',\n  'The Nuclear Command Communications Systems Group',\n  'QKR',\n  'QKR',\n  'JHU/APL',\n  'JHU/APL',\n  'Sponsor'],\n ['Deloitte', 'over 15,000'],\n ['DTMO', 'the DoD Travel Enterprise', 'the DoD Travel Enterprise'],\n ['GEICO'],\n ['NCQA', 'NCQA', 'NCQA'],\n ['Noblis',\n  'Intelligence Communitiy',\n  'Reston',\n  'VA',\n  'National Security',\n  'Intelligence',\n  'one',\n  'two'],\n [],\n [],\n [],\n ['Washington', 'D.C.', 'EAB', 'terabyte-scale'],\n ['GDPR'],\n ['Computerworld', 'FORTUNE', 'Forbes'],\n ['each day'],\n ['Dovel Technologies, LLC', 'CMMI ML3', 'Dovel', 'today'],\n [],\n [],\n ['Peraton',\n  'Peraton',\n  'Every day',\n  'SafeGuard Services',\n  'SGS',\n  'Peraton',\n  '1999',\n  'SGS',\n  'more than $9.65 billion',\n  'nearly $5.98 billion',\n  'more than $3.69 billion',\n  'thousands'],\n ['Amazon', '1', 'Seller Partner Abuse', 'Seller Partner Abuse'],\n ['SharePoint',\n  'DCSA',\n  'COVID-19, you will work on-site in DC and',\n  'the Critical Technology Protection Center'],\n ['the Data Operations Team', 'the Analytics Team'],\n [],\n ['LMI',\n  '1961',\n  'the Department of Defense',\n  'LMI',\n  'Advanced Analytics & AI'],\n [],\n [],\n [],\n [],\n ['fast.ai',\n  'TensorFlow',\n  'Keras',\n  'XGBoost',\n  'AWS',\n  'SageMaker',\n  'EC2',\n  'Snowball Edge'],\n [\"Bachelor's degree\", '1 - 3 years'],\n [],\n ['the Collage Cultural Intelligence Platform', '4-6 years', 'SQL'],\n [],\n ['the Data Science Team', 'Intel'],\n ['one', 'Matlab'],\n ['Amazon'],\n ['ID.me',\n  'ID.me',\n  'Visa',\n  'ID.me',\n  'only one',\n  'ID.me',\n  'ID.me',\n  'NIST',\n  'ID.me',\n  'one',\n  'only four',\n  'the United States of America',\n  'No Identity Left Behind',\n  'ID.me'],\n [],\n [],\n [],\n ['Amida Technology Solutions', '2013', 'Who You Are You have'],\n ['third', '3rd', 'Gene Data Profiler'],\n ['Sponsor',\n  'Sponsor',\n  'one',\n  'one or more',\n  'third',\n  '12-15 years',\n  'TS/SCI',\n  'Polygraph Physical'],\n ['IAI/BlueHalo',\n  'Intelligent Automation',\n  'BlueHalo',\n  'IAI/BlueHalo',\n  'BlueHalo',\n  'every single day',\n  'BlueHalo',\n  'BlueHalo Nation',\n  'C4ISR',\n  'Air & Missile Defense',\n  'BlueHalo',\n  'days',\n  'Intelligent Automation',\n  'BlueHalo',\n  'Rockville',\n  'MD',\n  'the United States',\n  'IAI'],\n ['Noblis', 'Noblis', 'one', 'two'],\n ['Defense', 'Federal', 'LCM'],\n ['over 600 million', 'the next 5 years'],\n ['PwC', 'PwC', 'PwC Labs', 'PwC', 'one'],\n ['each day', 'Capital Markets', \"Fannie Mae's\", 'Capital Markets'],\n ['BlueHalo'],\n [],\n ['HANA/Sybase IQ', 'HANA', 'monthly', 'Sybase IQ', 'HANA', 'monthly'],\n ['Noblis',\n  'Intelligence Communitiy',\n  'McLean',\n  'VA',\n  'over 20 years',\n  'Noblis'],\n ['Amazonians', 'Amazon', 'thousands', 'Amazonians'],\n ['Thomson Reuters'],\n [],\n ['third'],\n ['EHC', 'EHC', 'EHC'],\n ['day'],\n [],\n ...]"
     },
     "execution_count": 31,
     "metadata": {},
     "output_type": "execute_result"
    }
   ],
   "source": [
    "ents = [[e.text for e in doc.ents]for doc in docs]\n",
    "ents"
   ],
   "metadata": {
    "collapsed": false,
    "pycharm": {
     "name": "#%%\n"
    }
   }
  },
  {
   "cell_type": "code",
   "execution_count": 32,
   "outputs": [],
   "source": [
    "single_word_ents = {}"
   ],
   "metadata": {
    "collapsed": false,
    "pycharm": {
     "name": "#%%\n"
    }
   }
  },
  {
   "cell_type": "code",
   "execution_count": 33,
   "outputs": [],
   "source": [
    "for doc in docs:\n",
    "    for e in doc.ents:\n",
    "        if \" \" not in e.text:\n",
    "            single_word_ents[e.text] = None"
   ],
   "metadata": {
    "collapsed": false,
    "pycharm": {
     "name": "#%%\n"
    }
   }
  },
  {
   "cell_type": "code",
   "execution_count": 36,
   "outputs": [
    {
     "data": {
      "text/plain": "['first', 'one', 'Gobel', 'daily', 'third', 'Coursera']"
     },
     "execution_count": 36,
     "metadata": {},
     "output_type": "execute_result"
    }
   ],
   "source": [
    "list(single_word_ents.keys())[:6]"
   ],
   "metadata": {
    "collapsed": false,
    "pycharm": {
     "name": "#%%\n"
    }
   }
  },
  {
   "cell_type": "code",
   "execution_count": 68,
   "outputs": [
    {
     "data": {
      "text/plain": "False"
     },
     "execution_count": 68,
     "metadata": {},
     "output_type": "execute_result"
    }
   ],
   "source": [
    "\"Coursera\" not in single_word_ents"
   ],
   "metadata": {
    "collapsed": false,
    "pycharm": {
     "name": "#%%\n"
    }
   }
  },
  {
   "cell_type": "markdown",
   "source": [
    "The below iteration technique was adapted from similar in the course materials"
   ],
   "metadata": {
    "collapsed": false,
    "pycharm": {
     "name": "#%% md\n"
    }
   }
  },
  {
   "cell_type": "code",
   "execution_count": 70,
   "outputs": [],
   "source": [
    "responsibilities_clean = [[w.lemma_.lower() for w in doc if (not w.is_stop and not w.is_punct and not w.like_num and w.text not in single_word_ents)] for doc in docs]"
   ],
   "metadata": {
    "collapsed": false,
    "pycharm": {
     "name": "#%%\n"
    }
   }
  },
  {
   "cell_type": "code",
   "execution_count": 75,
   "outputs": [
    {
     "name": "stdout",
     "output_type": "stream",
     "text": [
      "Data\n",
      "team\n",
      "helping\n",
      "build\n",
      "future\n",
      "education\n",
      "data\n",
      "driven\n",
      "decision\n",
      "making\n",
      "data\n",
      "powered\n",
      "products\n",
      "drive\n",
      "product\n",
      "business\n",
      "strategy\n",
      "measurement\n",
      "experimentation\n",
      "causal\n",
      "inference\n",
      "define\n",
      "develop\n",
      "launch\n",
      "models\n",
      "algorithms\n",
      "power\n",
      "content\n",
      "discovery\n",
      "personalized\n",
      "learning\n",
      "machine\n",
      "assisted\n",
      "teaching\n",
      "grading\n",
      "believe\n",
      "generation\n",
      "teaching\n",
      "learning\n",
      "personalized\n",
      "accessible\n",
      "efficient\n",
      "scale\n",
      "data\n",
      "technology\n",
      "talent\n",
      "Data\n",
      "team\n",
      "positioned\n",
      "vision\n",
      "reality\n",
      "looking\n",
      "talented\n",
      "creative\n",
      "collaborative\n",
      "data\n",
      "scientist\n",
      "support\n",
      "decision\n",
      "making\n",
      "product\n",
      "business\n",
      "teams\n",
      "leveraging\n",
      "rich\n",
      "data\n",
      "captured\n",
      "tens\n",
      "learners\n",
      "instructors\n",
      "engage\n",
      "platform\n",
      "deliver\n",
      "innovative\n",
      "data\n",
      "driven\n",
      "insights\n",
      "create\n",
      "experiences\n",
      "better\n",
      "meet\n",
      "needs\n",
      "expectations\n",
      "learners\n",
      "ideal\n",
      "candidate\n",
      "excellent\n",
      "analysis\n",
      "statistical\n",
      "modeling\n",
      "skills\n",
      "strong\n",
      "written\n",
      "verbal\n",
      "communication\n",
      "interest\n",
      "expanding\n",
      "reach\n",
      "quality\n",
      "online\n",
      "education\n",
      "Responsibilities\n",
      "Evaluate\n",
      "success\n",
      "key\n",
      "product\n",
      "business\n",
      "initiatives\n",
      "e.g.\n",
      "determining\n",
      "new\n",
      "product\n",
      "listing\n",
      "pages\n",
      "better\n",
      "serve\n",
      "career\n",
      "switchers\n",
      "measuring\n",
      "success\n",
      "efforts\n",
      "reduce\n",
      "contact\n",
      "rate\n",
      "improving\n",
      "learner\n",
      "payment\n",
      "flow\n",
      "Estimate\n",
      "potential\n",
      "impact\n",
      "proposed\n",
      "projects\n",
      "order\n",
      "inform\n",
      "teams\n",
      "prioritization\n",
      "decisions\n",
      "Develop\n",
      "understanding\n",
      "products\n",
      "business\n",
      "learners\n",
      "analyzing\n",
      "learner\n",
      "behavior\n",
      "uncover\n",
      "patterns\n",
      "identify\n",
      "opportunities\n",
      "improvement\n",
      "Work\n",
      "closely\n",
      "data\n",
      "engineering\n",
      "operations\n",
      "teams\n",
      "ensure\n",
      "new\n",
      "projects\n",
      "products\n",
      "launched\n",
      "clear\n",
      "instrumentation\n",
      "support\n",
      "experimentation\n",
      "measurement\n",
      "plans\n",
      "Partner\n",
      "data\n",
      "scientists\n",
      "develop\n",
      "measurement\n",
      "plans\n",
      "new\n",
      "data\n",
      "product\n",
      "launches\n",
      "share\n",
      "context\n",
      "different\n",
      "areas\n",
      "business\n",
      "build\n",
      "complete\n",
      "consistent\n",
      "understanding\n",
      "data\n",
      "tells\n",
      "learners\n"
     ]
    },
    {
     "data": {
      "text/plain": "[[None,\n  None,\n  None,\n  None,\n  None,\n  None,\n  None,\n  None,\n  None,\n  None,\n  None,\n  None,\n  None,\n  None,\n  None,\n  None,\n  None,\n  None,\n  None,\n  None,\n  None,\n  None,\n  None,\n  None,\n  None,\n  None,\n  None,\n  None,\n  None,\n  None,\n  None,\n  None,\n  None,\n  None,\n  None,\n  None,\n  None,\n  None,\n  None,\n  None,\n  None,\n  None,\n  None,\n  None,\n  None,\n  None,\n  None,\n  None,\n  None,\n  None,\n  None,\n  None,\n  None,\n  None,\n  None,\n  None,\n  None,\n  None,\n  None,\n  None,\n  None,\n  None,\n  None,\n  None,\n  None,\n  None,\n  None,\n  None,\n  None,\n  None,\n  None,\n  None,\n  None,\n  None,\n  None,\n  None,\n  None,\n  None,\n  None,\n  None,\n  None,\n  None,\n  None,\n  None,\n  None,\n  None,\n  None,\n  None,\n  None,\n  None,\n  None,\n  None,\n  None,\n  None,\n  None,\n  None,\n  None,\n  None,\n  None,\n  None,\n  None,\n  None,\n  None,\n  None,\n  None,\n  None,\n  None,\n  None,\n  None,\n  None,\n  None,\n  None,\n  None,\n  None,\n  None,\n  None,\n  None,\n  None,\n  None,\n  None,\n  None,\n  None,\n  None,\n  None,\n  None,\n  None,\n  None,\n  None,\n  None,\n  None,\n  None,\n  None,\n  None,\n  None,\n  None,\n  None,\n  None,\n  None,\n  None,\n  None,\n  None,\n  None,\n  None,\n  None,\n  None,\n  None,\n  None,\n  None,\n  None,\n  None,\n  None,\n  None,\n  None,\n  None,\n  None,\n  None,\n  None,\n  None,\n  None,\n  None,\n  None,\n  None,\n  None,\n  None,\n  None,\n  None,\n  None,\n  None,\n  None,\n  None,\n  None,\n  None,\n  None,\n  None,\n  None,\n  None,\n  None,\n  None,\n  None,\n  None,\n  None,\n  None,\n  None,\n  None,\n  None,\n  None,\n  None,\n  None,\n  None,\n  None]]"
     },
     "execution_count": 75,
     "metadata": {},
     "output_type": "execute_result"
    }
   ],
   "source": [
    "[[print(w.text) for w in doc if (not w.is_stop and not w.is_punct and not w.like_num and w.text not in single_word_ents)] for doc in docs[9:10]]"
   ],
   "metadata": {
    "collapsed": false,
    "pycharm": {
     "name": "#%%\n"
    }
   }
  },
  {
   "cell_type": "code",
   "execution_count": 81,
   "outputs": [
    {
     "name": "stdout",
     "output_type": "stream",
     "text": [
      "37\n",
      "72\n",
      "164\n",
      "181\n",
      "192\n",
      "250\n",
      "251\n",
      "259\n",
      "327\n",
      "335\n",
      "338\n",
      "341\n",
      "351\n",
      "363\n",
      "364\n",
      "370\n",
      "377\n",
      "379\n",
      "383\n",
      "403\n",
      "414\n",
      "420\n",
      "428\n",
      "445\n",
      "462\n",
      "467\n",
      "490\n",
      "621\n",
      "627\n",
      "631\n",
      "632\n",
      "712\n",
      "724\n",
      "730\n",
      "733\n",
      "739\n",
      "740\n",
      "745\n",
      "746\n",
      "752\n",
      "760\n",
      "1089\n",
      "1110\n",
      "1228\n",
      "1229\n",
      "1231\n",
      "1629\n",
      "1639\n",
      "1737\n",
      "1953\n",
      "1956\n",
      "1964\n",
      "2001\n",
      "2016\n",
      "2018\n",
      "2268\n",
      "2300\n",
      "2310\n",
      "2325\n",
      "2338\n",
      "2622\n",
      "2623\n",
      "2633\n",
      "2641\n",
      "2666\n",
      "2674\n",
      "2675\n",
      "2694\n",
      "2715\n",
      "2718\n",
      "2740\n",
      "2742\n",
      "2749\n",
      "2809\n",
      "2912\n",
      "2916\n",
      "2927\n",
      "2951\n",
      "3361\n",
      "3369\n",
      "3371\n",
      "3373\n",
      "3374\n",
      "3375\n",
      "3378\n",
      "3379\n",
      "3381\n",
      "3382\n",
      "3383\n",
      "3384\n",
      "3386\n",
      "3387\n"
     ]
    }
   ],
   "source": [
    "for index, doc in enumerate(docs):\n",
    "    for w in doc:\n",
    "        if w.text == \"Walmart\":\n",
    "            print(index)\n",
    "            break"
   ],
   "metadata": {
    "collapsed": false,
    "pycharm": {
     "name": "#%%\n"
    }
   }
  },
  {
   "cell_type": "code",
   "execution_count": null,
   "outputs": [],
   "source": [],
   "metadata": {
    "collapsed": false,
    "pycharm": {
     "name": "#%%\n"
    }
   }
  },
  {
   "cell_type": "code",
   "execution_count": 83,
   "outputs": [
    {
     "data": {
      "text/plain": "False"
     },
     "execution_count": 83,
     "metadata": {},
     "output_type": "execute_result"
    }
   ],
   "source": [
    "\"walmart\" in responsibilities_clean[37]"
   ],
   "metadata": {
    "collapsed": false,
    "pycharm": {
     "name": "#%%\n"
    }
   }
  },
  {
   "cell_type": "code",
   "execution_count": 84,
   "outputs": [
    {
     "data": {
      "text/plain": "'data team help build future education data drive decision making data power product drive product business strategy measurement experimentation causal inference define develop launch model algorithm power content discovery personalized learning machine assist teaching grading believe generation teaching learning personalized accessible efficient scale data technology talent data team position vision reality look talented creative collaborative data scientist support decision making product business team leverage rich datum capture ten learner instructor engage platform deliver innovative data drive insight create experience well meet need expectation learner ideal candidate excellent analysis statistical modeling skill strong write verbal communication interest expand reach quality online education responsibility evaluate success key product business initiative e.g. determine new product listing page well serve career switcher measure success effort reduce contact rate improve learner payment flow estimate potential impact propose project order inform team prioritization decision develop understanding product business learner analyze learner behavior uncover pattern identify opportunity improvement work closely datum engineering operation team ensure new project product launch clear instrumentation support experimentation measurement plan partner datum scientist develop measurement plan new datum product launch share context different area business build complete consistent understanding data tell learner'"
     },
     "execution_count": 84,
     "metadata": {},
     "output_type": "execute_result"
    }
   ],
   "source": [
    "responsibilities = [' '.join(doc) for doc in responsibilities_clean]\n",
    "responsibilities[9]"
   ],
   "metadata": {
    "collapsed": false,
    "pycharm": {
     "name": "#%%\n"
    }
   }
  },
  {
   "cell_type": "code",
   "execution_count": 85,
   "outputs": [],
   "source": [
    "with open('responsibilities.pickle', 'wb') as handle:\n",
    "    pickle.dump(responsibilities, handle)"
   ],
   "metadata": {
    "collapsed": false,
    "pycharm": {
     "name": "#%%\n"
    }
   }
  },
  {
   "cell_type": "code",
   "execution_count": null,
   "outputs": [],
   "source": [],
   "metadata": {
    "collapsed": false,
    "pycharm": {
     "name": "#%%\n"
    }
   }
  }
 ],
 "metadata": {
  "kernelspec": {
   "display_name": "Python 3",
   "language": "python",
   "name": "python3"
  },
  "language_info": {
   "codemirror_mode": {
    "name": "ipython",
    "version": 2
   },
   "file_extension": ".py",
   "mimetype": "text/x-python",
   "name": "python",
   "nbconvert_exporter": "python",
   "pygments_lexer": "ipython2",
   "version": "2.7.6"
  }
 },
 "nbformat": 4,
 "nbformat_minor": 0
}