{
 "cells": [
  {
   "cell_type": "code",
   "execution_count": 76,
   "outputs": [],
   "source": [
    "from sklearn.feature_extraction.text import TfidfVectorizer\n",
    "import numpy as np\n",
    "import pandas as pd\n",
    "from sklearn.decomposition import NMF\n",
    "import pickle"
   ],
   "metadata": {
    "collapsed": false,
    "pycharm": {
     "name": "#%%\n"
    }
   }
  },
  {
   "cell_type": "markdown",
   "source": [],
   "metadata": {
    "collapsed": false
   }
  },
  {
   "cell_type": "code",
   "execution_count": 77,
   "outputs": [],
   "source": [
    "import warnings\n",
    "warnings.filterwarnings('ignore')"
   ],
   "metadata": {
    "collapsed": false,
    "pycharm": {
     "name": "#%%\n"
    }
   }
  },
  {
   "cell_type": "code",
   "execution_count": 78,
   "outputs": [],
   "source": [
    "with open('responsibilities.pickle', 'rb') as handle:\n",
    "    responsibilities = pickle.load(handle)"
   ],
   "metadata": {
    "collapsed": false,
    "pycharm": {
     "name": "#%%\n"
    }
   }
  },
  {
   "cell_type": "code",
   "execution_count": 79,
   "outputs": [],
   "source": [
    "vec = TfidfVectorizer(stop_words='english', ngram_range=(1,2), token_pattern=\"\\\\b[a-z][a-z]+\\\\b\", max_df=0.8)"
   ],
   "metadata": {
    "collapsed": false,
    "pycharm": {
     "name": "#%%\n"
    }
   }
  },
  {
   "cell_type": "code",
   "execution_count": 80,
   "outputs": [],
   "source": [
    "doc_term = vec.fit_transform(responsibilities)"
   ],
   "metadata": {
    "collapsed": false,
    "pycharm": {
     "name": "#%%\n"
    }
   }
  },
  {
   "cell_type": "code",
   "execution_count": 81,
   "outputs": [
    {
     "data": {
      "text/plain": "<3829x162441 sparse matrix of type '<class 'numpy.float64'>'\n\twith 790636 stored elements in Compressed Sparse Row format>"
     },
     "execution_count": 81,
     "metadata": {},
     "output_type": "execute_result"
    }
   ],
   "source": [
    "doc_term"
   ],
   "metadata": {
    "collapsed": false,
    "pycharm": {
     "name": "#%%\n"
    }
   }
  },
  {
   "cell_type": "markdown",
   "source": [
    "_The below way of displaying vectorisation results as they relate to a specific document was taken from course materials_"
   ],
   "metadata": {
    "collapsed": false
   }
  },
  {
   "cell_type": "code",
   "execution_count": 82,
   "outputs": [
    {
     "data": {
      "text/plain": "making mentor            0.108676\nanalytic                 0.105266\nprogramming access       0.104841\nexecute deep             0.101866\nforage data              0.101866\ndiagnose data            0.101866\nleader participate       0.101866\nquery perform            0.101866\naccess transform         0.101866\nassumption forage        0.101866\nextensive programming    0.101866\nmodeling lead            0.101866\nerror document           0.101866\ntransform prepare        0.101866\ncommunity prepare        0.101866\nperform extensive        0.101866\nforage                   0.101866\ngap engage               0.101866\ndive diagnostic          0.101866\ninconsistency error      0.101866\nName:   develop complex query perform extensive programming access transform prepare datum statistical modeling lead execute deep dive diagnostic predictive prescriptive analytic support data drive business decision making mentor develop junior data scientist analyst identify diagnose data inconsistency error document data assumption forage fill data gap engage internal stakeholder understand probe business process order develop hypothesis bring structure request translate requirement analytic approach guide test design research design model validation provide statistical consultation service serve analytic expert cross functional team large strategic initiative contribute growth analytic community prepare deliver insight presentation action recommendation communicate complex analytical finding implication business leader participate special project perform duty assign, dtype: float64"
     },
     "execution_count": 82,
     "metadata": {},
     "output_type": "execute_result"
    }
   ],
   "source": [
    "i = 200\n",
    "\n",
    "doc = pd.Series(name=responsibilities[i],\n",
    "                data=doc_term.toarray()[i],\n",
    "                index=vec.get_feature_names()) \\\n",
    "   .sort_values(ascending=False)\n",
    "\n",
    "doc[:20]"
   ],
   "metadata": {
    "collapsed": false,
    "pycharm": {
     "name": "#%%\n"
    }
   }
  },
  {
   "cell_type": "markdown",
   "source": [
    "_The function below was adapted from an answer on Stack Overflow_"
   ],
   "metadata": {
    "collapsed": false
   }
  },
  {
   "cell_type": "code",
   "execution_count": 83,
   "outputs": [],
   "source": [
    "def get_top_n_words(bag_of_words, n=20):\n",
    "    sum_words = bag_of_words.sum(axis=0)\n",
    "    words_freq = [(word, sum_words[0, idx]) for word, idx in     vec.vocabulary_.items()]\n",
    "    words_freq =sorted(words_freq, key = lambda x: x[1], reverse=True)\n",
    "    return words_freq[:n]"
   ],
   "metadata": {
    "collapsed": false,
    "pycharm": {
     "name": "#%%\n"
    }
   }
  },
  {
   "cell_type": "code",
   "execution_count": 84,
   "outputs": [
    {
     "data": {
      "text/plain": "[('data', 154.86847985694112),\n ('datum', 119.17217813610506),\n ('model', 102.75457574131033),\n ('business', 102.41453171460711),\n ('team', 93.45905592651582),\n ('work', 81.75520471365722),\n ('learning', 81.31332713884308),\n ('develop', 75.11564441290079),\n ('machine', 72.1533437507641),\n ('machine learning', 70.92838613092705),\n ('product', 70.87290302980456),\n ('analysis', 69.7824886735079),\n ('solution', 62.37997201198718),\n ('build', 61.83343405928745),\n ('experience', 59.477981546610344),\n ('analytic', 56.74883599866434),\n ('design', 55.759993256474786),\n ('science', 54.565372821317276),\n ('customer', 54.387273179623165),\n ('support', 53.632936252233655)]"
     },
     "execution_count": 84,
     "metadata": {},
     "output_type": "execute_result"
    }
   ],
   "source": [
    "get_top_n_words(doc_term, 20)"
   ],
   "metadata": {
    "collapsed": false,
    "pycharm": {
     "name": "#%%\n"
    }
   }
  },
  {
   "cell_type": "code",
   "execution_count": 85,
   "outputs": [
    {
     "data": {
      "text/plain": "(3829, 162441)"
     },
     "execution_count": 85,
     "metadata": {},
     "output_type": "execute_result"
    }
   ],
   "source": [
    "doc_term.shape"
   ],
   "metadata": {
    "collapsed": false,
    "pycharm": {
     "name": "#%%\n"
    }
   }
  },
  {
   "cell_type": "code",
   "execution_count": 86,
   "outputs": [],
   "source": [
    "feature_names = vec.get_feature_names()"
   ],
   "metadata": {
    "collapsed": false,
    "pycharm": {
     "name": "#%%\n"
    }
   }
  },
  {
   "cell_type": "code",
   "execution_count": 87,
   "outputs": [],
   "source": [
    "nmf_5 = NMF(n_components=5)\n",
    "doc_topic_5 = nmf_5.fit_transform(doc_term)"
   ],
   "metadata": {
    "collapsed": false,
    "pycharm": {
     "name": "#%%\n"
    }
   }
  },
  {
   "cell_type": "code",
   "execution_count": 88,
   "outputs": [
    {
     "data": {
      "text/plain": "(5, 162441)"
     },
     "execution_count": 88,
     "metadata": {},
     "output_type": "execute_result"
    }
   ],
   "source": [
    "nmf_5.components_.shape"
   ],
   "metadata": {
    "collapsed": false,
    "pycharm": {
     "name": "#%%\n"
    }
   }
  },
  {
   "cell_type": "markdown",
   "source": [
    "_The function below was adapted from a function in the course materials_"
   ],
   "metadata": {
    "collapsed": false
   }
  },
  {
   "cell_type": "code",
   "execution_count": 89,
   "outputs": [],
   "source": [
    "def get_top_terms(topic, n_terms, nmf=nmf_5, terms=feature_names):\n",
    "    # get the topic components (i.e., term weights)\n",
    "    components = nmf.components_[topic, :]\n",
    "    # print(components.argsort()[-n_terms:])\n",
    "    # print(components.argsort()[:-n_terms - 1:-1])\n",
    "\n",
    "    # get term indices, sorted (descending) by topic weights\n",
    "    top_term_indices = components.argsort()[:-n_terms - 1:-1]\n",
    "\n",
    "    # use the `terms` array to get the actual top terms\n",
    "    top_terms = np.array(terms)[top_term_indices]\n",
    "\n",
    "    return top_terms.tolist()"
   ],
   "metadata": {
    "collapsed": false,
    "pycharm": {
     "name": "#%%\n"
    }
   }
  },
  {
   "cell_type": "code",
   "execution_count": 90,
   "outputs": [
    {
     "data": {
      "text/plain": "[['data', 'datum', 'business', 'analysis', 'analytic'],\n ['learning', 'machine', 'machine learning', 'model', 'ml'],\n ['life', 'balance', 'culture', 'culture inclusion', 'employee'],\n ['business', 'model', 'datum', 'analytical model', 'support'],\n ['model', 'accuracy', 'outcome develop', 'data', 'monitor']]"
     },
     "execution_count": 90,
     "metadata": {},
     "output_type": "execute_result"
    }
   ],
   "source": [
    "topics_5 = [get_top_terms(i, 5) for i in range(5)]\n",
    "topics_5"
   ],
   "metadata": {
    "collapsed": false,
    "pycharm": {
     "name": "#%%\n"
    }
   }
  },
  {
   "cell_type": "code",
   "execution_count": 105,
   "outputs": [
    {
     "data": {
      "text/plain": "['business project technical statistical analytical solution analytic problem business partner business problem',\n 'learning machine machine learning ml model engineer learning model ai build pipeline',\n 'life balance culture culture inclusion career growth employee inclusion career team member',\n 'business model datum analytical model support example testing problem technique appropriate',\n 'outcome develop accuracy model monitor outcome data tool monitor effectiveness accuracy gathering technique accuracy new',\n 'product drive team metric decision insight inform define strategy product team',\n 'data science data science team scientist data scientist solution work business project',\n 'experience ability skill computer degree field strong language work knowledge',\n 'marketing connect term modeling mix brand partner optimization build enhance media mix',\n 'clinical research datum health patient development study analysis support scientific',\n 'client consulting service help client professional consultant technology market global automation',\n 'datum data analysis source information process analyze model visualization analytic',\n 'risk credit model fraud management loss marketing process credit risk strategy',\n 'prediction source join public technology logit clustering purpose source financial transform join maintain consultative consultative relationship proprietary internal',\n 'mission cyber mission capability integrator solve daunting capability integrator daunting daunting challenge people safe safe secure',\n 'downstream processing design accurate structure downstream accurate scalable processing design quality cleansing cleansing structure assess quality datum assess downstream',\n 'logistic management client logistic research question solution narrative government mission integrate capability management challenge',\n 'space commercial enterprise new assign size deliver space enterprise learning progress range national member duty knowledge space',\n 'status equal protect employment associate gender disability equity opportunity equal employment',\n 'cognitive decision maker maker client decision analytic tool enterprise delivery insight attention interplay interplay datum']"
     },
     "execution_count": 105,
     "metadata": {},
     "output_type": "execute_result"
    }
   ],
   "source": [
    "nmf_20 = NMF(n_components=20)\n",
    "nmf_20.fit_transform(doc_term)"
   ],
   "metadata": {
    "collapsed": false,
    "pycharm": {
     "name": "#%%\n"
    }
   }
  },
  {
   "cell_type": "code",
   "execution_count": null,
   "outputs": [],
   "source": [
    "topics_20 = [' '.join(get_top_terms(i, 10, nmf_20)) for i in range(20)]\n",
    "topics_20"
   ],
   "metadata": {
    "collapsed": false,
    "pycharm": {
     "name": "#%%\n"
    }
   }
  },
  {
   "cell_type": "code",
   "execution_count": 94,
   "outputs": [],
   "source": [
    "nmf_10 = NMF(n_components=10)\n",
    "doc_topic_10 = nmf_10.fit_transform(doc_term)"
   ],
   "metadata": {
    "collapsed": false,
    "pycharm": {
     "name": "#%%\n"
    }
   }
  },
  {
   "cell_type": "code",
   "execution_count": 120,
   "outputs": [
    {
     "name": "stdout",
     "output_type": "stream",
     "text": [
      "['datum', 'analysis', 'data', 'statistical', 'business', 'model', 'develop', 'analytic', 'process']\n",
      "['learning', 'machine', 'machine learning', 'model', 'ml', 'engineer', 'learning model', 'ai', 'build']\n",
      "['life', 'balance', 'culture', 'culture inclusion', 'career growth', 'employee', 'inclusion', 'career', 'team']\n",
      "['business', 'model', 'analytical model', 'datum', 'support', 'problem', 'example', 'testing', 'business problem']\n",
      "['accuracy', 'outcome develop', 'model', 'data', 'monitor', 'outcome', 'tool monitor', 'effectiveness accuracy', 'gathering technique']\n",
      "['product', 'drive', 'team', 'metric', 'decision', 'insight', 'business', 'build', 'strategy']\n",
      "['data', 'science', 'data science', 'business', 'team', 'solution', 'project', 'data scientist', 'scientist']\n",
      "['experience', 'ability', 'skill', 'computer', 'degree', 'strong', 'work', 'field', 'language']\n",
      "['marketing', 'connect', 'term', 'modeling', 'mix', 'brand', 'partner', 'optimization', 'build enhance']\n",
      "['client', 'consulting', 'service', 'help client', 'professional', 'technology', 'consultant', 'market', 'mission']\n"
     ]
    },
    {
     "data": {
      "text/plain": "[None, None, None, None, None, None, None, None, None, None]"
     },
     "execution_count": 120,
     "metadata": {},
     "output_type": "execute_result"
    }
   ],
   "source": [
    "[print(get_top_terms(i, 9, nmf_10)) for i in range(10)]"
   ],
   "metadata": {
    "collapsed": false,
    "pycharm": {
     "name": "#%%\n"
    }
   }
  },
  {
   "cell_type": "code",
   "execution_count": 106,
   "outputs": [
    {
     "data": {
      "text/plain": "['datum analysis data statistical business model develop analytic process support',\n 'learning machine machine learning model ml engineer learning model ai build pipeline',\n 'life balance culture culture inclusion career growth employee inclusion career team member',\n 'business model analytical model datum support problem example testing business problem technique',\n 'accuracy outcome develop model data monitor outcome tool monitor effectiveness accuracy gathering technique accuracy new',\n 'product drive team metric decision insight business build strategy define',\n 'data science data science business team solution project data scientist scientist technical',\n 'experience ability skill computer degree strong work field language knowledge',\n 'marketing connect term modeling mix brand partner optimization build enhance media mix',\n 'client consulting service help client professional technology consultant market mission help']"
     },
     "execution_count": 106,
     "metadata": {},
     "output_type": "execute_result"
    }
   ],
   "source": [
    "topics_10 = [' '.join(get_top_terms(i, 10, nmf_10)) for i in range(10)]\n",
    "topics_10"
   ],
   "metadata": {
    "collapsed": false,
    "pycharm": {
     "name": "#%%\n"
    }
   }
  },
  {
   "cell_type": "code",
   "execution_count": 108,
   "outputs": [
    {
     "data": {
      "text/plain": "array([[0.03485058, 0.03592652, 0.00092143, ..., 0.00053528, 0.        ,\n        0.        ],\n       [0.03391614, 0.        , 0.        , ..., 0.0487905 , 0.00414699,\n        0.03039746],\n       [0.01914835, 0.00250696, 0.00767719, ..., 0.00694049, 0.        ,\n        0.00545855],\n       ...,\n       [0.0440359 , 0.        , 0.        , ..., 0.        , 0.00997153,\n        0.07137434],\n       [0.0440359 , 0.        , 0.        , ..., 0.        , 0.00997153,\n        0.07137434],\n       [0.        , 0.08136391, 0.00413426, ..., 0.00884508, 0.00159724,\n        0.00394441]])"
     },
     "execution_count": 108,
     "metadata": {},
     "output_type": "execute_result"
    }
   ],
   "source": [
    "doc_topic_10"
   ],
   "metadata": {
    "collapsed": false,
    "pycharm": {
     "name": "#%%\n"
    }
   }
  },
  {
   "cell_type": "code",
   "execution_count": 113,
   "outputs": [
    {
     "data": {
      "text/plain": "array([[0.03485058, 0.03592652, 0.00092143, 0.        , 0.00472712],\n       [0.03391614, 0.        , 0.        , 0.00122443, 0.00982022],\n       [0.01914835, 0.00250696, 0.00767719, 0.        , 0.        ],\n       ...,\n       [0.0440359 , 0.        , 0.        , 0.        , 0.        ],\n       [0.0440359 , 0.        , 0.        , 0.        , 0.        ],\n       [0.        , 0.08136391, 0.00413426, 0.        , 0.02907686]])"
     },
     "execution_count": 113,
     "metadata": {},
     "output_type": "execute_result"
    }
   ],
   "source": [
    "doc_topic_new_5 = np.delete(doc_topic_10, [3,6,7,8,9], 1)\n",
    "doc_topic_new_5"
   ],
   "metadata": {
    "collapsed": false,
    "pycharm": {
     "name": "#%%\n"
    }
   }
  },
  {
   "cell_type": "code",
   "execution_count": 115,
   "outputs": [
    {
     "data": {
      "text/plain": "array([0.12677527, 0.16401473, 0.39026006, 0.44803592, 0.25063744])"
     },
     "execution_count": 115,
     "metadata": {},
     "output_type": "execute_result"
    }
   ],
   "source": [
    "doc_topic_new_5.max(axis=0)"
   ],
   "metadata": {
    "collapsed": false,
    "pycharm": {
     "name": "#%%\n"
    }
   }
  },
  {
   "cell_type": "code",
   "execution_count": 114,
   "outputs": [],
   "source": [
    "import pickle\n",
    "\n",
    "with open('doc_topic_new_5.pickle', 'wb') as handle:\n",
    "   pickle.dump(doc_topic_new_5, handle)"
   ],
   "metadata": {
    "collapsed": false,
    "pycharm": {
     "name": "#%%\n"
    }
   }
  },
  {
   "cell_type": "code",
   "execution_count": null,
   "outputs": [],
   "source": [
    "type(doc_topic_5)"
   ],
   "metadata": {
    "collapsed": false,
    "pycharm": {
     "name": "#%%\n"
    }
   }
  },
  {
   "cell_type": "code",
   "execution_count": null,
   "outputs": [],
   "source": [
    "df_doc_topic = pd.DataFrame(data=doc_topic_5, index=df.index)"
   ],
   "metadata": {
    "collapsed": false,
    "pycharm": {
     "name": "#%%\n"
    }
   }
  },
  {
   "cell_type": "code",
   "execution_count": null,
   "outputs": [],
   "source": [
    "df_doc_topic.describe()"
   ],
   "metadata": {
    "collapsed": false,
    "pycharm": {
     "name": "#%%\n"
    }
   }
  },
  {
   "cell_type": "code",
   "execution_count": null,
   "outputs": [],
   "source": [
    "doc_topic_5[0]"
   ],
   "metadata": {
    "collapsed": false,
    "pycharm": {
     "name": "#%%\n"
    }
   }
  },
  {
   "cell_type": "code",
   "execution_count": null,
   "outputs": [],
   "source": [
    "target = doc_topic_5[3].copy()"
   ],
   "metadata": {
    "collapsed": false,
    "pycharm": {
     "name": "#%%\n"
    }
   }
  },
  {
   "cell_type": "code",
   "execution_count": null,
   "outputs": [],
   "source": [
    "target[0] = 10"
   ],
   "metadata": {
    "collapsed": false,
    "pycharm": {
     "name": "#%%\n"
    }
   }
  },
  {
   "cell_type": "code",
   "execution_count": null,
   "outputs": [],
   "source": [
    "\n",
    "myvals = np.dot(doc_topic_5, target)\n",
    "max_index = np.argmax(myvals)"
   ],
   "metadata": {
    "collapsed": false,
    "pycharm": {
     "name": "#%%\n"
    }
   }
  },
  {
   "cell_type": "code",
   "execution_count": null,
   "outputs": [],
   "source": [
    "max_index"
   ],
   "metadata": {
    "collapsed": false,
    "pycharm": {
     "name": "#%%\n"
    }
   }
  },
  {
   "cell_type": "code",
   "execution_count": null,
   "outputs": [],
   "source": [
    "max_similarity = myvals[max_index]\n",
    "max_similarity"
   ],
   "metadata": {
    "collapsed": false,
    "pycharm": {
     "name": "#%%\n"
    }
   }
  },
  {
   "cell_type": "code",
   "execution_count": null,
   "outputs": [],
   "source": [
    "from scipy.spatial import distance"
   ],
   "metadata": {
    "collapsed": false,
    "pycharm": {
     "name": "#%%\n"
    }
   }
  },
  {
   "cell_type": "code",
   "execution_count": null,
   "outputs": [],
   "source": [
    "target"
   ],
   "metadata": {
    "collapsed": false,
    "pycharm": {
     "name": "#%%\n"
    }
   }
  },
  {
   "cell_type": "code",
   "execution_count": null,
   "outputs": [],
   "source": [
    "# def index_closest(target, doc_topic):\n",
    "#     distances = distance.cdist([target], doc_topic, \"cosine\")[0]\n",
    "#     return np.argmin(distances)"
   ],
   "metadata": {
    "collapsed": false,
    "pycharm": {
     "name": "#%%\n"
    }
   }
  },
  {
   "cell_type": "code",
   "execution_count": null,
   "outputs": [],
   "source": [
    "def index_closest(target, doc_topic):\n",
    "    return distance.cdist([target], doc_topic, \"cosine\")[0]\n"
   ],
   "metadata": {
    "collapsed": false,
    "pycharm": {
     "name": "#%%\n"
    }
   }
  },
  {
   "cell_type": "code",
   "execution_count": null,
   "outputs": [],
   "source": [
    "distances = index_closest(target, doc_topic_5)"
   ],
   "metadata": {
    "collapsed": false,
    "pycharm": {
     "name": "#%%\n"
    }
   }
  },
  {
   "cell_type": "code",
   "execution_count": null,
   "outputs": [],
   "source": [
    "np.argmin(distances)"
   ],
   "metadata": {
    "collapsed": false,
    "pycharm": {
     "name": "#%%\n"
    }
   }
  },
  {
   "cell_type": "code",
   "execution_count": null,
   "outputs": [],
   "source": [
    "distances.argsort()[:5]"
   ],
   "metadata": {
    "collapsed": false,
    "pycharm": {
     "name": "#%%\n"
    }
   }
  },
  {
   "cell_type": "code",
   "execution_count": null,
   "outputs": [],
   "source": [
    "index_closest([100,100,0,0,0], doc_topic_5)"
   ],
   "metadata": {
    "collapsed": false,
    "pycharm": {
     "name": "#%%\n"
    }
   }
  },
  {
   "cell_type": "code",
   "execution_count": null,
   "outputs": [],
   "source": [],
   "metadata": {
    "collapsed": false,
    "pycharm": {
     "name": "#%%\n"
    }
   }
  },
  {
   "cell_type": "code",
   "execution_count": null,
   "outputs": [],
   "source": [
    "distances.argsort()[:3]"
   ],
   "metadata": {
    "collapsed": false,
    "pycharm": {
     "name": "#%%\n"
    }
   }
  },
  {
   "cell_type": "code",
   "execution_count": null,
   "outputs": [],
   "source": [
    "type(df_doc_topic.iloc[3138])"
   ],
   "metadata": {
    "collapsed": false,
    "pycharm": {
     "name": "#%%\n"
    }
   }
  },
  {
   "cell_type": "code",
   "execution_count": null,
   "outputs": [],
   "source": [
    "df_doc_topic.iloc[1]"
   ],
   "metadata": {
    "collapsed": false,
    "pycharm": {
     "name": "#%%\n"
    }
   }
  },
  {
   "cell_type": "code",
   "execution_count": null,
   "outputs": [],
   "source": [
    "df.iloc[1012]['responsibilities']"
   ],
   "metadata": {
    "collapsed": false,
    "pycharm": {
     "name": "#%%\n"
    }
   }
  },
  {
   "cell_type": "code",
   "execution_count": null,
   "outputs": [],
   "source": [],
   "metadata": {
    "collapsed": false,
    "pycharm": {
     "name": "#%%\n"
    }
   }
  }
 ],
 "metadata": {
  "kernelspec": {
   "display_name": "Python 3",
   "language": "python",
   "name": "python3"
  },
  "language_info": {
   "codemirror_mode": {
    "name": "ipython",
    "version": 2
   },
   "file_extension": ".py",
   "mimetype": "text/x-python",
   "name": "python",
   "nbconvert_exporter": "python",
   "pygments_lexer": "ipython2",
   "version": "2.7.6"
  }
 },
 "nbformat": 4,
 "nbformat_minor": 0
}