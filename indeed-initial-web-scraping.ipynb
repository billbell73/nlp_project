{
 "cells": [
  {
   "cell_type": "code",
   "execution_count": 21,
   "outputs": [],
   "source": [
    "job_ids = {}"
   ],
   "metadata": {
    "collapsed": false,
    "pycharm": {
     "name": "#%%\n"
    }
   }
  },
  {
   "cell_type": "code",
   "execution_count": 22,
   "outputs": [],
   "source": [
    "from bs4 import BeautifulSoup as bs\n",
    "import re"
   ],
   "metadata": {
    "collapsed": false,
    "pycharm": {
     "name": "#%%\n"
    }
   }
  },
  {
   "cell_type": "code",
   "execution_count": 23,
   "outputs": [],
   "source": [
    "from selenium import webdriver\n",
    "import os\n",
    "\n",
    "chromedriver = \"/Users/william.bell/opt/anaconda3/envs/metis/lib/python3.8/site-packages/chromedriver_binary/chromedriver\" # path to the chromedriver executable\n",
    "os.environ[\"webdriver.chrome.driver\"] = chromedriver"
   ],
   "metadata": {
    "collapsed": false,
    "pycharm": {
     "name": "#%%\n"
    }
   }
  },
  {
   "cell_type": "code",
   "execution_count": 24,
   "outputs": [],
   "source": [
    "driver = webdriver.Chrome(chromedriver)\n",
    "driver.implicitly_wait(10)"
   ],
   "metadata": {
    "collapsed": false,
    "pycharm": {
     "name": "#%%\n"
    }
   }
  },
  {
   "cell_type": "code",
   "execution_count": 25,
   "outputs": [],
   "source": [
    "search_results_url = f\"https://uk.indeed.com/jobs?q=data%20scientist\"\n",
    "driver.get(search_results_url)\n",
    "# driver.maximize_window()"
   ],
   "metadata": {
    "collapsed": false,
    "pycharm": {
     "name": "#%%\n"
    }
   }
  },
  {
   "cell_type": "code",
   "execution_count": 26,
   "outputs": [
    {
     "data": {
      "text/plain": "['4b91fb225034dbcd',\n '9da03cdc1f38e23e',\n '5573e1b6447a8af6',\n '1fe7173e0d89af7a',\n 'f1b98d776e72be61',\n '278142c7efa8c49a',\n 'e7362c51c4671308',\n '1e75c64559d233ac',\n 'c8610c368721c0ab',\n 'b9674db94a63aa09',\n '402a961d9343589c',\n '98f78125259351fb',\n '3a3962e851fcabfd',\n 'af9df3033edaa0ad',\n '295dd432199a8abf']"
     },
     "execution_count": 26,
     "metadata": {},
     "output_type": "execute_result"
    }
   ],
   "source": [
    "pattern = \"jobKeysWithInfo\\['(\\w+)\"\n",
    "jobs = re.findall(pattern, driver.page_source)\n",
    "jobs\n"
   ],
   "metadata": {
    "collapsed": false,
    "pycharm": {
     "name": "#%%\n"
    }
   }
  },
  {
   "cell_type": "code",
   "execution_count": 20,
   "outputs": [
    {
     "data": {
      "text/plain": "['c71b72157f64f825',\n '5347a81d4af5abc4',\n 'ecfd94ad120e8423',\n 'd64d5a2b920ce762',\n '0cf703501b1169d1',\n '11ba8158be4bfa19']"
     },
     "execution_count": 20,
     "metadata": {},
     "output_type": "execute_result"
    }
   ],
   "source": [
    "text  = \"\"\"jobKeysWithInfo['c71b72157f64f825'] = true;\n",
    "\n",
    "jobKeysWithInfo['5347a81d4af5abc4'] = true;\n",
    "\n",
    "jobKeysWithInfo['ecfd94ad120e8423'] = true;\n",
    "\n",
    "jobKeysWithInfo['d64d5a2b920ce762'] = true;\n",
    "\n",
    "jobKeysWithInfo['0cf703501b1169d1'] = true;\n",
    "\n",
    "jobKeysWithInfo['11ba8158be4bfa19'] = true; \"\"\"\n",
    "\n",
    "# pattern = re.compile(\"jobKeysWithInfo\\['(\\w+)\")\n",
    "pattern = \"jobKeysWithInfo\\['(\\w+)\"\n",
    "re.findall(pattern, text)\n",
    "\n",
    "\n",
    "\n",
    "\n"
   ],
   "metadata": {
    "collapsed": false,
    "pycharm": {
     "name": "#%%\n"
    }
   }
  },
  {
   "cell_type": "code",
   "execution_count": null,
   "outputs": [],
   "source": [
    "driver.page_source"
   ],
   "metadata": {
    "collapsed": false,
    "pycharm": {
     "name": "#%%\n",
     "is_executing": true
    }
   }
  },
  {
   "cell_type": "code",
   "execution_count": null,
   "outputs": [],
   "source": [
    "soup"
   ],
   "metadata": {
    "collapsed": false,
    "pycharm": {
     "name": "#%%\n",
     "is_executing": true
    }
   }
  },
  {
   "cell_type": "code",
   "execution_count": 36,
   "outputs": [],
   "source": [
    "pattern = r'(\\d+)\\?'"
   ],
   "metadata": {
    "collapsed": false,
    "pycharm": {
     "name": "#%%\n"
    }
   }
  },
  {
   "cell_type": "code",
   "execution_count": 37,
   "outputs": [
    {
     "name": "stdout",
     "output_type": "stream",
     "text": [
      "duplicate car id found: 202107084774284\n",
      "duplicate car id found: 202110218751352\n",
      "duplicate car id found: 202108186392335\n",
      "duplicate car id found: 202107084774284\n",
      "duplicate car id found: 202108065928317\n",
      "duplicate car id found: 201907220340973\n",
      "duplicate car id found: 202110048110259\n",
      "duplicate car id found: 202110078225059\n",
      "duplicate car id found: 201907220340973\n",
      "duplicate car id found: 202108266653969\n",
      "duplicate car id found: 202110228774671\n",
      "duplicate car id found: 202108186392335\n",
      "duplicate car id found: 202108266653969\n",
      "duplicate car id found: 202108065928307\n",
      "duplicate car id found: 202110048110259\n",
      "duplicate car id found: 202108266653969\n",
      "duplicate car id found: 202110078225059\n",
      "duplicate car id found: 202108266653969\n",
      "duplicate car id found: 202108186392335\n",
      "duplicate car id found: 202108065928317\n",
      "duplicate car id found: 202107084774284\n",
      "duplicate car id found: 202108186392335\n",
      "duplicate car id found: 202108065928317\n",
      "duplicate car id found: 202108186392335\n",
      "duplicate car id found: 201907220340973\n",
      "duplicate car id found: 202110188623506\n",
      "duplicate car id found: 202108266653969\n",
      "duplicate car id found: 202110048110259\n",
      "duplicate car id found: 202109026919221\n",
      "duplicate car id found: 202110048110259\n",
      "duplicate car id found: 202108266653969\n",
      "duplicate car id found: 201907220340973\n",
      "duplicate car id found: 202108065928317\n",
      "duplicate car id found: 202108186392335\n",
      "duplicate car id found: 202110048110259\n",
      "duplicate car id found: 202108035795307\n",
      "duplicate car id found: 201907220340973\n",
      "duplicate car id found: 202108186392335\n",
      "duplicate car id found: 202110188623506\n",
      "duplicate car id found: 202107084774284\n",
      "duplicate car id found: 201907220340973\n",
      "duplicate car id found: 202110088266125\n",
      "duplicate car id found: 202110188623506\n",
      "duplicate car id found: 201907220340973\n",
      "duplicate car id found: 202110048110259\n",
      "duplicate car id found: 202110068186483\n",
      "duplicate car id found: 201907220340973\n",
      "duplicate car id found: 202110048110259\n",
      "duplicate car id found: 202110068186483\n",
      "duplicate car id found: 201907220340973\n",
      "duplicate car id found: 202108266653969\n",
      "duplicate car id found: 202110078225059\n",
      "duplicate car id found: 202108186392335\n",
      "duplicate car id found: 202107084774284\n",
      "duplicate car id found: 202110188623506\n",
      "duplicate car id found: 201907220340973\n",
      "duplicate car id found: 202108186392335\n",
      "duplicate car id found: 202110078225059\n",
      "duplicate car id found: 201907220340973\n",
      "duplicate car id found: 202108266653969\n",
      "duplicate car id found: 202105122516457\n",
      "duplicate car id found: 202107084774284\n",
      "duplicate car id found: 201907220340973\n",
      "duplicate car id found: 202110078225059\n",
      "duplicate car id found: 202108186392335\n",
      "duplicate car id found: 202108266653969\n",
      "duplicate car id found: 202110078225059\n",
      "duplicate car id found: 202107084774284\n",
      "duplicate car id found: 202108266653969\n",
      "duplicate car id found: 202110188623506\n",
      "duplicate car id found: 202108186392335\n",
      "duplicate car id found: 202108186392335\n",
      "duplicate car id found: 202108065928307\n",
      "duplicate car id found: 202110048110259\n",
      "duplicate car id found: 202108186392335\n",
      "duplicate car id found: 202108065928307\n",
      "duplicate car id found: 202107084774284\n",
      "duplicate car id found: 202108266653969\n",
      "duplicate car id found: 202107084774284\n",
      "duplicate car id found: 202110078225059\n",
      "duplicate car id found: 201907220340973\n",
      "duplicate car id found: 202107084774284\n",
      "duplicate car id found: 202108065928317\n",
      "duplicate car id found: 201907220340973\n",
      "duplicate car id found: 201907220340973\n",
      "duplicate car id found: 202110048110259\n",
      "duplicate car id found: 202109207563077\n",
      "duplicate car id found: 202108065928307\n",
      "duplicate car id found: 201907220340973\n",
      "duplicate car id found: 201907220340973\n",
      "duplicate car id found: 202108065928307\n",
      "duplicate car id found: 201907220340973\n",
      "duplicate car id found: 202108266653969\n",
      "duplicate car id found: 202108035795307\n",
      "duplicate car id found: 202110048110259\n",
      "duplicate car id found: 201907220340973\n",
      "duplicate car id found: 202110228774671\n",
      "duplicate car id found: 202108266653969\n",
      "duplicate car id found: 202110048110259\n",
      "duplicate car id found: 202105122516457\n",
      "duplicate car id found: 202110048110259\n",
      "duplicate car id found: 202108186392335\n",
      "duplicate car id found: 202110228774671\n",
      "duplicate car id found: 202108266653969\n",
      "duplicate car id found: 202108186392335\n",
      "duplicate car id found: 202108065928317\n",
      "duplicate car id found: 202110048110259\n",
      "duplicate car id found: 202110048110259\n",
      "duplicate car id found: 202110078225059\n",
      "duplicate car id found: 201907220340973\n",
      "duplicate car id found: 202108266653969\n",
      "duplicate car id found: 202110228774671\n",
      "duplicate car id found: 202108186392335\n",
      "duplicate car id found: 202110048110259\n",
      "duplicate car id found: 202109026919221\n",
      "duplicate car id found: 202110048110259\n",
      "duplicate car id found: 202110048110259\n",
      "duplicate car id found: 202110228774671\n",
      "duplicate car id found: 202110048110259\n",
      "duplicate car id found: 201907220340973\n",
      "duplicate car id found: 202108065928317\n",
      "duplicate car id found: 201907220340973\n",
      "duplicate car id found: 202110048110259\n",
      "duplicate car id found: 202110188623506\n",
      "duplicate car id found: 202110048110259\n",
      "duplicate car id found: 201907220340973\n",
      "duplicate car id found: 202110188623506\n",
      "duplicate car id found: 202107084774284\n",
      "duplicate car id found: 202108186392335\n",
      "duplicate car id found: 202110068186483\n",
      "duplicate car id found: 202108186392335\n",
      "duplicate car id found: 202108186392335\n",
      "duplicate car id found: 202108035795307\n",
      "duplicate car id found: 202107084774284\n",
      "duplicate car id found: 201907220340973\n",
      "duplicate car id found: 202109026919221\n",
      "duplicate car id found: 201907220340973\n",
      "duplicate car id found: 201907220340973\n",
      "duplicate car id found: 202108035795307\n",
      "duplicate car id found: 202108266653969\n",
      "duplicate car id found: 202108186392335\n",
      "duplicate car id found: 202110218751352\n",
      "duplicate car id found: 202108186392335\n",
      "duplicate car id found: 202108266653969\n",
      "duplicate car id found: 202110228774671\n",
      "duplicate car id found: 202110048110259\n",
      "duplicate car id found: 202107084774284\n",
      "duplicate car id found: 202110078225059\n",
      "duplicate car id found: 202107084774284\n",
      "duplicate car id found: 202107084774284\n",
      "duplicate car id found: 202108035795307\n",
      "duplicate car id found: 202107084774284\n",
      "duplicate car id found: 201907220340973\n",
      "duplicate car id found: 202108065928317\n",
      "duplicate car id found: 201907220340973\n",
      "duplicate car id found: 202110048110259\n",
      "duplicate car id found: 202110218751352\n",
      "duplicate car id found: 202108186392335\n",
      "duplicate car id found: 201907220340973\n",
      "duplicate car id found: 202105122516457\n",
      "duplicate car id found: 202108266653969\n",
      "duplicate car id found: 201907220340973\n",
      "duplicate car id found: 202108266653969\n",
      "duplicate car id found: 202105122516457\n",
      "duplicate car id found: 202110048110259\n",
      "duplicate car id found: 202108186392335\n",
      "duplicate car id found: 202108065928317\n",
      "duplicate car id found: 202108266653969\n",
      "duplicate car id found: 202108266653969\n",
      "duplicate car id found: 202110078225059\n",
      "duplicate car id found: 202108266653969\n",
      "duplicate car id found: 202107084774284\n",
      "duplicate car id found: 202108065928317\n",
      "duplicate car id found: 202108186392335\n",
      "duplicate car id found: 202108266653969\n",
      "duplicate car id found: 202110078225059\n",
      "duplicate car id found: 202108266653969\n",
      "duplicate car id found: 202110048110259\n",
      "duplicate car id found: 202105122516457\n",
      "duplicate car id found: 202107084774284\n",
      "duplicate car id found: 202110048110259\n",
      "duplicate car id found: 202110218751352\n",
      "duplicate car id found: 202110048110259\n",
      "duplicate car id found: 202108186392335\n",
      "duplicate car id found: 202110188623506\n",
      "duplicate car id found: 201907220340973\n",
      "duplicate car id found: 202108266653969\n",
      "duplicate car id found: 202108065928317\n",
      "duplicate car id found: 202108186392335\n",
      "duplicate car id found: 202108186392335\n",
      "duplicate car id found: 202108065928307\n",
      "duplicate car id found: 202108186392335\n",
      "duplicate car id found: 201907220340973\n",
      "duplicate car id found: 202108065928307\n",
      "duplicate car id found: 201907220340973\n",
      "duplicate car id found: 202107084774284\n",
      "duplicate car id found: 202110068186483\n",
      "duplicate car id found: 201907220340973\n",
      "duplicate car id found: 202108266653969\n",
      "duplicate car id found: 202109026919221\n",
      "duplicate car id found: 202108266653969\n",
      "duplicate car id found: 202110048110259\n",
      "duplicate car id found: 202109026919221\n",
      "duplicate car id found: 202108266653969\n",
      "duplicate car id found: 201907220340973\n",
      "duplicate car id found: 202110218751352\n",
      "duplicate car id found: 201907220340973\n",
      "duplicate car id found: 202107084774284\n",
      "duplicate car id found: 202110068186483\n",
      "duplicate car id found: 202110048110259\n",
      "duplicate car id found: 202108186392335\n",
      "duplicate car id found: 202110068186483\n",
      "duplicate car id found: 202109026919221\n",
      "duplicate car id found: 202110048110259\n",
      "duplicate car id found: 202108266653969\n",
      "duplicate car id found: 202110218751352\n",
      "duplicate car id found: 202108266653969\n",
      "duplicate car id found: 202110048110259\n",
      "duplicate car id found: 202108035795307\n",
      "duplicate car id found: 202110048110259\n",
      "duplicate car id found: 201907220340973\n",
      "duplicate car id found: 202110228774671\n",
      "duplicate car id found: 202107084774284\n",
      "duplicate car id found: 202107084774284\n",
      "duplicate car id found: 202108065928307\n",
      "duplicate car id found: 202110048110259\n",
      "duplicate car id found: 202107084774284\n",
      "duplicate car id found: 202110228774671\n",
      "duplicate car id found: 202110048110259\n",
      "duplicate car id found: 202108266653969\n",
      "duplicate car id found: 202110198658832\n",
      "duplicate car id found: 202109036966539\n",
      "duplicate car id found: 202108196441037\n",
      "duplicate car id found: 202109307974312\n",
      "duplicate car id found: 202108126159978\n",
      "duplicate car id found: 202109107220100\n",
      "duplicate car id found: 202107275505876\n",
      "duplicate car id found: 202110078229189\n",
      "duplicate car id found: 202110078225059\n",
      "duplicate car id found: 202108266653969\n",
      "duplicate car id found: 202108266653969\n",
      "duplicate car id found: 202110158509140\n",
      "duplicate car id found: 202109036946261\n",
      "duplicate car id found: 202106053502132\n",
      "duplicate car id found: 202110218740737\n",
      "duplicate car id found: 202109046978892\n",
      "duplicate car id found: 202103220448000\n",
      "duplicate car id found: 202109307953166\n",
      "duplicate car id found: 202109046977252\n",
      "duplicate car id found: 202108316827191\n",
      "duplicate car id found: 202110208712847\n",
      "duplicate car id found: 202110218751352\n",
      "duplicate car id found: 202108266653969\n",
      "duplicate car id found: 202108186392335\n",
      "duplicate car id found: 202108116114244\n",
      "duplicate car id found: 202110198644091\n",
      "duplicate car id found: 202108196425554\n",
      "duplicate car id found: 202109157399716\n",
      "duplicate car id found: 202110088256468\n",
      "duplicate car id found: 202110078222104\n",
      "duplicate car id found: 202109297937996\n",
      "duplicate car id found: 202110138434532\n",
      "duplicate car id found: 202110018016669\n",
      "duplicate car id found: 202110158509137\n",
      "duplicate car id found: 202110228774671\n",
      "duplicate car id found: 202108186392335\n",
      "duplicate car id found: 202107084774284\n",
      "duplicate car id found: 202110268893078\n",
      "duplicate car id found: 202110198665308\n",
      "duplicate car id found: 202110158523004\n",
      "duplicate car id found: 202109247763019\n",
      "duplicate car id found: 202109177481131\n",
      "duplicate car id found: 202109026910686\n",
      "duplicate car id found: 202108176319887\n",
      "duplicate car id found: 202108116098301\n",
      "duplicate car id found: 202107024547816\n",
      "duplicate car id found: 202106193996354\n",
      "duplicate car id found: 202105122516457\n",
      "duplicate car id found: 202107084774284\n",
      "duplicate car id found: 202110048110259\n",
      "duplicate car id found: 202105212920702\n",
      "duplicate car id found: 202103170261656\n",
      "duplicate car id found: 201702152347762\n",
      "duplicate car id found: 202109117251776\n",
      "duplicate car id found: 202110198644728\n",
      "duplicate car id found: 202110158508912\n",
      "duplicate car id found: 202110118347535\n",
      "duplicate car id found: 202109307960754\n",
      "duplicate car id found: 202108176342099\n",
      "duplicate car id found: 202108176326368\n",
      "duplicate car id found: 202105122516457\n",
      "duplicate car id found: 202110048110259\n"
     ]
    }
   ],
   "source": [
    "for page_number in range(1,80):\n",
    "    search_results_url = f\"https://www.autotrader.co.uk/car-search?sort=price-desc&postcode=BH13%206BZ&radius=1500&make=Porsche&model=911&include-delivery-option=on&year-to=2021&page={page_number}\"\n",
    "    driver.get(search_results_url)\n",
    "    driver.maximize_window()\n",
    "    soup = bs(driver.page_source)\n",
    "    links = soup.find_all('a', attrs={\"data-label\": \"search appearance click \"})\n",
    "    for link in links:\n",
    "        path = link.get('href')\n",
    "        match = re.search(pattern, path)\n",
    "        car_id = match.group(1)\n",
    "        if car_id not in car_ids:\n",
    "            car_ids[car_id] = None\n",
    "        else:\n",
    "            print(f\"duplicate car id found: {car_id}\")"
   ],
   "metadata": {
    "collapsed": false,
    "pycharm": {
     "name": "#%%\n"
    }
   }
  },
  {
   "cell_type": "code",
   "execution_count": 38,
   "outputs": [],
   "source": [
    "driver.quit()"
   ],
   "metadata": {
    "collapsed": false,
    "pycharm": {
     "name": "#%%\n"
    }
   }
  },
  {
   "cell_type": "code",
   "execution_count": 39,
   "outputs": [
    {
     "data": {
      "text/plain": "1742"
     },
     "execution_count": 39,
     "metadata": {},
     "output_type": "execute_result"
    }
   ],
   "source": [
    "len(car_ids)"
   ],
   "metadata": {
    "collapsed": false,
    "pycharm": {
     "name": "#%%\n"
    }
   }
  },
  {
   "cell_type": "code",
   "execution_count": 40,
   "outputs": [
    {
     "data": {
      "text/plain": "{'202109207563077': None,\n '202109227674550': None,\n '202108136210396': None,\n '202106043455421': None,\n '202105082360787': None,\n '202102239402326': None,\n '202110258855609': None,\n '202107215302341': None,\n '202110138442617': None,\n '202108306788653': None,\n '202110128395470': None,\n '202110188623506': None,\n '202108186392335': None,\n '202011256463759': None,\n '202108276699111': None,\n '202108065933948': None,\n '202106103693119': None,\n '202105293249710': None,\n '202105092394078': None,\n '202106294400981': None,\n '202105032133215': None,\n '202106304436928': None,\n '202109307982338': None,\n '202108065928307': None,\n '202110088266125': None,\n '202108266653969': None,\n '202109227667959': None,\n '202108116107113': None,\n '202109157400086': None,\n '202110218731995': None,\n '202105122515940': None,\n '202109016858651': None,\n '202110038063357': None,\n '202109177467070': None,\n '202107145034939': None,\n '202110238822508': None,\n '202110048110259': None,\n '202110138439423': None,\n '202110018011992': None,\n '202107195196068': None,\n '202107195193335': None,\n '202008102312685': None,\n '202109107237515': None,\n '202110158526487': None,\n '202110128395467': None,\n '202107305649118': None,\n '202110098318816': None,\n '202110218751352': None,\n '202107084774284': None,\n '202107084769803': None,\n '202110208680471': None,\n '202110168563609': None,\n '202110128397095': None,\n '202110208715076': None,\n '202107305638586': None,\n '202107155054619': None,\n '202103300783414': None,\n '202109247735912': None,\n '202110208706643': None,\n '202108065928317': None,\n '202106193983444': None,\n '202107134985782': None,\n '202109247772783': None,\n '202109187510335': None,\n '202110258879062': None,\n '202110168560610': None,\n '202110068186371': None,\n '202109237711902': None,\n '202109207578053': None,\n '202109046982159': None,\n '202105122516457': None,\n '202108306805866': None,\n '202107155056207': None,\n '202106093655821': None,\n '202107205253938': None,\n '202109207598824': None,\n '202110258877646': None,\n '202110208710306': None,\n '202109067060278': None,\n '202109036972273': None,\n '202107124917738': None,\n '202110068186483': None,\n '202109277843992': None,\n '202110268890792': None,\n '202110258885773': None,\n '202110018017524': None,\n '202109287903673': None,\n '202109247764443': None,\n '202109167448106': None,\n '202109157413156': None,\n '202108306787266': None,\n '202108186373605': None,\n '202110228774671': None,\n '202107205248829': None,\n '202107074754868': None,\n '202106123780358': None,\n '202008042067724': None,\n '202107084773198': None,\n '202109217642376': None,\n '202110038078344': None,\n '202109267821404': None,\n '202110088254636': None,\n '202110218741169': None,\n '202110078225059': None,\n '202110138462829': None,\n '202110068187230': None,\n '202109297918011': None,\n '202106244178175': None,\n '202107235373158': None,\n '202108035795307': None,\n '202110018006669': None,\n '202108086000934': None,\n '202107014490515': None,\n '202008062162109': None,\n '202108286743462': None,\n '202110048114842': None,\n '202109277845944': None,\n '202106274323254': None,\n '202110108327835': None,\n '202012086910702': None,\n '202108055887767': None,\n '202110138451267': None,\n '202110108339041': None,\n '202110088266799': None,\n '201907220340973': None,\n '202110038080535': None,\n '202109277859066': None,\n '202110198643616': None,\n '202109157402905': None,\n '202109237711884': None,\n '202110228789995': None,\n '202110078212904': None,\n '202109026902983': None,\n '202109016862202': None,\n '202109247739550': None,\n '202109217642375': None,\n '202110078226912': None,\n '202109267817660': None,\n '202110118376069': None,\n '201909292754657': None,\n '202108316828221': None,\n '202107074727463': None,\n '202110158529720': None,\n '202109297933672': None,\n '202109097183716': None,\n '202110238806249': None,\n '202110138457662': None,\n '202110108339688': None,\n '202107315687585': None,\n '202109087132861': None,\n '202110248846680': None,\n '202109287877428': None,\n '202109016887482': None,\n '202105032151459': None,\n '202110258861523': None,\n '202110208702328': None,\n '202109177481504': None,\n '202011045796426': None,\n '202110218735090': None,\n '202110168558886': None,\n '202110058160035': None,\n '202109287878202': None,\n '202109227668671': None,\n '202109177474378': None,\n '202109177474160': None,\n '202109137320844': None,\n '202105222963991': None,\n '202104131318805': None,\n '202110188640457': None,\n '202110198657953': None,\n '202109167436081': None,\n '202109107228248': None,\n '202106264294428': None,\n '202106224112829': None,\n '202101147975080': None,\n '202109026919221': None,\n '202110258879647': None,\n '202109147354444': None,\n '202110188608852': None,\n '202108266670402': None,\n '202110198655047': None,\n '202110168559190': None,\n '202109107217136': None,\n '202107265479085': None,\n '202107235377474': None,\n '202103170251830': None,\n '202102269499244': None,\n '202110148485244': None,\n '202110108337387': None,\n '202109167443664': None,\n '202107145025980': None,\n '202110198665660': None,\n '202109067040608': None,\n '202107084787374': None,\n '202107034574825': None,\n '202103150177079': None,\n '202109167442960': None,\n '202107305649584': None,\n '202105112491632': None,\n '202110138460324': None,\n '202110168564398': None,\n '202110078235335': None,\n '202109237712171': None,\n '202109207571987': None,\n '202109036947111': None,\n '202108136189018': None,\n '202108106064949': None,\n '202107124920763': None,\n '202107094826106': None,\n '202106113740107': None,\n '202109207592635': None,\n '202011296598913': None,\n '202110238827026': None,\n '202109237724125': None,\n '202105222942886': None,\n '202108316843988': None,\n '202107104855405': None,\n '202108206449899': None,\n '202107124916787': None,\n '202110238810878': None,\n '202109197558441': None,\n '202108035782343': None,\n '202105283193645': None,\n '202109247737900': None,\n '202010064664679': None,\n '202110178596454': None,\n '202106083631775': None,\n '202110017995826': None,\n '202109097195005': None,\n '202107155061818': None,\n '202110208695062': None,\n '202110188619501': None,\n '202110168574303': None,\n '202110158514049': None,\n '202109107215471': None,\n '202109097181298': None,\n '202108146229435': None,\n '202108096029089': None,\n '202107275528014': None,\n '202107024558200': None,\n '202106294410485': None,\n '202109026911655': None,\n '202109307969304': None,\n '202108236540729': None,\n '202110158524681': None,\n '202106173913665': None,\n '202105212928176': None,\n '202110258880467': None,\n '202110248835569': None,\n '202110188634144': None,\n '202110158515635': None,\n '202110028042564': None,\n '202107245405747': None,\n '202109307953716': None,\n '202104050998081': None,\n '202107064716063': None,\n '202109227660889': None,\n '202109087132853': None,\n '202110088254716': None,\n '202109087133725': None,\n '202108075952514': None,\n '202110198655137': None,\n '202108096025306': None,\n '202110118379975': None,\n '202109077078143': None,\n '202108065937673': None,\n '202110218749416': None,\n '202109197547763': None,\n '202108085996009': None,\n '202108246588918': None,\n '202106013320626': None,\n '202105222958705': None,\n '202106153867946': None,\n '202110188622298': None,\n '202109187513281': None,\n '202103260634298': None,\n '202110178582448': None,\n '202107084775319': None,\n '202109046993640': None,\n '202109257802037': None,\n '202108126149110': None,\n '202107265457008': None,\n '202110268901578': None,\n '202106173933882': None,\n '202110198666121': None,\n '202110158526278': None,\n '202110128395556': None,\n '202110128392262': None,\n '202110058152753': None,\n '202110018010278': None,\n '202109307962286': None,\n '202109187523850': None,\n '202107245407292': None,\n '202107195208573': None,\n '202110088270197': None,\n '202108206449218': None,\n '202109257791339': None,\n '202109097166782': None,\n '202109067057960': None,\n '202105132578753': None,\n '202109297927279': None,\n '202107165119660': None,\n '202108126164195': None,\n '202107165131019': None,\n '202108096010191': None,\n '202110088289265': None,\n '202108116107426': None,\n '202110018004538': None,\n '202109107215443': None,\n '202108176329164': None,\n '202108055884128': None,\n '202107145019902': None,\n '202106304438731': None,\n '202109177495812': None,\n '202108196432665': None,\n '202106214032567': None,\n '202006109985445': None,\n '202110118350061': None,\n '202110138456145': None,\n '202109257784184': None,\n '202109046985753': None,\n '202107084784796': None,\n '202106113744443': None,\n '202110018008708': None,\n '202107265459512': None,\n '202109237724194': None,\n '202109307984930': None,\n '202109097180554': None,\n '202107205247268': None,\n '202110218747540': None,\n '202110078225165': None,\n '202110068204509': None,\n '202109287881948': None,\n '202109127282191': None,\n '202107094822789': None,\n '202109207589366': None,\n '202109137327053': None,\n '202105102436593': None,\n '202107155080898': None,\n '202110178582557': None,\n '202110148487434': None,\n '202110048088034': None,\n '202109167445202': None,\n '202106304439092': None,\n '202009213995898': None,\n '202110178582678': None,\n '202109157397350': None,\n '202109127277250': None,\n '202109026910040': None,\n '202106193983218': None,\n '202108206477730': None,\n '202107084776828': None,\n '202109087123900': None,\n '202107034577392': None,\n '202106173936384': None,\n '202110218745930': None,\n '202106264285936': None,\n '202107084793701': None,\n '202110198666559': None,\n '202109036950164': None,\n '202107084776248': None,\n '202106304453482': None,\n '202110068169540': None,\n '202108276712358': None,\n '202107054663878': None,\n '202103300770176': None,\n '202003138376256': None,\n '202109177493059': None,\n '202110268893059': None,\n '202110158529528': None,\n '202110118359850': None,\n '202108276703564': None,\n '202108045833776': None,\n '202107054648540': None,\n '202110188639220': None,\n '202110158545477': None,\n '202110138454614': None,\n '202110138451058': None,\n '202110128422820': None,\n '202110068175751': None,\n '202109257788627': None,\n '202109217640125': None,\n '202109217623111': None,\n '202106103707766': None,\n '202009143706700': None,\n '202110158526906': None,\n '202012187242227': None,\n '202007281809141': None,\n '202110258855532': None,\n '202108096029452': None,\n '202106244201038': None,\n '202109127279390': None,\n '202106264284679': None,\n '202110208689796': None,\n '202110138451977': None,\n '202107295587485': None,\n '202110208690942': None,\n '202110158540808': None,\n '202110048099889': None,\n '202108206458628': None,\n '202107084770540': None,\n '202106284348722': None,\n '202105182762299': None,\n '202110188622559': None,\n '202110118354328': None,\n '202110048092099': None,\n '202109247744102': None,\n '202105112478436': None,\n '202109117257342': None,\n '202108176334714': None,\n '202109267824672': None,\n '202109097170032': None,\n '202109137318806': None,\n '202108266663682': None,\n '202109026925844': None,\n '202110238818261': None,\n '202110048101117': None,\n '202109087144156': None,\n '202104161448292': None,\n '202109197556324': None,\n '202110188622295': None,\n '202107235359966': None,\n '202110058144526': None,\n '202108096020099': None,\n '202105102445229': None,\n '202107064709579': None,\n '202109167454732': None,\n '202108166300320': None,\n '202110268906616': None,\n '202104101219008': None,\n '202107155046560': None,\n '202109287874637': None,\n '202108246588671': None,\n '202103130103317': None,\n '202110248845738': None,\n '202110208695852': None,\n '202110198676985': None,\n '202110148485474': None,\n '202109036970369': None,\n '202109026925843': None,\n '202110208694193': None,\n '202110048095537': None,\n '202109217633875': None,\n '202108276696505': None,\n '202110118356870': None,\n '202110058130339': None,\n '202108266684650': None,\n '202107074734505': None,\n '202110078231140': None,\n '202108246605632': None,\n '202109137321729': None,\n '202109107224199': None,\n '202106254221158': None,\n '202110058150612': None,\n '202108196419394': None,\n '202108176343511': None,\n '202108176350911': None,\n '202107145016704': None,\n '202110138446490': None,\n '202110058140556': None,\n '202109277836922': None,\n '202109127280520': None,\n '202109087122538': None,\n '202108186384611': None,\n '202108065922089': None,\n '202106244214578': None,\n '202106093659558': None,\n '202106013326238': None,\n '201610138731753': None,\n '202109247768897': None,\n '202110218756498': None,\n '202007101106696': None,\n '202110208709592': None,\n '202110178579657': None,\n '202109107223384': None,\n '202109307961139': None,\n '202110228787537': None,\n '202108176328496': None,\n '202108055858866': None,\n '202107175145381': None,\n '202104221690852': None,\n '202110188626213': None,\n '202109067040937': None,\n '202108286736131': None,\n '202108085994906': None,\n '202108156259847': None,\n '202109187505691': None,\n '202110188611150': None,\n '202109307982739': None,\n '202109157416082': None,\n '202110128421299': None,\n '202109107217225': None,\n '202108306785284': None,\n '202108196405962': None,\n '202107295585225': None,\n '202110148486646': None,\n '202109157383439': None,\n '202108276703628': None,\n '202108065924334': None,\n '202110138457444': None,\n '202110238824177': None,\n '202107114889573': None,\n '201812173318176': None,\n '202105042186627': None,\n '202106234153685': None,\n '202108096008243': None,\n '202109217639713': None,\n '202110198664562': None,\n '202110158529723': None,\n '202110088281826': None,\n '202109257794396': None,\n '202109207568572': None,\n '202107245397074': None,\n '202110188624976': None,\n '202107114889574': None,\n '202107315691919': None,\n '202110078219030': None,\n '202110078210740': None,\n '202109107195480': None,\n '202107235360068': None,\n '202107205238972': None,\n '202107094809160': None,\n '202110148487661': None,\n '202109277832710': None,\n '202109217635770': None,\n '202108096007996': None,\n '202108025736723': None,\n '202107124940174': None,\n '202107054641819': None,\n '202107034595304': None,\n '202110208701830': None,\n '202109207583494': None,\n '202109297912115': None,\n '202110048092086': None,\n '202109046975859': None,\n '202108166315973': None,\n '202107265487311': None,\n '202107054646668': None,\n '202110038063284': None,\n '202110218725854': None,\n '202109187522277': None,\n '202110158515942': None,\n '202105062268766': None,\n '202107295586154': None,\n '202110068175704': None,\n '202109087142613': None,\n '202108035791186': None,\n '202109167434560': None,\n '202107084805948': None,\n '202110228778748': None,\n '202109207577739': None,\n '202106274303229': None,\n '202110018022930': None,\n '202109127276712': None,\n '202108286734035': None,\n '202109087141836': None,\n '202109247742665': None,\n '201703032895942': None,\n '202107064709581': None,\n '202110058137194': None,\n '202109107212483': None,\n '202107074746769': None,\n '202108286751680': None,\n '202110088287417': None,\n '202103230493336': None,\n '202110058154722': None,\n '202110138428717': None,\n '202110158537005': None,\n '202109067045520': None,\n '202107165115256': None,\n '202109107232764': None,\n '202106234141415': None,\n '202106234142115': None,\n '202110058167180': None,\n '202108316838034': None,\n '202109177480569': None,\n '202109167444436': None,\n '201706136402852': None,\n '202108316833560': None,\n '202108015705633': None,\n '202110258879966': None,\n '202110208697612': None,\n '202110058128577': None,\n '202110048089762': None,\n '202109297916523': None,\n '202109177482364': None,\n '202109167448604': None,\n '202109147341135': None,\n '202109077095610': None,\n '202109036949155': None,\n '202108286747584': None,\n '202108246593754': None,\n '202108206453097': None,\n '202106103691660': None,\n '202105202854855': None,\n '202110148472993': None,\n '202110078220690': None,\n '202110058154612': None,\n '201911124295749': None,\n '202109247747887': None,\n '202109016850726': None,\n '202110088272458': None,\n '202110078217963': None,\n '202110088255844': None,\n '202108136208650': None,\n '202104281951299': None,\n '202109157402091': None,\n '202107145027885': None,\n '202110178588811': None,\n '202109307953954': None,\n '202109157395648': None,\n '202109127278826': None,\n '202107094814079': None,\n '202108256633171': None,\n '202109016881431': None,\n '202108316826586': None,\n '202107134957140': None,\n '202110068207579': None,\n '202110018029021': None,\n '202110128400316': None,\n '202109207583615': None,\n '202106224118206': None,\n '202106033428308': None,\n '202006019701747': None,\n '202108156274197': None,\n '202110198642135': None,\n '202109207594446': None,\n '202109287874355': None,\n '202108246605629': None,\n '202108015722791': None,\n '202109297927801': None,\n '202109147374785': None,\n '202108116094928': None,\n '202105253081282': None,\n '202107074723947': None,\n '202105212928191': None,\n '202110168552241': None,\n '202110148472976': None,\n '202108206479642': None,\n '202110218734633': None,\n '202108276719477': None,\n '202110017999695': None,\n '202109287884827': None,\n '202109277860733': None,\n '202110088255433': None,\n '202109277834632': None,\n '202109247772831': None,\n '202109117259142': None,\n '202107084778765': None,\n '202107024547609': None,\n '202106254227681': None,\n '202106183971485': None,\n '202010295579467': None,\n '202109157405754': None,\n '202109036965055': None,\n '202108186392921': None,\n '202108065918495': None,\n '202107315667645': None,\n '202107165119458': None,\n '201909142228015': None,\n '202110218750358': None,\n '202106123761907': None,\n '202106163890371': None,\n '202110198651019': None,\n '202110158545077': None,\n '202108106050203': None,\n '202109277845055': None,\n '202108106049995': None,\n '202109077081756': None,\n '202107275506128': None,\n '202110148472975': None,\n '202110198664347': None,\n '202108116115299': None,\n '202110058145357': None,\n '202109026920724': None,\n '202108166307245': None,\n '202110158533103': None,\n '202109077091891': None,\n '202109077086338': None,\n '202106033413370': None,\n '202109247739987': None,\n '202108136212249': None,\n '202106163896568': None,\n '202109227673190': None,\n '202109177490190': None,\n '202110118362033': None,\n '202110178586874': None,\n '202110218734737': None,\n '202110138450740': None,\n '202110108328396': None,\n '202109147357537': None,\n '202010024500983': None,\n '202109107212793': None,\n '202109147356036': None,\n '202107245404514': None,\n '202108065920520': None,\n '202109016878056': None,\n '202109207580799': None,\n '202110128386264': None,\n '202107215292468': None,\n '202109067043185': None,\n '202107165110925': None,\n '202107305658808': None,\n '202107044623970': None,\n '202106224099022': None,\n '202110168562511': None,\n '202012056811670': None,\n '202110158523651': None,\n '202110208692021': None,\n '202109157388737': None,\n '202108045818276': None,\n '202109057024992': None,\n '202108246584505': None,\n '202107235355063': None,\n '202109016868863': None,\n '202108316819522': None,\n '202107205250659': None,\n '202110268903405': None,\n '202110238803252': None,\n '202110118367700': None,\n '202110068187366': None,\n '202110058150674': None,\n '202109287884540': None,\n '202109227671351': None,\n '202109227661837': None,\n '202108316827012': None,\n '201906259403561': None,\n '202109036965997': None,\n '202108055872651': None,\n '202107114888545': None,\n '202106073584757': None,\n '202109026928435': None,\n '202107165119356': None,\n '202110218755336': None,\n '202110017999779': None,\n '202107064696247': None,\n '202108266666867': None,\n '202107265453450': None,\n '202110148477790': None,\n '202110088279179': None,\n '202110028041646': None,\n '202109067047903': None,\n '202011015681158': None,\n '202110268888764': None,\n '202109177479876': None,\n '202109177482326': None,\n '202109297946200': None,\n '202109167436154': None,\n '202110258874686': None,\n '202110108324593': None,\n '202109167432886': None,\n '202105132556663': None,\n '202110268892650': None,\n '202110208696993': None,\n '202110188616235': None,\n '202109067047555': None,\n '202110168562142': None,\n '202107275510785': None,\n '202110028046890': None,\n '202107155073445': None,\n '202110018003901': None,\n '202107215302543': None,\n '202108055864806': None,\n '202107094836322': None,\n '202110218724487': None,\n '202110018004412': None,\n '202110168557890': None,\n '202109087132691': None,\n '202107074733939': None,\n '202104211616335': None,\n '202110228785580': None,\n '202109297922692': None,\n '202104201573896': None,\n '202107285540485': None,\n '202109127280893': None,\n '202110198654654': None,\n '202108096024469': None,\n '202012016656588': None,\n '202109077072575': None,\n '202110258871617': None,\n '202109147375872': None,\n '202109107216161': None,\n '202109026896806': None,\n '202109016873274': None,\n '202108146238539': None,\n '202108136196693': None,\n '202108045822807': None,\n '202110118365304': None,\n '202109297910407': None,\n '202108196432865': None,\n '202107094835686': None,\n '202109297911802': None,\n '202110178590223': None,\n '202109067044548': None,\n '202109167425079': None,\n '202104091161141': None,\n '202110058143943': None,\n '202109047000125': None,\n '202110208691608': None,\n '202109167434679': None,\n '202110058145346': None,\n '202109077101736': None,\n '202110088270511': None,\n '202110038076338': None,\n '202109026901334': None,\n '202108286746670': None,\n '202110148482316': None,\n '202108176337788': None,\n '202109147344299': None,\n '202107195216071': None,\n '202109287898914': None,\n '202109237726219': None,\n '202106214041704': None,\n '202110228774369': None,\n '202109237717409': None,\n '202110218725909': None,\n '202110198653975': None,\n '202109277845769': None,\n '202109117258841': None,\n '202110038062360': None,\n '202110028032111': None,\n '202108266674175': None,\n '202110268894482': None,\n '202110228769452': None,\n '202110238808261': None,\n '202105293237751': None,\n '202109177484597': None,\n '202106264292531': None,\n '202108206464901': None,\n '202109077102396': None,\n '202108306784423': None,\n '202102038660893': None,\n '202109187523103': None,\n '202110248834617': None,\n '202110208712782': None,\n '202109257784316': None,\n '202109207592257': None,\n '202109167433799': None,\n '202107195203022': None,\n '202010014439969': None,\n '202107145016618': None,\n '202110228783265': None,\n '202106224081817': None,\n '202110188636598': None,\n '202109297919774': None,\n '202109217613455': None,\n '202109167428529': None,\n '202109087147931': None,\n '202108045851158': None,\n '202110238806911': None,\n '202104211619608': None,\n '202110218737132': None,\n '202107165117564': None,\n '202108136180187': None,\n '202108045844505': None,\n '202110168560539': None,\n '202110268901845': None,\n '202109107198083': None,\n '202106304451416': None,\n '202108206448487': None,\n '202110138451716': None,\n '202110228773583': None,\n '202110158516246': None,\n '202107064712286': None,\n '202110168566013': None,\n '202110048106270': None,\n '202109217621942': None,\n '202106113737583': None,\n '202110048103986': None,\n '202110048103280': None,\n '202106183971317': None,\n '202110088265795': None,\n '202108286752491': None,\n '202108306800333': None,\n '202110158539021': None,\n '202110068171496': None,\n '202109257778653': None,\n '202110198653522': None,\n '202110128402967': None,\n '202109137320251': None,\n '202107235381460': None,\n '202110028030676': None,\n '202109227653783': None,\n '202106093662877': None,\n '202110128408755': None,\n '202110078223791': None,\n '202110048102060': None,\n '202109107211871': None,\n '202108035795867': None,\n '202108055897356': None,\n '202110138434919': None,\n '202108186375986': None,\n '202108176343052': None,\n '202110258860252': None,\n '202110228791434': None,\n '202110198674208': None,\n '202110078230383': None,\n '202109277852056': None,\n '202109257788747': None,\n '202109227649973': None,\n '202108106052741': None,\n '201709309837699': None,\n '202110208689192': None,\n '202110258861763': None,\n '202109167432293': None,\n '202107165112996': None,\n '202110228787521': None,\n '202107235349026': None,\n '202107295588332': None,\n '202110258876182': None,\n '202110168547748': None,\n '202110168547941': None,\n '202103240531893': None,\n '202108236550132': None,\n '202109207582027': None,\n '202109026896801': None,\n '202106123761933': None,\n '202107315675967': None,\n '202110058150683': None,\n '202110208696678': None,\n '202109167425003': None,\n '202110238810907': None,\n '202110138443398': None,\n '202110128390228': None,\n '202107285550470': None,\n '202110078219950': None,\n '201904106817873': None,\n '202109147362070': None,\n '202109137316318': None,\n '202106254223752': None,\n '202109167431770': None,\n '202109187518477': None,\n '202110078244227': None,\n '202110188608752': None,\n '202109307951728': None,\n '202109157408856': None,\n '202110098310278': None,\n '202110068171423': None,\n '202107215278853': None,\n '202109026901644': None,\n '202109227676981': None,\n '202110128401873': None,\n '202107054662400': None,\n '202108146241122': None,\n '202109127288958': None,\n '202106304445624': None,\n '202104141354085': None,\n '202005149321181': None,\n '202110068199352': None,\n '202109157387729': None,\n '202110018009602': None,\n '202108196406583': None,\n '202108106072774': None,\n '202109117257879': None,\n '202107024546046': None,\n '202106073575290': None,\n '202110228778254': None,\n '202108035779207': None,\n '202110158528278': None,\n '202110198644728': None,\n '202110158508912': None,\n '202110118347535': None,\n '202109307960754': None,\n '202108176342099': None,\n '202108176326368': None,\n '202109117251776': None,\n '202110268893078': None,\n '202110198665308': None,\n '202110158523004': None,\n '202109247763019': None,\n '202109177481131': None,\n '202109026910686': None,\n '202108176319887': None,\n '202108116098301': None,\n '202107024547816': None,\n '202106193996354': None,\n '202105212920702': None,\n '202103170261656': None,\n '201702152347762': None,\n '202110158509137': None,\n '202110018016669': None,\n '202110138434532': None,\n '202109297937996': None,\n '202110088256468': None,\n '202110078222104': None,\n '202109157399716': None,\n '202110198644091': None,\n '202108196425554': None,\n '202110208712847': None,\n '202108116114244': None,\n '202109307953166': None,\n '202109046977252': None,\n '202108316827191': None,\n '202103220448000': None,\n '202109046978892': None,\n '202110218740737': None,\n '202106053502132': None,\n '202109036946261': None,\n '202110158509140': None,\n '202110078229189': None,\n ...}"
     },
     "execution_count": 40,
     "metadata": {},
     "output_type": "execute_result"
    }
   ],
   "source": [
    "car_ids"
   ],
   "metadata": {
    "collapsed": false,
    "pycharm": {
     "name": "#%%\n"
    }
   }
  },
  {
   "cell_type": "code",
   "execution_count": 41,
   "outputs": [],
   "source": [
    "import pickle\n",
    "\n",
    "with open('more_car_ids.pickle', 'wb') as handle:\n",
    "    pickle.dump(car_ids, handle, protocol=pickle.HIGHEST_PROTOCOL)"
   ],
   "metadata": {
    "collapsed": false,
    "pycharm": {
     "name": "#%%\n"
    }
   }
  },
  {
   "cell_type": "code",
   "execution_count": null,
   "outputs": [],
   "source": [],
   "metadata": {
    "collapsed": false,
    "pycharm": {
     "name": "#%%\n"
    }
   }
  }
 ],
 "metadata": {
  "kernelspec": {
   "display_name": "Python 3",
   "language": "python",
   "name": "python3"
  },
  "language_info": {
   "codemirror_mode": {
    "name": "ipython",
    "version": 2
   },
   "file_extension": ".py",
   "mimetype": "text/x-python",
   "name": "python",
   "nbconvert_exporter": "python",
   "pygments_lexer": "ipython2",
   "version": "2.7.6"
  }
 },
 "nbformat": 4,
 "nbformat_minor": 0
}