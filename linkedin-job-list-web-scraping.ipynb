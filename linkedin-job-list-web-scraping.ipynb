{
 "cells": [
  {
   "cell_type": "code",
   "execution_count": 3,
   "outputs": [],
   "source": [
    "from selenium import webdriver\n",
    "import os, re, time\n",
    "from bs4 import BeautifulSoup as bs\n",
    "import pickle"
   ],
   "metadata": {
    "collapsed": false,
    "pycharm": {
     "name": "#%%\n"
    }
   }
  },
  {
   "cell_type": "code",
   "execution_count": 4,
   "outputs": [],
   "source": [
    "job_ids = {}"
   ],
   "metadata": {
    "collapsed": false,
    "pycharm": {
     "name": "#%%\n"
    }
   }
  },
  {
   "cell_type": "code",
   "execution_count": 5,
   "outputs": [
    {
     "data": {
      "text/plain": "0"
     },
     "execution_count": 5,
     "metadata": {},
     "output_type": "execute_result"
    }
   ],
   "source": [
    "len(job_ids)"
   ],
   "metadata": {
    "collapsed": false,
    "pycharm": {
     "name": "#%%\n"
    }
   }
  },
  {
   "cell_type": "code",
   "execution_count": 107,
   "outputs": [],
   "source": [
    "with open('job_ids_linkedin_usa.pickle', 'rb') as handle:\n",
    "    job_ids = pickle.load(handle)"
   ],
   "metadata": {
    "collapsed": false,
    "pycharm": {
     "name": "#%%\n"
    }
   }
  },
  {
   "cell_type": "code",
   "execution_count": 108,
   "outputs": [
    {
     "data": {
      "text/plain": "2597"
     },
     "execution_count": 108,
     "metadata": {},
     "output_type": "execute_result"
    }
   ],
   "source": [
    "len(job_ids)"
   ],
   "metadata": {
    "collapsed": false,
    "pycharm": {
     "name": "#%%\n"
    }
   }
  },
  {
   "cell_type": "code",
   "execution_count": 56,
   "outputs": [],
   "source": [
    "# location_param = \"&location=San%20Francisco%20Bay%20Area\"\n",
    "# location_param = \"&location=New%20York%20City%20Metropolitan%20Area\"\n",
    "# \"Los%20Angeles%20Metropolitan%20Area\""
   ],
   "metadata": {
    "collapsed": false,
    "pycharm": {
     "name": "#%%\n"
    }
   }
  },
  {
   "cell_type": "code",
   "execution_count": 6,
   "outputs": [],
   "source": [
    "escaped_region_names = []"
   ],
   "metadata": {
    "collapsed": false,
    "pycharm": {
     "name": "#%%\n"
    }
   }
  },
  {
   "cell_type": "code",
   "execution_count": 7,
   "outputs": [],
   "source": [
    "really_big_region_names= [\"Washington DC\", \"San Francisco\", \"San Jose\", \"Florida\", \"Massachusetts\", \"New York\", \"Texas\", \"Washington\"]\n",
    "\n",
    "# once_offs = [\"Seattle\", \"London\"]\n",
    "once_offs = [\"Hawaii\"]\n",
    "\n",
    "big_region_names=[\"Washington DC\", \"San Francisco\", \"Los Angeles\", \"San Jose\", \"California\", \"Connecticut\", \"Florida\", \"Georgia\", \"Illinois\", \"Massachusetts\", \"New Hampshire\", \"New Jersey\", \"New York\", \"Pennsylvania\", \"Texas\", \"Washington\"]\n",
    "\n",
    "smaller_region_names=[\"Alabama\", \"Alaska\", \"Arizona\", \"Arkansas\", \"Delaware\", \"Hawaii\", \"Idaho\", \"Indiana\", \"Iowa\", \"Kansas\", \"Kentucky\", \"Louisiana\", \"Maine\", \"Maryland\", \"Michigan\", \"Minnesota\", \"Mississippi\", \"Missouri\", \"Montana\", \"Nebraska\", \"Nevada\", \"New Mexico\", \"North Carolina\", \"North Dakota\", \"Ohio\", \"Oklahoma\", \"Oregon\", \"Rhode Island\", \"South Carolina\", \"South Dakota\", \"Tennessee\", \"Utah\", \"Vermont\", \"Virginia\", \"West Virginia\", \"Wisconsin\", \"Wyoming\", \"Sydney\", \"Melbourne\", \"Dublin\", \"Scotland\", \"New Zealand\"]"
   ],
   "metadata": {
    "collapsed": false,
    "pycharm": {
     "name": "#%%\n"
    }
   }
  },
  {
   "cell_type": "code",
   "execution_count": 153,
   "outputs": [
    {
     "data": {
      "text/plain": "['Alabama',\n 'Alaska',\n 'Arizona',\n 'Arkansas',\n 'Delaware',\n 'Hawaii',\n 'Idaho',\n 'Indiana',\n 'Iowa',\n 'Kansas',\n 'Kentucky',\n 'Louisiana',\n 'Maine',\n 'Maryland',\n 'Michigan',\n 'Minnesota',\n 'Mississippi',\n 'Missouri',\n 'Montana',\n 'Nebraska',\n 'Nevada',\n 'New%20Mexico',\n 'North%20Carolina',\n 'North%20Dakota',\n 'Ohio',\n 'Oklahoma',\n 'Oregon',\n 'Rhode%20Island',\n 'South%20Carolina',\n 'South%20Dakota',\n 'Tennessee',\n 'Utah',\n 'Vermont',\n 'Virginia',\n 'West%20Virginia',\n 'Wisconsin',\n 'Wyoming',\n 'Sydney',\n 'Melbourne',\n 'Dublin',\n 'Scotland',\n 'New%20Zealand']"
     },
     "execution_count": 153,
     "metadata": {},
     "output_type": "execute_result"
    }
   ],
   "source": [
    "for name in smaller_region_names:\n",
    "    escaped_name =  name.replace(\" \", \"%20\")\n",
    "    escaped_region_names.append(escaped_name)\n",
    "\n",
    "escaped_region_names"
   ],
   "metadata": {
    "collapsed": false,
    "pycharm": {
     "name": "#%%\n"
    }
   }
  },
  {
   "cell_type": "code",
   "execution_count": 8,
   "outputs": [],
   "source": [
    "chromedriver = \"/Users/william.bell/opt/anaconda3/envs/metis/lib/python3.8/site-packages/chromedriver_binary/chromedriver\"\n",
    "os.environ[\"webdriver.chrome.driver\"] = chromedriver"
   ],
   "metadata": {
    "collapsed": false,
    "pycharm": {
     "name": "#%%\n"
    }
   }
  },
  {
   "cell_type": "code",
   "execution_count": 9,
   "outputs": [],
   "source": [
    "driver = webdriver.Chrome(chromedriver)\n",
    "driver.implicitly_wait(10)"
   ],
   "metadata": {
    "collapsed": false,
    "pycharm": {
     "name": "#%%\n"
    }
   }
  },
  {
   "cell_type": "code",
   "execution_count": 10,
   "outputs": [],
   "source": [
    "duplicate_count = 0"
   ],
   "metadata": {
    "collapsed": false,
    "pycharm": {
     "name": "#%%\n"
    }
   }
  },
  {
   "cell_type": "code",
   "execution_count": 11,
   "outputs": [
    {
     "name": "stdout",
     "output_type": "stream",
     "text": [
      "Duplicate Count: 0\n",
      "Job Id Count: 125\n"
     ]
    }
   ],
   "source": [
    "for region_name in once_offs:\n",
    "\n",
    "    location_param = \"&location=\" + region_name\n",
    "\n",
    "    url = f\"https://www.linkedin.com/jobs-guest/jobs/api/seeMoreJobPostings/search?keywords=data%2Bscientist{location_param}&pageNum=0&position=1&start=\"\n",
    "\n",
    "    for start in range(0,101, 25):\n",
    "        search_results_url = url + str(start)\n",
    "        driver.get(search_results_url)\n",
    "        soup = bs(driver.page_source)\n",
    "\n",
    "        divs = soup.find_all(\"div\", {\"data-entity-urn\": True})\n",
    "\n",
    "        for div in divs:\n",
    "            value = div.get(\"data-entity-urn\")\n",
    "            match = re.search(\"urn:li:jobPosting:(\\d+)\", value)\n",
    "\n",
    "            if match:\n",
    "                job_id = match.group(1)\n",
    "\n",
    "                if job_id not in job_ids:\n",
    "                    job_ids[job_id] = None\n",
    "                else:\n",
    "                    print(f\"duplicate job id found: {job_id}\")\n",
    "                    duplicate_count += 1\n",
    "            else:\n",
    "                print('Not Found')\n",
    "        time.sleep(0.5)\n",
    "\n",
    "print(f\"Duplicate Count: {duplicate_count}\")\n",
    "print(f\"Job Id Count: {len(job_ids)}\")"
   ],
   "metadata": {
    "collapsed": false,
    "pycharm": {
     "name": "#%%\n"
    }
   }
  },
  {
   "cell_type": "code",
   "execution_count": 12,
   "outputs": [],
   "source": [
    "driver.quit()"
   ],
   "metadata": {
    "collapsed": false,
    "pycharm": {
     "name": "#%%\n"
    }
   }
  },
  {
   "cell_type": "code",
   "execution_count": 13,
   "outputs": [
    {
     "data": {
      "text/plain": "125"
     },
     "execution_count": 13,
     "metadata": {},
     "output_type": "execute_result"
    }
   ],
   "source": [
    "len(job_ids)"
   ],
   "metadata": {
    "collapsed": false,
    "pycharm": {
     "name": "#%%\n"
    }
   }
  },
  {
   "cell_type": "code",
   "execution_count": null,
   "outputs": [],
   "source": [
    "job_ids"
   ],
   "metadata": {
    "collapsed": false,
    "pycharm": {
     "name": "#%%\n"
    }
   }
  },
  {
   "cell_type": "code",
   "execution_count": 14,
   "outputs": [],
   "source": [
    "with open('job_ids_linkedin_hawaii.pickle', 'wb') as handle:\n",
    "    pickle.dump(job_ids, handle, protocol=pickle.HIGHEST_PROTOCOL)"
   ],
   "metadata": {
    "collapsed": false,
    "pycharm": {
     "name": "#%%\n"
    }
   }
  },
  {
   "cell_type": "code",
   "execution_count": 161,
   "outputs": [
    {
     "name": "stdout",
     "output_type": "stream",
     "text": [
      "19261\n"
     ]
    },
    {
     "data": {
      "text/plain": "{'2908496770': None,\n '2912800721': None,\n '2911267267': None,\n '2911247709': None,\n '2909341435': None,\n '2911206168': None,\n '2912844894': None,\n '2911205495': None,\n '2912480226': None,\n '2911410386': None,\n '2909337839': None,\n '2912477964': None,\n '2911202175': None,\n '2912865535': None,\n '2910873146': None,\n '2911281499': None,\n '2912897584': None,\n '2911253200': None,\n '2909338218': None,\n '2912708341': None,\n '2911202739': None,\n '2910841361': None,\n '2908462198': None,\n '2911409783': None,\n '2906708941': None,\n '2905968184': None,\n '2912840985': None,\n '2841724223': None,\n '2908517430': None,\n '2908625109': None,\n '2901212301': None,\n '2911271258': None,\n '2904096931': None,\n '2909095938': None,\n '2906647334': None,\n '2912744296': None,\n '2904006446': None,\n '2906247368': None,\n '2911250669': None,\n '2911246147': None,\n '2911420967': None,\n '2911419822': None,\n '2909134730': None,\n '2902869759': None,\n '2904389147': None,\n '2906815029': None,\n '2906913218': None,\n '2910481507': None,\n '2909316067': None,\n '2912853018': None,\n '2909581057': None,\n '2906743970': None,\n '2906716098': None,\n '2908111617': None,\n '2904866028': None,\n '2904010003': None,\n '2911263612': None,\n '2905089712': None,\n '2907903482': None,\n '2906495306': None,\n '2906203050': None,\n '2906758948': None,\n '2907324921': None,\n '2910485501': None,\n '2912847160': None,\n '2909266017': None,\n '2900513179': None,\n '2906264917': None,\n '2908269719': None,\n '2904630406': None,\n '2888806711': None,\n '2889573430': None,\n '2885217272': None,\n '2892288873': None,\n '2892287978': None,\n '2912880335': None,\n '2912282652': None,\n '2892285984': None,\n '2893177925': None,\n '2910579865': None,\n '2912837422': None,\n '2892212204': None,\n '2890432188': None,\n '2891087698': None,\n '2893144934': None,\n '2892061601': None,\n '2883933002': None,\n '2909000319': None,\n '2892291600': None,\n '2892287977': None,\n '2911424380': None,\n '2889854773': None,\n '2892291602': None,\n '2911262807': None,\n '2912746029': None,\n '2886523110': None,\n '2910589821': None,\n '2912219422': None,\n '2887740861': None,\n '2911247041': None,\n '2912879484': None,\n '2912440082': None,\n '2892366433': None,\n '2893706900': None,\n '2912716538': None,\n '2910868329': None,\n '2889468977': None,\n '2892018370': None,\n '2910843109': None,\n '2892288197': None,\n '2910580343': None,\n '2891979439': None,\n '2891165676': None,\n '2893315097': None,\n '2910523582': None,\n '2912463465': None,\n '2889308403': None,\n '2884589649': None,\n '2884436232': None,\n '2904693089': None,\n '2911292624': None,\n '2907848974': None,\n '2902458853': None,\n '2904866876': None,\n '2909204180': None,\n '2901208186': None,\n '2910430596': None,\n '2899948202': None,\n '2912493854': None,\n '2909322322': None,\n '2910707423': None,\n '2907935993': None,\n '2910710297': None,\n '2906998116': None,\n '2907318069': None,\n '2904668610': None,\n '2900593373': None,\n '2904365059': None,\n '2908658553': None,\n '2899942970': None,\n '2907348351': None,\n '2911263922': None,\n '2905378013': None,\n '2906135193': None,\n '2885187536': None,\n '2890948631': None,\n '2912789338': None,\n '2883935827': None,\n '2911204254': None,\n '2912896054': None,\n '2887219461': None,\n '2890152919': None,\n '2893741725': None,\n '2889907841': None,\n '2887784633': None,\n '2889143149': None,\n '2911268436': None,\n '2884590639': None,\n '2889360067': None,\n '2910816544': None,\n '2890546766': None,\n '2888290005': None,\n '2886941418': None,\n '2893332729': None,\n '2888824783': None,\n '2911417149': None,\n '2912463987': None,\n '2910830981': None,\n '2891993630': None,\n '2892514118': None,\n '2892203940': None,\n '2910817451': None,\n '2909350619': None,\n '2886660490': None,\n '2909317991': None,\n '2910576520': None,\n '2912205949': None,\n '2884590625': None,\n '2890159720': None,\n '2910513981': None,\n '2909346615': None,\n '2891000795': None,\n '2884870011': None,\n '2885931684': None,\n '2889574472': None,\n '2910841169': None,\n '2887963217': None,\n '2893732652': None,\n '2909354029': None,\n '2888646300': None,\n '2888440713': None,\n '2911299670': None,\n '2892252142': None,\n '2888236764': None,\n '2891990577': None,\n '2887211915': None,\n '2889476031': None,\n '2911212887': None,\n '2912117057': None,\n '2911429788': None,\n '2887263699': None,\n '2888646792': None,\n '2884826996': None,\n '2912160529': None,\n '2893642652': None,\n '2888264766': None,\n '2887217112': None,\n '2912443675': None,\n '2888505029': None,\n '2912249659': None,\n '2882806418': None,\n '2888651133': None,\n '2891993998': None,\n '2882290209': None,\n '2890086237': None,\n '2889468976': None,\n '2885936168': None,\n '2891000389': None,\n '2889937544': None,\n '2904439507': None,\n '2910743262': None,\n '2906701769': None,\n '2900516066': None,\n '2901032305': None,\n '2904686519': None,\n '2904882375': None,\n '2909134032': None,\n '2910052057': None,\n '2905442771': None,\n '2903410116': None,\n '2906714605': None,\n '2900527276': None,\n '2902837426': None,\n '2904055895': None,\n '2910898802': None,\n '2900531810': None,\n '2904421513': None,\n '2911430813': None,\n '2905377021': None,\n '2901002022': None,\n '2906242733': None,\n '2907051634': None,\n '2902759393': None,\n '2912481095': None,\n '2910518207': None,\n '2912847345': None,\n '2891285262': None,\n '2910853282': None,\n '2911406350': None,\n '2890083541': None,\n '2890440597': None,\n '2891956339': None,\n '2910875558': None,\n '2890441638': None,\n '2893365938': None,\n '2892324474': None,\n '2911403940': None,\n '2890449827': None,\n '2893618926': None,\n '2889324302': None,\n '2890701575': None,\n '2911407609': None,\n '2892474994': None,\n '2883909759': None,\n '2890443398': None,\n '2887988855': None,\n '2912431163': None,\n '2884866497': None,\n '2890438893': None,\n '2892261707': None,\n '2892382932': None,\n '2892408816': None,\n '2888715619': None,\n '2890442580': None,\n '2892487525': None,\n '2912760991': None,\n '2888705491': None,\n '2889565002': None,\n '2893755296': None,\n '2890014235': None,\n '2890444063': None,\n '2892258906': None,\n '2890444068': None,\n '2890652216': None,\n '2892010022': None,\n '2890443288': None,\n '2891942088': None,\n '2891942087': None,\n '2910512902': None,\n '2890443291': None,\n '2892009224': None,\n '2892261708': None,\n '2884812358': None,\n '2892262599': None,\n '2892071527': None,\n '2892007371': None,\n '2886963000': None,\n '2888598370': None,\n '2893361153': None,\n '2910898895': None,\n '2912852499': None,\n '2893746270': None,\n '2887210441': None,\n '2912259120': None,\n '2909094732': None,\n '2886308938': None,\n '2884427192': None,\n '2891445538': None,\n '2886639210': None,\n '2891994599': None,\n '2892006502': None,\n '2890624722': None,\n '2892229685': None,\n '2887968114': None,\n '2910568873': None,\n '2890653263': None,\n '2886372486': None,\n '2890691306': None,\n '2893180403': None,\n '2887739468': None,\n '2888563120': None,\n '2891565106': None,\n '2890648785': None,\n '2912227708': None,\n '2910510845': None,\n '2910520045': None,\n '2890679679': None,\n '2892556476': None,\n '2891067417': None,\n '2892481761': None,\n '2893776551': None,\n '2891933482': None,\n '2887988953': None,\n '2889243286': None,\n '2912767979': None,\n '2893780099': None,\n '2889206531': None,\n '2888232777': None,\n '2886309638': None,\n '2891572456': None,\n '2886944204': None,\n '2912107377': None,\n '2890466982': None,\n '2905021295': None,\n '2903825964': None,\n '2904099405': None,\n '2904040163': None,\n '2908198404': None,\n '2906181984': None,\n '2904028832': None,\n '2903827858': None,\n '2907055100': None,\n '2901045701': None,\n '2902160160': None,\n '2907618092': None,\n '2907030617': None,\n '2906269199': None,\n '2908816503': None,\n '2904823639': None,\n '2905022234': None,\n '2905998545': None,\n '2912804464': None,\n '2907942151': None,\n '2906743375': None,\n '2907227563': None,\n '2912822767': None,\n '2905351142': None,\n '2902898334': None,\n '2906543507': None,\n '2908680598': None,\n '2904493517': None,\n '2904452592': None,\n '2907046582': None,\n '2905015911': None,\n '2909505020': None,\n '2907156256': None,\n '2912707003': None,\n '2904496766': None,\n '2908261007': None,\n '2901236210': None,\n '2909093517': None,\n '2907506626': None,\n '2904037145': None,\n '2905942701': None,\n '2905341390': None,\n '2912822271': None,\n '2904671692': None,\n '2912767685': None,\n '2909585967': None,\n '2909112683': None,\n '2904314137': None,\n '2907963047': None,\n '2893690690': None,\n '2911293129': None,\n '2911203068': None,\n '2892290769': None,\n '2893706476': None,\n '2911408882': None,\n '2912708940': None,\n '2889133580': None,\n '2889780000': None,\n '2910835493': None,\n '2912807689': None,\n '2912776506': None,\n '2912818815': None,\n '2888466331': None,\n '2891810610': None,\n '2912818873': None,\n '2888248909': None,\n '2911436544': None,\n '2893708216': None,\n '2912226683': None,\n '2912822323': None,\n '2882851873': None,\n '2912834280': None,\n '2911222096': None,\n '2888221783': None,\n '2906392474': None,\n '2906184718': None,\n '2907891235': None,\n '2907204225': None,\n '2906220496': None,\n '2905011657': None,\n '2906261258': None,\n '2906658780': None,\n '2901238048': None,\n '2911201322': None,\n '2912820557': None,\n '2912824178': None,\n '2912747830': None,\n '2901235272': None,\n '2904385021': None,\n '2912864975': None,\n '2904674323': None,\n '2875543783': None,\n '2904667942': None,\n '2912821362': None,\n '2911298366': None,\n '2907058210': None,\n '2904472246': None,\n '2908337657': None,\n '2899986782': None,\n '2907095257': None,\n '2901236205': None,\n '2904486444': None,\n '2912822623': None,\n '2907213084': None,\n '2907052245': None,\n '2905417030': None,\n '2904878027': None,\n '2907523342': None,\n '2912822173': None,\n '2912719445': None,\n '2906474972': None,\n '2904637902': None,\n '2912824109': None,\n '2911280295': None,\n '2905042955': None,\n '2912820451': None,\n '2912822302': None,\n '2912822343': None,\n '2890499720': None,\n '2883531303': None,\n '2912824052': None,\n '2908452051': None,\n '2912823209': None,\n '2891202020': None,\n '2892533089': None,\n '2910836148': None,\n '2892536037': None,\n '2910841795': None,\n '2890657529': None,\n '2889328784': None,\n '2891506119': None,\n '2889524381': None,\n '2908452050': None,\n '2912821319': None,\n '2912822333': None,\n '2893738660': None,\n '2889561245': None,\n '2893692955': None,\n '2891502530': None,\n '2892481604': None,\n '2893718874': None,\n '2873132450': None,\n '2875122629': None,\n '2882179119': None,\n '2878968067': None,\n '2839681841': None,\n '2888507915': None,\n '2885604357': None,\n '2878962880': None,\n '2878962921': None,\n '2878092498': None,\n '2887599592': None,\n '2878963783': None,\n '2878968098': None,\n '2871774395': None,\n '2884573982': None,\n '2884108113': None,\n '2878964680': None,\n '2871466750': None,\n '2876756326': None,\n '2878967426': None,\n '2884245075': None,\n '2886946622': None,\n '2868391336': None,\n '2875916771': None,\n '2849034952': None,\n '2876269020': None,\n '2878758611': None,\n '2878963761': None,\n '2860807082': None,\n '2878409083': None,\n '2873101704': None,\n '2871463911': None,\n '2871821108': None,\n '2878409209': None,\n '2875425858': None,\n '2879153090': None,\n '2880715208': None,\n '2870735897': None,\n '2887600383': None,\n '2878968107': None,\n '2848907759': None,\n '2880239457': None,\n '2880234531': None,\n '2878963752': None,\n '2873115926': None,\n '2874382080': None,\n '2867396700': None,\n '2883837203': None,\n '2850650449': None,\n '2849037961': None,\n '2888164331': None,\n '2892374904': None,\n '2885155495': None,\n '2888070035': None,\n '2875412743': None,\n '2879288435': None,\n '2875509657': None,\n '2885607647': None,\n '2890270155': None,\n '2908441522': None,\n '2871497599': None,\n '2874525567': None,\n '2870322439': None,\n '2866250225': None,\n '2882419504': None,\n '2886335376': None,\n '2875416370': None,\n '2844495739': None,\n '2879800949': None,\n '2850280977': None,\n '2860801553': None,\n '2841573085': None,\n '2887274515': None,\n '2878967422': None,\n '2878406816': None,\n '2845154113': None,\n '2851792361': None,\n '2866931240': None,\n '2906130005': None,\n '2844520591': None,\n '2883583341': None,\n '2871819307': None,\n '2866143846': None,\n '2839500703': None,\n '2878968041': None,\n '2896927518': None,\n '2904385366': None,\n '2903917809': None,\n '2892617983': None,\n '2877880701': None,\n '2893222332': None,\n '2882735050': None,\n '2905262323': None,\n '2893537631': None,\n '2903417736': None,\n '2871794179': None,\n '2897051827': None,\n '2885792763': None,\n '2872799738': None,\n '2895578923': None,\n '2906250331': None,\n '2884169626': None,\n '2903003911': None,\n '2904855728': None,\n '2907578828': None,\n '2907575634': None,\n '2906929751': None,\n '2883582210': None,\n '2890359828': None,\n '2884595098': None,\n '2875125049': None,\n '2899949011': None,\n '2894499755': None,\n '2899947214': None,\n '2906126620': None,\n '2884712191': None,\n '2875413725': None,\n '2871822100': None,\n '2854503686': None,\n '2869164619': None,\n '2838250759': None,\n '2871820236': None,\n '2879406179': None,\n '2855348043': None,\n '2878409077': None,\n '2878409208': None,\n '2888517125': None,\n '2878412035': None,\n '2886618497': None,\n '2875122637': None,\n '2876423839': None,\n '2850621061': None,\n '2883591164': None,\n '2845018764': None,\n '2887588781': None,\n '2875179327': None,\n '2895494240': None,\n '2906284391': None,\n '2897712804': None,\n '2905621402': None,\n '2896969137': None,\n '2898354500': None,\n '2872760388': None,\n '2907195736': None,\n '2905349785': None,\n '2895619507': None,\n '2895116753': None,\n '2897899323': None,\n '2893976521': None,\n '2905032147': None,\n '2891002418': None,\n '2897906029': None,\n '2892611165': None,\n '2875118816': None,\n '2879697331': None,\n '2875511457': None,\n '2878411072': None,\n '2880064419': None,\n '2874914604': None,\n '2845016842': None,\n '2887825552': None,\n '2873104482': None,\n '2877803809': None,\n '2879802274': None,\n '2886578534': None,\n '2876262776': None,\n '2880946705': None,\n '2886222172': None,\n '2875999526': None,\n '2885890128': None,\n '2877845964': None,\n '2874759717': None,\n '2878094276': None,\n '2873965807': None,\n '2850358153': None,\n '2876841525': None,\n '2875118818': None,\n '2885255330': None,\n '2878963756': None,\n '2878963773': None,\n '2910725083': None,\n '2911271990': None,\n '2878963774': None,\n '2902708525': None,\n '2900302177': None,\n '2892592671': None,\n '2904385747': None,\n '2899809608': None,\n '2882417565': None,\n '2886333543': None,\n '2911273509': None,\n '2906640336': None,\n '2883588466': None,\n '2890184552': None,\n '2883340344': None,\n '2888124263': None,\n '2910832620': None,\n '2888381326': None,\n '2876823417': None,\n '2847434546': None,\n '2866244576': None,\n '2889484696': None,\n '2872795892': None,\n '2889768224': None,\n '2880951108': None,\n '2885255574': None,\n '2869298687': None,\n '2887378023': None,\n '2838964752': None,\n '2873104483': None,\n '2876843165': None,\n '2890670951': None,\n '2872967561': None,\n '2878407367': None,\n '2885172631': None,\n '2880593326': None,\n '2885616715': None,\n '2890422048': None,\n '2884413921': None,\n '2880947524': None,\n '2877424582': None,\n '2888983699': None,\n '2863917244': None,\n '2884962409': None,\n '2908476645': None,\n '2879036242': None,\n '2879773920': None,\n '2871459339': None,\n '2880151831': None,\n '2844844888': None,\n '2873097511': None,\n '2844517255': None,\n '2873145784': None,\n '2886616760': None,\n '2880951119': None,\n '2910830789': None,\n '2885107447': None,\n '2890664013': None,\n '2878635516': None,\n '2891037979': None,\n '2873102607': None,\n '2880980993': None,\n '2878095089': None,\n '2845023111': None,\n '2884158591': None,\n '2880949071': None,\n '2871324642': None,\n '2847989361': None,\n '2887974563': None,\n '2881367362': None,\n '2887980001': None,\n '2871039002': None,\n '2885728875': None,\n '2845019646': None,\n '2887859200': None,\n '2888484606': None,\n '2875122633': None,\n '2886615956': None,\n '2876840638': None,\n '2876841561': None,\n '2872794428': None,\n '2884889038': None,\n '2884882875': None,\n '2891327737': None,\n '2892193366': None,\n '2889990149': None,\n '2893049872': None,\n '2909125753': None,\n '2903344422': None,\n '2893451306': None,\n '2902033849': None,\n '2908683650': None,\n '2894806343': None,\n '2892139837': None,\n '2904579416': None,\n '2903593779': None,\n '2895025280': None,\n '2878407363': None,\n '2879499846': None,\n '2884571685': None,\n '2875064274': None,\n '2886615957': None,\n '2875121610': None,\n '2883575228': None,\n '2890437909': None,\n '2885107483': None,\n '2890443064': None,\n '2884577058': None,\n '2869917924': None,\n '2887208218': None,\n '2880951118': None,\n '2872798993': None,\n '2884489822': None,\n '2890625769': None,\n '2885169482': None,\n '2875426423': None,\n '2845020406': None,\n '2880526418': None,\n '2897920247': None,\n '2902446931': None,\n '2900572427': None,\n '2898293977': None,\n '2900978386': None,\n '2889950166': None,\n '2902670446': None,\n '2896512347': None,\n '2900090830': None,\n '2907108297': None,\n '2903852784': None,\n '2902066352': None,\n '2908684612': None,\n '2907595997': None,\n '2903334448': None,\n '2891326995': None,\n '2876840633': None,\n '2876259969': None,\n '2862352072': None,\n '2878734121': None,\n '2876843172': None,\n '2890659200': None,\n '2847419542': None,\n '2885135036': None,\n '2878405832': None,\n '2838970176': None,\n '2872793106': None,\n '2876842455': None,\n '2876840641': None,\n '2871768640': None,\n '2881646908': None,\n '2865133159': None,\n '2876564598': None,\n '2878109866': None,\n '2845017805': None,\n '2845222602': None,\n '2846481440': None,\n '2880920821': None,\n '2886249896': None,\n '2841900155': None,\n '2875402879': None,\n '2876846038': None,\n '2882447355': None,\n '2877023791': None,\n '2870127800': None,\n '2845019650': None,\n '2884104255': None,\n '2876842452': None,\n '2880920826': None,\n '2869065759': None,\n '2876073143': None,\n '2876974588': None,\n '2845017802': None,\n '2838968479': None,\n '2874960667': None,\n '2864662615': None,\n '2885459624': None,\n '2887676493': None,\n '2841287209': None,\n '2879939863': None,\n '2850849695': None,\n '2876566353': None,\n '2885100371': None,\n '2885257579': None,\n '2872150406': None,\n '2838967566': None,\n '2885232039': None,\n '2875024312': None,\n '2887082730': None,\n '2875371159': None,\n '2886618498': None,\n '2841802955': None,\n '2880952105': None,\n '2871777341': None,\n '2887706820': None,\n '2886168441': None,\n '2880949536': None,\n '2878882397': None,\n '2885197151': None,\n '2880948094': None,\n '2838970172': None,\n '2870711650': None,\n '2878275662': None,\n '2848238713': None,\n '2872722657': None,\n '2860803491': None,\n '2876841543': None,\n '2873751801': None,\n '2871412778': None,\n '2883837201': None,\n '2885768372': None,\n '2867327633': None,\n '2880521814': None,\n '2871443877': None,\n '2873115303': None,\n '2845021296': None,\n '2875478242': None,\n '2875427887': None,\n '2887619583': None,\n '2885735013': None,\n '2893282401': None,\n '2789129398': None,\n '2883388036': None,\n '2901081794': None,\n '2779831712': None,\n '2740999605': None,\n '2896919139': None,\n '2880994213': None,\n '2883599002': None,\n '2883527116': None,\n '2854517270': None,\n '2747373880': None,\n '2887226433': None,\n '2911605703': None,\n '2751119699': None,\n '2861021095': None,\n '2867632290': None,\n '2863932984': None,\n '2420234743': None,\n '2906487678': None,\n '2843492683': None,\n '2906242412': None,\n '2895137869': None,\n '2914201746': None,\n '2741578904': None,\n '2794672570': None,\n '2765343248': None,\n '2899945015': None,\n '2840885881': None,\n '2912907925': None,\n '2873763657': None,\n '2865529295': None,\n '2902037908': None,\n '2899365338': None,\n '2887600395': None,\n '2899319171': None,\n '2895344080': None,\n '2787880176': None,\n '2901413950': None,\n '2513187913': None,\n '2908244746': None,\n '2855959457': None,\n '2912979283': None,\n '2911471268': None,\n '2887987267': None,\n '2852002891': None,\n '2697648547': None,\n '2912619276': None,\n '2909937874': None,\n '2895041794': None,\n '2911298602': None,\n '2910514667': None,\n '2853070104': None,\n '2833303771': None,\n '2909972948': None,\n '2872584433': None,\n '2892262600': None,\n '2875162300': None,\n '2773038515': None,\n '2840208155': None,\n '2913310556': None,\n '2819579539': None,\n '2903032781': None,\n '2903698060': None,\n '2885252143': None,\n '2873127750': None,\n '2874958881': None,\n '2900137679': None,\n '2892836972': None,\n '2865439415': None,\n '2902761265': None,\n '2876823273': None,\n '2912329346': None,\n '2907148027': None,\n '2907141991': None,\n '2849243069': None,\n '2775264020': None,\n '2908107400': None,\n '2883289536': None,\n '2894312513': None,\n '2771426606': None,\n '2897320362': None,\n '2895378925': None,\n '2880500673': None,\n '2911457881': None,\n '2913787690': None,\n '2899370583': None,\n '2758770039': None,\n '2900051428': None,\n '2875141921': None,\n '2909207739': None,\n '2859799258': None,\n '2854261580': None,\n '2913905627': None,\n '2911436564': None,\n '2740178404': None,\n '2875904870': None,\n '2898825470': None,\n '2767854848': None,\n '2900037761': None,\n '2913082738': None,\n '2884187023': None,\n '2900873663': None,\n '2897909426': None,\n '2900086557': None,\n '2907234674': None,\n '2685943711': None,\n '2886912883': None,\n '2874111755': None,\n '2900039735': None,\n '2801691750': None,\n '2898364180': None,\n '2897230643': None,\n '2882806828': None,\n '2747729860': None,\n '2910622281': None,\n '2793126405': None,\n '2874040983': None,\n ...}"
     },
     "execution_count": 161,
     "metadata": {},
     "output_type": "execute_result"
    }
   ],
   "source": [
    "with open('job_ids_linkedin_loads.pickle', 'rb') as handle:\n",
    "   unserialized_data = pickle.load(handle)\n",
    "\n",
    "print(len(unserialized_data))\n",
    "unserialized_data"
   ],
   "metadata": {
    "collapsed": false,
    "pycharm": {
     "name": "#%%\n"
    }
   }
  },
  {
   "cell_type": "code",
   "execution_count": null,
   "outputs": [],
   "source": [],
   "metadata": {
    "collapsed": false,
    "pycharm": {
     "name": "#%%\n"
    }
   }
  }
 ],
 "metadata": {
  "kernelspec": {
   "display_name": "Python 3",
   "language": "python",
   "name": "python3"
  },
  "language_info": {
   "codemirror_mode": {
    "name": "ipython",
    "version": 2
   },
   "file_extension": ".py",
   "mimetype": "text/x-python",
   "name": "python",
   "nbconvert_exporter": "python",
   "pygments_lexer": "ipython2",
   "version": "2.7.6"
  }
 },
 "nbformat": 4,
 "nbformat_minor": 0
}