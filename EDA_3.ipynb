{
 "cells": [
  {
   "cell_type": "code",
   "execution_count": 1,
   "metadata": {
    "collapsed": true
   },
   "outputs": [],
   "source": [
    "import pickle\n",
    "import pandas as pd\n",
    "from bs4 import BeautifulSoup as bs\n",
    "import re"
   ]
  },
  {
   "cell_type": "code",
   "execution_count": 2,
   "outputs": [
    {
     "data": {
      "text/plain": "12777"
     },
     "execution_count": 2,
     "metadata": {},
     "output_type": "execute_result"
    }
   ],
   "source": [
    "with open('jobs_linkedin_loads.pickle', 'rb') as handle:\n",
    "    jobs = pickle.load(handle)\n",
    "\n",
    "len(jobs)"
   ],
   "metadata": {
    "collapsed": false,
    "pycharm": {
     "name": "#%%\n"
    }
   }
  },
  {
   "cell_type": "code",
   "execution_count": 3,
   "outputs": [
    {
     "data": {
      "text/plain": "{'id': '2912844894',\n 'description': '<div class=\"description__text description__text--rich\">\\n<section class=\"show-more-less-html\" data-max-lines=\"5\">\\n<div class=\"show-more-less-html__markup show-more-less-html__markup--clamp-after-5\">\\n        Project Canary is a growth-stage, SaaS and certification company combatting climate-change from an incredible vantage point that can impact oil &amp; gas, utilities, landfills, and ag. We are a Public Benefit Corp (B-Corp rating score 107) that helps monitor and mitigate emissions in the ESG landscape favored by communities and investors alike through independent data tied to carbon and environmental footprints. With flexible work environments in Denver,<br/><br/>Project Canary’s mission is to make net-zero a reality by quantifying climate change and putting actionable insights into the hands of the energy sector. Our diverse and inclusive team of operators, scientists, engineers, and sales leaders know how to network, hustle, and are change-makers by design. We ingest data from various sources, including our own proprietary environmental sensors/hardware, to calculate carbon emissions from different facilities in real-time displayed on a SaaS dashboard. The resulting independent, trusted data can inform the procurement of offsets in real-time using microtransactions, formulate a data-driven ESG strategy that investors now demand, improve operations by identifying problem areas in minutes, and bolster customer engagement through radical supply chain transparency.<br/><br/>Initially, we are focused on the energy industry. With thousands of energy assets analyzed and hundreds of environmental and air quality sensors currently deployed, Project Canary is positioned better than anyone to provide empirical ESG data—and we have the ARR and growing pains to prove it.<br/><br/>Project Canary’s success is attributed to the motivation, skill, and teamwork of everyone. The team understands the importance of maintaining a culture where relationships are valued, feedback is crucial, and trust in each other and our products/services is paramount. If you enjoy a growth-stage environment, mission-driven work, we want to hear from you.<br/><br/>As a scaling PBC, we have excellent healthcare, a people-first orientation, and a sustainability core.<br/><br/>The Data Scientist will be part of the Data and Analytics team responsible for research and development of advanced predictive modeling to diverse problems across the oil and gas, utilities, and waste management value chain.<br/><br/>You are a team player who has a significant academic and industrial experience applying first principle-based models such as CFD and reduced order models and state of the art machine learning (Regression, Classification, Decision Trees, Random Forests) and deep learning techniques (CNN, RNN, LSTM, GRU).<br/><br/><strong>Job Responsibilities:<br/></strong><ul><li>Support Data and Analytics team through development of plume dispersion modeling to resolve complex fluid problems in an open field</li><li>Execute the certification through the review of a company\\'s documentation, personnel interviews, and evaluation of well pad design</li><li>Assist the development of white papers for quantification analysis as well as additional technical and professional writing </li><li>Engagement with various disciplines within the Project Canary team including science, software, and regulatory members </li><li>Develop and support scientific projects that enhance our understanding of methane emission patterns and opportunities for enhanced methane mitigation from production and distribution of oil and gas globally </li><li>Play a role in designing, planning and execution of PC expanding work on quantifying methane emissions using first principal engineering methods, mathematical models, and statistical analysis</li><li>Coordinate and ensure rigor of scientific initiatives collaboratively undertaken with a diverse group of stakeholders including industry, academics, multilateral organizations, and the public sector</li><li>Remain at the forefront of climate science, including staying up to date with scientific literature <br/><br/></li></ul><strong>Requirements<br/><br/></strong><strong>Education and experience:<br/></strong><ul><li>3+ years\\' experience quantifying emissions data</li><li>Strong background in fluid flow, CFD, Data Analytics </li><li>Competent in programming languages such as Python, C#, and Matlab </li><li>At least a bachelor\\'s degree in Mechanical Engineering or relevant engineering field </li><li>Advanced degree and/or professional certifications helpful </li><li>Experience in performing rigorous analysis with short deadlines in support of highly visible work</li><li>Demonstrated scientific expertise, including but not limited to a record of scholarly publications and/or involvement in scientific panels</li><li>Experience synthesizing, interpreting, and communicating scientific data in an advocacy setting and for non-scientific populations </li><li>Vaccination required <br/><br/></li></ul><strong>Benefits<br/></strong><ul><li>Full coverage of health, dental, and vision insurance</li><li>401K company match</li><li>Student loan assistance</li><li>Salary range: $90,000- $120,000 annual base</li><li>Stock options</li><li>World recognized work culture - ranked top 5% of all B-Corps <br/><br/></li></ul><em>Project Canary provides equal employment opportunities to all employees and applicants for employment and prohibits discrimination and harassment of any type without regard to race, color, religion, age, sex, national origin, disability status, genetics, protected veteran status, sexual orientation, gender identity or expression, or any other characteristic protected by federal, state or local laws.<br/><br/></em><em>This policy applies to all terms and conditions of employment, including recruiting, hiring, placement, promotion, termination, layoff, recall, transfer, leaves of absence, compensation and training.</em>\\n</div>\\n<button aria-expanded=\"false\" aria-label=\"Show more, visually expands previously read content above this button\" class=\"show-more-less-html__button show-more-less-html__button--more\" data-tracking-control-name=\"public_jobs_show-more-html-btn\">\\n        Show more\\n\\n        <icon class=\"show-more-less-html__button-icon\" data-delayed-url=\"https://static-exp1.licdn.com/sc/h/cyolgscd0imw2ldqppkrb84vo\"></icon>\\n</button>\\n<button aria-expanded=\"true\" aria-label=\"Show less\" class=\"show-more-less-html__button show-more-less-html__button--less\" data-tracking-control-name=\"public_jobs_show-less-html-btn\">\\n        Show less\\n\\n        <icon class=\"show-more-less-html__button-icon\" data-delayed-url=\"https://static-exp1.licdn.com/sc/h/4chtt12k98xwnba1nimld2oyg\"></icon>\\n</button>\\n</section>\\n</div>',\n 'title': 'Data Scientist',\n 'companyInfo': 'Project Canary|Denver, CO'}"
     },
     "execution_count": 3,
     "metadata": {},
     "output_type": "execute_result"
    }
   ],
   "source": [
    "jobs['2912844894']"
   ],
   "metadata": {
    "collapsed": false,
    "pycharm": {
     "name": "#%%\n"
    }
   }
  },
  {
   "cell_type": "code",
   "execution_count": 4,
   "outputs": [
    {
     "data": {
      "text/plain": "{2: 12762, 3: 12, 4: 2, 1: 1}"
     },
     "execution_count": 4,
     "metadata": {},
     "output_type": "execute_result"
    }
   ],
   "source": [
    "results = {}\n",
    "\n",
    "for key, value in jobs.items():\n",
    "    info = value['companyInfo'].split('|')\n",
    "    elements_count = len(info)\n",
    "\n",
    "    if not elements_count in results:\n",
    "        results[elements_count] = 1\n",
    "    else:\n",
    "        results[elements_count] += 1\n",
    "\n",
    "results"
   ],
   "metadata": {
    "collapsed": false,
    "pycharm": {
     "name": "#%%\n"
    }
   }
  },
  {
   "cell_type": "code",
   "execution_count": 5,
   "outputs": [],
   "source": [
    "def experience_level(job):\n",
    "    title = str.lower(job['title'])\n",
    "    if any(substring in title for substring in [\"senior\", \"lead\", \"principal\"]):\n",
    "        return \"senior\"\n",
    "    if any(substring in title for substring in [\"junior\", \"intern\", \"grad\"]):\n",
    "        return \"junior\"\n",
    "\n",
    "    description = str.lower(job['description'])\n",
    "    if bool(re.search('([5678]\\+ years|[5678] years)', description)):\n",
    "        return \"senior\"\n",
    "\n",
    "    return \"mid\""
   ],
   "metadata": {
    "collapsed": false,
    "pycharm": {
     "name": "#%%\n"
    }
   }
  },
  {
   "cell_type": "code",
   "execution_count": 6,
   "outputs": [
    {
     "data": {
      "text/plain": "'senior'"
     },
     "execution_count": 6,
     "metadata": {},
     "output_type": "execute_result"
    }
   ],
   "source": [
    "experience_level({\"title\": \"Senior Data Scientist\"})\n",
    "experience_level({\"title\": \"Data Scientist - Intern\"})\n",
    "experience_level({\"title\": \"Data Scientist\", \"description\": \"blah blah 6+ years experience\"})"
   ],
   "metadata": {
    "collapsed": false,
    "pycharm": {
     "name": "#%%\n"
    }
   }
  },
  {
   "cell_type": "code",
   "execution_count": 7,
   "outputs": [],
   "source": [
    "def is_relevant(job):\n",
    "    title_pattern = \"(?:data scientist|data science|machine learning)\"\n",
    "    return bool(re.search(title_pattern, job['title'], re.IGNORECASE))"
   ],
   "metadata": {
    "collapsed": false,
    "pycharm": {
     "name": "#%%\n"
    }
   }
  },
  {
   "cell_type": "code",
   "execution_count": 8,
   "outputs": [
    {
     "data": {
      "text/plain": "True"
     },
     "execution_count": 8,
     "metadata": {},
     "output_type": "execute_result"
    }
   ],
   "source": [
    "is_relevant({\"title\": \"Senior Data Scientist\"})\n",
    "is_relevant({\"title\": \"Software - Intern\"})\n",
    "is_relevant({\"title\": \"Engineer Machine Learning\", \"description\": \"blah blah 7 years experience\"})"
   ],
   "metadata": {
    "collapsed": false,
    "pycharm": {
     "name": "#%%\n"
    }
   }
  },
  {
   "cell_type": "code",
   "execution_count": 9,
   "outputs": [],
   "source": [
    "pattern_start = \"[Rr]esponsibilities|[Ww]hat [Yy]ou['’]ll|[Ww]hat [Yy]ou [Ww]ill|[Dd]uties|[Tt]he [Rr]ole.{0,10}\\||[Oo]verview|[Ww]ork.{0,10}\\|\"\n",
    "\n",
    "pattern_end = \"Requirements|[Qq]ualifications|Skills.{0,10}\\||[Ll]ooking [Ff]or.{0,5}\\||[Yy]ou [Hh]ave:\"\n",
    "\n",
    "pattern = f\"(?:{pattern_start})(.*?)(?:{pattern_end})\""
   ],
   "metadata": {
    "collapsed": false,
    "pycharm": {
     "name": "#%%\n"
    }
   }
  },
  {
   "cell_type": "code",
   "execution_count": 10,
   "outputs": [],
   "source": [
    "jobs_enhanced = {}"
   ],
   "metadata": {
    "collapsed": false,
    "pycharm": {
     "name": "#%%\n"
    }
   }
  },
  {
   "cell_type": "code",
   "execution_count": 11,
   "outputs": [],
   "source": [
    "counter = 0\n",
    "\n",
    "for key, value in jobs.items():\n",
    "    description = (value['description'])\n",
    "    soup = bs(description)\n",
    "\n",
    "    text = soup.get_text(\"|\", strip=True)\n",
    "    match = re.findall(pattern, text)\n",
    "\n",
    "    soup.button.decompose()\n",
    "    soup.button.decompose()\n",
    "\n",
    "    if is_relevant(value) and match and len(match[0]) > 130:\n",
    "        company_info = value['companyInfo'].split('|')\n",
    "        company_name = company_info[0] if len(company_info) > 0 else \"\"\n",
    "        location = company_info[1] if len(company_info) > 1 else \"\"\n",
    "\n",
    "        responsibilities = match[0].replace(\"|\", \" \").replace(\"\\t\", \" \")\n",
    "\n",
    "        jobs_enhanced[key] = {\n",
    "            'responsibilities' : responsibilities,\n",
    "            'title' : value['title'],\n",
    "            'description': str(soup),\n",
    "            'companyName': company_name,\n",
    "            'location': location,\n",
    "            'level': experience_level(value)\n",
    "        }\n",
    "        counter += 1\n",
    "\n",
    "\n",
    "    # if (counter > 5):\n",
    "    #     break"
   ],
   "metadata": {
    "collapsed": false,
    "pycharm": {
     "name": "#%%\n"
    }
   }
  },
  {
   "cell_type": "code",
   "execution_count": 12,
   "outputs": [
    {
     "data": {
      "text/plain": "[('2908496770',\n  {'responsibilities': ': • Design and implement ML methods on proprietary and open-access datasets; • Utilize large-scale datasets to generate statistically motivated research hypotheses; • Apply statistical methods to rigorously test and evaluate research hypotheses; • Develop and foster external collaborations; • Provide expert technical guidance and support customers in the design and analysis of experiments; • Work both independently and as part of a collaborative team to develop data analysis and machine learning solutions. ',\n   'title': 'Data Scientist',\n   'description': '<html><body><div class=\"description__text description__text--rich\">\\n<section class=\"show-more-less-html\" data-max-lines=\"5\">\\n<div class=\"show-more-less-html__markup show-more-less-html__markup--clamp-after-5\">\\n        I am looking for a self-motivated data scientist with machine learning experience. You will be working on a ground-breaking cloud R&amp;D platform designed to integrate the volumes of scientific resources, helping to build a digital workplace with direct impact on human health, pharmaceutical research and Life Sciences companies. This opportunity requires a strong technical background in machine learning; utilizing methods for understanding large scale biological data. <br/><br/>Responsibilities:<br/>•\\tDesign and implement ML methods on proprietary and open-access datasets;<br/>•\\tUtilize large-scale datasets to generate statistically motivated research hypotheses;<br/>•\\tApply statistical methods to rigorously test and evaluate research hypotheses;<br/>•\\tDevelop and foster external collaborations;<br/>•\\tProvide expert technical guidance and support customers in the design and analysis of experiments;<br/>•\\tWork both independently and as part of a collaborative team to develop data analysis and machine learning solutions.<br/>Requirements:<br/>•\\tPh.D. degree with 3+ years (or MS degree with 5+ years) of working experience in the industry in the field of systems biology, bioinformatics, computational biology, data science, ML, or equivalent;<br/>•\\tExtensive experience applying ML techniques to large scale genomics and/or high throughput biological data sets;<br/>•\\tStrong technical knowledge of molecular biology, genetics, and bioinformatics;<br/>•\\tProficient in either R or Python;<br/>•\\tExperience with ML frameworks such as Torch, PyTorch, TensorFlow, Scikit-learn, etc.;<br/>•\\tFamiliarity with Atlassian JIRA;<br/><br/>This is a fully remote position with a package of up to $200K plus benefits<br/>\\n</div>\\n\\n\\n</section>\\n</div></body></html>',\n   'companyName': 'Data Revolution',\n   'location': 'San Francisco Bay Area',\n   'level': 'senior'}),\n ('2911267267',\n  {'responsibilities': \": • Provide consultative support as and when required and should be able to handle complex projects independently • Perform exploratory data analysis, data deep dives and generate data insights • Substantial portion of work would require advanced Data Modelling and Data Wrangling • Responsible for implementing multiple model types/methodologies, will design, test and architect variety of models based on business requirements • Build relationships with clients to better understand their business, and to enable them to better understand how to use analytics to drive their business • Develop code, statistical models, dashboards and presentations as per client requirements • Present the results of the work to client stake holders and give insights and recommendations that have tangible business impacts • Work with onsite and offshore team to structure solutions based on analytics tools and techniques • Compliance of structured problem-solving approach and documentation of the same • Assist the team in process improvement / automation to increase efficiency • Build and maintain strong relationships with external and internal stakeholders Knowledge: Qualification: − BE / B. Tech/Master's in Computer science/Business Analytics/ Statistics Experience: − 3-5 years of relevant experience in analytics consulting and professional services − At least 1-3 years hands on experience in creating visualizations and dashboards through insights − Hands-on experience working with large, complex, and diverse datasets − Consultative approach and ability to apply first principles and structured approaches to problem solving as opposed to relying excessively on past domain expertise alone − Ecommerce and Retail experience strongly preferred \",\n   'title': 'Data Scientist',\n   'description': '<html><body><div class=\"description__text description__text--rich\">\\n<section class=\"show-more-less-html\" data-max-lines=\"5\">\\n<div class=\"show-more-less-html__markup show-more-less-html__markup--clamp-after-5\">\\n        Role: Senior Analyst<br/>Key Responsibilities:<br/>• Provide consultative support as and when required and should be able<br/>to handle complex<br/>projects independently<br/>• Perform exploratory data analysis, data deep dives and generate data<br/>insights<br/>• Substantial portion of work would require advanced Data Modelling and<br/>Data Wrangling<br/>• Responsible for implementing multiple model types/methodologies, will<br/>design, test and<br/>architect variety of models based on business requirements<br/>• Build relationships with clients to better understand their business,<br/>and to enable them to<br/>better understand how to use analytics to drive their business<br/>• Develop code, statistical models, dashboards and presentations as per<br/>client requirements<br/>• Present the results of the work to client stake holders and give<br/>insights and<br/>recommendations that have tangible business impacts<br/>• Work with onsite and offshore team to structure solutions based on<br/>analytics tools and<br/>techniques<br/>• Compliance of structured problem-solving approach and documentation of<br/>the same<br/>• Assist the team in process improvement / automation to increase<br/>efficiency<br/>• Build and maintain strong relationships with external and internal<br/>stakeholders<br/><br/>Knowledge:<br/>Qualification:<br/>− BE / B. Tech/Master\\'s in Computer science/Business Analytics/<br/>Statistics<br/><br/>Experience:<br/>− 3-5 years of relevant experience in analytics consulting and<br/>professional services<br/>− At least 1-3 years hands on experience in creating visualizations and<br/>dashboards through insights<br/>− Hands-on experience working with large, complex, and diverse<br/>datasets<br/>− Consultative approach and ability to apply first principles and<br/>structured approaches to problem solving as opposed to relying<br/>excessively on past domain expertise alone<br/>− Ecommerce and Retail experience strongly preferred<br/><br/>Skills:<br/>Technical/Domain:<br/>− 1-3 years of experience working with Tableau and analysing large<br/>datasets<br/>− Strong SQL query skills and experience in BI Dashboards required<br/>− Experience with Exploratory Data Analysis<br/>− At least 1+ year of experience working with Python / R programming<br/><br/>Competencies:<br/>Behavioural:<br/>− Must have exceptional and effective communication,<br/>organization, and time management skills<br/>− Must be pro-active and determined (Initiates action, Analytical<br/>and problem solver)\\n      </div>\\n\\n\\n</section>\\n</div></body></html>',\n   'companyName': 'TrueSkilla',\n   'location': 'United States',\n   'level': 'senior'})]"
     },
     "execution_count": 12,
     "metadata": {},
     "output_type": "execute_result"
    }
   ],
   "source": [
    "list(jobs_enhanced.items())[:2]"
   ],
   "metadata": {
    "collapsed": false,
    "pycharm": {
     "name": "#%%\n"
    }
   }
  },
  {
   "cell_type": "code",
   "execution_count": 13,
   "outputs": [
    {
     "name": "stdout",
     "output_type": "stream",
     "text": [
      "https://www.linkedin.com/jobs-guest/jobs/api/jobPosting/2908496770 (Count: 1. Index: 0)\n",
      ": • Design and implement ML methods on proprietary and open-access datasets; • Utilize large-scale datasets to generate statistically motivated research hypotheses; • Apply statistical methods to rigorously test and evaluate research hypotheses; • Develop and foster external collaborations; • Provide expert technical guidance and support customers in the design and analysis of experiments; • Work both independently and as part of a collaborative team to develop data analysis and machine learning solutions. \n",
      "\n",
      "\n",
      "https://www.linkedin.com/jobs-guest/jobs/api/jobPosting/2890624722 (Count: 2. Index: 150)\n",
      " We’re looking for a smart, passionate, team-oriented Solutions Data Scientist to support our customers in translating climate forecasts into actionable insights that matter for their business.This person’s primary focus will be serving as the bridge between our customers and the data science team: understanding the customers needs, translating them into technical specifications, and explaining model outputs in terms of business value. This individual will have direct operational responsibilities (e.g. conducting benchmarking analyses), customer relationship responsibilities, and a project oversight role. This position will report primarily to the Solutions team, and work closely with our data science and engineering teams to drive positive business outcomes for our customers. ClimateAi is a deep tech company, but our technology is only as valuable is the impact it has on our customers - as a Solutions Data Scientist, you will be responsible for delivering this impact. Role Responsibilities Integrate ClimateAi’s forecasts into customers workflows and decision making Analyse and understand customer data and ClimateAi insights Translate customer needs into technical requirements Collaborate with the data science team to deliver on those requirements via ClimateAi’s platform Support the customer in interpreting those results and ensuring a direct link between our forecasts and their business objectives Support business development efforts via demos, insightful analyses, and development of market-facing tools Help build the Solutions function: define and drive processes that will enable us to scale Grow with us: future opportunities to take on more responsibilities as our company and needs grow Preferred \n",
      "\n",
      "\n",
      "https://www.linkedin.com/jobs-guest/jobs/api/jobPosting/2905032147 (Count: 3. Index: 300)\n",
      "About the Team Come join the Workday Assistant team! We are part of the Employee Experience organization that enables employers to better engage and support their people while making work more personal and productive.Workday is looking for hardworking Data Scientist to contribute to the strategic mission of reaching workers where they are at. You will join an energetic, open minded and supportive group of engineers to redefine how workers engage with Enterprise applications. If you have a willingness to explore the unknown, be a technological pioneer and have passion around improving customer experiences then we want to hear from you! About the Role As a data scientist passionate about machine learning and helping customers, you will Implement machine learning algorithms, tools, frameworks, and platforms to support ML development, deployment, and governance Find new ways to reduce bias in algorithms Continue to improve our repeatable and reusable ML workflow for model training, evaluation, deployment, and maintenance Improve tracking and monitoring of models, experiments, artifacts, and data Engage with data engineers and data scientists in feature engineering efforts We will challenge you to apply your best creative thinking, analysis, problem-solving, and technical abilities to make an impact on thousands of enterprises and millions of people. About You About You Highly self-motivated, passionate in delivering enterprise machine learning solutions to customers A fast learner, detail oriented, decisive, and enjoys a fast-paced work environment Collaborative, flexible, reliable, and has a positive work attitude Excellent communication skills Basic \n",
      "\n",
      "\n",
      "https://www.linkedin.com/jobs-guest/jobs/api/jobPosting/2887600395 (Count: 4. Index: 450)\n",
      "Theorem's Machine Learning Engineers design, implement, and operate software systems for training and serving machine learning models. Level: Senior engineer with previous domain expertise in machine learning. Applicants must be authorized to work in and currently living in the United States, preferably in the Bay Area, or New York or Los Angeles metro areas. What You'll Do As a part of Theorem’s technology team, you will work alongside quantitative researchers, data scientists, and engineers to create the machine learning models that drive Theorem’s automated loan underwriting systems. You’ll design, build, test, debug, and operate systems for both training and serving models. You will work on production systems that underwrite real loans as well as on experimental systems that researchers use to test new ideas and models. Objectives / Deliverables: Creating automation for retraining and backtesting models upon the arrival of new data Building CI/CD automation for redeploying models into staging environments Creating dashboards for analyzing production model performance Integrating model training pipelines into cloud monitoring and alerting systems Creating tooling for researchers and data scientists to rapidly prototype and experiment with novel models Responding to production incidents that involve model serving systems Integrating model training and serving systems into Theorem’s data warehouse Building highly scalable model training infrastructure that can leverage multiple machines and GPU hardware Incorporating new machine learning frameworks and tools into Theorem’s software stack What We're \n",
      "\n",
      "\n",
      "https://www.linkedin.com/jobs-guest/jobs/api/jobPosting/2907046288 (Count: 5. Index: 600)\n",
      " Contributes to the design, execution and analysis of clinical studies for both client and internal research projects Leads cross-functional discussion, planning and execution medium-high complexity projects Mentors and coaches more junior team member with diverse backgrounds to drive learning and engagement Communicate findings, roadblocks and timelines cross-functionally to ensure project objectives are supported Build re-usable tools and models to predict health-related outcomes from time-series continuously collected from connected devices and apps Maintain the highest level of rigor and apply best practices to create reproducible, generalizable, fair, unbiased, and preferably interpretable models. Develop and review analysis code as a major responsibility (typically up to 50-70% of the time) QUALIFICATIONS Minimum \n",
      "\n",
      "\n",
      "https://www.linkedin.com/jobs-guest/jobs/api/jobPosting/2902123925 (Count: 6. Index: 750)\n",
      "Build model performance tracking tools, to monitor month over month model performance, identify drivers and provide recommendations for model performance improvement Collaborate with other salesforce data science and engineering teams to establish, formulate and build insight-based feature store. Author technical documentation and reports to communicate process and results Preferred Experience And \n",
      "\n",
      "\n",
      "https://www.linkedin.com/jobs-guest/jobs/api/jobPosting/2894720294 (Count: 7. Index: 900)\n",
      ": Drive informed decisions for monetization backend systems by making technical domain data accessible, leveraging statistical and analytical expertise. Lead analytics projects end-to-end in partnership with Product, Engineering, and cross-functional teams to inform, influence, support, and execute product strategy and investment decisions. Influence product direction through clear and compelling presentations to leadership. Work with large and complex data sets to solve a wide array of challenging problems using different analytical and statistical approaches. Apply technical expertise with quantitative analysis, experimentation, data mining, and the presentation of data to develop strategies for our products that serve billions of people and hundreds of millions of businesses. Identify and measure success of product efforts through goal setting, forecasting, and monitoring of key product metrics to understand trends. Define, understand, and test opportunities and levers to improve the product, and drive roadmaps through your insights and recommendations. Contribute towards advancing the Data Science discipline at Meta, including but not limited to driving data best practices (e.g. analysis, goaling, experimentation), improving analytical processes, scaling knowledge and tools, and mentoring other data scientists. Minimum \n",
      "\n",
      "\n",
      "https://www.linkedin.com/jobs-guest/jobs/api/jobPosting/2890625544 (Count: 8. Index: 1050)\n",
      " Identify valuable data sources and automate collection processes Undertake preprocessing of structured and unstructured data Analyze large amounts of information to discover trends and patterns Build predictive models and machine-learning algorithms Combine models through ensemble modeling Present information using data visualization techniques Propose solutions and strategies to business challenges Collaborate with engineering and product development teams \n",
      "\n",
      "\n",
      "https://www.linkedin.com/jobs-guest/jobs/api/jobPosting/2895485659 (Count: 9. Index: 1200)\n",
      " And Responsibilities Build predictive models and machine-learning algorithms Identify valuable data sources and automate collection processes Undertake pre-processing of structured and unstructured data Analyze large amounts of information to discover trends and patterns Propose solutions and strategies for challenging data science problems Collaborate with engineering and product development teams Present information using data visualization techniques Communicate research results via presentations and publications Job \n",
      "\n",
      "\n",
      "https://www.linkedin.com/jobs-guest/jobs/api/jobPosting/2856141545 (Count: 10. Index: 1350)\n",
      "Washington, D.C. office. Job Description: ECS is currently searching for a full-time Data Scientist to support one of the most innovative, exciting, and growing offices at the Department of Veterans Affairs (VA). The Data Scientist will be helping Multi-Channel Technologies (MCT), an arm of the Veterans Experience Office, to transform VA’s ability to serve Veterans and deliver world-class customer experience through improved program, data science, and analytical capabilities. As part of its mission to better understand customer needs and preferences, MCT is working to standardize reporting and analytics enterprise-wide, gaining actionable insights to improve the Veteran and employee experience. The position will include work with contact center telephony and customer relationship management (CRM) systems, looking at ways to surface valuable insights, making recommendations as it relates to AI, automation, and NLP. We are looking for a self-starter, someone with an entrepreneurial spirit, not afraid to take an idea from its inception and turn it into an efficiency building, innovative success! ROLE: Data mining, statistical and graph-based algorithms via technologies like R and Python Support efforts to improve the policies, procedures, and tools the agency has at its disposal to improve data quality Reviewing application and enterprise data models (conceptual, logical, physical) to identify data quality problems Configuring test and training data sets for use by team members Working with VA system owners to identify needed changes (i.e. technical, process, policy, etc.) to prevent future recurrence of identified issues Required \n",
      "\n",
      "\n",
      "https://www.linkedin.com/jobs-guest/jobs/api/jobPosting/2912965822 (Count: 11. Index: 1500)\n",
      "As Shippo gains notoriety in the shipping space, we will need to be proactive in detecting and preventing malicious activity within our system. We are looking for someone to improve our data collection and analysis capabilities and use their expertise to advance our intelligence through machine learning. Responsibilities Work with product and engineering to understand our current state and future needs and help ensure we will have the appropriate data points we need for our end goal Build visualizations and reports for security and fraud prevention Build anomaly detection methods to help engineers build automated alerts Analyze data for trends and patterns and generate meaning to help solve continuously evolving security and fraud problems Perform and build mathematics-based threat hunting Identify new patterns of abuse from data \n",
      "\n",
      "\n",
      "https://www.linkedin.com/jobs-guest/jobs/api/jobPosting/2911743132 (Count: 12. Index: 1650)\n",
      " Interview stakeholders to gather business requirements and translate them into concrete requirement for data science projects Build models which predict the intents of Alexa customer’s utterances and measure the effectiveness of Alexa’s responses Define metrics and design algorithms to estimate customer satisfaction and engagement in real-time Define and conduct experiments to optimize question-answer experience of Alexa customers, and communicate insights and recommendations to product, engineering, and business teams Apply data mining techniques to automatically identify trends, patterns, and frictions of customer interaction with Alexa devices Work with data engineers and software development engineers to deploy models and experiments to production Identify and recommend opportunities to automate systems, tools, and processes Basic \n",
      "\n",
      "\n",
      "https://www.linkedin.com/jobs-guest/jobs/api/jobPosting/2905143894 (Count: 13. Index: 1800)\n",
      " PwC Professional skills and responsibilities for this management level include but are not limited to As a Manager, you'll work as part of a team of problem solvers, helping to solve complex business issues from strategy to execution. Develop new skills outside of comfort zone. Act to resolve issues which prevent the team working effectively. Coach others, recognise their strengths, and encourage them to take ownership of their personal development. Analyse complex ideas or proposals and build a range of meaningful recommendations. Use multiple sources of information including broader stakeholder views to develop solutions and recommendations. Address sub-standard work or work that does not meet firm's/client's expectations. Use data and insights to inform conclusions and support decision-making. Develop a point of view on key global trends, and how they impact clients. Manage a variety of viewpoints to build consensus and create positive outcomes for all parties. Simplify complex messages, highlighting and summarising key points. Uphold the firm's code of ethics and business conduct. Basic \n",
      "\n",
      "\n",
      "https://www.linkedin.com/jobs-guest/jobs/api/jobPosting/2797761740 (Count: 14. Index: 1950)\n",
      " Use data science and analytics techniques to develop and maintain models that provide business with actionable insights to enable service excellence, drive efficiencies, profitable growth and improve cash flows. \n",
      "\n",
      "\n",
      "https://www.linkedin.com/jobs-guest/jobs/api/jobPosting/2849036220 (Count: 15. Index: 2100)\n",
      " as assigned. Physical Actions Sits or stands for extended periods of time, up to a full work shift. Occasionally reaches overhead and below the knees, including bending, twisting, pulling, and stooping. Occasionally moves, lifts, carries, and places objects and supplies weighing 0-10 pounds without assistance. Listens to, interprets, and differentiates auditory information (e.g. others speaking) at normal speaking levels with or without correction. Visually verifies and reads information. Visually locates material, resources and other objects. Ability to operate a computer for extended periods of time, up to a full work shift. Physical dexterity sufficient to use hands, arms, and shoulders repetitively to operate keyboard and other office equipment up to a full work shift. Physical Environment This position operates in an open office working environment which will include normal and customary distractions, noise, and interruptions. Education \n",
      "\n",
      "\n",
      "https://www.linkedin.com/jobs-guest/jobs/api/jobPosting/2826000740 (Count: 16. Index: 2250)\n",
      " Provide analysis to identify critical issues/questions around member performance. Conduct exploratory data analysis from complex, disparate data sources to recognize patterns, and identify member performance improvement opportunities. Generate hypotheses and analyze data to test and interpret results. Design and develop data models to predict member outcomes or future impact of key member decisions. Communicate findings from exploratory and predictive data analysis broadly to team and leaders. Identify improvement opportunities in reporting and BI tools and collaborate with Products Technology to implement enhancements. Serve as the resident data expert and share best practices/approaches for statistics, machine learning techniques, data modeling, simulation and advanced mathematics. Collaborate with key leaders and clinicians to build analytical acumen across all analytic roles in the organization. \n",
      "\n",
      "\n",
      "https://www.linkedin.com/jobs-guest/jobs/api/jobPosting/2902766856 (Count: 17. Index: 2400)\n",
      ": You will be responsible for the development of processes for modelling and analyzing data for an ambitious blockchain company. The focus will lie on performance related data of our infrastructure and operations for our internal business development, but also on the modelling of data and creation of dashboards for our customers. Joining us will let you dive into the disruptive blockchain space and gain profound knowledge about decentralized technologies and their potential to revolutionize this world. \n",
      "\n",
      "\n",
      "https://www.linkedin.com/jobs-guest/jobs/api/jobPosting/2871620592 (Count: 18. Index: 2550)\n",
      " Develops and deploys scalable algorithms and models for solving various business problems and driving value for Walgreens Boots Alliance, drawing from knowledge and experience in Machine Learning/AI, constrained optimization, probabilistic theory, statistical theory, graph theory, or related fields. Application areas include but are not limited to algorithmic process of recommendation for patient health/outcome improvement, automation; optimization; demand forecasting; outlier detection, mathematical optimization, cost to serve optimization; marketing and promotions optimization, marketing intelligence; and personalization. Collaborates with business clients, product managers, data engineers, front end developers, and other team members to build and deploy scalable ML/AI infused applications, or other data centric products that incorporate constrained optimization, multi-dimensional recommenders, statistical theory, large-scale forecasting, sensor analytics, IoT, etc. Programs using tech stack Python, PySpark, Matplotlib, TensorFlow, PyTorch, etc. Utilizes Cloud Computing on Azure/Databricks, querying in Snowflake. Develops and executes on ML/AI strategies and plans. Performs machine learning techniques, supervised and unsupervised algorithms Works with key stakeholders to formulate a comprehensive plan that is consistent with the overall business objectives and budgetary considerations. Applies broad knowledge of ML/AI capabilities to identify new growth areas, new and emerging opportunities. Conducts research by studying organization goals, strategies, practices, and user cases. Recommends strategies by evaluating organization outcomes; identifying problems; evaluating trends; anticipating requirements. Shares highly complex information related to areas of expertise. Interacts with senior management to keep abreast of objectives. Interacts with peers to interpret information and improve cross-functional processes and programs. Builds and enhances key internal and external contacts. An Equal Opportunity Employer, including disability/veterans About Walgreens Boots Alliance Walgreens Boots Alliance (Nasdaq: WBA) is a global leader in retail pharmacy, impacting millions of lives every day through dispensing medicines, and providing accessible, high-quality care. With more than 170 years of trusted healthcare heritage and innovation in community pharmacy, the company is meeting customers’ and patients’ needs through its convenient retail locations, digital platforms and health and beauty products. Including equity method investments, WBA has a presence in more than 25 countries, employs more than 450,000 people and has more than 21,000 stores. WBA’s purpose is to help people across the world lead healthier and happier lives. The company is proud of its contributions to healthy communities, a healthy planet, an inclusive workplace and a sustainable marketplace. WBA is a participant of the United Nations Global Compact and adheres to its principles-based approach to responsible business. WBA is included in FORTUNE’s 2021 list of the World’s Most Admired Companies*. This is the 28th consecutive year that WBA or its predecessor company, Walgreen Co., has been named to the list. More company information is available at www.walgreensbootsalliance.com. Basic \n",
      "\n",
      "\n",
      "https://www.linkedin.com/jobs-guest/jobs/api/jobPosting/2882555347 (Count: 19. Index: 2700)\n",
      " Review analytical release data to ensure all approved procedures were followed and all specifications were met for manufacturing. Review protocols, reports and data associated with stability, method validation and method transfer. Enter stability data into iStability and collaborate with the Quality team (Commercial Quality/IMP Quality) for review. Evaluate for trends and ensure data is analyzed to help understand degradation pathways and to help develop specifications. Assist with the management of the reference standards across all programs including review of protocols, data and CoAs generated. Assure that source data and information is maintained and traceable. Assist with CMC activities to support regulatory filings (IND, NDA, IMPD, MAA, CTA) for company development programs. Work closely with other members of Pharmaceutical Sciences, the Quality Team (Commercial Quality/IMP Quality), and Regulatory to ensure the successful GMP manufacture of company clinical candidates and their successful progression through development to government filings Support communication with external vendors via conference calls and/or emails, etc. as needed Assist with non-compliance events and change controls for manufacturing support and testing with the Quality team (Commercial Quality/IMP Quality) for all company programs. Assist as an analytical subject matter expert for CMO/CRO audits. \n",
      "\n",
      "\n",
      "https://www.linkedin.com/jobs-guest/jobs/api/jobPosting/2915342474 (Count: 20. Index: 2850)\n",
      " Conceive, develop, and validate sophisticated AI/ML solutions to high-priority biology problems in drug discovery and development Participate in cross-functional collaborations with internal scientific and data science teams and external companies Participate and shape internal and external collaborations, help define the scope of research questions Extract insights at scale from complex, high-dimensional, high-throughput multi-omics data to improve drug discovery and development (e.g., target/disease identification and quantification, mechanistic insights, patient characterization and stratification, etc.) Clearly articulate innovative methods (e.g. based on deep learning) and results to diverse audiences and partners to drive decision-making Contribute to a culture of excellence and high standards, continuous learning and growth, collaboration, and respect Education \n",
      "\n",
      "\n",
      "https://www.linkedin.com/jobs-guest/jobs/api/jobPosting/2878154527 (Count: 21. Index: 3000)\n",
      "Product analysts play a central role in Twitch's data-driven decision-making process. As an analyst at Twitch, you will shape the way product performance is measured, define critical questions that guide product strategies, and scale analytics methods and tools to support our growing business. We are looking for an experienced product analyst to help develop new advertising initiatives aimed at improving viewer experience and unlocking new opportunities for creators. Our ideal candidate is a full-stack data powerhouse who is experienced in driving product decisions throughout the product lifecycle using data and experimentation. You Will: Inform strategies and prioritization through insights derived from in-depth data analysis Use A/B experiments to drive product direction with iterative innovation and measurement Develop automated dashboards and other self-service reporting tools to surface key data to stakeholders Build scalable data pipelines to support analytics needs Evaluate and forecast impact of product features on creators, viewers, and the entire Twitch ecosystem \n",
      "\n",
      "\n",
      "https://www.linkedin.com/jobs-guest/jobs/api/jobPosting/2897526849 (Count: 22. Index: 3150)\n",
      ": Work with a team to understand business problems, structure data-driven solutions and define key metrics for solution assessment Manipulate large-scale structured and unstructured datasets, perform data analysis to extract insights Collaborate with Data Scientists to develop, implement and test most appropriate algorithms for a given use-case; be able to review the work of data scientists and provide guidance Drive innovation by enhancing existing solutions and prototyping new ones Drive the development, validation, and implementation of new measurement methodologies, including client-focused impact assessments Perform unit testing, identify root causes and solve any bugs Ensure product quality, stability, and scalability by facilitating code reviews Ensure coding as well as overall development best practices are implemented Translate technical insights to non-technical audiences Design and analyze experiments Create reports, visualizations, and web applications Essential Business Experience and Technical \n",
      "\n",
      "\n",
      "https://www.linkedin.com/jobs-guest/jobs/api/jobPosting/2845023558 (Count: 23. Index: 3300)\n",
      ": Drive the application of rigorous data science in the development of industry solutions Support the planning and direction of a project and effectively prioritize goals Lead discussions at peer review and use quantitative skills to positively influence decision making Help identify opportunities to apply the latest advancements in Machine Learning and Artificial Intelligence to build, test, and validate predictive models Deploy your algorithms to production to identify actionable insights from large databases Compare results from various methodologies and recommend best techniques to stakeholders Develop and embed automated processes for predictive model validation, deployment, and implementation Experience working closely with an engineering organization to define applications and manage them through the entire product lifecycle Develop product artifacts such as product positioning, messaging, presentations, sales tools, marketing collateral, and product demonstrations for use in Go To Market efforts Ensure SDLC best practices and standards are followed \n",
      "\n",
      "\n",
      "https://www.linkedin.com/jobs-guest/jobs/api/jobPosting/2900337654 (Count: 24. Index: 3450)\n",
      ": Work closely with customers to quickly understand their fraud challenges, and identify how F5 might be able to help them successfully fight fraud. Identify useful data from customers’ web and mobile applications, and engineer relevant features for fraud models. Train and deploy machine learning models to predict fraud outcomes, based on telemetry and customer-provided data. Maintain models for customers, and update or refresh them as needed. Communicate clearly and effectively with internal teams (sales, customer success, product, engineering, etc) and with customers on the performance of machine learning models, as well as other fraud and data science issues. Provide feedback to internal teams on data science, product, engineering issues, and suggest process improvements. \n",
      "\n",
      "\n",
      "https://www.linkedin.com/jobs-guest/jobs/api/jobPosting/2895311813 (Count: 25. Index: 3600)\n",
      " Train novel deep neural networks to predict user behavior. Research new architectures, labelling schemes, and training methodologies. Monitor performance of our models in production. Basic \n",
      "\n",
      "\n",
      "https://www.linkedin.com/jobs-guest/jobs/api/jobPosting/2891562273 (Count: 26. Index: 3750)\n",
      " Develop a deep understanding of Amazon’s supply chain and AWS’s services and tools Work with Customers, Product Managers, Technology and Business teams, Engineers, and Leadership to identify and prioritize business problems Take the lead on large projects that span multiple teams for problems that are ambiguous, requiring both technical and domain expertise. Build ML and statistical models that provide inputs into key business processes; work in partnership with engineering teams to integrate models with existing tools/systems and drive full automation of end-to-end modelling workflow to initiate customer handoffs Conduct extensive research on the optimal ways to solve the problems and come up with novel ways/algorithms to deliver the desired result, resulting in significant impact to the downstream/upstream business processes. Collaborate with Software Developers (SDEs), Data Engineers (DEs), and Business Intelligence Engineers (BIEs) to create data pipelines, and automate manual processes using scripting languages such as Python and Native AWS services Develop and provide analysis of actionable findings from key metrics or problems. This will require data gathering and manipulation, synthesis and modeling, problem solving, and communication of insights and recommendations Lead deep dive analysis of business problems, formulate conclusions and recommendations to be presented to senior leadership Produce written recommendations and insights for key stakeholders that will help shape the future of product development initiatives Basic \n",
      "\n",
      "\n",
      "https://www.linkedin.com/jobs-guest/jobs/api/jobPosting/2880288685 (Count: 27. Index: 3900)\n",
      "Design and implement innovative computer vision and deep learning algorithms for solving challenging problems. Collaborate with other STR engineers and leading researchers in the computer vision community to develop, adapt, extend and optimize state-of-the-art techniques for addressing new applications for computer vision technologies. Apply exploitation solutions to a range of image domains, such as data from ground, aerial, or satellite-based sensors, social media photographs, and other modalities. Perform analysis of experimental data and identify performance improvement strategies across a wide range of data volumes: from five training examples to millions. Interact with national security customers and users to determine and assess unmet needs and evolving requirements. Transition algorithms to prototype and/or real-time systems demonstrations. Position may involve travel to customer meetings and/or data collections and experiments. Who You Are \n",
      "\n",
      "\n",
      "https://www.linkedin.com/jobs-guest/jobs/api/jobPosting/2787252199 (Count: 28. Index: 4050)\n",
      " Define the data and modeling strategy and lead cross-functional teams to achieve business objectives and deliver new products to our customers. Contribute to the level of organizational maturity in the data science areas related to model building, insight development, model/insight delivery, and best-in-class ML and statistical approaches. Design and build new predictive models and optimization routines, with applications including modeling and predicting customer churn and retention behavior, developing impactful customer segmentation, real-time pricing etc. Bring strong technical expertise and develop a thorough understanding of our data to drive insights in the areas of customer behavior, pricing, loyalty and engagement, retention, profitability, and product development, through causal inference and experimentation methods. Drive innovation, lead and define best practices, explore and validate novel statistical and experimentation tactics and methodologies. Drive clarity and solve ambiguous business problems using data-driven approaches. Mentor junior data scientists. Communicate findings and act as a technical advisor to leadership and the broader organization. \n",
      "\n",
      "\n",
      "https://www.linkedin.com/jobs-guest/jobs/api/jobPosting/2908707431 (Count: 29. Index: 4200)\n",
      " Dive into underlying data, apply relevant Data Mining techniques and/or Machine Learning algorithms and propose data analytic product to improve the product intelligence Implement the applicable Machine Learning or statistics-based algorithm for prediction and optimization Deliver the trained model to production design, build and support algorithms of data transformation Convey mathematical and statistical models with proven predictive power Build predictive models of energy usage and optimal technology suitability Translate quantitative data into visual reports for non-technical audiences and provide clear analysis of the data Identify areas where improvements in data analytics can bring more value to clients Lead the development of company best practices around data analytics, dashboarding, and reporting Prepare reports for leadership that communicate trends, patterns, and forecasts to inform business decisions Work hand in hand with software engineers to deploy your models into production Lead, grow, and foster high-performance teams of in-house data scientists and ML experts \n",
      "\n",
      "\n",
      "https://www.linkedin.com/jobs-guest/jobs/api/jobPosting/2849599321 (Count: 30. Index: 4350)\n",
      " do Design and implement the next generation of scalable machine learning and deep-learning algorithms that learn home-appliance models and can estimate their wattage consumption from wattage time-series and other data representations. Have the unique opportunity to dive into high resolution energy consumption data, clean it up, and define a ground truth that can be used to evaluate your algorithms. Drive successful algorithms to production. Contribute to the technical vision of Sense \n",
      "\n",
      "\n",
      "https://www.linkedin.com/jobs-guest/jobs/api/jobPosting/2862603237 (Count: 31. Index: 4500)\n",
      "As a Senior Data Scientist, you will be tasked with solving data problems end to end. This means: Ability to understand business goals and translate them into Machine Learning use cases and model design Understanding and applying clustering/sampling techniques to design Having and growing an understanding of the multi-channel marketing optimization problem space. Performing exploratory data analysis to understand relationships, opportunities to influence outcomes and how to attribute cross channel outcomes. Being able to quickly iterate over common feature transformation and model types in order to find the best predictive models Being able to interpret the models that are being generated. Developing proofs of concept to verify your ideas Closing the loop to make sure that the proposed solution is performing as it should and is correctly understood by clients Working closely with clients throughout You'll join a team of passionate, talented data scientists who collaborate to design, build and maintain cutting-edge models that arm our clients with the ability to spot customer value and act upon it. If you're intellectually curious, hardworking and solution-oriented, you'll fit right into our fast-paced, collaborative environment. In addition to working with our data science team, you'll also work closely with our data engineering team to develop top-of-the-line data pipelines. Because this is a senior role, we are looking for candidates that can carry out research in an autonomous fashion, and who can interact closely with clients with varying levels of machine learning experience. The team Advertising, Marketing & Commerce Our Advertising, Marketing & Commerce team focuses on delivering marketing and growth objectives aligned with our clients' brand values for measurable business growth. We do this by creating content, communications, and experiences that engage and inspire their customers to act. We implement and operate the technology platforms that enable personalized content, commerce and marketing user-centric experiences. In doing so, we transform our clients' marketing and engagement operations into modern, data-driven, creatively focused organizations. Our team brings deep experience in creative and digital marketing capabilities, many from our Digital Studios. We serve our clients through the following types of work: Cross-channel customer engagement strategy, design and development (web, mobile, social, physical) eCommerce strategy, implementation and operations Marketing Content and digital asset management solutions Marketing Technology and Advertising Technology solutions Marketing analytics implementation and operations Advertising campaign ideation, development and execution Acquisition and engagement campaign ideation, development and execution Agile based, design-thinking, user-centric, empirical projects that accelerate results \n",
      "\n",
      "\n",
      "https://www.linkedin.com/jobs-guest/jobs/api/jobPosting/2872792167 (Count: 32. Index: 4650)\n",
      " KEY ACCOUNTABILITIES: We are looking for strong system/data/MLOps engineers who can be expected to learn ML/Data Science concepts on the job. You will leverage Azure services (e.g., Azure pipeline, Azure DevOps, Azure Data Factory) and develop customized modules to instrument the CI/CD capability. You will support and manage machine learning models, production pipeline, experimentation platform across Data Science teams within and outside MCDS. Develop and enhance reproducible, scalable analytical and modeling toolkits to provide rigorous analysis solutions. Convert ML scientist code into production-ready packages integrated into services and/or build applications. Become a subject matter expert in the Cloud + AI business and underlying data ecosystem. Lead the development and management of metrics, KPIs, and dashboards as needed. Ensure the ongoing documentation of analysis methodologies and results. The candidate will work closely with Applied Research Scientists, Data Engineers, Program Managers to design and implement a mature MLOPS platform. \n",
      "\n",
      "\n",
      "https://www.linkedin.com/jobs-guest/jobs/api/jobPosting/2916675865 (Count: 33. Index: 4800)\n",
      " Build systems that evaluate the performance of every part of the self-driving stack Help set the direction for the entire company in a data-driven way Responsibilities Work with massive datasets on data association, clustering, segmentation, filtering, machine learning, feature engineering, and inference Establish effective benchmarking pipelines to evaluate self-driving system in complex and nuanced situations Develop and deploy novel approaches to solve open-ended problems Closely collaborate with other teams to conduct system design, integration and testing \n",
      "\n",
      "\n",
      "https://www.linkedin.com/jobs-guest/jobs/api/jobPosting/2907762434 (Count: 34. Index: 4950)\n",
      "Conduct meetings with clients and interact with external stakeholders, whether it is direct user feedback, presenting business cases or defining the roadmap of evolutions for that client You will actively participate in the definition and development of our suite of products on fraud detection, anti-money laundering and claim automation, working on various data types such as structured data, free text, documents and images. What We Are \n",
      "\n",
      "\n",
      "https://www.linkedin.com/jobs-guest/jobs/api/jobPosting/2895354280 (Count: 35. Index: 5100)\n",
      "What You'll Do You will work in a team of Network Planners, Developers and Data Scientists to support the development of software and analytics capabilities for modelling Sky's European network infrastructure and to drive the network strategy. Your Main Responsibilities Will Be Data Engineering and Network Modelling Ingest and process network usage and commercial data Create capacity and economic network models Generate capacity and budget forecasts Network Analytics Apply data science methodologies to analyse and improve network performance and cost efficiency Develop Insights to support commercial objectives and present analysis/plans to relevant stakeholders up to UK CTO Software Development Develop and Deploy software to support data collection and interaction with delivery teams Design, Develop and Support Network Automation tools Stakeholder Management Extract and evaluate requirements from service owners Identify, modify, or create and document business processes What You'll Bring You will have excellent knowledge and experience (gained in the industry) in the data science and SW development areas. This is a highly dynamic role that will allow you to grow multidisciplinary skills in the Data Science, Network Modelling and Software Development domains. Essential \n",
      "\n",
      "\n",
      "https://www.linkedin.com/jobs-guest/jobs/api/jobPosting/2908125096 (Count: 36. Index: 5250)\n",
      " As a Data Scientist, you will be part of a diverse team of engineers developing next-generation, vertically coordinated products and services at Viasat. You will develop new, novel algorithms and techniques for analyzing complex data sets collected during Viasat’s product and service lifecycles. You will be responsible for defining and developing models that produce new inferences and enable action by adjacent teams. You will work with software engineers to build new tools, libraries, and services that can expand Viasat’s ability to understand complex data sets. You will be part of a growing team developing cloud-based solutions for tackling problems found at the cutting edge of technological development. On this team, you’ll build a breadth of knowledge including distributed systems, predictive analytics, and machine learning. You will craft, develop, and deploy analytic pipelines to answer questions across multiple business areas and disciplines for Viasat’s broad but vertically coordinated products. We encourage learning through immersion, collaboration and action. We value adaptability and curiosity. Our ideal candidate is someone passionate about solving tough problems using data and loves doing so. As a Data Scientist, You Will Contribute With Analytics: Architect, design, and build data analysis pipelines working with large and complex data sets to supervise and analyze metrics Inference: Use statistical tools to craft experiments and determine causality Algorithms: Design and build predictive and decision-making algorithms for various business needs Data engineering: Transforming and understanding data from many systems \n",
      "\n",
      "\n",
      "https://www.linkedin.com/jobs-guest/jobs/api/jobPosting/2813105457 (Count: 37. Index: 5400)\n",
      " require proficiency in multiple programming languages/applications including Structured Query Language (SQL), R, and Python. Required experience with working with large data, data analytics/visualization, building, testing, publishing, and maintaining ETL processes and pipeline automation. This position is located in Indianapolis, IN but work will be performed remotely. Responsibilities Conducts COVID-19 specific epidemiologic analyses that involve large datasets, or linkage of multiple datasets, building and automating pipelines, and programming and comparing complex matching algorithms Database Management and liaising with vendors to build and manage database enhancement processes Building routine reporting mechanisms such as dashboards on trend analyses, descriptive statistics, and interactive geographic data displays Collaborates with division and department stakeholders to define and manage data science projects from conception through implementation, including identifying and developing statements of business problems; conducting exploratory data analysis and data mining; developing model specification requirements; and conducting advanced statistical analyses. Develops and presents visualizations of findings and recommendations that can be used to support business decisions and allocate resources. Works with various stakeholders to document business requirements and helps frame business problems so that appropriate corresponding data science techniques can be identified and applied. Collaborates with other Data Scientists, Analysts, Epidemiologists, and IT staff to select, evaluate, improve, and document tools and systems in order to strengthen divisional and departmental analytic capacity. Independently conducts advanced analytical studies for the resolution of business problems and transfigures data into critical information by selecting and deploying appropriate advanced statistical techniques such as machine learning, bivariate and multivariate analyses, predictive/prescriptive analytics, and optimization. Uses statistical computer scripting, domain-specific, and programming languages and other software and tools, to digest, manipulate, prepare, augment, evaluate, analyze, summarize, and visualize data. Works with program staff to understand the implications of analyses and to ensure that findings are actionable and support data-driven program, policy, and operational decision-making. Works with functional teams to develop and implement products, services, and tools, such as dashboards and reports, emerging from the analysis. Education A Master's degree in Public Health with a concentration in Epidemiology or related degree from an accredited university plus three (3) years of full-time experience is strongly encouraged. \n",
      "\n",
      "\n",
      "https://www.linkedin.com/jobs-guest/jobs/api/jobPosting/2888232001 (Count: 38. Index: 5550)\n",
      " Peraton drives missions of consequence spanning the globe and extending to the farthest reaches of the galaxy. As the worlds leading mission capability integrator and transformative enterprise IT provider, we deliver trusted and highly differentiated national security solutions and technologies that keep people safe and secure. Peraton serves as a valued partner to essential government agencies across the intelligence, space, cyber, defense, civilian, health, and state and local markets. Every day, our employees do the cant be done, solving the most daunting challenges facing our customers. Responsibilities Peraton is looking for a Data Scientist to join our team in Patuxent River, MD. The ideal candidate shall develop and implement techniques or analytical applications to transform raw data into meaningful information using data oriented programming languages and visualization software. This position is contingent upon contract award. Responsibilities For The Data Scientist Include Apply data mining, data modeling, natural language processing, and machine learning to extract and analyze information from large structured and unstructured datasets. Visualize, interpret, and report data findings. Create dynamic data reports. \n",
      "\n",
      "\n",
      "https://www.linkedin.com/jobs-guest/jobs/api/jobPosting/2912300289 (Count: 39. Index: 5700)\n",
      " Artificial Intelligence (AI) and Machine Learning (ML) are one of the most strategic & fastest growing businesses opportunities. Autodesk has made a major move into this area with use cases in various stages in finance. We are designing and building innovative solutions using these emerging technologies to digitize the future of finance. As a data scientist you’ll develop artificial intelligence and machine learning solutions with cutting edge technologies, learn about different enterprise functions in finance and how emerging technologies such as AI and ML are disrupting these industries. Responsibilities Partner and develop strong relationships with cross-functional teams Process, manipulate and understand ‘Data’ from variety of sources Utilize machine learning models to deliver meaningful business insights Build a practical product that can automate/improve an existing process Make a cross-functional impact with our finance & operations organization Minimum \n",
      "\n",
      "\n",
      "https://www.linkedin.com/jobs-guest/jobs/api/jobPosting/2907867601 (Count: 40. Index: 5850)\n",
      ": Enhance data collection procedures to include information that is relevant for building analytic systems Clearly and effectively present completed analysis with new insights and recommendations to the business partners Collaborate with different departments to build complex predictive models to support overall business objectives and business needs Leverage emerging technologies, open source tools, and harnesses new mathematical techniques Process, clean, investigate, and verify the integrity of data used for analysis Research and maintain awareness of best practices and techniques of statistical analysis Select features, build and optimize classifiers using machine learning techniques What your \n",
      "\n",
      "\n",
      "https://www.linkedin.com/jobs-guest/jobs/api/jobPosting/2864658198 (Count: 41. Index: 6000)\n",
      " Provides data and analytic support for building, managing and maintaining predictive models. Conducts exploratory/ad hoc data analysis to get business insights. Creates reports, documentation, and supporting codes as part of the analysis process. Writes SQL queries to extract data from the SQL Server data warehouse for the purpose of data analysis and model integration. Learns to use and adopts new tools or techniques of machine learning, visualization and data munging to increase work efficiency both in traditional and big data platform. Validates and monitors existing models. Scores requested populations for monthly reporting. \n",
      "\n",
      "\n",
      "https://www.linkedin.com/jobs-guest/jobs/api/jobPosting/2903374998 (Count: 42. Index: 6150)\n",
      "The Discover team is looking for a Machine Learning Engineer to bring their fresh ideas to Route. As a Machine Learning Engineer on the Discover Team, will be responsible for developing new models and machine learning architectures, keeping up to date with the state-of-the-art machine learning technologies, and working with others to bring those technologies to actual products. Route is an engineering company. We need our engineers to bring fresh ideas, be excited to take on new problems across the stack, and embrace the startup culture where we must be comfortable being uncomfortable at times. We aspire to hire the best people with a broad set of technical skills, representing a globally diverse audience, and bringing a diversity of ideas, perspectives, and cultures. Responsibilities: Help in the design, implementation, and improvement of our most demanding ML and AI projects Influence project priorities, deadlines, and deliverables Serve as a key resource to team members on engineering best practices, design, and coding standards Embody a culture of innovation, transparency, and radical candor Work with the team to improve our recommendation engine Minimum \n",
      "\n",
      "\n",
      "https://www.linkedin.com/jobs-guest/jobs/api/jobPosting/2881119196 (Count: 43. Index: 6300)\n",
      " To help understand, develop, and deliver data science solutions to various stakeholders throughout the firm. Contribute to the development of new value-add data analysis techniques and identify opportunities on where to apply them. This role will suit a candidate who thrives on working in a fast-paced environment where their work has high impact. \n",
      "\n",
      "\n"
     ]
    }
   ],
   "source": [
    "counter, print_counter = 0, 0\n",
    "\n",
    "for key, value in jobs_enhanced.items():\n",
    "    if counter%150 == 0 :\n",
    "        print_counter +=1\n",
    "        print(f\"https://www.linkedin.com/jobs-guest/jobs/api/jobPosting/{key} (Count: {print_counter}. Index: {counter})\")\n",
    "        print(value['responsibilities'])\n",
    "        print(\"\\n\")\n",
    "\n",
    "    counter += 1\n"
   ],
   "metadata": {
    "collapsed": false,
    "pycharm": {
     "name": "#%%\n"
    }
   }
  },
  {
   "cell_type": "code",
   "execution_count": 14,
   "outputs": [
    {
     "data": {
      "text/plain": "6344"
     },
     "execution_count": 14,
     "metadata": {},
     "output_type": "execute_result"
    }
   ],
   "source": [
    "len(jobs_enhanced)"
   ],
   "metadata": {
    "collapsed": false,
    "pycharm": {
     "name": "#%%\n"
    }
   }
  },
  {
   "cell_type": "code",
   "execution_count": 15,
   "outputs": [],
   "source": [
    "# short_count = 0\n",
    "#\n",
    "# for key, value in jobs_enhanced.items():\n",
    "#     if len(value) < 75:\n",
    "#         short_count +=1\n",
    "#\n",
    "# short_count"
   ],
   "metadata": {
    "collapsed": false,
    "pycharm": {
     "name": "#%%\n"
    }
   }
  },
  {
   "cell_type": "markdown",
   "source": [],
   "metadata": {
    "collapsed": false
   }
  },
  {
   "cell_type": "code",
   "execution_count": 16,
   "outputs": [
    {
     "data": {
      "text/plain": "                                             responsibilities           title  \\\n2908496770  : • Design and implement ML methods on proprie...  Data Scientist   \n2911267267  : • Provide consultative support as and when r...  Data Scientist   \n2912844894  : Support Data and Analytics team through deve...  Data Scientist   \n2911205495   Build agent-based simulations of smart contra...  Data Scientist   \n2912480226   Productionize, launch, and monitor predictive...  Data Scientist   \n\n                                                  description  \\\n2908496770  <html><body><div class=\"description__text desc...   \n2911267267  <html><body><div class=\"description__text desc...   \n2912844894  <html><body><div class=\"description__text desc...   \n2911205495  <html><body><div class=\"description__text desc...   \n2912480226  <html><body><div class=\"description__text desc...   \n\n                companyName                location   level  \n2908496770  Data Revolution  San Francisco Bay Area  senior  \n2911267267       TrueSkilla           United States  senior  \n2912844894   Project Canary              Denver, CO     mid  \n2911205495         Gauntlet           United States     mid  \n2912480226            Miles        Redwood City, CA     mid  ",
      "text/html": "<div>\n<style scoped>\n    .dataframe tbody tr th:only-of-type {\n        vertical-align: middle;\n    }\n\n    .dataframe tbody tr th {\n        vertical-align: top;\n    }\n\n    .dataframe thead th {\n        text-align: right;\n    }\n</style>\n<table border=\"1\" class=\"dataframe\">\n  <thead>\n    <tr style=\"text-align: right;\">\n      <th></th>\n      <th>responsibilities</th>\n      <th>title</th>\n      <th>description</th>\n      <th>companyName</th>\n      <th>location</th>\n      <th>level</th>\n    </tr>\n  </thead>\n  <tbody>\n    <tr>\n      <th>2908496770</th>\n      <td>: • Design and implement ML methods on proprie...</td>\n      <td>Data Scientist</td>\n      <td>&lt;html&gt;&lt;body&gt;&lt;div class=\"description__text desc...</td>\n      <td>Data Revolution</td>\n      <td>San Francisco Bay Area</td>\n      <td>senior</td>\n    </tr>\n    <tr>\n      <th>2911267267</th>\n      <td>: • Provide consultative support as and when r...</td>\n      <td>Data Scientist</td>\n      <td>&lt;html&gt;&lt;body&gt;&lt;div class=\"description__text desc...</td>\n      <td>TrueSkilla</td>\n      <td>United States</td>\n      <td>senior</td>\n    </tr>\n    <tr>\n      <th>2912844894</th>\n      <td>: Support Data and Analytics team through deve...</td>\n      <td>Data Scientist</td>\n      <td>&lt;html&gt;&lt;body&gt;&lt;div class=\"description__text desc...</td>\n      <td>Project Canary</td>\n      <td>Denver, CO</td>\n      <td>mid</td>\n    </tr>\n    <tr>\n      <th>2911205495</th>\n      <td>Build agent-based simulations of smart contra...</td>\n      <td>Data Scientist</td>\n      <td>&lt;html&gt;&lt;body&gt;&lt;div class=\"description__text desc...</td>\n      <td>Gauntlet</td>\n      <td>United States</td>\n      <td>mid</td>\n    </tr>\n    <tr>\n      <th>2912480226</th>\n      <td>Productionize, launch, and monitor predictive...</td>\n      <td>Data Scientist</td>\n      <td>&lt;html&gt;&lt;body&gt;&lt;div class=\"description__text desc...</td>\n      <td>Miles</td>\n      <td>Redwood City, CA</td>\n      <td>mid</td>\n    </tr>\n  </tbody>\n</table>\n</div>"
     },
     "execution_count": 16,
     "metadata": {},
     "output_type": "execute_result"
    }
   ],
   "source": [
    "df = pd.DataFrame.from_dict(jobs_enhanced, orient='index')\n",
    "df.head()"
   ],
   "metadata": {
    "collapsed": false,
    "pycharm": {
     "name": "#%%\n"
    }
   }
  },
  {
   "cell_type": "code",
   "execution_count": 17,
   "outputs": [
    {
     "data": {
      "text/plain": "(6344, 6)"
     },
     "execution_count": 17,
     "metadata": {},
     "output_type": "execute_result"
    }
   ],
   "source": [
    "df.shape"
   ],
   "metadata": {
    "collapsed": false,
    "pycharm": {
     "name": "#%%\n"
    }
   }
  },
  {
   "cell_type": "code",
   "execution_count": 18,
   "outputs": [],
   "source": [
    "df2 = df.drop_duplicates()"
   ],
   "metadata": {
    "collapsed": false,
    "pycharm": {
     "name": "#%%\n"
    }
   }
  },
  {
   "cell_type": "code",
   "execution_count": 19,
   "outputs": [
    {
     "data": {
      "text/plain": "(6193, 6)"
     },
     "execution_count": 19,
     "metadata": {},
     "output_type": "execute_result"
    }
   ],
   "source": [
    "df2.shape"
   ],
   "metadata": {
    "collapsed": false,
    "pycharm": {
     "name": "#%%\n"
    }
   }
  },
  {
   "cell_type": "code",
   "execution_count": 20,
   "outputs": [],
   "source": [
    "df3 = df2.drop_duplicates(subset=['responsibilities'])"
   ],
   "metadata": {
    "collapsed": false,
    "pycharm": {
     "name": "#%%\n"
    }
   }
  },
  {
   "cell_type": "code",
   "execution_count": 21,
   "outputs": [
    {
     "data": {
      "text/plain": "(3829, 6)"
     },
     "execution_count": 21,
     "metadata": {},
     "output_type": "execute_result"
    }
   ],
   "source": [
    "df3.shape"
   ],
   "metadata": {
    "collapsed": false,
    "pycharm": {
     "name": "#%%\n"
    }
   }
  },
  {
   "cell_type": "code",
   "execution_count": 22,
   "outputs": [],
   "source": [
    "df3.to_pickle('big_job_df.pickle')"
   ],
   "metadata": {
    "collapsed": false,
    "pycharm": {
     "name": "#%%\n"
    }
   }
  },
  {
   "cell_type": "code",
   "execution_count": 29,
   "outputs": [
    {
     "data": {
      "text/plain": "                                         responsibilities           title  \\\ncount                                                3829            3829   \nunique                                               3829            1877   \ntop     : • Design and implement ML methods on proprie...  Data Scientist   \nfreq                                                    1             843   \n\n                                              description companyName  \\\ncount                                                3829        3829   \nunique                                               3829        1804   \ntop     <html><body><div class=\"description__text desc...      Amazon   \nfreq                                                    1         185   \n\n                               location level  \ncount                              3829  3829  \nunique                              573     3  \ntop     London, England, United Kingdom   mid  \nfreq                                241  1982  ",
      "text/html": "<div>\n<style scoped>\n    .dataframe tbody tr th:only-of-type {\n        vertical-align: middle;\n    }\n\n    .dataframe tbody tr th {\n        vertical-align: top;\n    }\n\n    .dataframe thead th {\n        text-align: right;\n    }\n</style>\n<table border=\"1\" class=\"dataframe\">\n  <thead>\n    <tr style=\"text-align: right;\">\n      <th></th>\n      <th>responsibilities</th>\n      <th>title</th>\n      <th>description</th>\n      <th>companyName</th>\n      <th>location</th>\n      <th>level</th>\n    </tr>\n  </thead>\n  <tbody>\n    <tr>\n      <th>count</th>\n      <td>3829</td>\n      <td>3829</td>\n      <td>3829</td>\n      <td>3829</td>\n      <td>3829</td>\n      <td>3829</td>\n    </tr>\n    <tr>\n      <th>unique</th>\n      <td>3829</td>\n      <td>1877</td>\n      <td>3829</td>\n      <td>1804</td>\n      <td>573</td>\n      <td>3</td>\n    </tr>\n    <tr>\n      <th>top</th>\n      <td>: • Design and implement ML methods on proprie...</td>\n      <td>Data Scientist</td>\n      <td>&lt;html&gt;&lt;body&gt;&lt;div class=\"description__text desc...</td>\n      <td>Amazon</td>\n      <td>London, England, United Kingdom</td>\n      <td>mid</td>\n    </tr>\n    <tr>\n      <th>freq</th>\n      <td>1</td>\n      <td>843</td>\n      <td>1</td>\n      <td>185</td>\n      <td>241</td>\n      <td>1982</td>\n    </tr>\n  </tbody>\n</table>\n</div>"
     },
     "execution_count": 29,
     "metadata": {},
     "output_type": "execute_result"
    }
   ],
   "source": [
    "df3.describe()"
   ],
   "metadata": {
    "collapsed": false,
    "pycharm": {
     "name": "#%%\n"
    }
   }
  },
  {
   "cell_type": "code",
   "execution_count": 26,
   "outputs": [],
   "source": [
    "def cell_count_containing(series, term):\n",
    "    count = series.str.contains(term, case=False).sum()\n",
    "    percent = count / len(series) * 100\n",
    "    return f\"{term}: {count}  ({percent:.1f}%)\""
   ],
   "metadata": {
    "collapsed": false,
    "pycharm": {
     "name": "#%%\n"
    }
   }
  },
  {
   "cell_type": "code",
   "execution_count": 27,
   "outputs": [],
   "source": [
    "terms = ['data', 'machine', 'machine learning', 'walmart', 'amazon', 'microsoft', 'jpmorgan', 'vaccine']"
   ],
   "metadata": {
    "collapsed": false,
    "pycharm": {
     "name": "#%%\n"
    }
   }
  },
  {
   "cell_type": "code",
   "execution_count": 28,
   "outputs": [
    {
     "data": {
      "text/plain": "['data: 5575  (90.0%)',\n 'machine: 3396  (54.8%)',\n 'machine learning: 3315  (53.5%)',\n 'walmart: 109  (1.8%)',\n 'amazon: 184  (3.0%)',\n 'microsoft: 162  (2.6%)',\n 'jpmorgan: 16  (0.3%)',\n 'vaccine: 28  (0.5%)']"
     },
     "execution_count": 28,
     "metadata": {},
     "output_type": "execute_result"
    }
   ],
   "source": [
    "[cell_count_containing(df2.responsibilities, t) for t in terms]"
   ],
   "metadata": {
    "collapsed": false,
    "pycharm": {
     "name": "#%%\n"
    }
   }
  },
  {
   "cell_type": "code",
   "execution_count": 36,
   "outputs": [
    {
     "data": {
      "text/plain": "197.9673544006268"
     },
     "execution_count": 36,
     "metadata": {},
     "output_type": "execute_result"
    }
   ],
   "source": [
    "sum([len(d.split(' ')) for d in df3.responsibilities]) / len(df3.responsibilities)"
   ],
   "metadata": {
    "collapsed": false,
    "pycharm": {
     "name": "#%%\n"
    }
   }
  },
  {
   "cell_type": "code",
   "execution_count": 34,
   "outputs": [
    {
     "data": {
      "text/plain": "3829"
     },
     "execution_count": 34,
     "metadata": {},
     "output_type": "execute_result"
    }
   ],
   "source": [
    "len(df3.responsibilities)"
   ],
   "metadata": {
    "collapsed": false,
    "pycharm": {
     "name": "#%%\n"
    }
   }
  },
  {
   "cell_type": "code",
   "execution_count": 37,
   "outputs": [
    {
     "name": "stdout",
     "output_type": "stream",
     "text": [
      "(?:[Rr]esponsibilities|[Ww]hat [Yy]ou['’]ll|[Ww]hat [Yy]ou [Ww]ill|[Dd]uties|[Tt]he [Rr]ole.{0,10}\\||[Oo]verview|[Ww]ork.{0,10}\\|)(.*?)(?:Requirements|[Qq]ualifications|Skills.{0,10}\\||[Ll]ooking [Ff]or.{0,5}\\||[Yy]ou [Hh]ave:)\n"
     ]
    }
   ],
   "source": [
    "print(pattern)"
   ],
   "metadata": {
    "collapsed": false,
    "pycharm": {
     "name": "#%%\n"
    }
   }
  },
  {
   "cell_type": "code",
   "execution_count": null,
   "outputs": [],
   "source": [],
   "metadata": {
    "collapsed": false,
    "pycharm": {
     "name": "#%%\n"
    }
   }
  }
 ],
 "metadata": {
  "kernelspec": {
   "display_name": "Python 3",
   "language": "python",
   "name": "python3"
  },
  "language_info": {
   "codemirror_mode": {
    "name": "ipython",
    "version": 2
   },
   "file_extension": ".py",
   "mimetype": "text/x-python",
   "name": "python",
   "nbconvert_exporter": "python",
   "pygments_lexer": "ipython2",
   "version": "2.7.6"
  }
 },
 "nbformat": 4,
 "nbformat_minor": 0
}