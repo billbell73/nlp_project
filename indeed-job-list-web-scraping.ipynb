{
 "cells": [
  {
   "cell_type": "code",
   "execution_count": 23,
   "outputs": [],
   "source": [
    "job_ids = {}"
   ],
   "metadata": {
    "collapsed": false,
    "pycharm": {
     "name": "#%%\n"
    }
   }
  },
  {
   "cell_type": "code",
   "execution_count": 24,
   "outputs": [],
   "source": [
    "from selenium import webdriver\n",
    "import os\n",
    "import re"
   ],
   "metadata": {
    "collapsed": false,
    "pycharm": {
     "name": "#%%\n"
    }
   }
  },
  {
   "cell_type": "code",
   "execution_count": 25,
   "outputs": [],
   "source": [
    "chromedriver = \"/Users/william.bell/opt/anaconda3/envs/metis/lib/python3.8/site-packages/chromedriver_binary/chromedriver\"\n",
    "os.environ[\"webdriver.chrome.driver\"] = chromedriver"
   ],
   "metadata": {
    "collapsed": false,
    "pycharm": {
     "name": "#%%\n"
    }
   }
  },
  {
   "cell_type": "code",
   "execution_count": 26,
   "outputs": [],
   "source": [
    "driver = webdriver.Chrome(chromedriver)\n",
    "driver.implicitly_wait(10)"
   ],
   "metadata": {
    "collapsed": false,
    "pycharm": {
     "name": "#%%\n"
    }
   }
  },
  {
   "cell_type": "code",
   "execution_count": 27,
   "outputs": [],
   "source": [
    "pattern = \"jobKeysWithInfo\\['(\\w+)\""
   ],
   "metadata": {
    "collapsed": false,
    "pycharm": {
     "name": "#%%\n"
    }
   }
  },
  {
   "cell_type": "code",
   "execution_count": 28,
   "outputs": [
    {
     "name": "stdout",
     "output_type": "stream",
     "text": [
      "duplicate job id found: 80ba1147518747d1\n",
      "duplicate job id found: c488d77ef75f0ec4\n",
      "duplicate job id found: 4d1d27e9148ae8f9\n",
      "duplicate job id found: b390306bb30b8754\n",
      "duplicate job id found: 92c7445c9e95b2ef\n",
      "duplicate job id found: 0dc8f9e985861b3b\n",
      "duplicate job id found: f154763a6bda5191\n",
      "duplicate job id found: e1e86abf842cb8cd\n",
      "duplicate job id found: 83002b5c2efc3e64\n",
      "duplicate job id found: ad36fa1497c44114\n",
      "duplicate job id found: d960a8ad41d0155f\n",
      "duplicate job id found: 8b51bbf26c87397a\n",
      "duplicate job id found: f8f1f57cec8f60c8\n",
      "duplicate job id found: 27e8b7737b1ad482\n",
      "duplicate job id found: d960a8ad41d0155f\n",
      "duplicate job id found: 9900e15138ebeeef\n",
      "duplicate job id found: 765a317f312e9790\n",
      "duplicate job id found: 1a3a27ba37992dc7\n",
      "duplicate job id found: 1998e237baca21e9\n",
      "duplicate job id found: 79ba8bf8a90a90c5\n",
      "duplicate job id found: 8b36f9c2e074f492\n",
      "duplicate job id found: 621dabc5495241e7\n",
      "duplicate job id found: da50f0200ebf2a82\n",
      "duplicate job id found: 89a0578c1f858035\n",
      "duplicate job id found: 081fd3dcbdc2a0ae\n",
      "duplicate job id found: a3dc30a5b77da498\n",
      "duplicate job id found: df3908f9fbf222ae\n",
      "duplicate job id found: 028acfcc7a71f1fe\n",
      "duplicate job id found: 9001f7c5186af915\n",
      "duplicate job id found: 7ec8782ae7432e26\n",
      "duplicate job id found: 6a7295ab37cf32cf\n",
      "duplicate job id found: 73e50ccd2fb91bc8\n",
      "duplicate job id found: 58d24404a0a7e923\n",
      "duplicate job id found: 739879dd1e0d089a\n",
      "duplicate job id found: b79f43e5a22a579a\n",
      "duplicate job id found: 79ba8bf8a90a90c5\n",
      "duplicate job id found: f154763a6bda5191\n",
      "duplicate job id found: 0fb297cc2191df3b\n",
      "duplicate job id found: e244e6332d11a176\n",
      "duplicate job id found: 1882cfb091cbcb3c\n",
      "duplicate job id found: dc3c23821e500bc8\n",
      "duplicate job id found: 8ceef1354d834829\n",
      "duplicate job id found: 8bad546bf985f1fc\n",
      "duplicate job id found: 4d1f2e56352f2c30\n",
      "duplicate job id found: fa2103b6379e0e71\n",
      "duplicate job id found: 7ec8782ae7432e26\n",
      "duplicate job id found: 27e8b7737b1ad482\n",
      "duplicate job id found: d8cf779f2b0ba23a\n",
      "duplicate job id found: 7a8f437cafead115\n",
      "duplicate job id found: 4d1d27e9148ae8f9\n",
      "duplicate job id found: 40db4c11f681eee7\n",
      "duplicate job id found: 42efea7b5547438c\n",
      "duplicate job id found: de0602394c660b79\n",
      "duplicate job id found: 88a39aaeea593d53\n",
      "duplicate job id found: 1882cfb091cbcb3c\n",
      "duplicate job id found: 739879dd1e0d089a\n",
      "duplicate job id found: df3908f9fbf222ae\n",
      "duplicate job id found: 7f4f94d8f0e61c07\n",
      "duplicate job id found: a9b2269ce04ee732\n",
      "duplicate job id found: 87098273c160874b\n",
      "duplicate job id found: dc3c23821e500bc8\n",
      "duplicate job id found: b79f43e5a22a579a\n",
      "duplicate job id found: f98737d114712a2b\n",
      "duplicate job id found: 7f39c47c4e857054\n",
      "duplicate job id found: 19619beb32ff2210\n",
      "duplicate job id found: 7f4f94d8f0e61c07\n",
      "duplicate job id found: 88a39aaeea593d53\n",
      "duplicate job id found: 1882cfb091cbcb3c\n",
      "duplicate job id found: d6ec9b9ed536a786\n",
      "duplicate job id found: 08e8b46c21c3fc0c\n",
      "duplicate job id found: 42efea7b5547438c\n",
      "duplicate job id found: fa2103b6379e0e71\n",
      "duplicate job id found: fda503f83dd4a9c5\n",
      "duplicate job id found: 83002b5c2efc3e64\n",
      "duplicate job id found: 27e8b7737b1ad482\n",
      "duplicate job id found: 5ddae4001cb925a7\n",
      "duplicate job id found: 9a56e34bb833c2e0\n",
      "duplicate job id found: f215bd3996c79f50\n",
      "duplicate job id found: d7595c8b6cca24f5\n",
      "duplicate job id found: 91a6bdaad8010cbc\n",
      "duplicate job id found: e8a038218c68744a\n",
      "duplicate job id found: 8aeadad2d46398d8\n",
      "duplicate job id found: 6c72330cea12f9fd\n",
      "duplicate job id found: de0602394c660b79\n",
      "duplicate job id found: 7ad1745066c8cf05\n",
      "duplicate job id found: 91a6bdaad8010cbc\n",
      "duplicate job id found: 6419887c9a3415c1\n",
      "duplicate job id found: f49b4479704d1362\n",
      "duplicate job id found: c6b2537af886f031\n",
      "duplicate job id found: 86d430cba60bf524\n",
      "duplicate job id found: c3a0a4336475f802\n",
      "duplicate job id found: 541e27ff4fae5aa9\n",
      "duplicate job id found: e8a038218c68744a\n",
      "duplicate job id found: b0e0123b63ab41ca\n",
      "duplicate job id found: 96225ad0d743f336\n",
      "duplicate job id found: df3908f9fbf222ae\n",
      "duplicate job id found: d650704f2dd71f64\n",
      "duplicate job id found: 562cc390e4e7243b\n",
      "duplicate job id found: 40db4c11f681eee7\n",
      "duplicate job id found: bed8d4bf35f2559a\n",
      "duplicate job id found: c6b2537af886f031\n",
      "duplicate job id found: 7cc20b756386676d\n",
      "duplicate job id found: a84c359368d4bf76\n",
      "duplicate job id found: a9b2269ce04ee732\n",
      "duplicate job id found: 19619beb32ff2210\n",
      "duplicate job id found: c3a0a4336475f802\n",
      "duplicate job id found: 91a6bdaad8010cbc\n",
      "duplicate job id found: 6772a31ed1132c61\n",
      "duplicate job id found: 152d3f0e10d0e1dc\n",
      "duplicate job id found: 6304ab449d9f665a\n",
      "duplicate job id found: 3ec3b38373dfdea6\n",
      "duplicate job id found: 96225ad0d743f336\n",
      "duplicate job id found: d650704f2dd71f64\n",
      "duplicate job id found: 0eeb27c40f139919\n",
      "duplicate job id found: c3a0a4336475f802\n",
      "duplicate job id found: 89a92dd57bf242f0\n",
      "duplicate job id found: 541e27ff4fae5aa9\n",
      "duplicate job id found: 4aff8c8544acfc61\n",
      "duplicate job id found: 29a7225d828b1c94\n",
      "duplicate job id found: 152d3f0e10d0e1dc\n",
      "duplicate job id found: dbe39d048933a83a\n",
      "duplicate job id found: 85dad98955fea8db\n",
      "duplicate job id found: 80ad1556f9a4d56b\n",
      "duplicate job id found: 75468f0593f7aaf8\n",
      "duplicate job id found: 8596de9cc18e85cc\n",
      "duplicate job id found: 25b73e5be22f6f71\n",
      "duplicate job id found: 842c3263827f15ec\n",
      "duplicate job id found: 89a92dd57bf242f0\n",
      "duplicate job id found: fda503f83dd4a9c5\n",
      "duplicate job id found: 2f48938e74e948f6\n",
      "duplicate job id found: 29a7225d828b1c94\n",
      "duplicate job id found: 00fd1d517d0d4461\n",
      "duplicate job id found: eb5538117ce4e88f\n",
      "duplicate job id found: c31e26f758982465\n",
      "duplicate job id found: 19619beb32ff2210\n",
      "duplicate job id found: 842c3263827f15ec\n",
      "duplicate job id found: a8b19eae7e4d41d0\n",
      "duplicate job id found: 17b2746f55f569eb\n",
      "duplicate job id found: 6d9546d626d2d1f4\n",
      "duplicate job id found: 4e995b00d3fec6b7\n",
      "duplicate job id found: 89a92dd57bf242f0\n",
      "duplicate job id found: 6419887c9a3415c1\n",
      "duplicate job id found: fda503f83dd4a9c5\n",
      "duplicate job id found: 3e368dc8acc6e776\n",
      "duplicate job id found: 28d2fb7b92e47040\n",
      "duplicate job id found: 832f1abb54e1683d\n",
      "duplicate job id found: e8c8ed44e2daa25c\n",
      "duplicate job id found: 308757ce3971aa57\n",
      "duplicate job id found: cb70a505e956cd49\n",
      "duplicate job id found: 3e368dc8acc6e776\n",
      "duplicate job id found: c31e26f758982465\n",
      "duplicate job id found: 80ad1556f9a4d56b\n",
      "duplicate job id found: 873e0bc90018e5b2\n",
      "duplicate job id found: 89a0578c1f858035\n",
      "duplicate job id found: 74edc05ad8ae5b31\n",
      "duplicate job id found: 28d2fb7b92e47040\n",
      "duplicate job id found: a9b2269ce04ee732\n",
      "duplicate job id found: 0186a0d92e0b3859\n",
      "duplicate job id found: 498145f6b766b0e5\n",
      "duplicate job id found: be8bdc090bc10cce\n",
      "duplicate job id found: 86d430cba60bf524\n",
      "duplicate job id found: 89df670742f9a017\n",
      "duplicate job id found: 28d2fb7b92e47040\n",
      "duplicate job id found: a9b2269ce04ee732\n",
      "duplicate job id found: c2e3b298c94a68b7\n",
      "duplicate job id found: 498145f6b766b0e5\n",
      "duplicate job id found: 7dfaf44a43bca41c\n",
      "duplicate job id found: 74edc05ad8ae5b31\n",
      "duplicate job id found: d15e3b5962a93009\n",
      "duplicate job id found: bed8d4bf35f2559a\n",
      "duplicate job id found: f0e1173b9be0063d\n",
      "duplicate job id found: 7d2c3bbed3bd0e31\n",
      "duplicate job id found: cd2cf93bdd8f6f1a\n",
      "duplicate job id found: 0d32c95caac23bd3\n",
      "duplicate job id found: 62fb853f194671e3\n",
      "duplicate job id found: 8ceef1354d834829\n",
      "duplicate job id found: bed8d4bf35f2559a\n",
      "duplicate job id found: 8f3de049509d2702\n",
      "duplicate job id found: 4961933772ba9f5f\n",
      "duplicate job id found: 2ca0359feb5f3fb9\n",
      "duplicate job id found: 86d430cba60bf524\n",
      "duplicate job id found: bc89aa76097cd722\n",
      "duplicate job id found: 13d399fe8af2bfca\n",
      "duplicate job id found: 8596de9cc18e85cc\n",
      "duplicate job id found: a934743071e8a121\n",
      "duplicate job id found: dbe39d048933a83a\n",
      "duplicate job id found: c44fcd038c1d7114\n",
      "duplicate job id found: ce16c70cba7ca54d\n",
      "duplicate job id found: 562cc390e4e7243b\n",
      "duplicate job id found: 3bf089b6f9f9dacf\n",
      "duplicate job id found: a934743071e8a121\n",
      "duplicate job id found: 86d430cba60bf524\n",
      "duplicate job id found: c44fcd038c1d7114\n",
      "duplicate job id found: 37328846953f7f7a\n",
      "duplicate job id found: ce16c70cba7ca54d\n",
      "duplicate job id found: 0d32c95caac23bd3\n",
      "duplicate job id found: 4c1df497a1e9f9ee\n",
      "duplicate job id found: 8596de9cc18e85cc\n",
      "duplicate job id found: 3bf089b6f9f9dacf\n",
      "duplicate job id found: 63c92ffb71fad229\n",
      "duplicate job id found: ac1800244f60b4be\n",
      "duplicate job id found: 116d78b286dbd52b\n",
      "duplicate job id found: f8842b5f3dfbdba2\n",
      "duplicate job id found: c44fcd038c1d7114\n",
      "duplicate job id found: bc89aa76097cd722\n",
      "duplicate job id found: 4c1df497a1e9f9ee\n",
      "duplicate job id found: 63c92ffb71fad229\n",
      "duplicate job id found: 7f47b75a1a8dfb20\n",
      "duplicate job id found: 929607895276d008\n",
      "duplicate job id found: a934743071e8a121\n",
      "duplicate job id found: 7a60592c1d9ab953\n",
      "duplicate job id found: 8750222419891781\n",
      "duplicate job id found: 9cef3f759cdd5ad7\n",
      "duplicate job id found: 4c1df497a1e9f9ee\n",
      "duplicate job id found: 188ebc334e73e701\n",
      "duplicate job id found: 63c92ffb71fad229\n",
      "duplicate job id found: 67aba37a7162288e\n",
      "duplicate job id found: d5f18cbe154bfda8\n",
      "duplicate job id found: cd2cf93bdd8f6f1a\n",
      "duplicate job id found: 07f008a54169d23c\n",
      "duplicate job id found: 9cef3f759cdd5ad7\n",
      "duplicate job id found: 9f0287d6de483a10\n",
      "duplicate job id found: 7f47b75a1a8dfb20\n",
      "duplicate job id found: ce301e1e61455c46\n",
      "duplicate job id found: d5f18cbe154bfda8\n",
      "duplicate job id found: b017e61fef36553a\n",
      "duplicate job id found: 7a60592c1d9ab953\n",
      "duplicate job id found: 29bb625218bd1c40\n",
      "duplicate job id found: bec9329355ccc963\n",
      "duplicate job id found: 7f47b75a1a8dfb20\n",
      "duplicate job id found: f8842b5f3dfbdba2\n",
      "duplicate job id found: 6084556df15ed096\n",
      "duplicate job id found: 58adc88e9e659750\n",
      "duplicate job id found: 63c92ffb71fad229\n",
      "duplicate job id found: 5ccf8e4ea691b2f5\n",
      "duplicate job id found: f0e1173b9be0063d\n",
      "duplicate job id found: fc425918421dee3b\n",
      "duplicate job id found: 0b69f4f951baf068\n",
      "duplicate job id found: d5f18cbe154bfda8\n",
      "duplicate job id found: cd2cf93bdd8f6f1a\n",
      "duplicate job id found: 8750222419891781\n",
      "duplicate job id found: f0e1173b9be0063d\n",
      "duplicate job id found: 69bbf9710459b61d\n",
      "duplicate job id found: 800f492557bd5fa9\n",
      "duplicate job id found: 308757ce3971aa57\n",
      "duplicate job id found: 642f4503ee32d87a\n",
      "duplicate job id found: 7299c67c74cfbe91\n",
      "duplicate job id found: 5609b2f41aec36a8\n",
      "Duplicate Count: 248\n",
      "Job Id Count: 652\n"
     ]
    }
   ],
   "source": [
    "import time\n",
    "duplicate_count = 0\n",
    "\n",
    "for start in range(0,600, 10):\n",
    "    search_results_url = f\"https://uk.indeed.com/jobs?q=data%20scientist&start={start}\"\n",
    "    driver.get(search_results_url)\n",
    "    ids = re.findall(pattern, driver.page_source)\n",
    "    for job_id in ids:\n",
    "\n",
    "        if job_id not in job_ids:\n",
    "            job_ids[job_id] = None\n",
    "        else:\n",
    "            print(f\"duplicate job id found: {job_id}\")\n",
    "            duplicate_count += 1\n",
    "\n",
    "    time.sleep(1)\n",
    "\n",
    "print(f\"Duplicate Count: {duplicate_count}\")\n",
    "print(f\"Job Id Count: {len(job_ids)}\")"
   ],
   "metadata": {
    "collapsed": false,
    "pycharm": {
     "name": "#%%\n"
    }
   }
  },
  {
   "cell_type": "code",
   "execution_count": 29,
   "outputs": [],
   "source": [
    "driver.quit()"
   ],
   "metadata": {
    "collapsed": false,
    "pycharm": {
     "name": "#%%\n"
    }
   }
  },
  {
   "cell_type": "code",
   "execution_count": 20,
   "outputs": [
    {
     "data": {
      "text/plain": "{'264f504fa90d856f': None,\n '5573e1b6447a8af6': None,\n '41ce545464f94ca7': None,\n 'c461ed010a20c835': None,\n '1fe7173e0d89af7a': None,\n 'f1b98d776e72be61': None,\n 'ec3849d4dda665c6': None,\n '278142c7efa8c49a': None,\n '8e4ebf6f8f6568f8': None,\n 'c8610c368721c0ab': None,\n '98f78125259351fb': None,\n '9a36d2355241924b': None,\n 'f11971796d62ded9': None,\n '1619eda6ee3dcbb0': None,\n '14a3bb31248f543a': None,\n 'e7d30ae416f248ca': None,\n '9da03cdc1f38e23e': None,\n '488bf3e35de656b4': None,\n '2f632b10cfb5bf93': None,\n '62f378db55687030': None,\n '561da9499d1ccc7f': None,\n '7a7c63c336e285aa': None,\n 'e7362c51c4671308': None,\n '0edc5a7b195f5c79': None,\n '1e75c64559d233ac': None,\n '7d06f30f27ef44b9': None,\n 'de7ad63840a4e83f': None,\n 'af9df3033edaa0ad': None,\n '14cc06ce96650681': None,\n '4b91fb225034dbcd': None,\n 'c727cfe03669a9fe': None,\n 'a1bc538f4c7ea3e3': None,\n '70332396f3c8444b': None,\n '5886011685afc18c': None,\n '3c5304799384cdf7': None,\n 'd201512b8f8050e7': None,\n '81fa085584b780c0': None,\n 'b9674db94a63aa09': None,\n '6d3f07e5f165cbbe': None,\n '3c604da224d17eaa': None,\n '3a3962e851fcabfd': None,\n 'bc4ba6a5bcbd4e1d': None,\n '81596e087bc722e1': None,\n '660fd2b4bb007966': None,\n '563f7c6c8761c9a2': None,\n '0bc9a0034bb799fb': None,\n 'c70b2796aa6b902a': None,\n '5ab88ea54a966581': None,\n 'ac49b59e8a82583e': None,\n 'a94f4d54358cb761': None,\n '28d4b302ed4e7a8f': None,\n 'faf18cde163cb052': None,\n '11b279affdc15fa6': None,\n '402a961d9343589c': None,\n '4e2cec138ff8c10c': None,\n 'b4e724c9d45bb6d7': None,\n '71a03a423e2d00ec': None,\n 'f8a3b3c97584a2f1': None,\n '80ba1147518747d1': None,\n 'ee6d93fa4db1286b': None,\n 'ad36fa1497c44114': None,\n '3cdc735c12c5b93e': None,\n '841461e2b3d8b311': None,\n '03d73361ba1952c6': None,\n '5090778a3aa8615a': None,\n '24da8ddbf643edf5': None,\n 'f917a2dda63687fb': None,\n '53115722af79a224': None,\n '5add8e0c22dc6a90': None,\n 'cc4623fad79aaed5': None,\n 'c0d5f5d4aa7c7512': None,\n '1da6e1b1396fb493': None,\n '7588b22af9272a7a': None,\n 'b0f82946b85ea228': None,\n 'e443cd2cc7418db6': None,\n 'aa2ae1d0a4d94913': None,\n '431c020da576e8ef': None,\n 'f6708e279e3710c8': None,\n '1629aa16b283b62a': None,\n 'f855218712f1312d': None,\n 'b9aaf6bc697f4707': None,\n 'de0602394c660b79': None,\n '5f2ab69610d80c67': None,\n 'e335735381987b93': None,\n '05562bb9640e348f': None,\n 'fcf740145428744d': None,\n '411023f45dd76c85': None,\n 'afa774a22f9fcecd': None,\n 'bf1b30ad6c85da78': None,\n '913931eda481b785': None,\n '1b7bc1731f281dfa': None,\n '37168cbe56575a1b': None,\n '2e096edc03c41d1f': None,\n 'c31e26f758982465': None,\n '8301333f7a7b1b08': None,\n '9da21f9d62d065b2': None,\n '18fc25de7dbb1a78': None,\n 'a3156543aea30ca7': None,\n 'c0511da267cd13f7': None,\n 'bd55febe65fe1000': None,\n '9d3eef7436c98f70': None,\n '3f67555fde34621d': None,\n '718635a04e11ed5e': None,\n 'db78004d47530886': None,\n '1f43d5d69c62997c': None,\n 'ade7700e5a7449d2': None,\n '18e0525056cc5620': None,\n '19a3344773721ea3': None,\n 'd8c66de13ad01062': None,\n 'c8046526596798e5': None,\n '8e1c35401543ce71': None,\n 'c488d77ef75f0ec4': None,\n '8efae16f6455bb94': None,\n '4336fdbef2657586': None,\n 'd16b3c233fc98073': None,\n '51ebdee8bf536599': None,\n '87b1c0ef5735bc2c': None,\n '19946406d21a9046': None,\n '975d081de0924d70': None,\n 'c3cb52150b0d7500': None,\n 'dec6ef1330f945bb': None,\n 'ebced99add800409': None,\n '026a946613be0a47': None,\n 'f33d95d36e4e74e5': None,\n 'afdb4d7db7f53b54': None,\n '1972c1c50c935442': None,\n '921deb009ca5786a': None,\n 'd6c055db46a5ca79': None,\n '6a0891740b47b730': None,\n 'acd6d47c8efdfe0e': None,\n '1998e237baca21e9': None,\n 'e9ed5365f5222ed5': None,\n '1f2739ac545d24af': None,\n 'dc7986d1a346853c': None,\n 'bdaf9e3f84b09d12': None,\n '83ecd37d0980dcab': None,\n 'c91be41078a88731': None,\n '843b48c2eb7b4936': None,\n '9de3cf82db801fdf': None,\n '55c18aeec1796780': None,\n '9ccf7cf090604d68': None,\n '5036867b4b85eb7f': None,\n '7c2052704a07e045': None,\n '832f1abb54e1683d': None,\n '739879dd1e0d089a': None,\n 'c15b377b26856670': None,\n '8d948900a8824ba0': None,\n '9e6045d4d4d03a88': None,\n '53ca1d76767864e7': None,\n 'a96992601c109ea1': None,\n '19a73e971e9021fe': None,\n '5a84ff72d21cbcce': None,\n '531d5eab84df96fe': None,\n '575bddc8fd4489d7': None,\n '5cb0d4d94bdd6470': None,\n 'aaa5b2925698cfdf': None,\n '40d1d4bb5b2a7f0e': None,\n '0cf30d99098f568d': None,\n 'a3dc30a5b77da498': None,\n '7a45d72d4bfe629c': None,\n 'b31e6f8753009388': None,\n '24e2fd89e44825e6': None,\n 'aea879579a5a8130': None,\n '7b9019baac321e56': None,\n 'c910c4f165ab97d1': None,\n '8297601b2a0be145': None,\n '68504327d798223c': None,\n 'aad8ce79a16e8910': None,\n '81361cf15857c1e4': None,\n 'c48b21af3c226bcc': None,\n 'ccd121c2924a11e2': None,\n '6993bbcf05b3a75d': None,\n '4d1d27e9148ae8f9': None,\n 'b390306bb30b8754': None,\n '7ba5d88e0c23343f': None,\n 'c8578e945a83ef66': None,\n 'a8e76654595d9fde': None,\n '08fe5af25719f611': None,\n '8d04d136ca506c79': None,\n '6b09ddd8c8759fe8': None,\n 'eb5538117ce4e88f': None,\n '58db161a5a3ba0aa': None,\n 'da50f0200ebf2a82': None,\n 'b3ca17a93bc59859': None,\n 'a7b790e829155678': None,\n '998dcd8efcedd8b4': None,\n '63541bd2e3fb5953': None,\n '22fe0ee614a5ab2d': None,\n '91a6bdaad8010cbc': None,\n '33afc3784ddf10e4': None,\n '8fce3a367bf429f8': None,\n '19621b55a6721d3b': None,\n 'ad5ab412b93c4a21': None,\n '537ca5a69a83e1b7': None,\n 'f8f1f57cec8f60c8': None,\n '8ce74f9367afda81': None,\n '85dad98955fea8db': None,\n 'b0fea4b5c74439d0': None,\n 'f3a81551f56b0cd0': None,\n 'e896c3fa16b9cabb': None,\n 'e562346b576e677a': None,\n '2ae53d5e5af7ba63': None,\n 'a9b2269ce04ee732': None,\n '615d0bca7c22bd93': None,\n 'bb18693b7268431f': None,\n 'fa2103b6379e0e71': None,\n '6d9546d626d2d1f4': None,\n 'd654b91604598e27': None,\n '523c7adf3049b392': None,\n 'df7fa4ed791e4fbe': None,\n '07e92d803e554ba1': None,\n '6cc7825552129760': None,\n '106039cbe93005f1': None,\n 'bde130c9952fd766': None,\n '8d74ef43e0b826f0': None,\n '6a98da6bc2a46121': None,\n '0cbf5a2ee60798e5': None,\n 'd7f6b574d5cd7726': None,\n 'e4c72317934dc267': None,\n 'b79f43e5a22a579a': None,\n 'be8bdc090bc10cce': None,\n 'ba62e77b2b063aa4': None,\n '4f28b781d13b85e5': None,\n 'd08d721c65a779b7': None,\n 'cb9ea43259a721c7': None,\n '27e8b7737b1ad482': None,\n 'b0c9657c0d0c1bdb': None,\n 'a87bf2999d83ed72': None,\n '91d28f8c8fc52d25': None,\n '8d8692e8c6b1784c': None,\n 'c8eb1313968172b1': None,\n '0ebda6d76b309bea': None,\n '562cc390e4e7243b': None,\n 'ae72fa071664d9c6': None,\n '92c7445c9e95b2ef': None,\n 'c3302803a9fdb81b': None,\n '33ae52e7138fefd2': None,\n '4237f32f21088875': None,\n '0aafae2848682fe0': None,\n '1f10da8202bb6562': None,\n '05c25c8b224291de': None,\n '5ddae4001cb925a7': None,\n '41fc6c9af03f3e7e': None,\n '093b49adffe365e9': None,\n '7fd40b24b80a4870': None,\n '8596de9cc18e85cc': None,\n 'ad69983b4a978518': None,\n 'b49471802b099cc9': None,\n '198445b76cc800a5': None,\n '670f4111f3cccc00': None,\n 'f4d1586c7e6024e1': None,\n 'f154763a6bda5191': None,\n '837f01b839a4c17d': None,\n 'e848e51ac83f9634': None,\n '51599f7554becc60': None,\n 'a0fdd28e26dae14b': None,\n 'f8842b5f3dfbdba2': None,\n '452a0034b6d8acf0': None,\n '2b25dc33075f6b63': None,\n '4d5a6de605dc6169': None,\n '081fd3dcbdc2a0ae': None,\n '2da25210ca78df6b': None,\n '88a39aaeea593d53': None,\n '19bfffe168dedfcf': None,\n '3314f5cb31ea128d': None,\n 'd29196b12dc5ebf4': None,\n 'b1eb64daeaeac47d': None,\n 'cef9d6ff61c0c348': None,\n '119a1603173fc943': None,\n '8b51bbf26c87397a': None,\n 'fd59d828e60f4769': None,\n '873fd8327e5436ea': None,\n 'b55404440fd5e0a1': None,\n '60236563be2674bf': None,\n '73e50ccd2fb91bc8': None,\n '80bcc78f72a43117': None,\n 'd650704f2dd71f64': None,\n '3ea48cb0d172ae24': None,\n '3d4e6d3144dfbfe3': None,\n 'd1a12f6813185507': None,\n '84bf9385bce04fe0': None,\n '7ec8782ae7432e26': None,\n 'e6a698065b1f23f1': None,\n '49be161b2eb5905f': None,\n '6304ab449d9f665a': None,\n '8246dfb15ef46da1': None,\n '2bc7fe210ccc0cec': None,\n '7ba7a9a9aa27844c': None,\n '679837c98d24c4fe': None,\n '4c1df497a1e9f9ee': None,\n 'd25ad1de490f2879': None,\n '738087a3120dc076': None,\n 'bb346ac5a325d1a6': None,\n 'fc425918421dee3b': None,\n '35c6efd1aa7626e7': None,\n '8b36f9c2e074f492': None,\n 'd960a8ad41d0155f': None,\n 'f11441043cb87066': None,\n '7eee7a88a356ceff': None,\n '5aa7f52560d5ddbf': None,\n '77016b918975fdab': None,\n '210ee5824998db75': None,\n '7bbfdb9b598d1aa9': None,\n 'd641e05147a73833': None,\n '0dc8f9e985861b3b': None,\n 'e7eeeef35e86e341': None,\n 'ae6f2e35fade46c2': None,\n '9ac10a207e4f8e28': None,\n '30c3d9a7bbe360fd': None,\n '4d1f2e56352f2c30': None,\n '4b1b3ed81be18816': None,\n 'ce301e1e61455c46': None,\n 'e0119a3cdfff95b8': None,\n '7ef967ea4c392ce2': None,\n '86d430cba60bf524': None,\n '27344cc32441eb1d': None,\n '664380b84cf21c54': None,\n '44409a611e9aa70e': None,\n '9d5f9ddee8935ad3': None,\n '4d954ce63f2662a2': None,\n 'dc3c23821e500bc8': None,\n '7f47b75a1a8dfb20': None,\n '63855f2c106d6d6f': None,\n '8bad546bf985f1fc': None,\n 'fb5424ca8aedf2fa': None,\n 'e1e86abf842cb8cd': None,\n 'f629b54efa7cb0d1': None,\n '99ab79373ec23665': None,\n 'cd2cf93bdd8f6f1a': None,\n 'dfa29bbeaaf53af9': None,\n '88827a8e6fb68acd': None,\n '009cd9b7aedc05a8': None,\n 'f3791a2c57774d96': None,\n 'd19751ee936a2cb1': None,\n '1d59ba03cb8916cd': None,\n '9d519cd265c9daf1': None,\n 'd160b628d1729576': None,\n '9dbd52ad8388c38e': None,\n '5aad6e8f0706dad7': None,\n '002b642733462026': None,\n '83002b5c2efc3e64': None,\n '6c636f53b7c5e21e': None,\n '24a22577cc0bdd26': None,\n 'f35455dc0cfa30e5': None,\n 'befc652e66855b20': None,\n '9900e15138ebeeef': None,\n 'f5e86078c5559e08': None,\n '89a0578c1f858035': None,\n '10d76b1832a637de': None,\n '55d4bac31c7185bd': None,\n '28d2fb7b92e47040': None,\n 'cb98a1baf4c05e8d': None,\n '842c3263827f15ec': None,\n '1432a3f7f9181574': None,\n 'd30022652d9c0604': None,\n '126abd2d8e9f21f8': None,\n 'd40f07b1a03c2a99': None,\n '5eeb98fd92727909': None,\n 'fdb82d70b4dd0a2a': None,\n '765a317f312e9790': None,\n '47c72ef0ae07e2ed': None,\n '6084556df15ed096': None,\n '96253928c6a4312b': None,\n '56c517fbb2ff59c6': None,\n 'df3908f9fbf222ae': None,\n '4a90fbc72e50f8c0': None,\n '8ceef1354d834829': None,\n '40908e2e02d24fb7': None,\n 'e44b71d3e443ed12': None,\n '204f9c4e6a687707': None,\n '389d8b0ec0c36199': None,\n '857126228592da79': None,\n '5a4e1653fe71a2f2': None,\n '7d2c3bbed3bd0e31': None,\n 'd559379151f2a975': None,\n '2a297f65a8c0be46': None,\n '395dedbfb84df52c': None,\n 'fef03f20f4bce0fe': None,\n 'e8c4c94eb41b01ad': None,\n 'df5557a1917cc416': None,\n 'd04390719d88d18e': None,\n '3187d680f4876530': None,\n 'b4a8ea101c97ed0a': None,\n '08e8b46c21c3fc0c': None,\n '6b58cebdc25755b6': None,\n '64572ef002b5fe15': None,\n 'aa1fb7524a7df30e': None,\n '72845e843b8e1c95': None,\n 'b6024c69f12e8dd0': None,\n '39b8ca466cebd1c9': None,\n 'b0e0123b63ab41ca': None,\n '48c8eb992a2d923f': None,\n '5b4ec176f36201b0': None,\n 'a5768bd661b496da': None,\n '9f6d32c77368d4ef': None,\n '4e995b00d3fec6b7': None,\n 'bfd754a885091106': None,\n '12dd715fccf84501': None,\n 'e8b33003f88eda34': None,\n '68eeaf3b6960c0c6': None,\n '441d0aeba3fcbb35': None,\n '509f0ab07e598c93': None,\n 'a3ae4724b83acdbd': None,\n '0dfd32a595ea5f43': None,\n '96f960313c58d972': None,\n '4efc0d943cab99e3': None,\n 'f7b0ddeb1800f34f': None,\n '5a7be03347cb8c46': None,\n '8e0d8f88008dcb41': None,\n '31b8a999327974fd': None,\n 'b73719a4ef2a3383': None,\n '6bfd596364d385a9': None,\n 'b280f073f2de3a01': None,\n 'b381c50d3a4b94c5': None,\n '5a3979cda328b11b': None,\n '82c679a84d6c1ac9': None,\n '4fd626dd65905fd2': None,\n 'bdb4f53005b0491c': None,\n '89bffef3e6a966bd': None,\n 'cec188ac669b18cb': None,\n '0d7f15a008c47a44': None,\n '772f368dcbefa8bc': None,\n '3d5ab59f8735ad94': None,\n '63a1d24bbdcc1cdb': None,\n '8b979985293f6430': None,\n '23b1fd9a90bba51d': None,\n 'a941553de2f22cfe': None,\n '968d90c937d40c4e': None,\n 'aad93171fefe4a44': None,\n 'f494d612d32a9897': None,\n '1638acd352b11e96': None,\n 'ff6430d8f7a58324': None,\n '59fae3d343fb938b': None,\n 'e8265f66bb4869d2': None,\n '127b35eba2779eaf': None,\n 'c8dc98482c570154': None,\n '093445b18afd74bf': None,\n 'e244e6332d11a176': None,\n '1c51a016c859d14c': None,\n 'ad1a7832c11d9a0d': None,\n '1a3a27ba37992dc7': None,\n '9f2cc4a726b259d5': None,\n '0be48bb6a7ec051c': None,\n '8f8b78def7ec7c6f': None,\n 'db785b44a3aeb45b': None,\n 'a934743071e8a121': None,\n 'a07ad709857710c2': None,\n '0186a0d92e0b3859': None,\n '4aff8c8544acfc61': None,\n 'e7b8a49970f66a11': None,\n '368738223ecc3857': None,\n '22fea4c2dcf38c4e': None,\n '76e0b185dd4645da': None,\n 'cf8d66cc74f03468': None,\n 'da99ce0b13664ad7': None,\n '705c967fa7b8b827': None,\n '11662bfc2ee3d601': None,\n 'f9894133a3a58200': None,\n 'fc01eb923b18e45f': None,\n '28dd64780206d387': None,\n '07c31aaa622a74b3': None,\n '53c8b46b16b85529': None,\n '8067dc017aea7082': None,\n '6a7295ab37cf32cf': None,\n '4ebab22d6288f219': None,\n 'a2ad7a7575940c9e': None,\n 'a5ea3408ebafe917': None,\n '4a014e715cefd543': None,\n 'b6251e27ea9c0c04': None,\n 'e66a0ab3210372a5': None,\n '3bd9c52907e1d156': None,\n '1b9350d23fdd7e2e': None,\n '6f1278aa3b99fb74': None,\n 'cb35202243468f28': None,\n '5a4fd38de4ed8ff9': None,\n 'be87bf52274b7ab4': None,\n '116d78b286dbd52b': None,\n '4e4da1419ce44ea0': None,\n '41480bd4da937b40': None,\n '97f8a0132154c9a1': None,\n '683f4afe4aa24a75': None,\n '82fee018377d7ab3': None,\n '5af105088d584972': None,\n '05c85fc574019e3d': None,\n 'e2a532db78d08c76': None,\n '74edc05ad8ae5b31': None,\n '221dc6b0b6f162b6': None,\n 'acb3e1226a9b6b8b': None,\n '3c5f5897fe13cc6d': None,\n '2671b0d51000d4f5': None,\n 'b887b445da1a4391': None,\n 'cb713156a3ee8404': None,\n 'c3468c2108db4979': None,\n 'ba4997e71efabfb7': None,\n '112a7301e6c40ec5': None,\n 'ed8b4d1db68122fd': None,\n '7d3f54a1eec05907': None,\n '7e46487ddfd3895c': None,\n '53f9e2fe65f0c887': None,\n 'adfb78373f9df155': None,\n 'e8d1c27a06785563': None,\n 'd57758f0f1df1a6b': None,\n 'b2e014e0701b9ab3': None,\n '9aa0cb156577235d': None,\n '97218af4c4820ffb': None,\n '2943108fd41a847d': None,\n '836bef20e756318f': None,\n 'eaba89a648d0c58c': None,\n 'c2e3b298c94a68b7': None,\n 'f22bd03db4a91ac6': None,\n 'cfb808f6fff38cf0': None,\n '2cc917488c41b493': None,\n 'c152cfefb8489d3e': None,\n 'ce9782e1ff949e8e': None,\n '4ee1ae9ddd37c2e7': None,\n 'ead428436879efad': None,\n '84f7ae3c8648d5a5': None,\n '44ef839f4aeeb6a4': None,\n 'b6158bc8135d022c': None,\n '3828b425eec158a1': None,\n '1a813e5880176a8f': None,\n 'b5db49155c074401': None,\n '0a39764150e0780e': None,\n '4213fa89ce5ea5f7': None,\n 'bf10e9fa14af51e4': None,\n '960383f3bf3e484c': None,\n '0d32c95caac23bd3': None,\n '58adc88e9e659750': None,\n 'fa8d4a7eb17d96e0': None,\n 'bc8943250056fe4b': None,\n '13fc83f3e3ce2fa4': None,\n 'bec9329355ccc963': None,\n '425392576e47c4bc': None,\n '1f1bc53c0dfe58a9': None,\n '9bbadbd3da6c65c4': None,\n '6e47100887a9379e': None,\n '3de6c74f1784e017': None,\n '089c74db2db65b72': None,\n '21195d8ca2345ffb': None,\n 'c0952e299199d419': None,\n '94ebed1273c0fe68': None,\n '3ec3b38373dfdea6': None,\n '1a6f9b72dacc1ab4': None,\n 'ae10434f2362a03b': None,\n 'e64c5db9112fe6c3': None,\n 'c3a0a4336475f802': None,\n '4f1f1a3e6774f5e6': None,\n 'd0f10ed9011c168a': None,\n '52209eae9c5f001c': None,\n 'afb3d92118f40604': None,\n '8346a73715343ce5': None,\n 'd45e6b8090f32272': None,\n '7ce5086c180e610e': None,\n '5f09f37f6e3da49d': None,\n 'da4265addfbdc619': None,\n 'd103cbf412b11ab4': None,\n 'b2d156dac587c730': None,\n '74a35620924e5a05': None,\n '1b1a29d6dad9af8d': None,\n 'aed0b0245a86be30': None,\n '032888037e217bd5': None,\n '9d9549e7d17bbd27': None,\n '57ad9afcac2d9191': None,\n '0c3af0401a159ef9': None,\n 'fe101a0a083a0c89': None,\n 'c188d06623aed0d3': None,\n '9e14753687bc9d0f': None,\n '43c0c9c4fd1f90fc': None,\n 'c03fee661bac9431': None,\n 'ab439a1fbb95bf97': None,\n 'dc6c6978745bc509': None,\n '648ea219d7e3d4ff': None,\n '79c1b7d443aa6d5e': None,\n 'c7f5f6247ada2f71': None,\n '1b97a916c9d65b2a': None,\n '4c3e6c4391307ec0': None,\n '22f38240e4bb1e8d': None,\n '04b5193db5e8a901': None,\n 'c3f3dc3e37652633': None,\n 'ec920e43123ea232': None,\n '5c44dc42c5045ff5': None,\n '14987becb757c6b9': None,\n '506d5d7ef0ac7c53': None,\n 'e42e7fce5aaf2049': None,\n '60fa453d68aca830': None,\n 'f8ce87dd97228863': None,\n '4f736a337ad5137b': None,\n '34ea153d284198d8': None,\n '93464bf0b81f3f2c': None,\n '5147807f97262658': None,\n 'e74f27b8d7300660': None,\n 'cec8f1321136863c': None,\n '8837c81dc97b5d14': None,\n '3dc47c60c0bf5a4a': None,\n 'a9a57901ffc154fe': None,\n '0eeb27c40f139919': None,\n '322f1d09eeea380a': None,\n 'b0008b387490d057': None,\n '1bfa4b466a566959': None,\n '152d3f0e10d0e1dc': None,\n '0fb297cc2191df3b': None,\n '9aade3b53969d6d3': None,\n '972400f92e58cfbe': None,\n '13d399fe8af2bfca': None,\n 'dc8c11290212aec5': None,\n 'a84c359368d4bf76': None,\n '25b73e5be22f6f71': None,\n '3dbd0698228b8a01': None,\n '1e7c6703329f5d17': None,\n '97c2e17a393fa3e4': None,\n '6772a31ed1132c61': None,\n 'f98737d114712a2b': None,\n '8a2499edf3537ed3': None,\n '8559534d87a73b1b': None,\n 'e03f26755ef68608': None,\n 'b76b8725cff2dfa5': None,\n '0f5965da90cfdba7': None,\n 'bd5c572146b0f8f3': None,\n '49b5a27b2b6f6c7c': None,\n '9e3b061712c361d0': None,\n 'a798305716559dbf': None,\n 'e21f8e25241bf90f': None,\n 'd7595c8b6cca24f5': None,\n 'd6ec9b9ed536a786': None,\n '0da9e1520b7ac73a': None,\n '24b8aee2aa405b80': None,\n 'f6a27ae34c6b77a2': None,\n '1293b9a6b378fa5e': None,\n '99ad94c8a4f1ab03': None,\n '6d62ab69cf2bead6': None,\n 'edf1f9a1a5bc49c1': None,\n '7446b241063b6261': None,\n 'f5982da80f9c4ba8': None,\n '186e5b2ec000b1ef': None,\n 'b62ab962f2ea3e60': None,\n '06e5302357c791c5': None,\n 'fda503f83dd4a9c5': None,\n '7a6e56d07e657489': None,\n '5dc1ea628781aa17': None,\n 'cd2d58bda138d9bc': None,\n 'ff146d21e7758cb2': None,\n '196da4e235bf5950': None,\n '055179f0d7045e1f': None,\n '07472ca4d96d78bf': None,\n 'e3593998d4e0f768': None,\n '73405e9f3a58dbe2': None,\n '07f008a54169d23c': None,\n '32a73197ffb10315': None,\n '1cef50c3fa39334a': None,\n 'f091cb3818c1fba3': None,\n '719cd96d7af9c0cd': None,\n '929607895276d008': None,\n '717a6eb8647ba6d7': None,\n '17d6495982c2b3dc': None,\n '6b863943966cd231': None,\n '9f47d1a99bea8203': None,\n 'c319cf73920ff583': None,\n '43c2c895d3495a69': None,\n 'fc6b72c7d8b5db56': None,\n 'b45c4bd808200007': None,\n '2a0a0b479dea01aa': None,\n 'd69e216d4563fd70': None,\n '68661f0261320ee3': None,\n 'fa5d26478366852c': None,\n 'b31465d3d72dc364': None,\n '965554995a44d3de': None,\n '8043af363a550dbe': None,\n 'f8ceac26d6eed1de': None,\n 'b3e4f3ef951ae00e': None,\n '8111c8d557522adc': None,\n '5ccf8e4ea691b2f5': None,\n '4b8d79e73e15d6a6': None,\n 'c47538489e5198c6': None,\n '0df4008cb782d616': None,\n '693f9b2087518109': None,\n '1a16821bcfd31db0': None,\n '9cef3f759cdd5ad7': None,\n '4c45b1172a434412': None,\n 'a593e2fe68bca931': None,\n 'ca6381158a0263b3': None,\n '6c51de2e7d187249': None,\n 'd92a587131b143dc': None,\n '745a58a651307865': None,\n '8c6197943b3ddc5b': None,\n '90f155e63cde1dc3': None,\n 'e392d83cec57f23e': None,\n '79e0a6833237740b': None,\n '23f924091a5a572a': None,\n '98b5d932260473ce': None,\n 'be7be54e7ec93ebe': None,\n 'd60f251ca690c7f3': None,\n '2dfd7bd713cfb5f3': None,\n '7949803937c0060b': None,\n '9eadccb8fedf3b82': None,\n 'dfb5dc881d594479': None,\n '74d76ee36d91590f': None,\n 'c006c15145cdce21': None,\n '769bdbaf7528a07d': None,\n 'e3168cf104233d47': None,\n '30744322df5c85db': None,\n 'e26f8af02b52b1d1': None,\n 'f540fa0fb176335e': None,\n '10711a265f63adec': None,\n '9e3227ec5d5e087d': None,\n 'f0e1173b9be0063d': None,\n 'a0373ee68e9e04a1': None,\n '51ad87c8461d6237': None,\n '58698459c4c5649b': None,\n 'd8f7a0e3ea09fd37': None,\n '1752261e984bccbd': None,\n '3c2a187a09736a40': None,\n 'd932954a00eb1880': None,\n 'b1946150b3657a62': None,\n '18971fa22d892a83': None,\n '41584669bb038c8b': None,\n '7138cf4d176f1034': None,\n '93aa3b150a054d03': None}"
     },
     "execution_count": 20,
     "metadata": {},
     "output_type": "execute_result"
    }
   ],
   "source": [
    "job_ids"
   ],
   "metadata": {
    "collapsed": false,
    "pycharm": {
     "name": "#%%\n"
    }
   }
  },
  {
   "cell_type": "code",
   "execution_count": 21,
   "outputs": [],
   "source": [
    "import pickle\n",
    "\n",
    "with open('job_ids.pickle', 'wb') as handle:\n",
    "    pickle.dump(job_ids, handle, protocol=pickle.HIGHEST_PROTOCOL)"
   ],
   "metadata": {
    "collapsed": false,
    "pycharm": {
     "name": "#%%\n"
    }
   }
  },
  {
   "cell_type": "code",
   "execution_count": null,
   "outputs": [],
   "source": [],
   "metadata": {
    "collapsed": false,
    "pycharm": {
     "name": "#%%\n"
    }
   }
  }
 ],
 "metadata": {
  "kernelspec": {
   "display_name": "Python 3",
   "language": "python",
   "name": "python3"
  },
  "language_info": {
   "codemirror_mode": {
    "name": "ipython",
    "version": 2
   },
   "file_extension": ".py",
   "mimetype": "text/x-python",
   "name": "python",
   "nbconvert_exporter": "python",
   "pygments_lexer": "ipython2",
   "version": "2.7.6"
  }
 },
 "nbformat": 4,
 "nbformat_minor": 0
}