{
 "cells": [
  {
   "cell_type": "code",
   "execution_count": 1,
   "outputs": [],
   "source": [
    "from sklearn.feature_extraction.text import TfidfVectorizer\n",
    "import numpy as np\n",
    "import pandas as pd\n",
    "from sklearn.decomposition import NMF"
   ],
   "metadata": {
    "collapsed": false,
    "pycharm": {
     "name": "#%%\n"
    }
   }
  },
  {
   "cell_type": "code",
   "execution_count": 2,
   "outputs": [],
   "source": [
    "import warnings\n",
    "warnings.filterwarnings('ignore')"
   ],
   "metadata": {
    "collapsed": false,
    "pycharm": {
     "name": "#%%\n"
    }
   }
  },
  {
   "cell_type": "code",
   "execution_count": 3,
   "outputs": [
    {
     "data": {
      "text/plain": "                                             responsibilities           title\n2908496770  :|•\\tDesign and implement ML methods on propri...  Data Scientist\n2911267267  :|• Provide consultative support as and when r...  Data Scientist\n2912844894  :|Support Data and Analytics team through deve...  Data Scientist\n2911205495  |Build agent-based simulations of smart contra...  Data Scientist\n2912480226  |Productionize, launch, and monitor predictive...  Data Scientist",
      "text/html": "<div>\n<style scoped>\n    .dataframe tbody tr th:only-of-type {\n        vertical-align: middle;\n    }\n\n    .dataframe tbody tr th {\n        vertical-align: top;\n    }\n\n    .dataframe thead th {\n        text-align: right;\n    }\n</style>\n<table border=\"1\" class=\"dataframe\">\n  <thead>\n    <tr style=\"text-align: right;\">\n      <th></th>\n      <th>responsibilities</th>\n      <th>title</th>\n    </tr>\n  </thead>\n  <tbody>\n    <tr>\n      <th>2908496770</th>\n      <td>:|•\\tDesign and implement ML methods on propri...</td>\n      <td>Data Scientist</td>\n    </tr>\n    <tr>\n      <th>2911267267</th>\n      <td>:|• Provide consultative support as and when r...</td>\n      <td>Data Scientist</td>\n    </tr>\n    <tr>\n      <th>2912844894</th>\n      <td>:|Support Data and Analytics team through deve...</td>\n      <td>Data Scientist</td>\n    </tr>\n    <tr>\n      <th>2911205495</th>\n      <td>|Build agent-based simulations of smart contra...</td>\n      <td>Data Scientist</td>\n    </tr>\n    <tr>\n      <th>2912480226</th>\n      <td>|Productionize, launch, and monitor predictive...</td>\n      <td>Data Scientist</td>\n    </tr>\n  </tbody>\n</table>\n</div>"
     },
     "execution_count": 3,
     "metadata": {},
     "output_type": "execute_result"
    }
   ],
   "source": [
    "df = pd.read_pickle(\"./responsibilities_df_2.pickle\")\n",
    "df.head()"
   ],
   "metadata": {
    "collapsed": false,
    "pycharm": {
     "name": "#%%\n"
    }
   }
  },
  {
   "cell_type": "code",
   "execution_count": 4,
   "outputs": [
    {
     "data": {
      "text/plain": "(4295, 2)"
     },
     "execution_count": 4,
     "metadata": {},
     "output_type": "execute_result"
    }
   ],
   "source": [
    "df.shape"
   ],
   "metadata": {
    "collapsed": false,
    "pycharm": {
     "name": "#%%\n"
    }
   }
  },
  {
   "cell_type": "code",
   "execution_count": 5,
   "outputs": [],
   "source": [
    "docs = df.responsibilities"
   ],
   "metadata": {
    "collapsed": false,
    "pycharm": {
     "name": "#%%\n"
    }
   }
  },
  {
   "cell_type": "code",
   "execution_count": 6,
   "outputs": [],
   "source": [
    "vec = TfidfVectorizer(stop_words='english', ngram_range=(1,2), max_df=0.8)"
   ],
   "metadata": {
    "collapsed": false,
    "pycharm": {
     "name": "#%%\n"
    }
   }
  },
  {
   "cell_type": "code",
   "execution_count": 7,
   "outputs": [],
   "source": [
    "doc_term = vec.fit_transform(docs)"
   ],
   "metadata": {
    "collapsed": false,
    "pycharm": {
     "name": "#%%\n"
    }
   }
  },
  {
   "cell_type": "code",
   "execution_count": 8,
   "outputs": [
    {
     "data": {
      "text/plain": "<4295x207797 sparse matrix of type '<class 'numpy.float64'>'\n\twith 932757 stored elements in Compressed Sparse Row format>"
     },
     "execution_count": 8,
     "metadata": {},
     "output_type": "execute_result"
    }
   ],
   "source": [
    "doc_term"
   ],
   "metadata": {
    "collapsed": false,
    "pycharm": {
     "name": "#%%\n"
    }
   }
  },
  {
   "cell_type": "markdown",
   "source": [
    "_The below way of displaying vectorisation results as they relate to a specific document was taken from course materials_"
   ],
   "metadata": {
    "collapsed": false,
    "pycharm": {
     "name": "#%% md\n"
    }
   }
  },
  {
   "cell_type": "code",
   "execution_count": 9,
   "outputs": [
    {
     "data": {
      "text/plain": "learning optimization       0.169742\ndistributed computing       0.157927\noptimization                0.133840\ncomputing                   0.124378\ndistributed                 0.120052\ndevelopment performs        0.115446\nsoftware contributes        0.115446\ncontributes product         0.115446\nworks big                   0.115446\nplatforms develops          0.112732\ndata distributed            0.112732\ndevelops                    0.112142\nanalyses works              0.110438\nsolutions prepares          0.110438\ninterpretations results     0.108450\nprotocols quantitative      0.108450\nengineering focus           0.108450\nfpl                         0.108450\ncomprehensive documented    0.108450\ndocumented observations     0.108450\nName: |This position is responsible for developing algorithms, modeling techniques, and optimization methods that support many aspects of NextEra and FPL business. Employees in this role use knowledge of machine learning, optimization, statistics, and applied mathematics along with abilities in software engineering with a focus on distributed computing and data storage infrastructure (i.e., “Big Data”).|Job Duties & Responsibilities|Develops machine learning, optimization and other modeling solutions|Prepares comprehensive documented observations, analyses and interpretations of results including technical reports, summaries, protocols and quantitative analyses|Works with big data and distributed computing platforms|Develops software and contributes to product development|Performs other job-related duties as assigned|Required , dtype: float64"
     },
     "execution_count": 9,
     "metadata": {},
     "output_type": "execute_result"
    }
   ],
   "source": [
    "i = 200\n",
    "\n",
    "doc = pd.Series(name=docs[i],\n",
    "                data=doc_term.toarray()[i],\n",
    "                index=vec.get_feature_names()) \\\n",
    "   .sort_values(ascending=False)\n",
    "\n",
    "doc[:20]"
   ],
   "metadata": {
    "collapsed": false,
    "pycharm": {
     "name": "#%%\n"
    }
   }
  },
  {
   "cell_type": "markdown",
   "source": [
    "_The function below was adapted from an answer on Stack Overflow_"
   ],
   "metadata": {
    "collapsed": false,
    "pycharm": {
     "name": "#%% md\n"
    }
   }
  },
  {
   "cell_type": "code",
   "execution_count": 10,
   "outputs": [],
   "source": [
    "def get_top_n_words(bag_of_words, n=20):\n",
    "    sum_words = bag_of_words.sum(axis=0)\n",
    "    words_freq = [(word, sum_words[0, idx]) for word, idx in     vec.vocabulary_.items()]\n",
    "    words_freq =sorted(words_freq, key = lambda x: x[1], reverse=True)\n",
    "    return words_freq[:n]"
   ],
   "metadata": {
    "collapsed": false,
    "pycharm": {
     "name": "#%%\n"
    }
   }
  },
  {
   "cell_type": "code",
   "execution_count": 11,
   "outputs": [
    {
     "data": {
      "text/plain": "[('business', 107.43669720918231),\n ('learning', 84.7229440790238),\n ('models', 79.36568134916759),\n ('team', 75.29335165509197),\n ('machine', 74.07024563712949),\n ('machine learning', 73.28802829713275),\n ('work', 70.90615675652647),\n ('science', 67.79368691466766),\n ('develop', 64.63237097276576),\n ('analysis', 64.30917162054838),\n ('product', 61.74604715970079),\n ('data science', 60.9549583635833),\n ('solutions', 58.23415889559621),\n ('analytics', 57.2781233688693),\n ('experience', 55.606531899700514),\n ('new', 53.75699709944742),\n ('design', 53.47915699870511),\n ('development', 52.441042942207176),\n ('build', 50.79381329230613),\n ('model', 50.58463840706466),\n ('teams', 48.89249166218554),\n ('technical', 48.88263231756333),\n ('insights', 48.7494983485417),\n ('support', 47.48230144884882),\n ('research', 46.86498740687121),\n ('statistical', 46.1328184533729),\n ('techniques', 43.36484183893956),\n ('ml', 43.317962393165665),\n ('tools', 42.28033388516265),\n ('engineering', 42.21524568189294),\n ('problems', 42.20004177034253),\n ('algorithms', 41.79149773101534),\n ('using', 41.754974455828744),\n ('customer', 40.263978317886234),\n ('modeling', 39.49046862010167),\n ('projects', 39.47024482308457),\n ('identify', 39.440863079280426),\n ('software', 37.15056987629827),\n ('analytical', 37.1022570504407),\n ('complex', 37.00058980299744),\n ('systems', 36.75427454284218),\n ('including', 36.47016032993268),\n ('use', 35.4962672074953),\n ('help', 35.40244727263007),\n ('products', 35.30619587956781),\n ('drive', 35.21470755017949),\n ('performance', 35.1024518110147),\n ('stakeholders', 35.01789334757821),\n ('provide', 34.914052053195256),\n ('processes', 34.6995621100193),\n ('ai', 34.684633755613305),\n ('quality', 34.63538560208935),\n ('results', 34.29347314194184),\n ('end', 33.75048975747973),\n ('large', 33.35879560877181),\n ('collaborate', 33.14191168738296),\n ('implement', 32.84745670158185),\n ('engineers', 32.74266091552269),\n ('key', 32.64468693299802),\n ('improve', 32.60806044235733),\n ('marketing', 32.438742200648214),\n ('create', 32.05862367441572),\n ('scientists', 31.913309637120197),\n ('working', 31.69149783291411),\n ('predictive', 31.626502568873537),\n ('scientist', 31.621187344467906),\n ('skills', 30.977219308265678),\n ('customers', 30.728400898707573),\n ('data scientist', 30.67013996481956),\n ('best', 30.62438606116042),\n ('analyze', 30.57893645437486),\n ('management', 30.50866018917592),\n ('advanced', 30.45655232257571),\n ('knowledge', 30.42019009044136),\n ('requirements', 30.141303601188326),\n ('responsibilities', 29.988842432518737),\n ('production', 29.731426158931463),\n ('role', 29.659146745544206),\n ('sources', 29.463895712847624),\n ('understand', 29.29021225582955),\n ('building', 29.16455025759136),\n ('opportunities', 29.079791638706357),\n ('internal', 29.0139760472975),\n ('methods', 28.994558041716623),\n ('project', 28.814598453335083),\n ('code', 28.021996906251715),\n ('based', 28.01761287736507),\n ('lead', 27.92345008441213),\n ('high', 27.206073344389484),\n ('company', 27.143231553941536),\n ('deliver', 26.771824097511644),\n ('apply', 26.328285047655438),\n ('test', 26.20965458016154),\n ('communicate', 26.169830920944577),\n ('information', 26.0238600074192),\n ('sets', 25.951043998870666),\n ('impact', 25.807275342991208),\n ('technologies', 25.4879873117837),\n ('needs', 25.434669834994647),\n ('technology', 25.35507584196969)]"
     },
     "execution_count": 11,
     "metadata": {},
     "output_type": "execute_result"
    }
   ],
   "source": [
    "get_top_n_words(doc_term, 100)"
   ],
   "metadata": {
    "collapsed": false,
    "pycharm": {
     "name": "#%%\n"
    }
   }
  },
  {
   "cell_type": "code",
   "execution_count": 12,
   "outputs": [
    {
     "data": {
      "text/plain": "(4295, 207797)"
     },
     "execution_count": 12,
     "metadata": {},
     "output_type": "execute_result"
    }
   ],
   "source": [
    "doc_term.shape"
   ],
   "metadata": {
    "collapsed": false,
    "pycharm": {
     "name": "#%%\n"
    }
   }
  },
  {
   "cell_type": "code",
   "execution_count": 13,
   "outputs": [
    {
     "data": {
      "text/plain": "['00',\n '00 actual',\n '000',\n '000 145',\n '000 155',\n '000 156',\n '000 160',\n '000 500',\n '000 57',\n '000 68',\n '000 90',\n '000 actual',\n '000 additional',\n '000 amazon',\n '000 annually',\n '000 asia',\n '000 begin',\n '000 bonus',\n '000 companies',\n '000 compensation',\n '000 computer',\n '000 data',\n '000 dependent',\n '000 depending',\n '000 employees',\n '000 end',\n '000 families',\n '000 homesite',\n '000 independent',\n '000 individuals',\n '000 nmg',\n '000 passionate',\n '000 patients',\n '000 people',\n '000 pre',\n '000 products',\n '000 professionals',\n '000 retail',\n '000 small',\n '000 software',\n '000 stores',\n '000 strong',\n '000 team',\n '000 technicians',\n '000 usd',\n '000 year',\n '00am',\n '00am 30pm',\n '01',\n '01 2022',\n '01 24',\n '0161',\n '0161 694',\n '02',\n '02 18',\n '04',\n '04 01',\n '04 15',\n '05',\n '05 06',\n '05 2021',\n '06',\n '06 17',\n '06 2022',\n '07',\n '07 01',\n '07 15',\n '07704',\n '07704 152',\n '09',\n '09 01',\n '10',\n '10 000',\n '10 10',\n '10 13',\n '10 15',\n '10 20',\n '10 2021',\n '10 30am',\n '10 accurate',\n '10 affinity',\n '10 analysts',\n '10 banks',\n '10 billion',\n '10 bonus',\n '10 business',\n '10 career',\n '10 communicating',\n '10 countries',\n '10 data',\n '10 day',\n '10 days',\n '10 duties',\n '10 evaluation',\n '10 genetics',\n '10 implement',\n '10 learning',\n '10 main',\n '10 majority',\n '10 members',\n '10 million',\n '10 need',\n '10 offices',\n '10 optimisation',\n '10 participate',\n '10 pounds',\n '10 produce',\n '10 proficient',\n '10 required',\n '10 situations',\n '10 technical',\n '10 time',\n '10 travel',\n '10 universities',\n '10 week',\n '10 weeks',\n '10 years',\n '100',\n '100 000',\n '100 12',\n '100 124',\n '100 200',\n '100 best',\n '100 centralized',\n '100 countries',\n '100 coverage',\n '100 data',\n '100 degrees',\n '100 device',\n '100 employer',\n '100 essential',\n '100 fit',\n '100 huntsville',\n '100 influential',\n '100 languages',\n '100 medical',\n '100 million',\n '100 monthly',\n '100 new',\n '100 outpatient',\n '100 people',\n '100 percent',\n '100 position',\n '100 remote',\n '100 scale',\n '100 staff',\n '100 stores',\n '100 subsidized',\n '100 summary',\n '100 team',\n '100 time',\n '100 world',\n '100 yearly',\n '100 years',\n '1000',\n '1000 alexa',\n '1000 companies',\n '1000 employees',\n '1000 mid',\n '1000 projects',\n '1000 size',\n '1000s',\n '1000s patients',\n '1001',\n '1001 affiliated',\n '1001 welcoming',\n '100m',\n '100m series',\n '100m users',\n '100mm',\n '100mm consumers',\n '100mm records',\n '100s',\n '100s 1000s',\n '100s millions',\n '101',\n '101 000',\n '101 125',\n '102',\n '102 723',\n '103',\n '103 500',\n '109',\n '109 000',\n '109 countries',\n '109 languages',\n '10e8',\n '10e8 datasets',\n '10k',\n '10k 10q',\n '10k tuition',\n '10pm',\n '10pm unavailable',\n '10q',\n '10q ccar',\n '10x',\n '10x productivity',\n '10x years',\n '11',\n '11 05',\n '11 695',\n '11 countries',\n '11 deep',\n '11 hospital',\n '11 months',\n '11 provide',\n '11 role',\n '110k',\n '110k year',\n '115',\n '115 600',\n '117',\n '117 275',\n '117 billion',\n '12',\n '12 000',\n '12 15',\n '12 16',\n '12 23',\n '12 affinity',\n '12 countries',\n '12 experienced',\n '12 fortune',\n '12 highly',\n '12 internal',\n '12 lead',\n '12 month',\n '12 months',\n '12 provide',\n '12 states',\n '12 week',\n '12 weeks',\n '12 years',\n '120',\n '120 15',\n '120 million',\n '124',\n '124 700',\n '125',\n '125 129',\n '125 aws',\n '126',\n '126 800',\n '127',\n '127 fortune',\n '1272',\n '1272 2008',\n '129',\n '129 447',\n '12th',\n '12th 2022',\n '13',\n '13 000',\n '13 week',\n '13 years',\n '130',\n '130 000',\n '130 countries',\n '130 employees',\n '130 rated',\n '130 years',\n '130b',\n '130b annual',\n '1324b',\n '1324b eligible',\n '13485',\n '13485 mdsap',\n '13485 quality',\n '13485 standards',\n '13th',\n '13th september',\n '14',\n '14 000',\n '14 currencies',\n '14 leadership',\n '14 million',\n '14 weeks',\n '140',\n '140 000',\n '140 services',\n '140k',\n '140k range',\n '140m',\n '140m continue',\n '141940',\n '141940 subject',\n '145',\n '145 000',\n '15',\n '15 000',\n '15 2021',\n '15 2022',\n '15 80',\n '15 data',\n '15 domestic',\n '15 interact',\n '15 leverage',\n '15 management',\n '15 million',\n '15 pending',\n '15 pricing',\n '15 required',\n '15 sales',\n '15 technical',\n '15 time',\n '15 years',\n '150',\n '150 consultants',\n '150 countries',\n '150 employees',\n '150 places',\n '150 year',\n '150m',\n '150m calls',\n '151',\n '151 300',\n '151 320',\n '152',\n '152 637',\n '155',\n '155 000',\n '155 900',\n '156',\n '156 1000',\n '15b',\n '15b school',\n '16',\n '16 000',\n '16 2021',\n '16 data',\n '16 leadership',\n '160',\n '160 000',\n '160 billion',\n '164',\n '164 700',\n '1640',\n '1640 x2053',\n '165',\n '165 700',\n '16th',\n '16th august',\n '17',\n '17 2022',\n '17 800',\n '17 languages',\n '170',\n '170 countries',\n '170 years',\n '175',\n '175 countries',\n '18',\n '18 000',\n '18 2022',\n '18 months',\n '18 years',\n '180',\n '180 400',\n '180 countries',\n '180 days',\n '180 markets',\n '180 time',\n '1818',\n '1818 brooks',\n '183',\n '183 500',\n '1848',\n '1848 team',\n '186',\n '186 000',\n '189',\n '189 304',\n '19',\n '19 billion',\n '19 consideration',\n '19 environment',\n '19 eventually',\n '19 help',\n '19 ll',\n '19 morning',\n '19 nba',\n '19 non',\n '19 page',\n '19 pandemic',\n '19 person',\n '19 proof',\n '19 response',\n '19 restrictions',\n '19 situation',\n '19 specific',\n '19 successful',\n '19 unless',\n '19 unvaccinated',\n '19 vaccination',\n '19 vaccine',\n '19 vaccines',\n '19 work',\n '190',\n '190 chapters',\n '190 countries',\n '190 global',\n '1927',\n '1927 envisioning',\n '1938',\n '1938 topps',\n '194',\n '194 000',\n '1961',\n '1961 help',\n '1972',\n '1972 long',\n '1972 team',\n '1980',\n '1980 defined',\n '1983',\n '1983 meet',\n '1987',\n '1987 huawei',\n '1988',\n '1988 fast',\n '1988 sep',\n '1991',\n '1991 created',\n '1995',\n '1995 taking',\n '1998',\n '1998 headquartered',\n '1999',\n '1999 117',\n '1999 sgs',\n '1b',\n '1b enterprises',\n '1b visa',\n '1billion',\n '1billion people',\n '1m',\n '1m employees',\n '1s',\n '1s directly',\n '1st',\n '1st line',\n '1st party',\n '1st priority',\n '1st shift',\n '1x',\n '1x monthly',\n '20',\n '20 ad',\n '20 areas',\n '20 billion',\n '20 build',\n '20 business',\n '20 collaborate',\n '20 colours',\n '20 communicating',\n '20 consult',\n '20 continuously',\n '20 days',\n '20 develop',\n '20 discount',\n '20 hours',\n '20 perform',\n '20 popular',\n '20 prediction',\n '20 project',\n '20 role',\n '20 select',\n '20 self',\n '20 site',\n '20 supports',\n '20 testing',\n '20 time',\n '20 travel',\n '20 travelling',\n '20 use',\n '20 year',\n '20 years',\n '200',\n '200 analytics',\n '200 base',\n '200 career',\n '200 cities',\n '200 company',\n '200 countries',\n '200 employees',\n '200 engineers',\n '200 locations',\n '200 people',\n '200 salaried',\n '200 years',\n '2000',\n '2000 analytic',\n '2000 global',\n '2002',\n '2002 headquartered',\n '2008',\n '2008 occupational',\n '2010',\n '2010 tapad',\n '2012',\n '2012 passion',\n '2012 quickly',\n '2013',\n '2013 company',\n '2013 goal',\n '2014',\n '2014 database',\n '2015',\n '2015 2021',\n '2015 card',\n '2015 vision',\n '2016',\n '2016 firm',\n '2016 start',\n '2016 welcomed',\n '2017',\n '2017 walmart',\n '2018',\n '2018 familiarity',\n '2018 knowledge',\n '2018 letter',\n '2018 team',\n '2019',\n '2019 2021',\n '2019 bringing',\n '2019 business',\n '2019 evaluate',\n '2019 invested',\n '2019 named',\n '2019 oliver',\n '2020',\n '2020 adding',\n '2020 defines',\n '2020 ecnlp',\n '2020 ghodrat',\n '2020 https',\n '2020 icml',\n '2020 included',\n '2020 launch',\n '2020 marks',\n '2020 medium',\n '2020 mid',\n '2020 moved',\n '2020 named',\n '2020 ranks',\n '2020 report',\n '2020 sales',\n '2020 sellers',\n '2020 teladoc',\n '2020 working',\n '2021',\n '2021 15',\n '2021 2022',\n '2021 apply',\n '2021 august',\n '2021 best',\n '2021 boston',\n '2021 company',\n '2021 draft',\n '2021 glassdoor',\n '2021 great',\n '2021 growing',\n '2021 join',\n '2021 list',\n '2021 note',\n '2021 papers',\n '2021 penn',\n '2021 position',\n '2021 provide',\n '2021 recruiter',\n '2021 review',\n '2021 sequoia',\n '2021 small',\n '2021 spring',\n '2021 time',\n '2021 won',\n '2022',\n '2022 10',\n '2022 11',\n '2022 12',\n '2022 anticipate',\n '2022 applied',\n '2022 basic',\n '2022 ces',\n '2022 come',\n '2022 consider',\n '2022 formulate',\n '2022 implement',\n '2022 incorporate',\n '2022 june',\n '2022 looking',\n '2022 minimum',\n '2022 nice',\n '2022 palo',\n '2022 perform',\n '2022 recruiter',\n '2022 requested',\n '2022 require',\n '2022 responsibilities',\n '2022 robert',\n '2022 run',\n '2022 seeking',\n '2022 software',\n '2022 submit',\n '2024',\n '2024 nice',\n '2025',\n '2025 extract',\n '2025 validate',\n '2030',\n '2030 ambition',\n '2030 digital',\n '2050',\n '2050 available',\n '21',\n '21 000',\n '21 63',\n '21 years',\n '216',\n '216 000',\n '22',\n '22 000',\n '22 120',\n '220',\n '220 countries',\n '222',\n '222 100',\n '23',\n '23 000',\n '23 2021',\n '230',\n '230 200',\n '231',\n '231 100',\n '235',\n '235 000',\n '24',\n '24 2022',\n '24 glassdoor',\n '24 high',\n '24 hours',\n '24 mobile',\n '24 months',\n '24 operations',\n '24 production',\n '24 technical',\n '25',\n '25 000',\n '25 50',\n '25 ability',\n '25 countries',\n '25 data',\n '25 days',\n '25 gather',\n '25 generate',\n '25 information',\n '25 million',\n '25 pounds',\n '25 project',\n '25 solution',\n '25 technical',\n '25 time',\n '25 work',\n '250',\n '250 000',\n '250 communities',\n '250k',\n '250k directors',\n '25lbs',\n '25lbs building',\n '26',\n '26 44',\n '260',\n '260 million',\n '265',\n '265 million',\n '265222',\n '265222 applying',\n '275',\n '275 johnson',\n '275 million',\n '275 salary',\n '277274',\n '277274 applying',\n '28',\n '28 countries',\n '28 online',\n '28f62d40fd17',\n '28f62d40fd17 making',\n '28th',\n '28th consecutive',\n '29',\n '29 days',\n '2d',\n '2d 3d',\n '2d drawings',\n '2d phased',\n '2m',\n '2m including',\n '2nd',\n '2nd priority',\n '2nd watch',\n '2x',\n '2x year',\n '30',\n '30 90',\n '30 areas',\n '30 assess',\n '30 countries',\n '30 cultivating',\n '30 data',\n '30 day',\n '30 days',\n '30 languages',\n '30 million',\n '30 min',\n '30 plan',\n '30 project',\n '30 provide',\n '30 researchers',\n '30 solution',\n '30 train',\n '30 unique',\n '30 use',\n '300',\n '300 00',\n '300 000',\n '300 155',\n '300 employee',\n '300 million',\n '303',\n '303 4654',\n '304',\n '304 50',\n '30am',\n '30am expect',\n '30k',\n '30k foot',\n '30pm',\n '30pm flexibility',\n '31',\n '31 2021',\n '31 million',\n '312c',\n '312c reporting',\n '317',\n '317 843',\n '32',\n '32 000',\n '320',\n '320 starting',\n '340b',\n '340b develops',\n '340b pr',\n '340b rpa',\n '340b team',\n '35',\n '35 40k',\n '35 43',\n '35 million',\n '35 solution',\n '35 technical',\n '350',\n '350 sensor',\n '36',\n '36 million',\n '360',\n '360 machine',\n '360 platform',\n '360 view',\n '360learning',\n '360learning platform',\n '365',\n '365 days',\n '365 drive',\n '365 help',\n '365 salesforce',\n '37',\n '37 hrs',\n '37 position',\n '39',\n '39 divisions',\n '398',\n '398 jpl',\n '398 responsibility',\n '398g',\n '398g provide',\n '3d',\n '3d anylogic',\n '3d computer',\n '3d deep',\n '3d geometries',\n '3d geometry',\n '3d matrices',\n '3d models',\n '3d point',\n '3d scene',\n '3d scenes',\n '3d technologies',\n '3d vision',\n '3d visual',\n '3p',\n '3p create',\n '3rd',\n '3rd parties',\n '3rd party',\n '3rd priority',\n '40',\n '40 000',\n '40 ancestry',\n '40 data',\n '40 hours',\n '40 location',\n '40 nationalities',\n '40 neiman',\n '40 perform',\n '40 work',\n '40 zalando',\n '400',\n '400 annual',\n '400 senior',\n '4000',\n '4000 stores',\n '400m',\n '400m monthly',\n '400m revolving',\n '401',\n '401 company',\n '401 employer',\n '401 immediately',\n '401 long',\n '401 match',\n '401 matching',\n '401 program',\n '401 retirement',\n '401 savings',\n '401 traditional',\n '401 tuition',\n '401 wellness',\n '401k',\n '401k availability',\n '401k company',\n '401k equity',\n '401k flexible',\n '401k match',\n '401k matching',\n '401k plan',\n '401k retirement',\n '401k savings',\n '40k',\n '40k depending',\n '42',\n '42 million',\n '42 states',\n '43',\n '43 years',\n '44',\n '44 hour',\n '4449',\n '4449 ipro',\n '447',\n '447 mid',\n '45',\n '45 000',\n '45 additional',\n '45 countries',\n '45 implement',\n '45 years',\n '450',\n '450 000',\n '4654',\n '4654 mobile',\n '47',\n '47 000',\n '47 customer',\n '48',\n '48 000',\n '4g',\n '4g 5g',\n '4g bi',\n '50',\n '50 000',\n '50 189',\n '50 2021',\n '50 70',\n '50 analysts',\n '50 apply',\n '50 areas',\n '50 billion',\n '50 bioinformatics',\n '50 biologists',\n '50 company',\n '50 data',\n '50 devices',\n '50 engaged',\n '50 fastest',\n '50 improve',\n '50 individual',\n '50 languages',\n '50 loans',\n '50 locations',\n '50 manufacturing',\n '50 percent',\n '50 plus',\n '50 role',\n '50 startups',\n '50 workload',\n '50 years',\n '500',\n '500 000',\n '500 advisors',\n '500 capital',\n '500 clients',\n '500 companies',\n '500 company',\n '500 compensation',\n '500 fastest',\n '500 million',\n '500 plus',\n '500 year',\n '500m',\n '500m records',\n '50billion',\n '50billion globally',\n '50m',\n '50m members',\n '51',\n '51 analytical',\n '51 forecasting',\n '51 platforms',\n '51 realize',\n '512gb',\n '512gb memory',\n '515',\n '515 303',\n '515 771',\n '52',\n '52 provide',\n '53',\n '53 year',\n '53a1764fcdee',\n '53a1764fcdee papers',\n '55',\n '55 solution',\n '550',\n '550 billion',\n '57',\n '57 000',\n '58',\n '58 000',\n '59',\n '59 banners',\n '5a94f42d6bbf01',\n '5a94f42d6bbf01 junior',\n '5g',\n '5g 5g',\n '5g bi',\n '5g connection',\n '5g fixed',\n '5g network',\n '5g networks',\n '5g services',\n '5g systems',\n '5th',\n '5th september',\n '5years',\n '5years large',\n '60',\n '60 000',\n '60 100',\n '60 billion',\n '60 criteria',\n '60 data',\n '60 days',\n '60 loyalty',\n '60 machine',\n '60 years',\n '600',\n '600 230',\n '600 231',\n '600 clubs',\n '600 million',\n '62304',\n '62304 pmda',\n '63',\n '63 000',\n '63 26',\n '63 800',\n '637',\n '637 email',\n '637 make',\n '64',\n '64 languages',\n '65',\n '65 billion',\n '65 cal',\n '65 european',\n '65 years',\n '650',\n '650 employees',\n ...]"
     },
     "execution_count": 13,
     "metadata": {},
     "output_type": "execute_result"
    }
   ],
   "source": [
    "feature_names = vec.get_feature_names()\n",
    "feature_names"
   ],
   "metadata": {
    "collapsed": false,
    "pycharm": {
     "name": "#%%\n"
    }
   }
  },
  {
   "cell_type": "code",
   "execution_count": 14,
   "outputs": [],
   "source": [
    "nmf_5 = NMF(n_components=5)\n",
    "doc_topic_5 = nmf_5.fit_transform(doc_term)"
   ],
   "metadata": {
    "collapsed": false,
    "pycharm": {
     "name": "#%%\n"
    }
   }
  },
  {
   "cell_type": "code",
   "execution_count": 15,
   "outputs": [
    {
     "data": {
      "text/plain": "(5, 207797)"
     },
     "execution_count": 15,
     "metadata": {},
     "output_type": "execute_result"
    }
   ],
   "source": [
    "nmf_5.components_.shape"
   ],
   "metadata": {
    "collapsed": false,
    "pycharm": {
     "name": "#%%\n"
    }
   }
  },
  {
   "cell_type": "markdown",
   "source": [
    "_The function below was adapted from a function in the course materials_"
   ],
   "metadata": {
    "collapsed": false,
    "pycharm": {
     "name": "#%% md\n"
    }
   }
  },
  {
   "cell_type": "code",
   "execution_count": 16,
   "outputs": [],
   "source": [
    "def get_top_terms(topic, n_terms, nmf=nmf_5, terms=feature_names):\n",
    "    # get the topic components (i.e., term weights)\n",
    "    components = nmf.components_[topic, :]\n",
    "    # print(components.argsort()[-n_terms:])\n",
    "    # print(components.argsort()[:-n_terms - 1:-1])\n",
    "\n",
    "    # get term indices, sorted (descending) by topic weights\n",
    "    top_term_indices = components.argsort()[:-n_terms - 1:-1]\n",
    "\n",
    "    # use the `terms` array to get the actual top terms\n",
    "    top_terms = np.array(terms)[top_term_indices]\n",
    "\n",
    "    return top_terms.tolist()"
   ],
   "metadata": {
    "collapsed": false,
    "pycharm": {
     "name": "#%%\n"
    }
   }
  },
  {
   "cell_type": "code",
   "execution_count": 17,
   "outputs": [
    {
     "data": {
      "text/plain": "[['learning', 'machine', 'machine learning', 'ml', 'models'],\n ['business', 'analytics', 'analysis', 'science', 'insights'],\n ['life', 'balance', 'culture', 'culture inclusion', 'team'],\n ['business', 'supports', 'model', 'analytical', 'testing'],\n ['accuracy', 'model', 'monitor', 'analyze', 'outcomes develop']]"
     },
     "execution_count": 17,
     "metadata": {},
     "output_type": "execute_result"
    }
   ],
   "source": [
    "topics_5 = [get_top_terms(i, 5) for i in range(5)]\n",
    "topics_5"
   ],
   "metadata": {
    "collapsed": false,
    "pycharm": {
     "name": "#%%\n"
    }
   }
  },
  {
   "cell_type": "code",
   "execution_count": 18,
   "outputs": [
    {
     "data": {
      "text/plain": "[['learning', 'machine', 'machine learning', 'ml', 'ai'],\n ['business', 'analysis', 'analytics', 'support', 'statistical'],\n ['life', 'balance', 'culture', 'culture inclusion', 'career growth'],\n ['business', 'supports', 'model', 'analytical', 'testing'],\n ['accuracy', 'monitor', 'outcomes develop', 'outcomes', 'custom data'],\n ['product', 'teams', 'metrics', 'drive', 'insights'],\n ['marketing', 'connect', 'walmart', 'media mix', 'media'],\n ['cognitive', 'decision makers', 'makers', 'analytics cognitive', 'clients'],\n ['business partners', 'community', 'business', 'partners', 'objectives'],\n ['vaccine', 'chase', 'jpmorgan', 'jpmorgan chase', 'social distancing'],\n ['background',\n  'ensure exceptional',\n  'open ambiguous',\n  'help minimum',\n  'solving open'],\n ['structured unstructured',\n  'information',\n  'unstructured data',\n  'unstructured',\n  'structured'],\n ['technical', 'project', 'business', 'data science', 'science'],\n ['structuring downstream',\n  'downstream processing',\n  'design accurate',\n  'accurate scalable',\n  'data assessing'],\n ['experience', 'science', 'skills', 'years', 'ability'],\n ['clients', 'guidehouse', 'consulting', 'services', 'help clients'],\n ['architecture',\n  'infrastructure',\n  'optimal data',\n  'data platforms',\n  'implement machine'],\n ['peraton', 'defense', 'analysis', 'government', 'mission'],\n ['performs',\n  'develops',\n  'structure requests',\n  'teams large',\n  'services serves'],\n ['model', 'model building', 'processes', 'analyze', 'resurgent']]"
     },
     "execution_count": 18,
     "metadata": {},
     "output_type": "execute_result"
    }
   ],
   "source": [
    "nmf_20 = NMF(n_components=20)\n",
    "nmf_20.fit_transform(doc_term)\n",
    "topics_20 = [get_top_terms(i, 5, nmf_20) for i in range(20)]\n",
    "topics_20"
   ],
   "metadata": {
    "collapsed": false,
    "pycharm": {
     "name": "#%%\n"
    }
   }
  },
  {
   "cell_type": "code",
   "execution_count": 19,
   "outputs": [
    {
     "data": {
      "text/plain": "[['learning', 'machine', 'machine learning', 'ml', 'models'],\n ['business', 'analysis', 'science', 'data science', 'analytics'],\n ['life', 'balance', 'culture', 'culture inclusion', 'team'],\n ['business', 'supports', 'model', 'analytical', 'testing'],\n ['accuracy', 'model', 'monitor', 'analyze', 'outcomes develop'],\n ['product', 'business', 'teams', 'insights', 'drive'],\n ['marketing', 'connect', 'walmart', 'media mix', 'modeling'],\n ['clients', 'analytics', 'cognitive', 'decision', 'decision makers'],\n ['partners', 'business partners', 'external', 'community', 'business'],\n ['vaccine', 'chase', 'jpmorgan chase', 'jpmorgan', 'card firm']]"
     },
     "execution_count": 19,
     "metadata": {},
     "output_type": "execute_result"
    }
   ],
   "source": [
    "nmf_10 = NMF(n_components=10)\n",
    "nmf_10.fit_transform(doc_term)\n",
    "topics_10 = [get_top_terms(i, 5, nmf_10) for i in range(10)]\n",
    "topics_10"
   ],
   "metadata": {
    "collapsed": false,
    "pycharm": {
     "name": "#%%\n"
    }
   }
  },
  {
   "cell_type": "markdown",
   "source": [
    "MVP Comment: I think the above topic modelling shows promise for the purpose of creating a job listing recommender. This modelling could do with some further iterating in order to optimise the utility of the topics. The question of how many topics would be best for the recommender remains an open one, and depends in part on the specifics of the recommender."
   ],
   "metadata": {
    "collapsed": false,
    "pycharm": {
     "name": "#%% md\n"
    }
   }
  }
 ],
 "metadata": {
  "kernelspec": {
   "display_name": "Python 3",
   "language": "python",
   "name": "python3"
  },
  "language_info": {
   "codemirror_mode": {
    "name": "ipython",
    "version": 2
   },
   "file_extension": ".py",
   "mimetype": "text/x-python",
   "name": "python",
   "nbconvert_exporter": "python",
   "pygments_lexer": "ipython2",
   "version": "2.7.6"
  }
 },
 "nbformat": 4,
 "nbformat_minor": 0
}