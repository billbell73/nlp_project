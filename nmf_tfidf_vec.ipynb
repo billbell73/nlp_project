{
 "cells": [
  {
   "cell_type": "markdown",
   "source": [
    "**MVP Comment:\n",
    "I think the topic modelling below shows promise for the purpose of creating a job listing recommender. The modelling could do with some further iterating in order to optimise the utility of the topics. The question of how many topics would be best for the recommender remains open, and will depend in part on the specifics of the recommender.**"
   ],
   "metadata": {
    "collapsed": false,
    "pycharm": {
     "name": "#%% md\n"
    }
   }
  },
  {
   "cell_type": "code",
   "execution_count": 1,
   "outputs": [],
   "source": [
    "from sklearn.feature_extraction.text import TfidfVectorizer\n",
    "import numpy as np\n",
    "import pandas as pd\n",
    "from sklearn.decomposition import NMF"
   ],
   "metadata": {
    "collapsed": false,
    "pycharm": {
     "name": "#%%\n"
    }
   }
  },
  {
   "cell_type": "code",
   "execution_count": 2,
   "outputs": [],
   "source": [
    "import warnings\n",
    "warnings.filterwarnings('ignore')"
   ],
   "metadata": {
    "collapsed": false,
    "pycharm": {
     "name": "#%%\n"
    }
   }
  },
  {
   "cell_type": "code",
   "execution_count": 3,
   "outputs": [
    {
     "data": {
      "text/plain": "                                             responsibilities           title\n2908496770  :|•\\tDesign and implement ML methods on propri...  Data Scientist\n2911267267  :|• Provide consultative support as and when r...  Data Scientist\n2912844894  :|Support Data and Analytics team through deve...  Data Scientist\n2911205495  |Build agent-based simulations of smart contra...  Data Scientist\n2912480226  |Productionize, launch, and monitor predictive...  Data Scientist",
      "text/html": "<div>\n<style scoped>\n    .dataframe tbody tr th:only-of-type {\n        vertical-align: middle;\n    }\n\n    .dataframe tbody tr th {\n        vertical-align: top;\n    }\n\n    .dataframe thead th {\n        text-align: right;\n    }\n</style>\n<table border=\"1\" class=\"dataframe\">\n  <thead>\n    <tr style=\"text-align: right;\">\n      <th></th>\n      <th>responsibilities</th>\n      <th>title</th>\n    </tr>\n  </thead>\n  <tbody>\n    <tr>\n      <th>2908496770</th>\n      <td>:|•\\tDesign and implement ML methods on propri...</td>\n      <td>Data Scientist</td>\n    </tr>\n    <tr>\n      <th>2911267267</th>\n      <td>:|• Provide consultative support as and when r...</td>\n      <td>Data Scientist</td>\n    </tr>\n    <tr>\n      <th>2912844894</th>\n      <td>:|Support Data and Analytics team through deve...</td>\n      <td>Data Scientist</td>\n    </tr>\n    <tr>\n      <th>2911205495</th>\n      <td>|Build agent-based simulations of smart contra...</td>\n      <td>Data Scientist</td>\n    </tr>\n    <tr>\n      <th>2912480226</th>\n      <td>|Productionize, launch, and monitor predictive...</td>\n      <td>Data Scientist</td>\n    </tr>\n  </tbody>\n</table>\n</div>"
     },
     "execution_count": 3,
     "metadata": {},
     "output_type": "execute_result"
    }
   ],
   "source": [
    "df = pd.read_pickle(\"./responsibilities_df_2.pickle\")\n",
    "df.head()"
   ],
   "metadata": {
    "collapsed": false,
    "pycharm": {
     "name": "#%%\n"
    }
   }
  },
  {
   "cell_type": "code",
   "execution_count": 4,
   "outputs": [
    {
     "data": {
      "text/plain": "(4295, 2)"
     },
     "execution_count": 4,
     "metadata": {},
     "output_type": "execute_result"
    }
   ],
   "source": [
    "df.shape"
   ],
   "metadata": {
    "collapsed": false,
    "pycharm": {
     "name": "#%%\n"
    }
   }
  },
  {
   "cell_type": "code",
   "execution_count": 5,
   "outputs": [],
   "source": [
    "docs = df.responsibilities"
   ],
   "metadata": {
    "collapsed": false,
    "pycharm": {
     "name": "#%%\n"
    }
   }
  },
  {
   "cell_type": "code",
   "execution_count": 6,
   "outputs": [],
   "source": [
    "vec = TfidfVectorizer(stop_words='english', ngram_range=(1,2), max_df=0.8)"
   ],
   "metadata": {
    "collapsed": false,
    "pycharm": {
     "name": "#%%\n"
    }
   }
  },
  {
   "cell_type": "code",
   "execution_count": null,
   "outputs": [],
   "source": [
    "doc_term = vec.fit_transform(docs)"
   ],
   "metadata": {
    "collapsed": false,
    "pycharm": {
     "name": "#%%\n"
    }
   }
  },
  {
   "cell_type": "code",
   "execution_count": 8,
   "outputs": [
    {
     "data": {
      "text/plain": "<4295x207797 sparse matrix of type '<class 'numpy.float64'>'\n\twith 932757 stored elements in Compressed Sparse Row format>"
     },
     "execution_count": 8,
     "metadata": {},
     "output_type": "execute_result"
    }
   ],
   "source": [
    "doc_term"
   ],
   "metadata": {
    "collapsed": false,
    "pycharm": {
     "name": "#%%\n"
    }
   }
  },
  {
   "cell_type": "markdown",
   "source": [
    "_The below way of displaying vectorisation results as they relate to a specific document was taken from course materials_"
   ],
   "metadata": {
    "collapsed": false
   }
  },
  {
   "cell_type": "code",
   "execution_count": 9,
   "outputs": [
    {
     "data": {
      "text/plain": "learning optimization       0.169742\ndistributed computing       0.157927\noptimization                0.133840\ncomputing                   0.124378\ndistributed                 0.120052\ndevelopment performs        0.115446\nsoftware contributes        0.115446\ncontributes product         0.115446\nworks big                   0.115446\nplatforms develops          0.112732\ndata distributed            0.112732\ndevelops                    0.112142\nanalyses works              0.110438\nsolutions prepares          0.110438\ninterpretations results     0.108450\nprotocols quantitative      0.108450\nengineering focus           0.108450\nfpl                         0.108450\ncomprehensive documented    0.108450\ndocumented observations     0.108450\nName: |This position is responsible for developing algorithms, modeling techniques, and optimization methods that support many aspects of NextEra and FPL business. Employees in this role use knowledge of machine learning, optimization, statistics, and applied mathematics along with abilities in software engineering with a focus on distributed computing and data storage infrastructure (i.e., “Big Data”).|Job Duties & Responsibilities|Develops machine learning, optimization and other modeling solutions|Prepares comprehensive documented observations, analyses and interpretations of results including technical reports, summaries, protocols and quantitative analyses|Works with big data and distributed computing platforms|Develops software and contributes to product development|Performs other job-related duties as assigned|Required , dtype: float64"
     },
     "execution_count": 9,
     "metadata": {},
     "output_type": "execute_result"
    }
   ],
   "source": [
    "i = 200\n",
    "\n",
    "doc = pd.Series(name=docs[i],\n",
    "                data=doc_term.toarray()[i],\n",
    "                index=vec.get_feature_names()) \\\n",
    "   .sort_values(ascending=False)\n",
    "\n",
    "doc[:20]"
   ],
   "metadata": {
    "collapsed": false,
    "pycharm": {
     "name": "#%%\n"
    }
   }
  },
  {
   "cell_type": "markdown",
   "source": [
    "_The function below was adapted from an answer on Stack Overflow_"
   ],
   "metadata": {
    "collapsed": false
   }
  },
  {
   "cell_type": "code",
   "execution_count": 10,
   "outputs": [],
   "source": [
    "def get_top_n_words(bag_of_words, n=20):\n",
    "    sum_words = bag_of_words.sum(axis=0)\n",
    "    words_freq = [(word, sum_words[0, idx]) for word, idx in     vec.vocabulary_.items()]\n",
    "    words_freq =sorted(words_freq, key = lambda x: x[1], reverse=True)\n",
    "    return words_freq[:n]"
   ],
   "metadata": {
    "collapsed": false,
    "pycharm": {
     "name": "#%%\n"
    }
   }
  },
  {
   "cell_type": "code",
   "execution_count": 20,
   "outputs": [
    {
     "data": {
      "text/plain": "[('business', 107.43669720918231),\n ('learning', 84.7229440790238),\n ('models', 79.36568134916759),\n ('team', 75.29335165509197),\n ('machine', 74.07024563712949),\n ('machine learning', 73.28802829713275),\n ('work', 70.90615675652647),\n ('science', 67.79368691466766),\n ('develop', 64.63237097276576),\n ('analysis', 64.30917162054838),\n ('product', 61.74604715970079),\n ('data science', 60.9549583635833),\n ('solutions', 58.23415889559621),\n ('analytics', 57.2781233688693),\n ('experience', 55.606531899700514),\n ('new', 53.75699709944742),\n ('design', 53.47915699870511),\n ('development', 52.441042942207176),\n ('build', 50.79381329230613),\n ('model', 50.58463840706466)]"
     },
     "execution_count": 20,
     "metadata": {},
     "output_type": "execute_result"
    }
   ],
   "source": [
    "get_top_n_words(doc_term, 20)"
   ],
   "metadata": {
    "collapsed": false,
    "pycharm": {
     "name": "#%%\n"
    }
   }
  },
  {
   "cell_type": "code",
   "execution_count": 12,
   "outputs": [
    {
     "data": {
      "text/plain": "(4295, 207797)"
     },
     "execution_count": 12,
     "metadata": {},
     "output_type": "execute_result"
    }
   ],
   "source": [
    "doc_term.shape"
   ],
   "metadata": {
    "collapsed": false,
    "pycharm": {
     "name": "#%%\n"
    }
   }
  },
  {
   "cell_type": "code",
   "execution_count": 21,
   "outputs": [],
   "source": [
    "feature_names = vec.get_feature_names()"
   ],
   "metadata": {
    "collapsed": false,
    "pycharm": {
     "name": "#%%\n"
    }
   }
  },
  {
   "cell_type": "code",
   "execution_count": 14,
   "outputs": [],
   "source": [
    "nmf_5 = NMF(n_components=5)\n",
    "doc_topic_5 = nmf_5.fit_transform(doc_term)"
   ],
   "metadata": {
    "collapsed": false,
    "pycharm": {
     "name": "#%%\n"
    }
   }
  },
  {
   "cell_type": "code",
   "execution_count": 15,
   "outputs": [
    {
     "data": {
      "text/plain": "(5, 207797)"
     },
     "execution_count": 15,
     "metadata": {},
     "output_type": "execute_result"
    }
   ],
   "source": [
    "nmf_5.components_.shape"
   ],
   "metadata": {
    "collapsed": false,
    "pycharm": {
     "name": "#%%\n"
    }
   }
  },
  {
   "cell_type": "markdown",
   "source": [
    "_The function below was adapted from a function in the course materials_"
   ],
   "metadata": {
    "collapsed": false
   }
  },
  {
   "cell_type": "code",
   "execution_count": 16,
   "outputs": [],
   "source": [
    "def get_top_terms(topic, n_terms, nmf=nmf_5, terms=feature_names):\n",
    "    # get the topic components (i.e., term weights)\n",
    "    components = nmf.components_[topic, :]\n",
    "    # print(components.argsort()[-n_terms:])\n",
    "    # print(components.argsort()[:-n_terms - 1:-1])\n",
    "\n",
    "    # get term indices, sorted (descending) by topic weights\n",
    "    top_term_indices = components.argsort()[:-n_terms - 1:-1]\n",
    "\n",
    "    # use the `terms` array to get the actual top terms\n",
    "    top_terms = np.array(terms)[top_term_indices]\n",
    "\n",
    "    return top_terms.tolist()"
   ],
   "metadata": {
    "collapsed": false,
    "pycharm": {
     "name": "#%%\n"
    }
   }
  },
  {
   "cell_type": "code",
   "execution_count": 17,
   "outputs": [
    {
     "data": {
      "text/plain": "[['learning', 'machine', 'machine learning', 'ml', 'models'],\n ['business', 'analytics', 'analysis', 'science', 'insights'],\n ['life', 'balance', 'culture', 'culture inclusion', 'team'],\n ['business', 'supports', 'model', 'analytical', 'testing'],\n ['accuracy', 'model', 'monitor', 'analyze', 'outcomes develop']]"
     },
     "execution_count": 17,
     "metadata": {},
     "output_type": "execute_result"
    }
   ],
   "source": [
    "topics_5 = [get_top_terms(i, 5) for i in range(5)]\n",
    "topics_5"
   ],
   "metadata": {
    "collapsed": false,
    "pycharm": {
     "name": "#%%\n"
    }
   }
  },
  {
   "cell_type": "code",
   "execution_count": 18,
   "outputs": [
    {
     "data": {
      "text/plain": "[['learning', 'machine', 'machine learning', 'ml', 'ai'],\n ['business', 'analysis', 'analytics', 'support', 'statistical'],\n ['life', 'balance', 'culture', 'culture inclusion', 'career growth'],\n ['business', 'supports', 'model', 'analytical', 'testing'],\n ['accuracy', 'monitor', 'outcomes develop', 'outcomes', 'custom data'],\n ['product', 'teams', 'metrics', 'drive', 'insights'],\n ['marketing', 'connect', 'walmart', 'media mix', 'media'],\n ['cognitive', 'decision makers', 'makers', 'analytics cognitive', 'clients'],\n ['business partners', 'community', 'business', 'partners', 'objectives'],\n ['vaccine', 'chase', 'jpmorgan', 'jpmorgan chase', 'social distancing'],\n ['background',\n  'ensure exceptional',\n  'open ambiguous',\n  'help minimum',\n  'solving open'],\n ['structured unstructured',\n  'information',\n  'unstructured data',\n  'unstructured',\n  'structured'],\n ['technical', 'project', 'business', 'data science', 'science'],\n ['structuring downstream',\n  'downstream processing',\n  'design accurate',\n  'accurate scalable',\n  'data assessing'],\n ['experience', 'science', 'skills', 'years', 'ability'],\n ['clients', 'guidehouse', 'consulting', 'services', 'help clients'],\n ['architecture',\n  'infrastructure',\n  'optimal data',\n  'data platforms',\n  'implement machine'],\n ['peraton', 'defense', 'analysis', 'government', 'mission'],\n ['performs',\n  'develops',\n  'structure requests',\n  'teams large',\n  'services serves'],\n ['model', 'model building', 'processes', 'analyze', 'resurgent']]"
     },
     "execution_count": 18,
     "metadata": {},
     "output_type": "execute_result"
    }
   ],
   "source": [
    "nmf_20 = NMF(n_components=20)\n",
    "nmf_20.fit_transform(doc_term)\n",
    "topics_20 = [get_top_terms(i, 5, nmf_20) for i in range(20)]\n",
    "topics_20"
   ],
   "metadata": {
    "collapsed": false,
    "pycharm": {
     "name": "#%%\n"
    }
   }
  },
  {
   "cell_type": "code",
   "execution_count": 19,
   "outputs": [
    {
     "data": {
      "text/plain": "[['learning', 'machine', 'machine learning', 'ml', 'models'],\n ['business', 'analysis', 'science', 'data science', 'analytics'],\n ['life', 'balance', 'culture', 'culture inclusion', 'team'],\n ['business', 'supports', 'model', 'analytical', 'testing'],\n ['accuracy', 'model', 'monitor', 'analyze', 'outcomes develop'],\n ['product', 'business', 'teams', 'insights', 'drive'],\n ['marketing', 'connect', 'walmart', 'media mix', 'modeling'],\n ['clients', 'analytics', 'cognitive', 'decision', 'decision makers'],\n ['partners', 'business partners', 'external', 'community', 'business'],\n ['vaccine', 'chase', 'jpmorgan chase', 'jpmorgan', 'card firm']]"
     },
     "execution_count": 19,
     "metadata": {},
     "output_type": "execute_result"
    }
   ],
   "source": [
    "nmf_10 = NMF(n_components=10)\n",
    "nmf_10.fit_transform(doc_term)\n",
    "topics_10 = [get_top_terms(i, 5, nmf_10) for i in range(10)]\n",
    "topics_10"
   ],
   "metadata": {
    "collapsed": false,
    "pycharm": {
     "name": "#%%\n"
    }
   }
  }
 ],
 "metadata": {
  "kernelspec": {
   "display_name": "Python 3",
   "language": "python",
   "name": "python3"
  },
  "language_info": {
   "codemirror_mode": {
    "name": "ipython",
    "version": 2
   },
   "file_extension": ".py",
   "mimetype": "text/x-python",
   "name": "python",
   "nbconvert_exporter": "python",
   "pygments_lexer": "ipython2",
   "version": "2.7.6"
  }
 },
 "nbformat": 4,
 "nbformat_minor": 0
}