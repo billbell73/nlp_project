{
 "cells": [
  {
   "cell_type": "code",
   "execution_count": 7,
   "outputs": [
    {
     "name": "stdout",
     "output_type": "stream",
     "text": [
      "Collecting corextopic\r\n",
      "  Downloading corextopic-1.1-py3-none-any.whl (27 kB)\r\n",
      "Installing collected packages: corextopic\r\n",
      "Successfully installed corextopic-1.1\r\n"
     ]
    }
   ],
   "source": [
    "!pip install corextopic"
   ],
   "metadata": {
    "collapsed": false,
    "pycharm": {
     "name": "#%%\n"
    }
   }
  },
  {
   "cell_type": "code",
   "execution_count": 8,
   "metadata": {
    "collapsed": true
   },
   "outputs": [],
   "source": [
    "import pandas as pd\n",
    "import numpy as np\n",
    "from sklearn.feature_extraction.text import CountVectorizer\n",
    "\n",
    "from corextopic import corextopic as ct"
   ]
  },
  {
   "cell_type": "code",
   "execution_count": 3,
   "outputs": [
    {
     "data": {
      "text/plain": "                                             responsibilities           title  \\\n2908496770  :|•\\tDesign and implement ML methods on propri...  Data Scientist   \n2911267267  :|• Provide consultative support as and when r...  Data Scientist   \n2912844894  :|Support Data and Analytics team through deve...  Data Scientist   \n2911205495  |Build agent-based simulations of smart contra...  Data Scientist   \n2912480226  |Productionize, launch, and monitor predictive...  Data Scientist   \n\n                                                  description  \\\n2908496770  <html><body><div class=\"description__text desc...   \n2911267267  <html><body><div class=\"description__text desc...   \n2912844894  <html><body><div class=\"description__text desc...   \n2911205495  <html><body><div class=\"description__text desc...   \n2912480226  <html><body><div class=\"description__text desc...   \n\n                companyName                location   level  \n2908496770  Data Revolution  San Francisco Bay Area  senior  \n2911267267       TrueSkilla           United States  senior  \n2912844894   Project Canary              Denver, CO     mid  \n2911205495         Gauntlet           United States     mid  \n2912480226            Miles        Redwood City, CA     mid  ",
      "text/html": "<div>\n<style scoped>\n    .dataframe tbody tr th:only-of-type {\n        vertical-align: middle;\n    }\n\n    .dataframe tbody tr th {\n        vertical-align: top;\n    }\n\n    .dataframe thead th {\n        text-align: right;\n    }\n</style>\n<table border=\"1\" class=\"dataframe\">\n  <thead>\n    <tr style=\"text-align: right;\">\n      <th></th>\n      <th>responsibilities</th>\n      <th>title</th>\n      <th>description</th>\n      <th>companyName</th>\n      <th>location</th>\n      <th>level</th>\n    </tr>\n  </thead>\n  <tbody>\n    <tr>\n      <th>2908496770</th>\n      <td>:|•\\tDesign and implement ML methods on propri...</td>\n      <td>Data Scientist</td>\n      <td>&lt;html&gt;&lt;body&gt;&lt;div class=\"description__text desc...</td>\n      <td>Data Revolution</td>\n      <td>San Francisco Bay Area</td>\n      <td>senior</td>\n    </tr>\n    <tr>\n      <th>2911267267</th>\n      <td>:|• Provide consultative support as and when r...</td>\n      <td>Data Scientist</td>\n      <td>&lt;html&gt;&lt;body&gt;&lt;div class=\"description__text desc...</td>\n      <td>TrueSkilla</td>\n      <td>United States</td>\n      <td>senior</td>\n    </tr>\n    <tr>\n      <th>2912844894</th>\n      <td>:|Support Data and Analytics team through deve...</td>\n      <td>Data Scientist</td>\n      <td>&lt;html&gt;&lt;body&gt;&lt;div class=\"description__text desc...</td>\n      <td>Project Canary</td>\n      <td>Denver, CO</td>\n      <td>mid</td>\n    </tr>\n    <tr>\n      <th>2911205495</th>\n      <td>|Build agent-based simulations of smart contra...</td>\n      <td>Data Scientist</td>\n      <td>&lt;html&gt;&lt;body&gt;&lt;div class=\"description__text desc...</td>\n      <td>Gauntlet</td>\n      <td>United States</td>\n      <td>mid</td>\n    </tr>\n    <tr>\n      <th>2912480226</th>\n      <td>|Productionize, launch, and monitor predictive...</td>\n      <td>Data Scientist</td>\n      <td>&lt;html&gt;&lt;body&gt;&lt;div class=\"description__text desc...</td>\n      <td>Miles</td>\n      <td>Redwood City, CA</td>\n      <td>mid</td>\n    </tr>\n  </tbody>\n</table>\n</div>"
     },
     "execution_count": 3,
     "metadata": {},
     "output_type": "execute_result"
    }
   ],
   "source": [
    "df = pd.read_pickle(\"./big_job_df.pickle\")\n",
    "df.head()"
   ],
   "metadata": {
    "collapsed": false,
    "pycharm": {
     "name": "#%%\n"
    }
   }
  },
  {
   "cell_type": "code",
   "execution_count": 4,
   "outputs": [],
   "source": [
    "vectorizer = CountVectorizer(\n",
    "                            # max_features=2500,\n",
    "                             stop_words='english',\n",
    "                             token_pattern=\"\\\\b[a-z][a-z]+\\\\b\",\n",
    "                             binary=True)\n",
    "\n",
    "doc_word = vectorizer.fit_transform(df.responsibilities)\n",
    "words = list(np.asarray(vectorizer.get_feature_names()))"
   ],
   "metadata": {
    "collapsed": false,
    "pycharm": {
     "name": "#%%\n"
    }
   }
  },
  {
   "cell_type": "code",
   "execution_count": 5,
   "outputs": [
    {
     "data": {
      "text/plain": "(6361, 12684)"
     },
     "execution_count": 5,
     "metadata": {},
     "output_type": "execute_result"
    }
   ],
   "source": [
    "doc_word.shape"
   ],
   "metadata": {
    "collapsed": false,
    "pycharm": {
     "name": "#%%\n"
    }
   }
  },
  {
   "cell_type": "code",
   "execution_count": 6,
   "outputs": [
    {
     "data": {
      "text/plain": "['aa',\n 'aaa',\n 'aalipour',\n 'ab',\n 'aba',\n 'abbott',\n 'abbvie',\n 'abbviersquos',\n 'abc',\n 'abide']"
     },
     "execution_count": 6,
     "metadata": {},
     "output_type": "execute_result"
    }
   ],
   "source": [
    "words[:10]"
   ],
   "metadata": {
    "collapsed": false,
    "pycharm": {
     "name": "#%%\n"
    }
   }
  },
  {
   "cell_type": "code",
   "execution_count": 9,
   "outputs": [],
   "source": [
    "topic_model = ct.Corex(n_hidden= 5, ### YOUR NUMBER OF TOPICS HERE\n",
    "                       words=words,  ### YOUR VOCABULARY HERE\n",
    "                       seed=1\n",
    "                       )\n",
    "\n",
    "topic_model.fit(doc_word,          ### YOUR DOCUMENT TERM MATRIX HERE\n",
    "                words= words,      ### YOUR VOCABULARY HERE\n",
    "                docs= df.responsibilities  ### YOUR DOCUMENT SERIES HERE\n",
    "                );"
   ],
   "metadata": {
    "collapsed": false,
    "pycharm": {
     "name": "#%%\n"
    }
   }
  },
  {
   "cell_type": "code",
   "execution_count": 10,
   "outputs": [
    {
     "name": "stdout",
     "output_type": "stream",
     "text": [
      "0: scientist, role, opportunity, world, join, people, looking, mission, team, growing\n",
      "1: experience, skills, years, ability, strong, degree, environment, communication, python, sql\n",
      "2: insights, business, analysis, drive, analytics, identify, advanced, projects, analytical, statistical\n",
      "3: disruption, plans, text, actions, public, local, dynamic, associates, designed, applying\n",
      "4: develops, provides, works, performs, compliance, communicates, assigned, information, ensure, identifies\n"
     ]
    }
   ],
   "source": [
    "topics = topic_model.get_topics()\n",
    "for n,topic in enumerate(topics):\n",
    "    topic_words,_,_ = zip(*topic)\n",
    "    print(f'{n}: {\", \".join(topic_words)}')"
   ],
   "metadata": {
    "collapsed": false,
    "pycharm": {
     "name": "#%%\n"
    }
   }
  },
  {
   "cell_type": "code",
   "execution_count": 11,
   "outputs": [
    {
     "name": "stdout",
     "output_type": "stream",
     "text": [
      "WARNING: Anchor word not in word column labels provided to CorEx: deep learning\n",
      "WARNING: Anchor word not in word column labels provided to CorEx: cutting edge\n"
     ]
    }
   ],
   "source": [
    "topic_model_2 = ct.Corex(n_hidden= 8, ### YOUR NUMBER OF TOPICS HERE\n",
    "                       words=words,  ### YOUR VOCABULARY HERE\n",
    "                       seed=1\n",
    "                       )\n",
    "\n",
    "topic_model_2.fit(doc_word,          ### YOUR DOCUMENT TERM MATRIX HERE\n",
    "                words= words,      ### YOUR VOCABULARY HERE\n",
    "                docs= df.responsibilities,  ### YOUR DOCUMENT SERIES HERE\n",
    "                anchors=[\n",
    "                    ['business', 'analysis', 'stakeholders', 'communication'],\n",
    "                    ['deep learning', 'cutting edge'],\n",
    "                    ['models', 'develop' ],\n",
    "                    ['marketing'],\n",
    "                    ['balance', 'culture'],\n",
    "                    ['startup', 'disruption']\n",
    "                ],                  ### YOUR ANCHORS HERE\n",
    "                anchor_strength=5   ### YOUR ANCHOR STRENGTH HERE\n",
    "                );"
   ],
   "metadata": {
    "collapsed": false,
    "pycharm": {
     "name": "#%%\n"
    }
   }
  },
  {
   "cell_type": "code",
   "execution_count": 12,
   "outputs": [
    {
     "name": "stdout",
     "output_type": "stream",
     "text": [
      "0: business, communication, analysis, stakeholders, advanced, results, analytics, statistical, methods, unstructured\n",
      "1: models, develop, learning, machine, predictive, production, model, data, build, deploy\n",
      "2: marketing, sales, customer, media, campaigns, multi, campaign, digital, channel, segmentation\n",
      "3: culture, balance, opportunity, role, career, world, scientist, delivering, environment, customers\n",
      "4: disruption, startup, experience, join, people, team, mission, years, technology, value\n",
      "5: quality, industry, high, implementation, application, review, applications, provides, compliance, software\n",
      "6: insights, personal, strategy, key, helping, impact, critical, responsibilities, opportunities, professional\n",
      "7: projects, cross, understand, functional, goals, project, operations, knowledge, identify, technical\n"
     ]
    }
   ],
   "source": [
    "topics_2 = topic_model_2.get_topics()\n",
    "for n,topic in enumerate(topics_2):\n",
    "    topic_words,_,_ = zip(*topic)\n",
    "    print(f'{n}: {\", \".join(topic_words)}')"
   ],
   "metadata": {
    "collapsed": false,
    "pycharm": {
     "name": "#%%\n"
    }
   }
  },
  {
   "cell_type": "code",
   "execution_count": 14,
   "outputs": [
    {
     "data": {
      "text/plain": "   topic0  topic1  topic2  topic3  topic4  topic5  topic6  topic7\n0   False   False   False   False   False   False   False   False\n1    True    True   False   False   False    True   False   False\n2    True    True   False   False   False    True   False   False\n3   False    True   False   False   False   False   False   False\n4   False    True   False   False   False   False   False    True",
      "text/html": "<div>\n<style scoped>\n    .dataframe tbody tr th:only-of-type {\n        vertical-align: middle;\n    }\n\n    .dataframe tbody tr th {\n        vertical-align: top;\n    }\n\n    .dataframe thead th {\n        text-align: right;\n    }\n</style>\n<table border=\"1\" class=\"dataframe\">\n  <thead>\n    <tr style=\"text-align: right;\">\n      <th></th>\n      <th>topic0</th>\n      <th>topic1</th>\n      <th>topic2</th>\n      <th>topic3</th>\n      <th>topic4</th>\n      <th>topic5</th>\n      <th>topic6</th>\n      <th>topic7</th>\n    </tr>\n  </thead>\n  <tbody>\n    <tr>\n      <th>0</th>\n      <td>False</td>\n      <td>False</td>\n      <td>False</td>\n      <td>False</td>\n      <td>False</td>\n      <td>False</td>\n      <td>False</td>\n      <td>False</td>\n    </tr>\n    <tr>\n      <th>1</th>\n      <td>True</td>\n      <td>True</td>\n      <td>False</td>\n      <td>False</td>\n      <td>False</td>\n      <td>True</td>\n      <td>False</td>\n      <td>False</td>\n    </tr>\n    <tr>\n      <th>2</th>\n      <td>True</td>\n      <td>True</td>\n      <td>False</td>\n      <td>False</td>\n      <td>False</td>\n      <td>True</td>\n      <td>False</td>\n      <td>False</td>\n    </tr>\n    <tr>\n      <th>3</th>\n      <td>False</td>\n      <td>True</td>\n      <td>False</td>\n      <td>False</td>\n      <td>False</td>\n      <td>False</td>\n      <td>False</td>\n      <td>False</td>\n    </tr>\n    <tr>\n      <th>4</th>\n      <td>False</td>\n      <td>True</td>\n      <td>False</td>\n      <td>False</td>\n      <td>False</td>\n      <td>False</td>\n      <td>False</td>\n      <td>True</td>\n    </tr>\n  </tbody>\n</table>\n</div>"
     },
     "execution_count": 14,
     "metadata": {},
     "output_type": "execute_result"
    }
   ],
   "source": [
    "topic_colms = ['topic'+str(i) for i in range(topic_model_2.labels.shape[1])]\n",
    "\n",
    "predictions = pd.DataFrame(topic_model_2.labels, columns=topic_colms)\n",
    "predictions.head(5)"
   ],
   "metadata": {
    "collapsed": false,
    "pycharm": {
     "name": "#%%\n"
    }
   }
  },
  {
   "cell_type": "code",
   "execution_count": 15,
   "outputs": [
    {
     "data": {
      "text/plain": "(6361, 8)"
     },
     "execution_count": 15,
     "metadata": {},
     "output_type": "execute_result"
    }
   ],
   "source": [
    "predictions.shape"
   ],
   "metadata": {
    "collapsed": false,
    "pycharm": {
     "name": "#%%\n"
    }
   }
  },
  {
   "cell_type": "code",
   "execution_count": 23,
   "outputs": [
    {
     "name": "stdout",
     "output_type": "stream",
     "text": [
      "Percent for topic0: 39.4\n",
      "Percent for topic1: 56.5\n",
      "Percent for topic2: 18.0\n",
      "Percent for topic3: 22.5\n",
      "Percent for topic4: 21.3\n",
      "Percent for topic5: 34.2\n",
      "Percent for topic6: 31.9\n",
      "Percent for topic7: 36.9\n"
     ]
    }
   ],
   "source": [
    "for number in range (0, 8):\n",
    "    name = f\"topic{str(number)}\"\n",
    "    percentage = predictions[name].sum()/len(predictions) * 100\n",
    "\n",
    "    print(f\"Percent for {name}: {percentage:.1f}\")"
   ],
   "metadata": {
    "collapsed": false,
    "pycharm": {
     "name": "#%%\n"
    }
   }
  },
  {
   "cell_type": "code",
   "execution_count": 25,
   "outputs": [
    {
     "data": {
      "text/plain": "[('|Manage and execute entire projects or components of large projects from start to finish including data gathering and manipulation, synthesis and modeling, problem solving, and communication of insights and recommendations.|Oversee the development and implementation of data integration and analytic strategies to support population health initiatives.|Leverage big data to explore and introduce areas of analytics and technologies.|Analyze data to identify opportunities to impact populations.|Perform advanced integrated comprehensive reporting, consultative, and analytical expertise to provide healthcare cost and utilization data and translate findings into actionable information for internal and external stakeholders.|Oversee the collection of data, ensuring timelines are met, data is accurate and within established format.|Act as a data and technical resource and escalation point for data issues, ensuring they are brought to resolution.|Serve as the subject matter expert on health care benefits data modeling, system architecture, data governance, and business intelligence tools.|Basic ',\n  0.0),\n (\" Do|Apply your expertise in quantitative analysis, data mining, and statistical modeling to deliver impactful, objective, and actionable data insights that enable informed business and product decisions|Drive informed and timely decision-making that improves and optimizes the way our products are created, executed, and adopted'|Collaborate with product managers, engineers, product marketers, and designers|Think creatively, proactively, and futuristically to identify and size up new opportunities within Snap's long term roadmap for data-scientific contributions|Conduct machine learning or statistical analyses, and build pragmatic, scalable, and statistically rigorous solutions to deliver actionable insights, accurate predictions, and effective optimizations|Communicate best practices in quantitative analysis and develop cross-functional partnerships|Knowledge, Skills & Abilities|Expertise using data modeling skills to identify key product trends and new product opportunities|Ability to design implement, and track core metrics to analyze the performance of our products|Ability to create visuals, dashboards, and reports to effectively communicate your insights|Experience collaborating with engineers, product managers, and other cross-functional teams|Ability to initiate and drive projects to completion with minimal guidance|An understanding of Snapchat with great product sense and product understanding|Ability to communicate complex quantitative analysis in a clear, precise, and actionable manner|Minimum \",\n  0.0),\n (\"? If so, Deloitte & Touche LLP could be the place for you. At Deloitte, we are creating a world-class Artificial Intelligence and Machine Learning (AI/ML) Center of Excellence to enhance Deloitte's existing services and empower our clients to gain exponential value from their data. Our focus is on bringing data, analytics, and technology together with our deep expertise in multiple industries to drive new product development and significant automation/efficiencies. We are seeking to grow our team with brilliant and diverse contributors with technical ability. We are looking for machine learning experts with strong experience in Deep Learning that want to be part of a team that has an opportunity to make a significant impact.|Work you'll do|You will be responsible for leading a team focused on developing cutting-edge quantitative solutions to our client's most challenging problems. You will not only provide advanced technical leadership, guiding research and applications of quantitative methods, but will also provide direct supervision, mentorship, support and guidance for of your team. Opportunities to assist clients will span from Life sciences (genetics, new medicines development) to Cyber Security to Fraud/Waste/Abuse detection to capital markets modeling. This is an exciting role that will stretch your knowledge and curiosity, offering the opportunity to deepen your skills, learn new industries, and work within a global community.|Lead the application of rigorous data science within your team|Influence machine learning strategy for a client project; explore design options to assess efficiency and impact, develop approaches to improve robustness and rigor|Be a key contributor to the planning and direction of a project and effectively prioritize goals|Contribute to peer level discussions and use quantitative skills to positively influence decision making|Effectively understand and communicate key technical concepts within the AI CoE|Represent the AI CoE within Deloitte externally to advance our reputation as an AI/ML leader|Identify opportunities to apply the latest advancements in Machine Learning and Artificial Intelligence to build, test, and validate predictive models|Create algorithms to extract information from large, multiparametric data sets|Deploy your algorithms to production to identify actionable insights from large databases|Compare results from various methodologies and recommend best techniques|Develop and embed automated processes for predictive model validation, deployment, and implementation|Connect and collaborate with subject matter experts within Deloitte|Make impactful contributions to internal discussions on emerging machine learning methodologies|The team|This is a hands-on position where you will be empowered to be creative, ambitious, and bold; to solve novel problems and have the potential to directly impact the lives of people around the world. We have impressive toolkits and clients with world class data, and we are now looking for talented people to join our team.|\",\n  0.0),\n (' of this job, the employee in this position frequently communicates with other co-workersclients who have inquiries about the various projects and other needs.|Must be able to exchange accurate information in these situations.|The employee must be able to remain in a stationary position 75 of the time.|The employee in this position needs to occasionally move about inside the office to access file cabinets, office machinery, etc.|Constantly operate a computer and office machinery such as a calculator, keyboard, copy machine, and printer.|Frequently moves boxes with equipment weighing up to 25lbs across the building andor to other offsite buildings for various project needs. Required Education and Experience Bachelorrsquos degree or higher in a STEM or relevant analytical field that demonstrates analytical and technical competency|8+ years of experience|',\n  0.0)]"
     },
     "execution_count": 25,
     "metadata": {},
     "output_type": "execute_result"
    }
   ],
   "source": [
    "topic_model_2.get_top_docs(topic=7, n_docs=4)"
   ],
   "metadata": {
    "collapsed": false,
    "pycharm": {
     "name": "#%%\n"
    }
   }
  },
  {
   "cell_type": "code",
   "execution_count": null,
   "outputs": [],
   "source": [],
   "metadata": {
    "collapsed": false,
    "pycharm": {
     "name": "#%%\n"
    }
   }
  }
 ],
 "metadata": {
  "kernelspec": {
   "display_name": "Python 3",
   "language": "python",
   "name": "python3"
  },
  "language_info": {
   "codemirror_mode": {
    "name": "ipython",
    "version": 2
   },
   "file_extension": ".py",
   "mimetype": "text/x-python",
   "name": "python",
   "nbconvert_exporter": "python",
   "pygments_lexer": "ipython2",
   "version": "2.7.6"
  }
 },
 "nbformat": 4,
 "nbformat_minor": 0
}